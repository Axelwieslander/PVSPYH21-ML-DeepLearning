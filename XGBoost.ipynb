{
 "cells": [
  {
   "cell_type": "markdown",
   "id": "678d993b",
   "metadata": {},
   "source": [
    "# Inlämning XGBoost\n",
    "\n",
    "Axel wieslander jansson"
   ]
  },
  {
   "cell_type": "markdown",
   "id": "09f62378",
   "metadata": {},
   "source": [
    "* Prepare the data, remove and convert any values that cannot be used by the model such as textdata\n",
    "* Evaluate the model and analyze which attributes have the largest impact on the output\n",
    "* Produce a confusion matrix and analyze which types of errors are made by the model"
   ]
  },
  {
   "cell_type": "code",
   "execution_count": 1,
   "id": "5ae451e0",
   "metadata": {},
   "outputs": [],
   "source": [
    "import pandas as pd\n",
    "import numpy as np\n",
    "import matplotlib.pyplot as plt\n"
   ]
  },
  {
   "cell_type": "code",
   "execution_count": 2,
   "id": "e52d4db8",
   "metadata": {},
   "outputs": [],
   "source": [
    "from sklearn.preprocessing import LabelEncoder\n",
    "from sklearn.metrics import accuracy_score, ConfusionMatrixDisplay, confusion_matrix"
   ]
  },
  {
   "cell_type": "markdown",
   "id": "1353fed2",
   "metadata": {},
   "source": [
    "## Importing datasets"
   ]
  },
  {
   "cell_type": "code",
   "execution_count": 3,
   "id": "beb48aa3",
   "metadata": {},
   "outputs": [],
   "source": [
    "df_test = pd.read_csv('../../Datasets/churn_test.csv')\n",
    "df_train = pd.read_csv('../../Datasets/churn_train.csv')"
   ]
  },
  {
   "cell_type": "markdown",
   "id": "e532e7b8",
   "metadata": {},
   "source": [
    "# Exploring datasets"
   ]
  },
  {
   "cell_type": "code",
   "execution_count": 4,
   "id": "4e4634d5",
   "metadata": {
    "scrolled": false
   },
   "outputs": [
    {
     "data": {
      "text/plain": [
       "(1409, 21)"
      ]
     },
     "execution_count": 4,
     "metadata": {},
     "output_type": "execute_result"
    }
   ],
   "source": [
    "df_test.shape"
   ]
  },
  {
   "cell_type": "code",
   "execution_count": 5,
   "id": "a424d1ed",
   "metadata": {
    "scrolled": true
   },
   "outputs": [
    {
     "data": {
      "text/plain": [
       "(5634, 21)"
      ]
     },
     "execution_count": 5,
     "metadata": {},
     "output_type": "execute_result"
    }
   ],
   "source": [
    "df_train.shape"
   ]
  },
  {
   "cell_type": "code",
   "execution_count": 6,
   "id": "6b8f5e0c",
   "metadata": {},
   "outputs": [
    {
     "data": {
      "text/html": [
       "<div>\n",
       "<style scoped>\n",
       "    .dataframe tbody tr th:only-of-type {\n",
       "        vertical-align: middle;\n",
       "    }\n",
       "\n",
       "    .dataframe tbody tr th {\n",
       "        vertical-align: top;\n",
       "    }\n",
       "\n",
       "    .dataframe thead th {\n",
       "        text-align: right;\n",
       "    }\n",
       "</style>\n",
       "<table border=\"1\" class=\"dataframe\">\n",
       "  <thead>\n",
       "    <tr style=\"text-align: right;\">\n",
       "      <th></th>\n",
       "      <th>customerID</th>\n",
       "      <th>gender</th>\n",
       "      <th>SeniorCitizen</th>\n",
       "      <th>Partner</th>\n",
       "      <th>Dependents</th>\n",
       "      <th>tenure</th>\n",
       "      <th>PhoneService</th>\n",
       "      <th>MultipleLines</th>\n",
       "      <th>InternetService</th>\n",
       "      <th>OnlineSecurity</th>\n",
       "      <th>...</th>\n",
       "      <th>DeviceProtection</th>\n",
       "      <th>TechSupport</th>\n",
       "      <th>StreamingTV</th>\n",
       "      <th>StreamingMovies</th>\n",
       "      <th>Contract</th>\n",
       "      <th>PaperlessBilling</th>\n",
       "      <th>PaymentMethod</th>\n",
       "      <th>MonthlyCharges</th>\n",
       "      <th>TotalCharges</th>\n",
       "      <th>Churn</th>\n",
       "    </tr>\n",
       "  </thead>\n",
       "  <tbody>\n",
       "    <tr>\n",
       "      <th>0</th>\n",
       "      <td>9505-SQFSW</td>\n",
       "      <td>Female</td>\n",
       "      <td>0</td>\n",
       "      <td>Yes</td>\n",
       "      <td>Yes</td>\n",
       "      <td>3</td>\n",
       "      <td>No</td>\n",
       "      <td>No phone service</td>\n",
       "      <td>DSL</td>\n",
       "      <td>No</td>\n",
       "      <td>...</td>\n",
       "      <td>No</td>\n",
       "      <td>No</td>\n",
       "      <td>No</td>\n",
       "      <td>Yes</td>\n",
       "      <td>Month-to-month</td>\n",
       "      <td>No</td>\n",
       "      <td>Mailed check</td>\n",
       "      <td>40.30</td>\n",
       "      <td>92.5</td>\n",
       "      <td>No</td>\n",
       "    </tr>\n",
       "    <tr>\n",
       "      <th>1</th>\n",
       "      <td>1723-HKXJQ</td>\n",
       "      <td>Male</td>\n",
       "      <td>0</td>\n",
       "      <td>No</td>\n",
       "      <td>No</td>\n",
       "      <td>42</td>\n",
       "      <td>Yes</td>\n",
       "      <td>Yes</td>\n",
       "      <td>Fiber optic</td>\n",
       "      <td>No</td>\n",
       "      <td>...</td>\n",
       "      <td>No</td>\n",
       "      <td>No</td>\n",
       "      <td>Yes</td>\n",
       "      <td>Yes</td>\n",
       "      <td>Month-to-month</td>\n",
       "      <td>Yes</td>\n",
       "      <td>Electronic check</td>\n",
       "      <td>101.75</td>\n",
       "      <td>4273.45</td>\n",
       "      <td>Yes</td>\n",
       "    </tr>\n",
       "    <tr>\n",
       "      <th>2</th>\n",
       "      <td>9154-QDGTH</td>\n",
       "      <td>Male</td>\n",
       "      <td>0</td>\n",
       "      <td>Yes</td>\n",
       "      <td>Yes</td>\n",
       "      <td>43</td>\n",
       "      <td>Yes</td>\n",
       "      <td>Yes</td>\n",
       "      <td>Fiber optic</td>\n",
       "      <td>No</td>\n",
       "      <td>...</td>\n",
       "      <td>Yes</td>\n",
       "      <td>Yes</td>\n",
       "      <td>Yes</td>\n",
       "      <td>Yes</td>\n",
       "      <td>One year</td>\n",
       "      <td>Yes</td>\n",
       "      <td>Credit card (automatic)</td>\n",
       "      <td>104.30</td>\n",
       "      <td>4451.85</td>\n",
       "      <td>No</td>\n",
       "    </tr>\n",
       "    <tr>\n",
       "      <th>3</th>\n",
       "      <td>8309-IEYJD</td>\n",
       "      <td>Female</td>\n",
       "      <td>1</td>\n",
       "      <td>No</td>\n",
       "      <td>No</td>\n",
       "      <td>1</td>\n",
       "      <td>Yes</td>\n",
       "      <td>No</td>\n",
       "      <td>Fiber optic</td>\n",
       "      <td>No</td>\n",
       "      <td>...</td>\n",
       "      <td>No</td>\n",
       "      <td>No</td>\n",
       "      <td>No</td>\n",
       "      <td>No</td>\n",
       "      <td>Month-to-month</td>\n",
       "      <td>Yes</td>\n",
       "      <td>Mailed check</td>\n",
       "      <td>70.60</td>\n",
       "      <td>70.6</td>\n",
       "      <td>No</td>\n",
       "    </tr>\n",
       "    <tr>\n",
       "      <th>4</th>\n",
       "      <td>8775-CEBBJ</td>\n",
       "      <td>Female</td>\n",
       "      <td>0</td>\n",
       "      <td>No</td>\n",
       "      <td>No</td>\n",
       "      <td>9</td>\n",
       "      <td>Yes</td>\n",
       "      <td>No</td>\n",
       "      <td>DSL</td>\n",
       "      <td>No</td>\n",
       "      <td>...</td>\n",
       "      <td>No</td>\n",
       "      <td>No</td>\n",
       "      <td>No</td>\n",
       "      <td>No</td>\n",
       "      <td>Month-to-month</td>\n",
       "      <td>Yes</td>\n",
       "      <td>Bank transfer (automatic)</td>\n",
       "      <td>44.20</td>\n",
       "      <td>403.35</td>\n",
       "      <td>Yes</td>\n",
       "    </tr>\n",
       "  </tbody>\n",
       "</table>\n",
       "<p>5 rows × 21 columns</p>\n",
       "</div>"
      ],
      "text/plain": [
       "   customerID  gender  SeniorCitizen Partner Dependents  tenure PhoneService  \\\n",
       "0  9505-SQFSW  Female              0     Yes        Yes       3           No   \n",
       "1  1723-HKXJQ    Male              0      No         No      42          Yes   \n",
       "2  9154-QDGTH    Male              0     Yes        Yes      43          Yes   \n",
       "3  8309-IEYJD  Female              1      No         No       1          Yes   \n",
       "4  8775-CEBBJ  Female              0      No         No       9          Yes   \n",
       "\n",
       "      MultipleLines InternetService OnlineSecurity  ... DeviceProtection  \\\n",
       "0  No phone service             DSL             No  ...               No   \n",
       "1               Yes     Fiber optic             No  ...               No   \n",
       "2               Yes     Fiber optic             No  ...              Yes   \n",
       "3                No     Fiber optic             No  ...               No   \n",
       "4                No             DSL             No  ...               No   \n",
       "\n",
       "  TechSupport StreamingTV StreamingMovies        Contract PaperlessBilling  \\\n",
       "0          No          No             Yes  Month-to-month               No   \n",
       "1          No         Yes             Yes  Month-to-month              Yes   \n",
       "2         Yes         Yes             Yes        One year              Yes   \n",
       "3          No          No              No  Month-to-month              Yes   \n",
       "4          No          No              No  Month-to-month              Yes   \n",
       "\n",
       "               PaymentMethod MonthlyCharges  TotalCharges Churn  \n",
       "0               Mailed check          40.30          92.5    No  \n",
       "1           Electronic check         101.75       4273.45   Yes  \n",
       "2    Credit card (automatic)         104.30       4451.85    No  \n",
       "3               Mailed check          70.60          70.6    No  \n",
       "4  Bank transfer (automatic)          44.20        403.35   Yes  \n",
       "\n",
       "[5 rows x 21 columns]"
      ]
     },
     "execution_count": 6,
     "metadata": {},
     "output_type": "execute_result"
    }
   ],
   "source": [
    "df_test.head()"
   ]
  },
  {
   "cell_type": "code",
   "execution_count": 7,
   "id": "6cdabaa0",
   "metadata": {},
   "outputs": [
    {
     "data": {
      "text/html": [
       "<div>\n",
       "<style scoped>\n",
       "    .dataframe tbody tr th:only-of-type {\n",
       "        vertical-align: middle;\n",
       "    }\n",
       "\n",
       "    .dataframe tbody tr th {\n",
       "        vertical-align: top;\n",
       "    }\n",
       "\n",
       "    .dataframe thead th {\n",
       "        text-align: right;\n",
       "    }\n",
       "</style>\n",
       "<table border=\"1\" class=\"dataframe\">\n",
       "  <thead>\n",
       "    <tr style=\"text-align: right;\">\n",
       "      <th></th>\n",
       "      <th>customerID</th>\n",
       "      <th>gender</th>\n",
       "      <th>SeniorCitizen</th>\n",
       "      <th>Partner</th>\n",
       "      <th>Dependents</th>\n",
       "      <th>tenure</th>\n",
       "      <th>PhoneService</th>\n",
       "      <th>MultipleLines</th>\n",
       "      <th>InternetService</th>\n",
       "      <th>OnlineSecurity</th>\n",
       "      <th>...</th>\n",
       "      <th>DeviceProtection</th>\n",
       "      <th>TechSupport</th>\n",
       "      <th>StreamingTV</th>\n",
       "      <th>StreamingMovies</th>\n",
       "      <th>Contract</th>\n",
       "      <th>PaperlessBilling</th>\n",
       "      <th>PaymentMethod</th>\n",
       "      <th>MonthlyCharges</th>\n",
       "      <th>TotalCharges</th>\n",
       "      <th>Churn</th>\n",
       "    </tr>\n",
       "  </thead>\n",
       "  <tbody>\n",
       "    <tr>\n",
       "      <th>0</th>\n",
       "      <td>1768-ZAIFU</td>\n",
       "      <td>Female</td>\n",
       "      <td>1</td>\n",
       "      <td>No</td>\n",
       "      <td>No</td>\n",
       "      <td>1</td>\n",
       "      <td>No</td>\n",
       "      <td>No phone service</td>\n",
       "      <td>DSL</td>\n",
       "      <td>No</td>\n",
       "      <td>...</td>\n",
       "      <td>No</td>\n",
       "      <td>No</td>\n",
       "      <td>No</td>\n",
       "      <td>No</td>\n",
       "      <td>Month-to-month</td>\n",
       "      <td>Yes</td>\n",
       "      <td>Electronic check</td>\n",
       "      <td>25.20</td>\n",
       "      <td>25.2</td>\n",
       "      <td>Yes</td>\n",
       "    </tr>\n",
       "    <tr>\n",
       "      <th>1</th>\n",
       "      <td>2159-TURXX</td>\n",
       "      <td>Male</td>\n",
       "      <td>0</td>\n",
       "      <td>No</td>\n",
       "      <td>No</td>\n",
       "      <td>5</td>\n",
       "      <td>Yes</td>\n",
       "      <td>No</td>\n",
       "      <td>No</td>\n",
       "      <td>No internet service</td>\n",
       "      <td>...</td>\n",
       "      <td>No internet service</td>\n",
       "      <td>No internet service</td>\n",
       "      <td>No internet service</td>\n",
       "      <td>No internet service</td>\n",
       "      <td>Month-to-month</td>\n",
       "      <td>No</td>\n",
       "      <td>Credit card (automatic)</td>\n",
       "      <td>20.05</td>\n",
       "      <td>95.55</td>\n",
       "      <td>No</td>\n",
       "    </tr>\n",
       "    <tr>\n",
       "      <th>2</th>\n",
       "      <td>8261-GWDBQ</td>\n",
       "      <td>Female</td>\n",
       "      <td>1</td>\n",
       "      <td>Yes</td>\n",
       "      <td>No</td>\n",
       "      <td>60</td>\n",
       "      <td>Yes</td>\n",
       "      <td>Yes</td>\n",
       "      <td>Fiber optic</td>\n",
       "      <td>Yes</td>\n",
       "      <td>...</td>\n",
       "      <td>Yes</td>\n",
       "      <td>Yes</td>\n",
       "      <td>Yes</td>\n",
       "      <td>Yes</td>\n",
       "      <td>Two year</td>\n",
       "      <td>Yes</td>\n",
       "      <td>Bank transfer (automatic)</td>\n",
       "      <td>116.05</td>\n",
       "      <td>6925.9</td>\n",
       "      <td>No</td>\n",
       "    </tr>\n",
       "    <tr>\n",
       "      <th>3</th>\n",
       "      <td>2732-ISEZX</td>\n",
       "      <td>Female</td>\n",
       "      <td>0</td>\n",
       "      <td>No</td>\n",
       "      <td>No</td>\n",
       "      <td>5</td>\n",
       "      <td>Yes</td>\n",
       "      <td>No</td>\n",
       "      <td>No</td>\n",
       "      <td>No internet service</td>\n",
       "      <td>...</td>\n",
       "      <td>No internet service</td>\n",
       "      <td>No internet service</td>\n",
       "      <td>No internet service</td>\n",
       "      <td>No internet service</td>\n",
       "      <td>Month-to-month</td>\n",
       "      <td>Yes</td>\n",
       "      <td>Mailed check</td>\n",
       "      <td>20.50</td>\n",
       "      <td>104.3</td>\n",
       "      <td>No</td>\n",
       "    </tr>\n",
       "    <tr>\n",
       "      <th>4</th>\n",
       "      <td>7607-QKKTJ</td>\n",
       "      <td>Male</td>\n",
       "      <td>0</td>\n",
       "      <td>Yes</td>\n",
       "      <td>Yes</td>\n",
       "      <td>45</td>\n",
       "      <td>Yes</td>\n",
       "      <td>Yes</td>\n",
       "      <td>Fiber optic</td>\n",
       "      <td>No</td>\n",
       "      <td>...</td>\n",
       "      <td>Yes</td>\n",
       "      <td>No</td>\n",
       "      <td>No</td>\n",
       "      <td>Yes</td>\n",
       "      <td>One year</td>\n",
       "      <td>Yes</td>\n",
       "      <td>Credit card (automatic)</td>\n",
       "      <td>95.00</td>\n",
       "      <td>4368.85</td>\n",
       "      <td>No</td>\n",
       "    </tr>\n",
       "  </tbody>\n",
       "</table>\n",
       "<p>5 rows × 21 columns</p>\n",
       "</div>"
      ],
      "text/plain": [
       "   customerID  gender  SeniorCitizen Partner Dependents  tenure PhoneService  \\\n",
       "0  1768-ZAIFU  Female              1      No         No       1           No   \n",
       "1  2159-TURXX    Male              0      No         No       5          Yes   \n",
       "2  8261-GWDBQ  Female              1     Yes         No      60          Yes   \n",
       "3  2732-ISEZX  Female              0      No         No       5          Yes   \n",
       "4  7607-QKKTJ    Male              0     Yes        Yes      45          Yes   \n",
       "\n",
       "      MultipleLines InternetService       OnlineSecurity  ...  \\\n",
       "0  No phone service             DSL                   No  ...   \n",
       "1                No              No  No internet service  ...   \n",
       "2               Yes     Fiber optic                  Yes  ...   \n",
       "3                No              No  No internet service  ...   \n",
       "4               Yes     Fiber optic                   No  ...   \n",
       "\n",
       "      DeviceProtection          TechSupport          StreamingTV  \\\n",
       "0                   No                   No                   No   \n",
       "1  No internet service  No internet service  No internet service   \n",
       "2                  Yes                  Yes                  Yes   \n",
       "3  No internet service  No internet service  No internet service   \n",
       "4                  Yes                   No                   No   \n",
       "\n",
       "       StreamingMovies        Contract PaperlessBilling  \\\n",
       "0                   No  Month-to-month              Yes   \n",
       "1  No internet service  Month-to-month               No   \n",
       "2                  Yes        Two year              Yes   \n",
       "3  No internet service  Month-to-month              Yes   \n",
       "4                  Yes        One year              Yes   \n",
       "\n",
       "               PaymentMethod MonthlyCharges  TotalCharges Churn  \n",
       "0           Electronic check          25.20          25.2   Yes  \n",
       "1    Credit card (automatic)          20.05         95.55    No  \n",
       "2  Bank transfer (automatic)         116.05        6925.9    No  \n",
       "3               Mailed check          20.50         104.3    No  \n",
       "4    Credit card (automatic)          95.00       4368.85    No  \n",
       "\n",
       "[5 rows x 21 columns]"
      ]
     },
     "execution_count": 7,
     "metadata": {},
     "output_type": "execute_result"
    }
   ],
   "source": [
    "df_train.head()"
   ]
  },
  {
   "cell_type": "code",
   "execution_count": 8,
   "id": "ce77d388",
   "metadata": {},
   "outputs": [
    {
     "data": {
      "text/plain": [
       "customerID          0\n",
       "gender              0\n",
       "SeniorCitizen       0\n",
       "Partner             0\n",
       "Dependents          0\n",
       "tenure              0\n",
       "PhoneService        0\n",
       "MultipleLines       0\n",
       "InternetService     0\n",
       "OnlineSecurity      0\n",
       "OnlineBackup        0\n",
       "DeviceProtection    0\n",
       "TechSupport         0\n",
       "StreamingTV         0\n",
       "StreamingMovies     0\n",
       "Contract            0\n",
       "PaperlessBilling    0\n",
       "PaymentMethod       0\n",
       "MonthlyCharges      0\n",
       "TotalCharges        0\n",
       "Churn               0\n",
       "dtype: int64"
      ]
     },
     "execution_count": 8,
     "metadata": {},
     "output_type": "execute_result"
    }
   ],
   "source": [
    "df_test.isna().sum()"
   ]
  },
  {
   "cell_type": "code",
   "execution_count": 9,
   "id": "01edae50",
   "metadata": {},
   "outputs": [
    {
     "data": {
      "text/plain": [
       "customerID          0\n",
       "gender              0\n",
       "SeniorCitizen       0\n",
       "Partner             0\n",
       "Dependents          0\n",
       "tenure              0\n",
       "PhoneService        0\n",
       "MultipleLines       0\n",
       "InternetService     0\n",
       "OnlineSecurity      0\n",
       "OnlineBackup        0\n",
       "DeviceProtection    0\n",
       "TechSupport         0\n",
       "StreamingTV         0\n",
       "StreamingMovies     0\n",
       "Contract            0\n",
       "PaperlessBilling    0\n",
       "PaymentMethod       0\n",
       "MonthlyCharges      0\n",
       "TotalCharges        0\n",
       "Churn               0\n",
       "dtype: int64"
      ]
     },
     "execution_count": 9,
     "metadata": {},
     "output_type": "execute_result"
    }
   ],
   "source": [
    "df_train.isna().sum()"
   ]
  },
  {
   "cell_type": "markdown",
   "id": "34a4fd9b",
   "metadata": {},
   "source": [
    "### Checking datatypes"
   ]
  },
  {
   "cell_type": "code",
   "execution_count": 10,
   "id": "9e2fc035",
   "metadata": {},
   "outputs": [
    {
     "data": {
      "text/plain": [
       "customerID           object\n",
       "gender               object\n",
       "SeniorCitizen         int64\n",
       "Partner              object\n",
       "Dependents           object\n",
       "tenure                int64\n",
       "PhoneService         object\n",
       "MultipleLines        object\n",
       "InternetService      object\n",
       "OnlineSecurity       object\n",
       "OnlineBackup         object\n",
       "DeviceProtection     object\n",
       "TechSupport          object\n",
       "StreamingTV          object\n",
       "StreamingMovies      object\n",
       "Contract             object\n",
       "PaperlessBilling     object\n",
       "PaymentMethod        object\n",
       "MonthlyCharges      float64\n",
       "TotalCharges         object\n",
       "Churn                object\n",
       "dtype: object"
      ]
     },
     "execution_count": 10,
     "metadata": {},
     "output_type": "execute_result"
    }
   ],
   "source": [
    "df_test.dtypes"
   ]
  },
  {
   "cell_type": "code",
   "execution_count": 11,
   "id": "5c879a48",
   "metadata": {},
   "outputs": [
    {
     "data": {
      "text/plain": [
       "customerID           object\n",
       "gender               object\n",
       "SeniorCitizen         int64\n",
       "Partner              object\n",
       "Dependents           object\n",
       "tenure                int64\n",
       "PhoneService         object\n",
       "MultipleLines        object\n",
       "InternetService      object\n",
       "OnlineSecurity       object\n",
       "OnlineBackup         object\n",
       "DeviceProtection     object\n",
       "TechSupport          object\n",
       "StreamingTV          object\n",
       "StreamingMovies      object\n",
       "Contract             object\n",
       "PaperlessBilling     object\n",
       "PaymentMethod        object\n",
       "MonthlyCharges      float64\n",
       "TotalCharges         object\n",
       "Churn                object\n",
       "dtype: object"
      ]
     },
     "execution_count": 11,
     "metadata": {},
     "output_type": "execute_result"
    }
   ],
   "source": [
    "df_train.dtypes"
   ]
  },
  {
   "cell_type": "markdown",
   "id": "d66411a9",
   "metadata": {},
   "source": [
    "### Tenure info"
   ]
  },
  {
   "cell_type": "code",
   "execution_count": 12,
   "id": "0b9688e4",
   "metadata": {
    "scrolled": true
   },
   "outputs": [
    {
     "name": "stdout",
     "output_type": "stream",
     "text": [
      "Testdata. Max tenure: 72 min tenure: 0\n"
     ]
    }
   ],
   "source": [
    "print(f\"Testdata. Max tenure: {df_test['tenure'].max()} min tenure: {df_test['tenure'].min()}\")\n"
   ]
  },
  {
   "cell_type": "code",
   "execution_count": 13,
   "id": "72a5e656",
   "metadata": {
    "scrolled": true
   },
   "outputs": [
    {
     "name": "stdout",
     "output_type": "stream",
     "text": [
      "      customerID  gender  SeniorCitizen Partner Dependents  tenure  \\\n",
      "765   4075-WKNIU  Female              0     Yes        Yes       0   \n",
      "910   5709-LVOEQ  Female              0     Yes        Yes       0   \n",
      "1190  1371-DWPAZ  Female              0     Yes        Yes       0   \n",
      "\n",
      "     PhoneService     MultipleLines InternetService OnlineSecurity  ...  \\\n",
      "765           Yes               Yes             DSL             No  ...   \n",
      "910           Yes                No             DSL            Yes  ...   \n",
      "1190           No  No phone service             DSL            Yes  ...   \n",
      "\n",
      "     DeviceProtection TechSupport StreamingTV StreamingMovies  Contract  \\\n",
      "765               Yes         Yes         Yes              No  Two year   \n",
      "910               Yes          No         Yes             Yes  Two year   \n",
      "1190              Yes         Yes         Yes              No  Two year   \n",
      "\n",
      "     PaperlessBilling            PaymentMethod MonthlyCharges  TotalCharges  \\\n",
      "765                No             Mailed check          73.35                 \n",
      "910                No             Mailed check          80.85                 \n",
      "1190               No  Credit card (automatic)          56.05                 \n",
      "\n",
      "     Churn  \n",
      "765     No  \n",
      "910     No  \n",
      "1190    No  \n",
      "\n",
      "[3 rows x 21 columns]\n"
     ]
    }
   ],
   "source": [
    "print(df_test[df_test['tenure'] == 0])"
   ]
  },
  {
   "cell_type": "code",
   "execution_count": 14,
   "id": "e4a86051",
   "metadata": {},
   "outputs": [
    {
     "data": {
      "image/png": "[encoded data removed]",
      "text/plain": [
       "<Figure size 432x288 with 1 Axes>"
      ]
     },
     "metadata": {
      "needs_background": "light"
     },
     "output_type": "display_data"
    }
   ],
   "source": [
    "df_test['tenure'].hist();"
   ]
  },
  {
   "cell_type": "code",
   "execution_count": 15,
   "id": "585029d6",
   "metadata": {},
   "outputs": [
    {
     "name": "stdout",
     "output_type": "stream",
     "text": [
      "Traindata. Max tenure: 72 min tenure: 0\n"
     ]
    }
   ],
   "source": [
    "print(f\"Traindata. Max tenure: {df_train['tenure'].max()} min tenure: {df_train['tenure'].min()}\")"
   ]
  },
  {
   "cell_type": "code",
   "execution_count": 16,
   "id": "b6f8e53e",
   "metadata": {},
   "outputs": [
    {
     "name": "stdout",
     "output_type": "stream",
     "text": [
      "      customerID  gender  SeniorCitizen Partner Dependents  tenure  \\\n",
      "1832  7644-OMVMY    Male              0     Yes        Yes       0   \n",
      "2121  3115-CZMZD    Male              0      No        Yes       0   \n",
      "2347  4472-LVYGI  Female              0     Yes        Yes       0   \n",
      "2651  2520-SGTTA  Female              0     Yes        Yes       0   \n",
      "2703  2923-ARZLG    Male              0     Yes        Yes       0   \n",
      "3294  3213-VVOLG    Male              0     Yes        Yes       0   \n",
      "3999  4367-NUYAO    Male              0     Yes        Yes       0   \n",
      "5162  2775-SEFEE    Male              0      No        Yes       0   \n",
      "\n",
      "     PhoneService     MultipleLines InternetService       OnlineSecurity  ...  \\\n",
      "1832          Yes                No              No  No internet service  ...   \n",
      "2121          Yes                No              No  No internet service  ...   \n",
      "2347           No  No phone service             DSL                  Yes  ...   \n",
      "2651          Yes                No              No  No internet service  ...   \n",
      "2703          Yes                No              No  No internet service  ...   \n",
      "3294          Yes               Yes              No  No internet service  ...   \n",
      "3999          Yes               Yes              No  No internet service  ...   \n",
      "5162          Yes               Yes             DSL                  Yes  ...   \n",
      "\n",
      "         DeviceProtection          TechSupport          StreamingTV  \\\n",
      "1832  No internet service  No internet service  No internet service   \n",
      "2121  No internet service  No internet service  No internet service   \n",
      "2347                  Yes                  Yes                  Yes   \n",
      "2651  No internet service  No internet service  No internet service   \n",
      "2703  No internet service  No internet service  No internet service   \n",
      "3294  No internet service  No internet service  No internet service   \n",
      "3999  No internet service  No internet service  No internet service   \n",
      "5162                   No                  Yes                   No   \n",
      "\n",
      "          StreamingMovies  Contract PaperlessBilling  \\\n",
      "1832  No internet service  Two year               No   \n",
      "2121  No internet service  Two year               No   \n",
      "2347                   No  Two year              Yes   \n",
      "2651  No internet service  Two year               No   \n",
      "2703  No internet service  One year              Yes   \n",
      "3294  No internet service  Two year               No   \n",
      "3999  No internet service  Two year               No   \n",
      "5162                   No  Two year              Yes   \n",
      "\n",
      "                  PaymentMethod MonthlyCharges  TotalCharges Churn  \n",
      "1832               Mailed check          19.85                  No  \n",
      "2121               Mailed check          20.25                  No  \n",
      "2347  Bank transfer (automatic)          52.55                  No  \n",
      "2651               Mailed check          20.00                  No  \n",
      "2703               Mailed check          19.70                  No  \n",
      "3294               Mailed check          25.35                  No  \n",
      "3999               Mailed check          25.75                  No  \n",
      "5162  Bank transfer (automatic)          61.90                  No  \n",
      "\n",
      "[8 rows x 21 columns]\n"
     ]
    }
   ],
   "source": [
    "print(df_train[df_train['tenure'] == 0])"
   ]
  },
  {
   "cell_type": "code",
   "execution_count": 17,
   "id": "44b45d44",
   "metadata": {},
   "outputs": [
    {
     "data": {
      "image/png": "[encoded data removed]",
      "text/plain": [
       "<Figure size 432x288 with 1 Axes>"
      ]
     },
     "metadata": {
      "needs_background": "light"
     },
     "output_type": "display_data"
    }
   ],
   "source": [
    "df_train['tenure'].hist();"
   ]
  },
  {
   "cell_type": "markdown",
   "id": "84cf72e6",
   "metadata": {},
   "source": [
    "### Montly charges"
   ]
  },
  {
   "cell_type": "code",
   "execution_count": 18,
   "id": "09133851",
   "metadata": {
    "scrolled": true
   },
   "outputs": [
    {
     "name": "stdout",
     "output_type": "stream",
     "text": [
      "Testdata. Max monthly charges: 117.6 min monthly charges: 18.7\n"
     ]
    }
   ],
   "source": [
    "print(f\"Testdata. Max monthly charges: {df_test['MonthlyCharges'].max()} min monthly charges: {df_test['MonthlyCharges'].min()}\")"
   ]
  },
  {
   "cell_type": "code",
   "execution_count": 19,
   "id": "0e20aaa0",
   "metadata": {},
   "outputs": [
    {
     "data": {
      "image/png": "[encoded data removed]",
      "text/plain": [
       "<Figure size 432x288 with 1 Axes>"
      ]
     },
     "metadata": {
      "needs_background": "light"
     },
     "output_type": "display_data"
    }
   ],
   "source": [
    "df_test['MonthlyCharges'].hist();"
   ]
  },
  {
   "cell_type": "code",
   "execution_count": 20,
   "id": "e924132d",
   "metadata": {},
   "outputs": [
    {
     "name": "stdout",
     "output_type": "stream",
     "text": [
      "Traindata. Max monthly charges: 118.75 min monthly charges: 18.25\n"
     ]
    }
   ],
   "source": [
    "print(f\"Traindata. Max monthly charges: {df_train['MonthlyCharges'].max()} min monthly charges: {df_train['MonthlyCharges'].min()}\")"
   ]
  },
  {
   "cell_type": "code",
   "execution_count": 21,
   "id": "58608b60",
   "metadata": {},
   "outputs": [
    {
     "data": {
      "image/png": "[encoded data removed]",
      "text/plain": [
       "<Figure size 432x288 with 1 Axes>"
      ]
     },
     "metadata": {
      "needs_background": "light"
     },
     "output_type": "display_data"
    }
   ],
   "source": [
    "df_train['MonthlyCharges'].hist();"
   ]
  },
  {
   "cell_type": "markdown",
   "id": "481d5c95",
   "metadata": {},
   "source": [
    "### TotalCharges"
   ]
  },
  {
   "cell_type": "code",
   "execution_count": 22,
   "id": "51b8a5b5",
   "metadata": {},
   "outputs": [
    {
     "name": "stdout",
     "output_type": "stream",
     "text": [
      "Testdata. Max total charges: 999.45 min total charges:  \n"
     ]
    }
   ],
   "source": [
    "print(f\"Testdata. Max total charges: {df_test['TotalCharges'].max()} min total charges: {df_test['TotalCharges'].min()}\")"
   ]
  },
  {
   "cell_type": "markdown",
   "id": "6ae49f0d",
   "metadata": {},
   "source": [
    "There is missing data in the \"TotalCharges\" column. These values are changed to \"-1\" denoting missing value."
   ]
  },
  {
   "cell_type": "code",
   "execution_count": 23,
   "id": "bc544b11",
   "metadata": {},
   "outputs": [
    {
     "data": {
      "text/html": [
       "<div>\n",
       "<style scoped>\n",
       "    .dataframe tbody tr th:only-of-type {\n",
       "        vertical-align: middle;\n",
       "    }\n",
       "\n",
       "    .dataframe tbody tr th {\n",
       "        vertical-align: top;\n",
       "    }\n",
       "\n",
       "    .dataframe thead th {\n",
       "        text-align: right;\n",
       "    }\n",
       "</style>\n",
       "<table border=\"1\" class=\"dataframe\">\n",
       "  <thead>\n",
       "    <tr style=\"text-align: right;\">\n",
       "      <th></th>\n",
       "      <th>customerID</th>\n",
       "      <th>gender</th>\n",
       "      <th>SeniorCitizen</th>\n",
       "      <th>Partner</th>\n",
       "      <th>Dependents</th>\n",
       "      <th>tenure</th>\n",
       "      <th>PhoneService</th>\n",
       "      <th>MultipleLines</th>\n",
       "      <th>InternetService</th>\n",
       "      <th>OnlineSecurity</th>\n",
       "      <th>...</th>\n",
       "      <th>DeviceProtection</th>\n",
       "      <th>TechSupport</th>\n",
       "      <th>StreamingTV</th>\n",
       "      <th>StreamingMovies</th>\n",
       "      <th>Contract</th>\n",
       "      <th>PaperlessBilling</th>\n",
       "      <th>PaymentMethod</th>\n",
       "      <th>MonthlyCharges</th>\n",
       "      <th>TotalCharges</th>\n",
       "      <th>Churn</th>\n",
       "    </tr>\n",
       "  </thead>\n",
       "  <tbody>\n",
       "    <tr>\n",
       "      <th>765</th>\n",
       "      <td>4075-WKNIU</td>\n",
       "      <td>Female</td>\n",
       "      <td>0</td>\n",
       "      <td>Yes</td>\n",
       "      <td>Yes</td>\n",
       "      <td>0</td>\n",
       "      <td>Yes</td>\n",
       "      <td>Yes</td>\n",
       "      <td>DSL</td>\n",
       "      <td>No</td>\n",
       "      <td>...</td>\n",
       "      <td>Yes</td>\n",
       "      <td>Yes</td>\n",
       "      <td>Yes</td>\n",
       "      <td>No</td>\n",
       "      <td>Two year</td>\n",
       "      <td>No</td>\n",
       "      <td>Mailed check</td>\n",
       "      <td>73.35</td>\n",
       "      <td></td>\n",
       "      <td>No</td>\n",
       "    </tr>\n",
       "    <tr>\n",
       "      <th>910</th>\n",
       "      <td>5709-LVOEQ</td>\n",
       "      <td>Female</td>\n",
       "      <td>0</td>\n",
       "      <td>Yes</td>\n",
       "      <td>Yes</td>\n",
       "      <td>0</td>\n",
       "      <td>Yes</td>\n",
       "      <td>No</td>\n",
       "      <td>DSL</td>\n",
       "      <td>Yes</td>\n",
       "      <td>...</td>\n",
       "      <td>Yes</td>\n",
       "      <td>No</td>\n",
       "      <td>Yes</td>\n",
       "      <td>Yes</td>\n",
       "      <td>Two year</td>\n",
       "      <td>No</td>\n",
       "      <td>Mailed check</td>\n",
       "      <td>80.85</td>\n",
       "      <td></td>\n",
       "      <td>No</td>\n",
       "    </tr>\n",
       "    <tr>\n",
       "      <th>1190</th>\n",
       "      <td>1371-DWPAZ</td>\n",
       "      <td>Female</td>\n",
       "      <td>0</td>\n",
       "      <td>Yes</td>\n",
       "      <td>Yes</td>\n",
       "      <td>0</td>\n",
       "      <td>No</td>\n",
       "      <td>No phone service</td>\n",
       "      <td>DSL</td>\n",
       "      <td>Yes</td>\n",
       "      <td>...</td>\n",
       "      <td>Yes</td>\n",
       "      <td>Yes</td>\n",
       "      <td>Yes</td>\n",
       "      <td>No</td>\n",
       "      <td>Two year</td>\n",
       "      <td>No</td>\n",
       "      <td>Credit card (automatic)</td>\n",
       "      <td>56.05</td>\n",
       "      <td></td>\n",
       "      <td>No</td>\n",
       "    </tr>\n",
       "  </tbody>\n",
       "</table>\n",
       "<p>3 rows × 21 columns</p>\n",
       "</div>"
      ],
      "text/plain": [
       "      customerID  gender  SeniorCitizen Partner Dependents  tenure  \\\n",
       "765   4075-WKNIU  Female              0     Yes        Yes       0   \n",
       "910   5709-LVOEQ  Female              0     Yes        Yes       0   \n",
       "1190  1371-DWPAZ  Female              0     Yes        Yes       0   \n",
       "\n",
       "     PhoneService     MultipleLines InternetService OnlineSecurity  ...  \\\n",
       "765           Yes               Yes             DSL             No  ...   \n",
       "910           Yes                No             DSL            Yes  ...   \n",
       "1190           No  No phone service             DSL            Yes  ...   \n",
       "\n",
       "     DeviceProtection TechSupport StreamingTV StreamingMovies  Contract  \\\n",
       "765               Yes         Yes         Yes              No  Two year   \n",
       "910               Yes          No         Yes             Yes  Two year   \n",
       "1190              Yes         Yes         Yes              No  Two year   \n",
       "\n",
       "     PaperlessBilling            PaymentMethod MonthlyCharges  TotalCharges  \\\n",
       "765                No             Mailed check          73.35                 \n",
       "910                No             Mailed check          80.85                 \n",
       "1190               No  Credit card (automatic)          56.05                 \n",
       "\n",
       "     Churn  \n",
       "765     No  \n",
       "910     No  \n",
       "1190    No  \n",
       "\n",
       "[3 rows x 21 columns]"
      ]
     },
     "execution_count": 23,
     "metadata": {},
     "output_type": "execute_result"
    }
   ],
   "source": [
    "df_test[df_test['TotalCharges'] == df_test['TotalCharges'].min()]"
   ]
  },
  {
   "cell_type": "code",
   "execution_count": 24,
   "id": "a5a5a22b",
   "metadata": {
    "scrolled": true
   },
   "outputs": [
    {
     "data": {
      "text/plain": [
       "Int64Index([765, 910, 1190], dtype='int64')"
      ]
     },
     "execution_count": 24,
     "metadata": {},
     "output_type": "execute_result"
    }
   ],
   "source": [
    "missing_data_test = df_test[df_test['TotalCharges'] == df_test['TotalCharges'].min()].index\n",
    "\n",
    "missing_data_test"
   ]
  },
  {
   "cell_type": "code",
   "execution_count": 25,
   "id": "a74d5ed8",
   "metadata": {},
   "outputs": [
    {
     "name": "stdout",
     "output_type": "stream",
     "text": [
      "Traindata. Max total charges: 999.9 min total charges:  \n"
     ]
    }
   ],
   "source": [
    "print(f\"Traindata. Max total charges: {df_train['TotalCharges'].max()} min total charges: {df_train['TotalCharges'].min()}\")"
   ]
  },
  {
   "cell_type": "code",
   "execution_count": 26,
   "id": "8f3b2fd0",
   "metadata": {},
   "outputs": [
    {
     "data": {
      "text/html": [
       "<div>\n",
       "<style scoped>\n",
       "    .dataframe tbody tr th:only-of-type {\n",
       "        vertical-align: middle;\n",
       "    }\n",
       "\n",
       "    .dataframe tbody tr th {\n",
       "        vertical-align: top;\n",
       "    }\n",
       "\n",
       "    .dataframe thead th {\n",
       "        text-align: right;\n",
       "    }\n",
       "</style>\n",
       "<table border=\"1\" class=\"dataframe\">\n",
       "  <thead>\n",
       "    <tr style=\"text-align: right;\">\n",
       "      <th></th>\n",
       "      <th>customerID</th>\n",
       "      <th>gender</th>\n",
       "      <th>SeniorCitizen</th>\n",
       "      <th>Partner</th>\n",
       "      <th>Dependents</th>\n",
       "      <th>tenure</th>\n",
       "      <th>PhoneService</th>\n",
       "      <th>MultipleLines</th>\n",
       "      <th>InternetService</th>\n",
       "      <th>OnlineSecurity</th>\n",
       "      <th>...</th>\n",
       "      <th>DeviceProtection</th>\n",
       "      <th>TechSupport</th>\n",
       "      <th>StreamingTV</th>\n",
       "      <th>StreamingMovies</th>\n",
       "      <th>Contract</th>\n",
       "      <th>PaperlessBilling</th>\n",
       "      <th>PaymentMethod</th>\n",
       "      <th>MonthlyCharges</th>\n",
       "      <th>TotalCharges</th>\n",
       "      <th>Churn</th>\n",
       "    </tr>\n",
       "  </thead>\n",
       "  <tbody>\n",
       "    <tr>\n",
       "      <th>1832</th>\n",
       "      <td>7644-OMVMY</td>\n",
       "      <td>Male</td>\n",
       "      <td>0</td>\n",
       "      <td>Yes</td>\n",
       "      <td>Yes</td>\n",
       "      <td>0</td>\n",
       "      <td>Yes</td>\n",
       "      <td>No</td>\n",
       "      <td>No</td>\n",
       "      <td>No internet service</td>\n",
       "      <td>...</td>\n",
       "      <td>No internet service</td>\n",
       "      <td>No internet service</td>\n",
       "      <td>No internet service</td>\n",
       "      <td>No internet service</td>\n",
       "      <td>Two year</td>\n",
       "      <td>No</td>\n",
       "      <td>Mailed check</td>\n",
       "      <td>19.85</td>\n",
       "      <td></td>\n",
       "      <td>No</td>\n",
       "    </tr>\n",
       "    <tr>\n",
       "      <th>2121</th>\n",
       "      <td>3115-CZMZD</td>\n",
       "      <td>Male</td>\n",
       "      <td>0</td>\n",
       "      <td>No</td>\n",
       "      <td>Yes</td>\n",
       "      <td>0</td>\n",
       "      <td>Yes</td>\n",
       "      <td>No</td>\n",
       "      <td>No</td>\n",
       "      <td>No internet service</td>\n",
       "      <td>...</td>\n",
       "      <td>No internet service</td>\n",
       "      <td>No internet service</td>\n",
       "      <td>No internet service</td>\n",
       "      <td>No internet service</td>\n",
       "      <td>Two year</td>\n",
       "      <td>No</td>\n",
       "      <td>Mailed check</td>\n",
       "      <td>20.25</td>\n",
       "      <td></td>\n",
       "      <td>No</td>\n",
       "    </tr>\n",
       "    <tr>\n",
       "      <th>2347</th>\n",
       "      <td>4472-LVYGI</td>\n",
       "      <td>Female</td>\n",
       "      <td>0</td>\n",
       "      <td>Yes</td>\n",
       "      <td>Yes</td>\n",
       "      <td>0</td>\n",
       "      <td>No</td>\n",
       "      <td>No phone service</td>\n",
       "      <td>DSL</td>\n",
       "      <td>Yes</td>\n",
       "      <td>...</td>\n",
       "      <td>Yes</td>\n",
       "      <td>Yes</td>\n",
       "      <td>Yes</td>\n",
       "      <td>No</td>\n",
       "      <td>Two year</td>\n",
       "      <td>Yes</td>\n",
       "      <td>Bank transfer (automatic)</td>\n",
       "      <td>52.55</td>\n",
       "      <td></td>\n",
       "      <td>No</td>\n",
       "    </tr>\n",
       "    <tr>\n",
       "      <th>2651</th>\n",
       "      <td>2520-SGTTA</td>\n",
       "      <td>Female</td>\n",
       "      <td>0</td>\n",
       "      <td>Yes</td>\n",
       "      <td>Yes</td>\n",
       "      <td>0</td>\n",
       "      <td>Yes</td>\n",
       "      <td>No</td>\n",
       "      <td>No</td>\n",
       "      <td>No internet service</td>\n",
       "      <td>...</td>\n",
       "      <td>No internet service</td>\n",
       "      <td>No internet service</td>\n",
       "      <td>No internet service</td>\n",
       "      <td>No internet service</td>\n",
       "      <td>Two year</td>\n",
       "      <td>No</td>\n",
       "      <td>Mailed check</td>\n",
       "      <td>20.00</td>\n",
       "      <td></td>\n",
       "      <td>No</td>\n",
       "    </tr>\n",
       "    <tr>\n",
       "      <th>2703</th>\n",
       "      <td>2923-ARZLG</td>\n",
       "      <td>Male</td>\n",
       "      <td>0</td>\n",
       "      <td>Yes</td>\n",
       "      <td>Yes</td>\n",
       "      <td>0</td>\n",
       "      <td>Yes</td>\n",
       "      <td>No</td>\n",
       "      <td>No</td>\n",
       "      <td>No internet service</td>\n",
       "      <td>...</td>\n",
       "      <td>No internet service</td>\n",
       "      <td>No internet service</td>\n",
       "      <td>No internet service</td>\n",
       "      <td>No internet service</td>\n",
       "      <td>One year</td>\n",
       "      <td>Yes</td>\n",
       "      <td>Mailed check</td>\n",
       "      <td>19.70</td>\n",
       "      <td></td>\n",
       "      <td>No</td>\n",
       "    </tr>\n",
       "    <tr>\n",
       "      <th>3294</th>\n",
       "      <td>3213-VVOLG</td>\n",
       "      <td>Male</td>\n",
       "      <td>0</td>\n",
       "      <td>Yes</td>\n",
       "      <td>Yes</td>\n",
       "      <td>0</td>\n",
       "      <td>Yes</td>\n",
       "      <td>Yes</td>\n",
       "      <td>No</td>\n",
       "      <td>No internet service</td>\n",
       "      <td>...</td>\n",
       "      <td>No internet service</td>\n",
       "      <td>No internet service</td>\n",
       "      <td>No internet service</td>\n",
       "      <td>No internet service</td>\n",
       "      <td>Two year</td>\n",
       "      <td>No</td>\n",
       "      <td>Mailed check</td>\n",
       "      <td>25.35</td>\n",
       "      <td></td>\n",
       "      <td>No</td>\n",
       "    </tr>\n",
       "    <tr>\n",
       "      <th>3999</th>\n",
       "      <td>4367-NUYAO</td>\n",
       "      <td>Male</td>\n",
       "      <td>0</td>\n",
       "      <td>Yes</td>\n",
       "      <td>Yes</td>\n",
       "      <td>0</td>\n",
       "      <td>Yes</td>\n",
       "      <td>Yes</td>\n",
       "      <td>No</td>\n",
       "      <td>No internet service</td>\n",
       "      <td>...</td>\n",
       "      <td>No internet service</td>\n",
       "      <td>No internet service</td>\n",
       "      <td>No internet service</td>\n",
       "      <td>No internet service</td>\n",
       "      <td>Two year</td>\n",
       "      <td>No</td>\n",
       "      <td>Mailed check</td>\n",
       "      <td>25.75</td>\n",
       "      <td></td>\n",
       "      <td>No</td>\n",
       "    </tr>\n",
       "    <tr>\n",
       "      <th>5162</th>\n",
       "      <td>2775-SEFEE</td>\n",
       "      <td>Male</td>\n",
       "      <td>0</td>\n",
       "      <td>No</td>\n",
       "      <td>Yes</td>\n",
       "      <td>0</td>\n",
       "      <td>Yes</td>\n",
       "      <td>Yes</td>\n",
       "      <td>DSL</td>\n",
       "      <td>Yes</td>\n",
       "      <td>...</td>\n",
       "      <td>No</td>\n",
       "      <td>Yes</td>\n",
       "      <td>No</td>\n",
       "      <td>No</td>\n",
       "      <td>Two year</td>\n",
       "      <td>Yes</td>\n",
       "      <td>Bank transfer (automatic)</td>\n",
       "      <td>61.90</td>\n",
       "      <td></td>\n",
       "      <td>No</td>\n",
       "    </tr>\n",
       "  </tbody>\n",
       "</table>\n",
       "<p>8 rows × 21 columns</p>\n",
       "</div>"
      ],
      "text/plain": [
       "      customerID  gender  SeniorCitizen Partner Dependents  tenure  \\\n",
       "1832  7644-OMVMY    Male              0     Yes        Yes       0   \n",
       "2121  3115-CZMZD    Male              0      No        Yes       0   \n",
       "2347  4472-LVYGI  Female              0     Yes        Yes       0   \n",
       "2651  2520-SGTTA  Female              0     Yes        Yes       0   \n",
       "2703  2923-ARZLG    Male              0     Yes        Yes       0   \n",
       "3294  3213-VVOLG    Male              0     Yes        Yes       0   \n",
       "3999  4367-NUYAO    Male              0     Yes        Yes       0   \n",
       "5162  2775-SEFEE    Male              0      No        Yes       0   \n",
       "\n",
       "     PhoneService     MultipleLines InternetService       OnlineSecurity  ...  \\\n",
       "1832          Yes                No              No  No internet service  ...   \n",
       "2121          Yes                No              No  No internet service  ...   \n",
       "2347           No  No phone service             DSL                  Yes  ...   \n",
       "2651          Yes                No              No  No internet service  ...   \n",
       "2703          Yes                No              No  No internet service  ...   \n",
       "3294          Yes               Yes              No  No internet service  ...   \n",
       "3999          Yes               Yes              No  No internet service  ...   \n",
       "5162          Yes               Yes             DSL                  Yes  ...   \n",
       "\n",
       "         DeviceProtection          TechSupport          StreamingTV  \\\n",
       "1832  No internet service  No internet service  No internet service   \n",
       "2121  No internet service  No internet service  No internet service   \n",
       "2347                  Yes                  Yes                  Yes   \n",
       "2651  No internet service  No internet service  No internet service   \n",
       "2703  No internet service  No internet service  No internet service   \n",
       "3294  No internet service  No internet service  No internet service   \n",
       "3999  No internet service  No internet service  No internet service   \n",
       "5162                   No                  Yes                   No   \n",
       "\n",
       "          StreamingMovies  Contract PaperlessBilling  \\\n",
       "1832  No internet service  Two year               No   \n",
       "2121  No internet service  Two year               No   \n",
       "2347                   No  Two year              Yes   \n",
       "2651  No internet service  Two year               No   \n",
       "2703  No internet service  One year              Yes   \n",
       "3294  No internet service  Two year               No   \n",
       "3999  No internet service  Two year               No   \n",
       "5162                   No  Two year              Yes   \n",
       "\n",
       "                  PaymentMethod MonthlyCharges  TotalCharges Churn  \n",
       "1832               Mailed check          19.85                  No  \n",
       "2121               Mailed check          20.25                  No  \n",
       "2347  Bank transfer (automatic)          52.55                  No  \n",
       "2651               Mailed check          20.00                  No  \n",
       "2703               Mailed check          19.70                  No  \n",
       "3294               Mailed check          25.35                  No  \n",
       "3999               Mailed check          25.75                  No  \n",
       "5162  Bank transfer (automatic)          61.90                  No  \n",
       "\n",
       "[8 rows x 21 columns]"
      ]
     },
     "execution_count": 26,
     "metadata": {},
     "output_type": "execute_result"
    }
   ],
   "source": [
    "df_train[df_train['TotalCharges'] == df_train['TotalCharges'].min()]"
   ]
  },
  {
   "cell_type": "code",
   "execution_count": 27,
   "id": "63c15f76",
   "metadata": {},
   "outputs": [
    {
     "data": {
      "text/plain": [
       "Int64Index([1832, 2121, 2347, 2651, 2703, 3294, 3999, 5162], dtype='int64')"
      ]
     },
     "execution_count": 27,
     "metadata": {},
     "output_type": "execute_result"
    }
   ],
   "source": [
    "missing_data_train = df_train[df_train['TotalCharges'] == df_train['TotalCharges'].min()].index\n",
    "\n",
    "missing_data_train"
   ]
  },
  {
   "cell_type": "markdown",
   "id": "bb765be9",
   "metadata": {},
   "source": [
    "## Creating a modified copy of the original data"
   ]
  },
  {
   "cell_type": "code",
   "execution_count": 28,
   "id": "641c48f4",
   "metadata": {},
   "outputs": [
    {
     "data": {
      "text/plain": [
       "customerID            4075-WKNIU\n",
       "gender                    Female\n",
       "SeniorCitizen                  0\n",
       "Partner                      Yes\n",
       "Dependents                   Yes\n",
       "tenure                         0\n",
       "PhoneService                 Yes\n",
       "MultipleLines                Yes\n",
       "InternetService              DSL\n",
       "OnlineSecurity                No\n",
       "OnlineBackup                 Yes\n",
       "DeviceProtection             Yes\n",
       "TechSupport                  Yes\n",
       "StreamingTV                  Yes\n",
       "StreamingMovies               No\n",
       "Contract                Two year\n",
       "PaperlessBilling              No\n",
       "PaymentMethod       Mailed check\n",
       "MonthlyCharges             73.35\n",
       "TotalCharges                  -1\n",
       "Churn                         No\n",
       "Name: 765, dtype: object"
      ]
     },
     "execution_count": 28,
     "metadata": {},
     "output_type": "execute_result"
    }
   ],
   "source": [
    "df_test_mod = df_test.copy()\n",
    "\n",
    "for i in missing_data_test:    \n",
    "    df_test_mod.loc[i,('TotalCharges')] = -1\n",
    "df_test_mod.iloc[765]"
   ]
  },
  {
   "cell_type": "code",
   "execution_count": 29,
   "id": "dfdbbee9",
   "metadata": {},
   "outputs": [],
   "source": [
    "df_train_mod = df_train.copy()\n",
    "\n",
    "for i in missing_data_train:\n",
    "    df_train_mod.loc[i,('TotalCharges')] = -1\n"
   ]
  },
  {
   "cell_type": "markdown",
   "id": "b9c77453",
   "metadata": {},
   "source": [
    "# Splitting into output and input"
   ]
  },
  {
   "cell_type": "code",
   "execution_count": 30,
   "id": "2c78f998",
   "metadata": {},
   "outputs": [
    {
     "data": {
      "text/html": [
       "<div>\n",
       "<style scoped>\n",
       "    .dataframe tbody tr th:only-of-type {\n",
       "        vertical-align: middle;\n",
       "    }\n",
       "\n",
       "    .dataframe tbody tr th {\n",
       "        vertical-align: top;\n",
       "    }\n",
       "\n",
       "    .dataframe thead th {\n",
       "        text-align: right;\n",
       "    }\n",
       "</style>\n",
       "<table border=\"1\" class=\"dataframe\">\n",
       "  <thead>\n",
       "    <tr style=\"text-align: right;\">\n",
       "      <th></th>\n",
       "      <th>Churn</th>\n",
       "    </tr>\n",
       "  </thead>\n",
       "  <tbody>\n",
       "    <tr>\n",
       "      <th>0</th>\n",
       "      <td>0</td>\n",
       "    </tr>\n",
       "    <tr>\n",
       "      <th>1</th>\n",
       "      <td>1</td>\n",
       "    </tr>\n",
       "    <tr>\n",
       "      <th>2</th>\n",
       "      <td>0</td>\n",
       "    </tr>\n",
       "    <tr>\n",
       "      <th>3</th>\n",
       "      <td>0</td>\n",
       "    </tr>\n",
       "    <tr>\n",
       "      <th>4</th>\n",
       "      <td>1</td>\n",
       "    </tr>\n",
       "    <tr>\n",
       "      <th>...</th>\n",
       "      <td>...</td>\n",
       "    </tr>\n",
       "    <tr>\n",
       "      <th>1404</th>\n",
       "      <td>0</td>\n",
       "    </tr>\n",
       "    <tr>\n",
       "      <th>1405</th>\n",
       "      <td>0</td>\n",
       "    </tr>\n",
       "    <tr>\n",
       "      <th>1406</th>\n",
       "      <td>1</td>\n",
       "    </tr>\n",
       "    <tr>\n",
       "      <th>1407</th>\n",
       "      <td>0</td>\n",
       "    </tr>\n",
       "    <tr>\n",
       "      <th>1408</th>\n",
       "      <td>0</td>\n",
       "    </tr>\n",
       "  </tbody>\n",
       "</table>\n",
       "<p>1409 rows × 1 columns</p>\n",
       "</div>"
      ],
      "text/plain": [
       "      Churn\n",
       "0         0\n",
       "1         1\n",
       "2         0\n",
       "3         0\n",
       "4         1\n",
       "...     ...\n",
       "1404      0\n",
       "1405      0\n",
       "1406      1\n",
       "1407      0\n",
       "1408      0\n",
       "\n",
       "[1409 rows x 1 columns]"
      ]
     },
     "execution_count": 30,
     "metadata": {},
     "output_type": "execute_result"
    }
   ],
   "source": [
    "X_test = df_test_mod.drop(columns=['Churn'])\n",
    "y_test = df_test_mod['Churn']\n",
    "\n",
    "X_train = df_train_mod.drop(columns=['Churn'])\n",
    "y_train = df_train['Churn']\n",
    "\n",
    "le = LabelEncoder()\n",
    "\n",
    "y_train = le.fit_transform(y_train)\n",
    "y_train_df = pd.DataFrame({'Churn': y_train})\n",
    "\n",
    "y_test = le.fit_transform(y_test)\n",
    "y_test_df = pd.DataFrame({'Churn': y_test})\n",
    "y_test_df\n"
   ]
  },
  {
   "cell_type": "markdown",
   "id": "69a26f37",
   "metadata": {},
   "source": [
    "## Churn ratio \n",
    "For both the training and the testdata the churn ratio is about 26%. Since both the training and testdata have similar distribution of churn, the skewed values towards no churn is simply the reality of churn and it is not an issue."
   ]
  },
  {
   "cell_type": "code",
   "execution_count": 31,
   "id": "145147a9",
   "metadata": {},
   "outputs": [
    {
     "name": "stdout",
     "output_type": "stream",
     "text": [
      "Churn    0.263756\n",
      "dtype: float64\n"
     ]
    },
    {
     "data": {
      "image/png": "[encoded data removed]",
      "text/plain": [
       "<Figure size 432x288 with 1 Axes>"
      ]
     },
     "metadata": {
      "needs_background": "light"
     },
     "output_type": "display_data"
    }
   ],
   "source": [
    "churn_ratio_train = ((y_train_df == 1).sum())/((y_train_df == 0).sum() + (y_train_df == 1).sum())\n",
    "y_train_df.hist();\n",
    "print(churn_ratio_train)"
   ]
  },
  {
   "cell_type": "code",
   "execution_count": 32,
   "id": "e68a0049",
   "metadata": {},
   "outputs": [
    {
     "name": "stdout",
     "output_type": "stream",
     "text": [
      "Churn    0.271824\n",
      "dtype: float64\n"
     ]
    },
    {
     "data": {
      "image/png": "[encoded data removed]",
      "text/plain": [
       "<Figure size 432x288 with 1 Axes>"
      ]
     },
     "metadata": {
      "needs_background": "light"
     },
     "output_type": "display_data"
    }
   ],
   "source": [
    "churn_ratio_test = ((y_test_df == 1).sum())/((y_test_df == 0).sum()+(y_test_df == 1).sum())\n",
    "y_test_df.hist();\n",
    "print(churn_ratio_test)"
   ]
  },
  {
   "cell_type": "markdown",
   "id": "44292ec2",
   "metadata": {},
   "source": [
    "# XGBoost - converting to categorical data."
   ]
  },
  {
   "cell_type": "code",
   "execution_count": 33,
   "id": "45f2a60d",
   "metadata": {},
   "outputs": [],
   "source": [
    "import xgboost as xgb"
   ]
  },
  {
   "cell_type": "code",
   "execution_count": 34,
   "id": "99eacd94",
   "metadata": {},
   "outputs": [],
   "source": [
    "xgb_clf = xgb.XGBClassifier(random_state=0)"
   ]
  },
  {
   "cell_type": "markdown",
   "id": "2f19f71a",
   "metadata": {},
   "source": [
    "### Customer ID can be dropped as it is not a predictor of churn and simply a way for the company to keep track of its customers.\n",
    "\n",
    "Other features that are probably not good predictors of churn are:\n",
    "\n",
    "Partner, PaperlessBilling, PaymentMethod, Dependents since they are not linked to the quality of the service that is being provided. But in the example below, only customerID is dropped."
   ]
  },
  {
   "cell_type": "code",
   "execution_count": 35,
   "id": "f53afa79",
   "metadata": {},
   "outputs": [],
   "source": [
    "X_test = X_test.drop(columns=['customerID'])"
   ]
  },
  {
   "cell_type": "code",
   "execution_count": 36,
   "id": "2ac4205a",
   "metadata": {},
   "outputs": [],
   "source": [
    "X_train = X_train.drop(columns=['customerID'])"
   ]
  },
  {
   "cell_type": "markdown",
   "id": "c1108e2a",
   "metadata": {},
   "source": [
    "### Converting the train and test data values to categories. Total charges, monthly charges and tenure are kept as numerical values"
   ]
  },
  {
   "cell_type": "code",
   "execution_count": 37,
   "id": "58987c53",
   "metadata": {},
   "outputs": [],
   "source": [
    "X_train.dtypes\n",
    "\n",
    "train_columns = X_train.columns\n",
    "non_categorical = [\"TotalCharges\",\"MonthlyCharges\",\"tenure\"]\n",
    "train_columns=train_columns.drop(non_categorical)\n",
    "\n",
    "for column in train_columns:\n",
    "    X_train[column] = X_train[column].astype('category')\n",
    "X_train[\"TotalCharges\"] = X_train[\"TotalCharges\"].astype('float64')\n",
    "\n",
    "\n"
   ]
  },
  {
   "cell_type": "code",
   "execution_count": 38,
   "id": "0d2ddcb4",
   "metadata": {},
   "outputs": [],
   "source": [
    "X_test.dtypes\n",
    "\n",
    "test_columns = X_test.columns\n",
    "non_categorical = [\"TotalCharges\",\"MonthlyCharges\",\"tenure\"]\n",
    "test_columns=test_columns.drop(non_categorical)\n",
    "\n",
    "for column in train_columns:\n",
    "    X_test[column] = X_test[column].astype('category')\n",
    "X_test[\"TotalCharges\"] = X_test[\"TotalCharges\"].astype('float64')\n"
   ]
  },
  {
   "cell_type": "code",
   "execution_count": 39,
   "id": "6f363b59",
   "metadata": {},
   "outputs": [],
   "source": [
    "m_Xd_train = xgb.DMatrix(data = X_train,label = y_train, enable_categorical = \"True\")"
   ]
  },
  {
   "cell_type": "code",
   "execution_count": 40,
   "id": "c2581e2f",
   "metadata": {},
   "outputs": [],
   "source": [
    "m_Xd_test = xgb.DMatrix(data = X_test,label = y_test, enable_categorical = \"True\")"
   ]
  },
  {
   "cell_type": "code",
   "execution_count": 41,
   "id": "9e047e63",
   "metadata": {
    "scrolled": true
   },
   "outputs": [
    {
     "name": "stdout",
     "output_type": "stream",
     "text": [
      "[11:40:44] WARNING: ..\\src\\learner.cc:1115: Starting in XGBoost 1.3.0, the default evaluation metric used with the objective 'multi:softmax' was changed from 'merror' to 'mlogloss'. Explicitly set eval_metric if you'd like to restore the old behavior.\n"
     ]
    }
   ],
   "source": [
    "bst_clf = xgb.train(params = {'max_depth':10,'objective':'multi:softmax', 'num_class':3},dtrain = m_Xd_train)"
   ]
  },
  {
   "cell_type": "code",
   "execution_count": 42,
   "id": "cae09fa6",
   "metadata": {},
   "outputs": [],
   "source": [
    "predictions = bst_clf.predict(m_Xd_test)"
   ]
  },
  {
   "cell_type": "code",
   "execution_count": 43,
   "id": "7b4c8d86",
   "metadata": {},
   "outputs": [
    {
     "data": {
      "text/plain": [
       "0.7899219304471257"
      ]
     },
     "execution_count": 43,
     "metadata": {},
     "output_type": "execute_result"
    }
   ],
   "source": [
    "accuracy_score(y_test, predictions)"
   ]
  },
  {
   "cell_type": "markdown",
   "id": "a1236ec6",
   "metadata": {},
   "source": [
    "## Feature importance:\n",
    "\n"
   ]
  },
  {
   "cell_type": "code",
   "execution_count": 44,
   "id": "c6a3769d",
   "metadata": {},
   "outputs": [
    {
     "name": "stdout",
     "output_type": "stream",
     "text": [
      "{'gender': 200.0, 'SeniorCitizen': 123.0, 'Partner': 157.0, 'Dependents': 122.0, 'tenure': 774.0, 'PhoneService': 24.0, 'MultipleLines': 134.0, 'InternetService': 35.0, 'OnlineSecurity': 80.0, 'OnlineBackup': 145.0, 'DeviceProtection': 104.0, 'TechSupport': 77.0, 'StreamingTV': 81.0, 'StreamingMovies': 75.0, 'Contract': 57.0, 'PaperlessBilling': 148.0, 'PaymentMethod': 263.0, 'MonthlyCharges': 1381.0, 'TotalCharges': 1113.0}\n"
     ]
    },
    {
     "data": {
      "text/html": [
       "<div>\n",
       "<style scoped>\n",
       "    .dataframe tbody tr th:only-of-type {\n",
       "        vertical-align: middle;\n",
       "    }\n",
       "\n",
       "    .dataframe tbody tr th {\n",
       "        vertical-align: top;\n",
       "    }\n",
       "\n",
       "    .dataframe thead th {\n",
       "        text-align: right;\n",
       "    }\n",
       "</style>\n",
       "<table border=\"1\" class=\"dataframe\">\n",
       "  <thead>\n",
       "    <tr style=\"text-align: right;\">\n",
       "      <th></th>\n",
       "      <th>Feature Importance</th>\n",
       "    </tr>\n",
       "  </thead>\n",
       "  <tbody>\n",
       "    <tr>\n",
       "      <th>MonthlyCharges</th>\n",
       "      <td>1381.0</td>\n",
       "    </tr>\n",
       "    <tr>\n",
       "      <th>TotalCharges</th>\n",
       "      <td>1113.0</td>\n",
       "    </tr>\n",
       "    <tr>\n",
       "      <th>tenure</th>\n",
       "      <td>774.0</td>\n",
       "    </tr>\n",
       "    <tr>\n",
       "      <th>PaymentMethod</th>\n",
       "      <td>263.0</td>\n",
       "    </tr>\n",
       "    <tr>\n",
       "      <th>gender</th>\n",
       "      <td>200.0</td>\n",
       "    </tr>\n",
       "    <tr>\n",
       "      <th>Partner</th>\n",
       "      <td>157.0</td>\n",
       "    </tr>\n",
       "    <tr>\n",
       "      <th>PaperlessBilling</th>\n",
       "      <td>148.0</td>\n",
       "    </tr>\n",
       "    <tr>\n",
       "      <th>OnlineBackup</th>\n",
       "      <td>145.0</td>\n",
       "    </tr>\n",
       "    <tr>\n",
       "      <th>MultipleLines</th>\n",
       "      <td>134.0</td>\n",
       "    </tr>\n",
       "    <tr>\n",
       "      <th>SeniorCitizen</th>\n",
       "      <td>123.0</td>\n",
       "    </tr>\n",
       "    <tr>\n",
       "      <th>Dependents</th>\n",
       "      <td>122.0</td>\n",
       "    </tr>\n",
       "    <tr>\n",
       "      <th>DeviceProtection</th>\n",
       "      <td>104.0</td>\n",
       "    </tr>\n",
       "    <tr>\n",
       "      <th>StreamingTV</th>\n",
       "      <td>81.0</td>\n",
       "    </tr>\n",
       "    <tr>\n",
       "      <th>OnlineSecurity</th>\n",
       "      <td>80.0</td>\n",
       "    </tr>\n",
       "    <tr>\n",
       "      <th>TechSupport</th>\n",
       "      <td>77.0</td>\n",
       "    </tr>\n",
       "    <tr>\n",
       "      <th>StreamingMovies</th>\n",
       "      <td>75.0</td>\n",
       "    </tr>\n",
       "    <tr>\n",
       "      <th>Contract</th>\n",
       "      <td>57.0</td>\n",
       "    </tr>\n",
       "    <tr>\n",
       "      <th>InternetService</th>\n",
       "      <td>35.0</td>\n",
       "    </tr>\n",
       "    <tr>\n",
       "      <th>PhoneService</th>\n",
       "      <td>24.0</td>\n",
       "    </tr>\n",
       "  </tbody>\n",
       "</table>\n",
       "</div>"
      ],
      "text/plain": [
       "                  Feature Importance\n",
       "MonthlyCharges                1381.0\n",
       "TotalCharges                  1113.0\n",
       "tenure                         774.0\n",
       "PaymentMethod                  263.0\n",
       "gender                         200.0\n",
       "Partner                        157.0\n",
       "PaperlessBilling               148.0\n",
       "OnlineBackup                   145.0\n",
       "MultipleLines                  134.0\n",
       "SeniorCitizen                  123.0\n",
       "Dependents                     122.0\n",
       "DeviceProtection               104.0\n",
       "StreamingTV                     81.0\n",
       "OnlineSecurity                  80.0\n",
       "TechSupport                     77.0\n",
       "StreamingMovies                 75.0\n",
       "Contract                        57.0\n",
       "InternetService                 35.0\n",
       "PhoneService                    24.0"
      ]
     },
     "execution_count": 44,
     "metadata": {},
     "output_type": "execute_result"
    }
   ],
   "source": [
    "from operator import itemgetter\n",
    "feature_score = bst_clf.get_fscore()\n",
    "print(feature_score)\n",
    "\n",
    "feature_list = list(feature_score.items())\n",
    "\n",
    "sorted_list = sorted(feature_list, key=itemgetter(1), reverse = True)\n",
    "headers = []\n",
    "values = []\n",
    "for i in range(len(sorted_list)):\n",
    "    headers.append(sorted_list[i][0])\n",
    "    values.append(sorted_list[i][1])\n",
    "test_df = pd.DataFrame( columns = [headers])\n",
    "test_df.loc[0] = values\n",
    "t_df = test_df.transpose()\n",
    "t_df.columns = ['Feature Importance']\n",
    "t_df"
   ]
  },
  {
   "cell_type": "code",
   "execution_count": 45,
   "id": "4b05e5cd",
   "metadata": {
    "scrolled": false
   },
   "outputs": [
    {
     "data": {
      "image/png": "[encoded data removed]",
      "text/plain": [
       "<Figure size 432x288 with 2 Axes>"
      ]
     },
     "metadata": {
      "needs_background": "light"
     },
     "output_type": "display_data"
    }
   ],
   "source": [
    "cm_xgb = confusion_matrix(y_test,predictions)\n",
    "\n",
    "cm_display = ConfusionMatrixDisplay(cm_xgb)\n",
    "cm_display.plot();"
   ]
  },
  {
   "cell_type": "code",
   "execution_count": 161,
   "id": "e06842fe",
   "metadata": {},
   "outputs": [
    {
     "name": "stdout",
     "output_type": "stream",
     "text": [
      "Correctly estimated churn predictions: 0.561\n",
      "Correctly estimated non-churn predictions: 0.875\n"
     ]
    }
   ],
   "source": [
    "churn_correct = 215/(168+215)\n",
    "non_churn_correct = 898/(128+898)\n",
    "print(f\"Correctly estimated churn predictions: {churn_correct:.3f}\")\n",
    "print(f\"Correctly estimated non-churn predictions: {non_churn_correct:.3f}\")"
   ]
  },
  {
   "cell_type": "markdown",
   "id": "6d6d7bb4",
   "metadata": {},
   "source": [
    "The model has difficulties in prediciting churn, only getting slightly more than half of the predictions right. This is problematic as it is the value of most interest for the company"
   ]
  },
  {
   "cell_type": "markdown",
   "id": "533a630b",
   "metadata": {},
   "source": [
    "# Using the DMatrix and xgb.train method results in the best accuracy with default values compared to the other methods and is explored further.\n",
    "\n",
    "This does not imporve the prediction of churn but it does improve the overall accuracy"
   ]
  },
  {
   "cell_type": "code",
   "execution_count": 265,
   "id": "62195a9c",
   "metadata": {},
   "outputs": [],
   "source": [
    "X_train_modified = X_train.copy()\n",
    "X_test_modified = X_test.copy()"
   ]
  },
  {
   "cell_type": "markdown",
   "id": "fc7f0511",
   "metadata": {},
   "source": [
    "# Dropping least important feature, PhoneService"
   ]
  },
  {
   "cell_type": "code",
   "execution_count": 266,
   "id": "f710189c",
   "metadata": {},
   "outputs": [],
   "source": [
    "X_train_modified = X_train_modified.drop(columns = ['PhoneService'])"
   ]
  },
  {
   "cell_type": "code",
   "execution_count": 267,
   "id": "0c3629e1",
   "metadata": {},
   "outputs": [],
   "source": [
    "X_test_modified = X_test_modified.drop(columns = ['PhoneService'])"
   ]
  },
  {
   "cell_type": "code",
   "execution_count": 268,
   "id": "219bf29f",
   "metadata": {},
   "outputs": [],
   "source": [
    "m_Xd_train_mod = xgb.DMatrix(data = X_train_modified,label = y_train, enable_categorical = \"True\")"
   ]
  },
  {
   "cell_type": "code",
   "execution_count": 269,
   "id": "729376bb",
   "metadata": {},
   "outputs": [],
   "source": [
    "m_Xd_test_mod = xgb.DMatrix(data = X_test_modified,label = y_test, enable_categorical = \"True\")"
   ]
  },
  {
   "cell_type": "markdown",
   "id": "64c6d23d",
   "metadata": {},
   "source": [
    "## By setting the learning_rate to 0.2 the overall accuracy is increased"
   ]
  },
  {
   "cell_type": "code",
   "execution_count": 310,
   "id": "9845d594",
   "metadata": {},
   "outputs": [
    {
     "name": "stdout",
     "output_type": "stream",
     "text": [
      "[14:33:56] WARNING: ..\\src\\learner.cc:1115: Starting in XGBoost 1.3.0, the default evaluation metric used with the objective 'multi:softmax' was changed from 'merror' to 'mlogloss'. Explicitly set eval_metric if you'd like to restore the old behavior.\n"
     ]
    }
   ],
   "source": [
    "bst_clf_mod = xgb.train(params = {'max_depth':10,'objective':'multi:softmax', 'num_class':3, 'learning_rate':0.2}, dtrain = m_Xd_train_mod)"
   ]
  },
  {
   "cell_type": "code",
   "execution_count": 311,
   "id": "5f892e49",
   "metadata": {},
   "outputs": [],
   "source": [
    "predictions = bst_clf_mod.predict(m_Xd_test_mod)"
   ]
  },
  {
   "cell_type": "code",
   "execution_count": 312,
   "id": "e78298b9",
   "metadata": {},
   "outputs": [
    {
     "data": {
      "text/plain": [
       "0.7998580553584103"
      ]
     },
     "execution_count": 312,
     "metadata": {},
     "output_type": "execute_result"
    }
   ],
   "source": [
    "accuracy_score(y_test, predictions)"
   ]
  },
  {
   "cell_type": "code",
   "execution_count": 293,
   "id": "e401d8fc",
   "metadata": {
    "scrolled": false
   },
   "outputs": [
    {
     "data": {
      "image/png": "[encoded data removed]",
      "text/plain": [
       "<Figure size 432x288 with 2 Axes>"
      ]
     },
     "metadata": {
      "needs_background": "light"
     },
     "output_type": "display_data"
    }
   ],
   "source": [
    "cm_xgb = confusion_matrix(y_test,predictions)\n",
    "\n",
    "cm_display = ConfusionMatrixDisplay(cm_xgb)\n",
    "cm_display.plot();"
   ]
  },
  {
   "cell_type": "code",
   "execution_count": 55,
   "id": "6fe16ea1",
   "metadata": {},
   "outputs": [
    {
     "name": "stdout",
     "output_type": "stream",
     "text": [
      "{'gender': 199.0, 'SeniorCitizen': 117.0, 'Partner': 152.0, 'Dependents': 112.0, 'tenure': 718.0, 'MultipleLines': 123.0, 'InternetService': 40.0, 'OnlineSecurity': 79.0, 'OnlineBackup': 130.0, 'DeviceProtection': 102.0, 'TechSupport': 63.0, 'StreamingTV': 86.0, 'StreamingMovies': 78.0, 'Contract': 56.0, 'PaperlessBilling': 157.0, 'PaymentMethod': 276.0, 'MonthlyCharges': 1385.0, 'TotalCharges': 1090.0}\n"
     ]
    },
    {
     "data": {
      "text/html": [
       "<div>\n",
       "<style scoped>\n",
       "    .dataframe tbody tr th:only-of-type {\n",
       "        vertical-align: middle;\n",
       "    }\n",
       "\n",
       "    .dataframe tbody tr th {\n",
       "        vertical-align: top;\n",
       "    }\n",
       "\n",
       "    .dataframe thead th {\n",
       "        text-align: right;\n",
       "    }\n",
       "</style>\n",
       "<table border=\"1\" class=\"dataframe\">\n",
       "  <thead>\n",
       "    <tr style=\"text-align: right;\">\n",
       "      <th></th>\n",
       "      <th>Feature Importance</th>\n",
       "    </tr>\n",
       "  </thead>\n",
       "  <tbody>\n",
       "    <tr>\n",
       "      <th>MonthlyCharges</th>\n",
       "      <td>1385.0</td>\n",
       "    </tr>\n",
       "    <tr>\n",
       "      <th>TotalCharges</th>\n",
       "      <td>1090.0</td>\n",
       "    </tr>\n",
       "    <tr>\n",
       "      <th>tenure</th>\n",
       "      <td>718.0</td>\n",
       "    </tr>\n",
       "    <tr>\n",
       "      <th>PaymentMethod</th>\n",
       "      <td>276.0</td>\n",
       "    </tr>\n",
       "    <tr>\n",
       "      <th>gender</th>\n",
       "      <td>199.0</td>\n",
       "    </tr>\n",
       "    <tr>\n",
       "      <th>PaperlessBilling</th>\n",
       "      <td>157.0</td>\n",
       "    </tr>\n",
       "    <tr>\n",
       "      <th>Partner</th>\n",
       "      <td>152.0</td>\n",
       "    </tr>\n",
       "    <tr>\n",
       "      <th>OnlineBackup</th>\n",
       "      <td>130.0</td>\n",
       "    </tr>\n",
       "    <tr>\n",
       "      <th>MultipleLines</th>\n",
       "      <td>123.0</td>\n",
       "    </tr>\n",
       "    <tr>\n",
       "      <th>SeniorCitizen</th>\n",
       "      <td>117.0</td>\n",
       "    </tr>\n",
       "    <tr>\n",
       "      <th>Dependents</th>\n",
       "      <td>112.0</td>\n",
       "    </tr>\n",
       "    <tr>\n",
       "      <th>DeviceProtection</th>\n",
       "      <td>102.0</td>\n",
       "    </tr>\n",
       "    <tr>\n",
       "      <th>StreamingTV</th>\n",
       "      <td>86.0</td>\n",
       "    </tr>\n",
       "    <tr>\n",
       "      <th>OnlineSecurity</th>\n",
       "      <td>79.0</td>\n",
       "    </tr>\n",
       "    <tr>\n",
       "      <th>StreamingMovies</th>\n",
       "      <td>78.0</td>\n",
       "    </tr>\n",
       "    <tr>\n",
       "      <th>TechSupport</th>\n",
       "      <td>63.0</td>\n",
       "    </tr>\n",
       "    <tr>\n",
       "      <th>Contract</th>\n",
       "      <td>56.0</td>\n",
       "    </tr>\n",
       "    <tr>\n",
       "      <th>InternetService</th>\n",
       "      <td>40.0</td>\n",
       "    </tr>\n",
       "  </tbody>\n",
       "</table>\n",
       "</div>"
      ],
      "text/plain": [
       "                  Feature Importance\n",
       "MonthlyCharges                1385.0\n",
       "TotalCharges                  1090.0\n",
       "tenure                         718.0\n",
       "PaymentMethod                  276.0\n",
       "gender                         199.0\n",
       "PaperlessBilling               157.0\n",
       "Partner                        152.0\n",
       "OnlineBackup                   130.0\n",
       "MultipleLines                  123.0\n",
       "SeniorCitizen                  117.0\n",
       "Dependents                     112.0\n",
       "DeviceProtection               102.0\n",
       "StreamingTV                     86.0\n",
       "OnlineSecurity                  79.0\n",
       "StreamingMovies                 78.0\n",
       "TechSupport                     63.0\n",
       "Contract                        56.0\n",
       "InternetService                 40.0"
      ]
     },
     "execution_count": 55,
     "metadata": {},
     "output_type": "execute_result"
    }
   ],
   "source": [
    "feature_score = bst_clf_mod.get_fscore()\n",
    "print(feature_score)\n",
    "\n",
    "feature_list = list(feature_score.items())\n",
    "\n",
    "sorted_list = sorted(feature_list, key=itemgetter(1), reverse = True)\n",
    "headers = []\n",
    "values = []\n",
    "for i in range(len(sorted_list)):\n",
    "    headers.append(sorted_list[i][0])\n",
    "    values.append(sorted_list[i][1])\n",
    "test_df = pd.DataFrame( columns = [headers])\n",
    "test_df.loc[0] = values\n",
    "t_df = test_df.transpose()\n",
    "t_df.columns = ['Feature Importance']\n",
    "t_df"
   ]
  },
  {
   "cell_type": "markdown",
   "id": "ee72d423",
   "metadata": {},
   "source": [
    "# Dropping the 3x worst, PhoneService, contract and internetservice results in a worse score."
   ]
  },
  {
   "cell_type": "code",
   "execution_count": 246,
   "id": "3d98e4fa",
   "metadata": {},
   "outputs": [],
   "source": [
    "X_train_3xWorst = X_train.copy()\n",
    "X_test_3xWorst = X_test.copy()"
   ]
  },
  {
   "cell_type": "code",
   "execution_count": 247,
   "id": "d2d11dae",
   "metadata": {},
   "outputs": [],
   "source": [
    "X_train_3xWorst = X_train_3xWorst.drop(columns = ['PhoneService','Contract','InternetService'])"
   ]
  },
  {
   "cell_type": "code",
   "execution_count": 248,
   "id": "e0a16fef",
   "metadata": {},
   "outputs": [],
   "source": [
    "X_test_3xWorst = X_test_3xWorst.drop(columns = ['PhoneService','Contract','InternetService'])"
   ]
  },
  {
   "cell_type": "code",
   "execution_count": 249,
   "id": "2f0a631f",
   "metadata": {},
   "outputs": [],
   "source": [
    "m_Xd_train_3xWorst = xgb.DMatrix(data = X_train_3xWorst,label = y_train, enable_categorical = \"True\")"
   ]
  },
  {
   "cell_type": "code",
   "execution_count": 250,
   "id": "fe5e1ffa",
   "metadata": {},
   "outputs": [],
   "source": [
    "m_Xd_test_3xWorst = xgb.DMatrix(data = X_test_3xWorst,label = y_test, enable_categorical = \"True\")"
   ]
  },
  {
   "cell_type": "code",
   "execution_count": 261,
   "id": "3e09f75e",
   "metadata": {
    "scrolled": true
   },
   "outputs": [
    {
     "name": "stdout",
     "output_type": "stream",
     "text": [
      "[13:11:54] WARNING: ..\\src\\learner.cc:1115: Starting in XGBoost 1.3.0, the default evaluation metric used with the objective 'multi:softmax' was changed from 'merror' to 'mlogloss'. Explicitly set eval_metric if you'd like to restore the old behavior.\n"
     ]
    }
   ],
   "source": [
    "bst_clf_3xWorst = xgb.train(params = {'max_depth':10,'objective':'multi:softmax', 'num_class':3, 'max_depth':20, 'learning_rate':0.2}, dtrain = m_Xd_train_3xWorst)"
   ]
  },
  {
   "cell_type": "code",
   "execution_count": 262,
   "id": "896e8b36",
   "metadata": {},
   "outputs": [],
   "source": [
    "predictions_3xWorst = bst_clf_3xWorst.predict(m_Xd_test_3xWorst)"
   ]
  },
  {
   "cell_type": "code",
   "execution_count": 263,
   "id": "58714c0f",
   "metadata": {},
   "outputs": [
    {
     "data": {
      "text/plain": [
       "0.7785663591199432"
      ]
     },
     "execution_count": 263,
     "metadata": {},
     "output_type": "execute_result"
    }
   ],
   "source": [
    "accuracy_score(y_test, predictions_3xWorst)"
   ]
  },
  {
   "cell_type": "markdown",
   "id": "fa832df4",
   "metadata": {},
   "source": [
    "# Dropping the previously mentioned attributes: Partner, PaperlessBilling, PaymentMethod, Dependents\n",
    "\n",
    "This results in a worse score than just dropping the PhoneService"
   ]
  },
  {
   "cell_type": "code",
   "execution_count": 198,
   "id": "023267c1",
   "metadata": {},
   "outputs": [],
   "source": [
    "X_train_dropped = X_train.copy()\n",
    "X_test_dropped = X_test.copy()"
   ]
  },
  {
   "cell_type": "code",
   "execution_count": 199,
   "id": "c7b25d8a",
   "metadata": {},
   "outputs": [],
   "source": [
    "X_test_dropped = X_test_dropped.drop(columns = ['Partner', 'PaperlessBilling', 'PaymentMethod', 'Dependents'])"
   ]
  },
  {
   "cell_type": "code",
   "execution_count": 200,
   "id": "6b9b342a",
   "metadata": {},
   "outputs": [],
   "source": [
    "X_train_dropped = X_train_dropped.drop(columns = ['Partner', 'PaperlessBilling', 'PaymentMethod', 'Dependents'])"
   ]
  },
  {
   "cell_type": "code",
   "execution_count": 204,
   "id": "11ec0248",
   "metadata": {},
   "outputs": [],
   "source": [
    "m_Xd_train_dropped = xgb.DMatrix(data = X_train_dropped,label = y_train, enable_categorical = \"True\")"
   ]
  },
  {
   "cell_type": "code",
   "execution_count": 205,
   "id": "32dc89b3",
   "metadata": {},
   "outputs": [],
   "source": [
    "m_Xd_test_dropped = xgb.DMatrix(data = X_test_dropped,label = y_test, enable_categorical = \"True\")"
   ]
  },
  {
   "cell_type": "code",
   "execution_count": 206,
   "id": "b96c6278",
   "metadata": {
    "scrolled": true
   },
   "outputs": [
    {
     "name": "stdout",
     "output_type": "stream",
     "text": [
      "[13:03:46] WARNING: ..\\src\\learner.cc:1115: Starting in XGBoost 1.3.0, the default evaluation metric used with the objective 'multi:softmax' was changed from 'merror' to 'mlogloss'. Explicitly set eval_metric if you'd like to restore the old behavior.\n"
     ]
    }
   ],
   "source": [
    "bst_clf_dropped = xgb.train(params = {'max_depth':10,'objective':'multi:softmax', 'num_class':3}, dtrain = m_Xd_train_dropped)"
   ]
  },
  {
   "cell_type": "code",
   "execution_count": 212,
   "id": "8cc81353",
   "metadata": {},
   "outputs": [],
   "source": [
    "predictions_dropped = bst_clf_dropped.predict(m_Xd_test_dropped)"
   ]
  },
  {
   "cell_type": "code",
   "execution_count": 211,
   "id": "d9ea399e",
   "metadata": {
    "scrolled": true
   },
   "outputs": [
    {
     "data": {
      "text/plain": [
       "0.7835344215755855"
      ]
     },
     "execution_count": 211,
     "metadata": {},
     "output_type": "execute_result"
    }
   ],
   "source": [
    "accuracy_score(y_test, predictions)"
   ]
  },
  {
   "cell_type": "code",
   "execution_count": 224,
   "id": "d0536e89",
   "metadata": {},
   "outputs": [
    {
     "data": {
      "image/png": "[encoded data removed]",
      "text/plain": [
       "<Figure size 432x288 with 2 Axes>"
      ]
     },
     "metadata": {
      "needs_background": "light"
     },
     "output_type": "display_data"
    }
   ],
   "source": [
    "cm_xgb = confusion_matrix(y_test,predictions_dropped)\n",
    "\n",
    "cm_display = ConfusionMatrixDisplay(cm_xgb)\n",
    "cm_display.plot();"
   ]
  },
  {
   "cell_type": "markdown",
   "id": "bc1825cf",
   "metadata": {},
   "source": [
    "# Testing with the 3x most important features:"
   ]
  },
  {
   "cell_type": "code",
   "execution_count": 192,
   "id": "79c5e1f5",
   "metadata": {},
   "outputs": [],
   "source": [
    "X_train_important = X_train.copy()\n",
    "X_test_important = X_test.copy()"
   ]
  },
  {
   "cell_type": "code",
   "execution_count": 193,
   "id": "58999f29",
   "metadata": {},
   "outputs": [],
   "source": [
    "X_train_3_important = X_train_important[[\"MonthlyCharges\",\"TotalCharges\",\"tenure\"]].copy()\n",
    "X_test_3_important = X_test_important[[\"MonthlyCharges\",\"TotalCharges\",\"tenure\"]].copy()"
   ]
  },
  {
   "cell_type": "code",
   "execution_count": 194,
   "id": "4156512e",
   "metadata": {},
   "outputs": [],
   "source": [
    "m_Xd_train_3_important = xgb.DMatrix(data = X_train_3_important,label = y_train, enable_categorical = \"True\")"
   ]
  },
  {
   "cell_type": "code",
   "execution_count": 195,
   "id": "bfce6e3b",
   "metadata": {},
   "outputs": [],
   "source": [
    "m_Xd_test_3_important = xgb.DMatrix(data = X_test_3_important,label = y_test, enable_categorical = \"True\")"
   ]
  },
  {
   "cell_type": "code",
   "execution_count": 196,
   "id": "995cfac7",
   "metadata": {},
   "outputs": [
    {
     "name": "stdout",
     "output_type": "stream",
     "text": [
      "[13:01:33] WARNING: ..\\src\\learner.cc:1115: Starting in XGBoost 1.3.0, the default evaluation metric used with the objective 'multi:softmax' was changed from 'merror' to 'mlogloss'. Explicitly set eval_metric if you'd like to restore the old behavior.\n"
     ]
    }
   ],
   "source": [
    "bst_clf_3_importan = xgb.train(params = {'max_depth':10,'objective':'multi:softmax', 'num_class':3}, dtrain = m_Xd_train_3_important)"
   ]
  },
  {
   "cell_type": "code",
   "execution_count": 197,
   "id": "b2f8ac73",
   "metadata": {},
   "outputs": [],
   "source": [
    "predictions = bst_clf_3_importan.predict(m_Xd_test_3_important)"
   ]
  },
  {
   "cell_type": "markdown",
   "id": "b9193705",
   "metadata": {},
   "source": [
    "## Results in a worse score..."
   ]
  },
  {
   "cell_type": "code",
   "execution_count": 62,
   "id": "04b50f90",
   "metadata": {
    "scrolled": true
   },
   "outputs": [
    {
     "data": {
      "text/plain": [
       "0.772888573456352"
      ]
     },
     "execution_count": 62,
     "metadata": {},
     "output_type": "execute_result"
    }
   ],
   "source": [
    "accuracy_score(y_test, predictions)"
   ]
  },
  {
   "cell_type": "code",
   "execution_count": 63,
   "id": "b6f49cca",
   "metadata": {},
   "outputs": [
    {
     "name": "stdout",
     "output_type": "stream",
     "text": [
      "{'MonthlyCharges': 1811.0, 'TotalCharges': 1743.0, 'tenure': 421.0}\n"
     ]
    },
    {
     "data": {
      "text/html": [
       "<div>\n",
       "<style scoped>\n",
       "    .dataframe tbody tr th:only-of-type {\n",
       "        vertical-align: middle;\n",
       "    }\n",
       "\n",
       "    .dataframe tbody tr th {\n",
       "        vertical-align: top;\n",
       "    }\n",
       "\n",
       "    .dataframe thead th {\n",
       "        text-align: right;\n",
       "    }\n",
       "</style>\n",
       "<table border=\"1\" class=\"dataframe\">\n",
       "  <thead>\n",
       "    <tr style=\"text-align: right;\">\n",
       "      <th></th>\n",
       "      <th>Feature Importance</th>\n",
       "    </tr>\n",
       "  </thead>\n",
       "  <tbody>\n",
       "    <tr>\n",
       "      <th>MonthlyCharges</th>\n",
       "      <td>1811.0</td>\n",
       "    </tr>\n",
       "    <tr>\n",
       "      <th>TotalCharges</th>\n",
       "      <td>1743.0</td>\n",
       "    </tr>\n",
       "    <tr>\n",
       "      <th>tenure</th>\n",
       "      <td>421.0</td>\n",
       "    </tr>\n",
       "  </tbody>\n",
       "</table>\n",
       "</div>"
      ],
      "text/plain": [
       "                Feature Importance\n",
       "MonthlyCharges              1811.0\n",
       "TotalCharges                1743.0\n",
       "tenure                       421.0"
      ]
     },
     "execution_count": 63,
     "metadata": {},
     "output_type": "execute_result"
    }
   ],
   "source": [
    "feature_score_3 = bst_clf_3_importan.get_fscore()\n",
    "print(feature_score_3)\n",
    "\n",
    "feature_list_3 = list(feature_score_3.items())\n",
    "\n",
    "sorted_list = sorted(feature_list_3, key=itemgetter(1), reverse = True)\n",
    "headers = []\n",
    "values = []\n",
    "for i in range(len(sorted_list)):\n",
    "    headers.append(sorted_list[i][0])\n",
    "    values.append(sorted_list[i][1])\n",
    "test_df = pd.DataFrame( columns = [headers])\n",
    "test_df.loc[0] = values\n",
    "t_df = test_df.transpose()\n",
    "t_df.columns = ['Feature Importance']\n",
    "t_df"
   ]
  },
  {
   "cell_type": "markdown",
   "id": "b4990146",
   "metadata": {},
   "source": [
    "# SCI-Kit learn method.\n",
    "\n",
    "Cannot used categories as inputs for this method"
   ]
  },
  {
   "cell_type": "code",
   "execution_count": 64,
   "id": "e3290d55",
   "metadata": {},
   "outputs": [],
   "source": [
    "df_test = pd.read_csv('../../Datasets/churn_test.csv')\n",
    "df_train = pd.read_csv('../../Datasets/churn_train.csv')"
   ]
  },
  {
   "cell_type": "code",
   "execution_count": 65,
   "id": "28d6fd50",
   "metadata": {
    "scrolled": true
   },
   "outputs": [
    {
     "data": {
      "text/plain": [
       "0       Yes\n",
       "1        No\n",
       "2        No\n",
       "3        No\n",
       "4        No\n",
       "       ... \n",
       "5629     No\n",
       "5630     No\n",
       "5631     No\n",
       "5632    Yes\n",
       "5633     No\n",
       "Name: Churn, Length: 5634, dtype: object"
      ]
     },
     "execution_count": 65,
     "metadata": {},
     "output_type": "execute_result"
    }
   ],
   "source": [
    "X_test_SC = df_test.drop(columns = ['Churn'])\n",
    "X_train_SC = df_train.drop(columns = ['Churn'])\n",
    "\n",
    "\n",
    "y_test_SC = df_test['Churn']\n",
    "y_train_SC = df_train['Churn']\n",
    "y_train_SC"
   ]
  },
  {
   "cell_type": "code",
   "execution_count": 66,
   "id": "c6210c1e",
   "metadata": {},
   "outputs": [],
   "source": [
    "le_SC = LabelEncoder()"
   ]
  },
  {
   "cell_type": "markdown",
   "id": "7447f7bd",
   "metadata": {},
   "source": [
    "## Giving labels to output"
   ]
  },
  {
   "cell_type": "code",
   "execution_count": 67,
   "id": "8dba7881",
   "metadata": {},
   "outputs": [],
   "source": [
    "y_test_SC_LE = le_SC.fit_transform(y_test_SC)\n",
    "y_train_SC_LE = le_SC.fit_transform(y_train_SC)"
   ]
  },
  {
   "cell_type": "markdown",
   "id": "e1789af3",
   "metadata": {},
   "source": [
    "## Labeling and cleaning data\n",
    "\n",
    "CustomerID can be dropped. Object values are converted to labeled data."
   ]
  },
  {
   "cell_type": "code",
   "execution_count": 68,
   "id": "99ebbcfd",
   "metadata": {
    "scrolled": true
   },
   "outputs": [
    {
     "data": {
      "text/plain": [
       "customerID           object\n",
       "gender               object\n",
       "SeniorCitizen         int64\n",
       "Partner              object\n",
       "Dependents           object\n",
       "tenure                int64\n",
       "PhoneService         object\n",
       "MultipleLines        object\n",
       "InternetService      object\n",
       "OnlineSecurity       object\n",
       "OnlineBackup         object\n",
       "DeviceProtection     object\n",
       "TechSupport          object\n",
       "StreamingTV          object\n",
       "StreamingMovies      object\n",
       "Contract             object\n",
       "PaperlessBilling     object\n",
       "PaymentMethod        object\n",
       "MonthlyCharges      float64\n",
       "TotalCharges         object\n",
       "dtype: object"
      ]
     },
     "execution_count": 68,
     "metadata": {},
     "output_type": "execute_result"
    }
   ],
   "source": [
    "X_test_SC.dtypes"
   ]
  },
  {
   "cell_type": "code",
   "execution_count": 69,
   "id": "d4326597",
   "metadata": {},
   "outputs": [],
   "source": [
    "X_test_SC = X_test_SC.drop(columns = ['customerID'])"
   ]
  },
  {
   "cell_type": "code",
   "execution_count": 70,
   "id": "274ed4a7",
   "metadata": {},
   "outputs": [],
   "source": [
    "X_train_SC = X_train_SC.drop(columns = ['customerID'])"
   ]
  },
  {
   "cell_type": "code",
   "execution_count": 71,
   "id": "961a1686",
   "metadata": {
    "scrolled": true
   },
   "outputs": [
    {
     "data": {
      "text/html": [
       "<div>\n",
       "<style scoped>\n",
       "    .dataframe tbody tr th:only-of-type {\n",
       "        vertical-align: middle;\n",
       "    }\n",
       "\n",
       "    .dataframe tbody tr th {\n",
       "        vertical-align: top;\n",
       "    }\n",
       "\n",
       "    .dataframe thead th {\n",
       "        text-align: right;\n",
       "    }\n",
       "</style>\n",
       "<table border=\"1\" class=\"dataframe\">\n",
       "  <thead>\n",
       "    <tr style=\"text-align: right;\">\n",
       "      <th></th>\n",
       "      <th>gender</th>\n",
       "      <th>SeniorCitizen</th>\n",
       "      <th>Partner</th>\n",
       "      <th>Dependents</th>\n",
       "      <th>tenure</th>\n",
       "      <th>PhoneService</th>\n",
       "      <th>MultipleLines</th>\n",
       "      <th>InternetService</th>\n",
       "      <th>OnlineSecurity</th>\n",
       "      <th>OnlineBackup</th>\n",
       "      <th>DeviceProtection</th>\n",
       "      <th>TechSupport</th>\n",
       "      <th>StreamingTV</th>\n",
       "      <th>StreamingMovies</th>\n",
       "      <th>Contract</th>\n",
       "      <th>PaperlessBilling</th>\n",
       "      <th>PaymentMethod</th>\n",
       "      <th>MonthlyCharges</th>\n",
       "      <th>TotalCharges</th>\n",
       "    </tr>\n",
       "  </thead>\n",
       "  <tbody>\n",
       "    <tr>\n",
       "      <th>0</th>\n",
       "      <td>0</td>\n",
       "      <td>0</td>\n",
       "      <td>1</td>\n",
       "      <td>1</td>\n",
       "      <td>3</td>\n",
       "      <td>0</td>\n",
       "      <td>1</td>\n",
       "      <td>0</td>\n",
       "      <td>0</td>\n",
       "      <td>2</td>\n",
       "      <td>0</td>\n",
       "      <td>0</td>\n",
       "      <td>0</td>\n",
       "      <td>2</td>\n",
       "      <td>0</td>\n",
       "      <td>0</td>\n",
       "      <td>3</td>\n",
       "      <td>131</td>\n",
       "      <td>1347</td>\n",
       "    </tr>\n",
       "    <tr>\n",
       "      <th>1</th>\n",
       "      <td>1</td>\n",
       "      <td>0</td>\n",
       "      <td>0</td>\n",
       "      <td>0</td>\n",
       "      <td>42</td>\n",
       "      <td>1</td>\n",
       "      <td>2</td>\n",
       "      <td>1</td>\n",
       "      <td>0</td>\n",
       "      <td>2</td>\n",
       "      <td>0</td>\n",
       "      <td>0</td>\n",
       "      <td>2</td>\n",
       "      <td>2</td>\n",
       "      <td>0</td>\n",
       "      <td>1</td>\n",
       "      <td>2</td>\n",
       "      <td>696</td>\n",
       "      <td>761</td>\n",
       "    </tr>\n",
       "    <tr>\n",
       "      <th>2</th>\n",
       "      <td>1</td>\n",
       "      <td>0</td>\n",
       "      <td>1</td>\n",
       "      <td>1</td>\n",
       "      <td>43</td>\n",
       "      <td>1</td>\n",
       "      <td>2</td>\n",
       "      <td>1</td>\n",
       "      <td>0</td>\n",
       "      <td>0</td>\n",
       "      <td>2</td>\n",
       "      <td>2</td>\n",
       "      <td>2</td>\n",
       "      <td>2</td>\n",
       "      <td>1</td>\n",
       "      <td>1</td>\n",
       "      <td>1</td>\n",
       "      <td>718</td>\n",
       "      <td>794</td>\n",
       "    </tr>\n",
       "    <tr>\n",
       "      <th>3</th>\n",
       "      <td>0</td>\n",
       "      <td>1</td>\n",
       "      <td>0</td>\n",
       "      <td>0</td>\n",
       "      <td>1</td>\n",
       "      <td>1</td>\n",
       "      <td>0</td>\n",
       "      <td>1</td>\n",
       "      <td>0</td>\n",
       "      <td>0</td>\n",
       "      <td>0</td>\n",
       "      <td>0</td>\n",
       "      <td>0</td>\n",
       "      <td>0</td>\n",
       "      <td>0</td>\n",
       "      <td>1</td>\n",
       "      <td>3</td>\n",
       "      <td>366</td>\n",
       "      <td>1160</td>\n",
       "    </tr>\n",
       "    <tr>\n",
       "      <th>4</th>\n",
       "      <td>0</td>\n",
       "      <td>0</td>\n",
       "      <td>0</td>\n",
       "      <td>0</td>\n",
       "      <td>9</td>\n",
       "      <td>1</td>\n",
       "      <td>0</td>\n",
       "      <td>0</td>\n",
       "      <td>0</td>\n",
       "      <td>0</td>\n",
       "      <td>0</td>\n",
       "      <td>0</td>\n",
       "      <td>0</td>\n",
       "      <td>0</td>\n",
       "      <td>0</td>\n",
       "      <td>1</td>\n",
       "      <td>0</td>\n",
       "      <td>143</td>\n",
       "      <td>722</td>\n",
       "    </tr>\n",
       "    <tr>\n",
       "      <th>...</th>\n",
       "      <td>...</td>\n",
       "      <td>...</td>\n",
       "      <td>...</td>\n",
       "      <td>...</td>\n",
       "      <td>...</td>\n",
       "      <td>...</td>\n",
       "      <td>...</td>\n",
       "      <td>...</td>\n",
       "      <td>...</td>\n",
       "      <td>...</td>\n",
       "      <td>...</td>\n",
       "      <td>...</td>\n",
       "      <td>...</td>\n",
       "      <td>...</td>\n",
       "      <td>...</td>\n",
       "      <td>...</td>\n",
       "      <td>...</td>\n",
       "      <td>...</td>\n",
       "      <td>...</td>\n",
       "    </tr>\n",
       "    <tr>\n",
       "      <th>1404</th>\n",
       "      <td>1</td>\n",
       "      <td>0</td>\n",
       "      <td>0</td>\n",
       "      <td>0</td>\n",
       "      <td>25</td>\n",
       "      <td>1</td>\n",
       "      <td>0</td>\n",
       "      <td>1</td>\n",
       "      <td>2</td>\n",
       "      <td>0</td>\n",
       "      <td>2</td>\n",
       "      <td>2</td>\n",
       "      <td>2</td>\n",
       "      <td>2</td>\n",
       "      <td>0</td>\n",
       "      <td>1</td>\n",
       "      <td>2</td>\n",
       "      <td>735</td>\n",
       "      <td>501</td>\n",
       "    </tr>\n",
       "    <tr>\n",
       "      <th>1405</th>\n",
       "      <td>0</td>\n",
       "      <td>0</td>\n",
       "      <td>1</td>\n",
       "      <td>1</td>\n",
       "      <td>45</td>\n",
       "      <td>0</td>\n",
       "      <td>1</td>\n",
       "      <td>0</td>\n",
       "      <td>2</td>\n",
       "      <td>0</td>\n",
       "      <td>0</td>\n",
       "      <td>0</td>\n",
       "      <td>2</td>\n",
       "      <td>2</td>\n",
       "      <td>0</td>\n",
       "      <td>1</td>\n",
       "      <td>0</td>\n",
       "      <td>208</td>\n",
       "      <td>421</td>\n",
       "    </tr>\n",
       "    <tr>\n",
       "      <th>1406</th>\n",
       "      <td>1</td>\n",
       "      <td>0</td>\n",
       "      <td>0</td>\n",
       "      <td>0</td>\n",
       "      <td>10</td>\n",
       "      <td>1</td>\n",
       "      <td>0</td>\n",
       "      <td>0</td>\n",
       "      <td>0</td>\n",
       "      <td>0</td>\n",
       "      <td>0</td>\n",
       "      <td>0</td>\n",
       "      <td>0</td>\n",
       "      <td>0</td>\n",
       "      <td>0</td>\n",
       "      <td>1</td>\n",
       "      <td>2</td>\n",
       "      <td>159</td>\n",
       "      <td>720</td>\n",
       "    </tr>\n",
       "    <tr>\n",
       "      <th>1407</th>\n",
       "      <td>1</td>\n",
       "      <td>0</td>\n",
       "      <td>1</td>\n",
       "      <td>1</td>\n",
       "      <td>38</td>\n",
       "      <td>1</td>\n",
       "      <td>2</td>\n",
       "      <td>0</td>\n",
       "      <td>0</td>\n",
       "      <td>2</td>\n",
       "      <td>2</td>\n",
       "      <td>0</td>\n",
       "      <td>2</td>\n",
       "      <td>2</td>\n",
       "      <td>1</td>\n",
       "      <td>0</td>\n",
       "      <td>1</td>\n",
       "      <td>439</td>\n",
       "      <td>524</td>\n",
       "    </tr>\n",
       "    <tr>\n",
       "      <th>1408</th>\n",
       "      <td>0</td>\n",
       "      <td>1</td>\n",
       "      <td>0</td>\n",
       "      <td>0</td>\n",
       "      <td>41</td>\n",
       "      <td>1</td>\n",
       "      <td>2</td>\n",
       "      <td>1</td>\n",
       "      <td>0</td>\n",
       "      <td>2</td>\n",
       "      <td>2</td>\n",
       "      <td>0</td>\n",
       "      <td>2</td>\n",
       "      <td>2</td>\n",
       "      <td>0</td>\n",
       "      <td>1</td>\n",
       "      <td>2</td>\n",
       "      <td>720</td>\n",
       "      <td>740</td>\n",
       "    </tr>\n",
       "  </tbody>\n",
       "</table>\n",
       "<p>1409 rows × 19 columns</p>\n",
       "</div>"
      ],
      "text/plain": [
       "      gender  SeniorCitizen  Partner  Dependents  tenure  PhoneService  \\\n",
       "0          0              0        1           1       3             0   \n",
       "1          1              0        0           0      42             1   \n",
       "2          1              0        1           1      43             1   \n",
       "3          0              1        0           0       1             1   \n",
       "4          0              0        0           0       9             1   \n",
       "...      ...            ...      ...         ...     ...           ...   \n",
       "1404       1              0        0           0      25             1   \n",
       "1405       0              0        1           1      45             0   \n",
       "1406       1              0        0           0      10             1   \n",
       "1407       1              0        1           1      38             1   \n",
       "1408       0              1        0           0      41             1   \n",
       "\n",
       "      MultipleLines  InternetService  OnlineSecurity  OnlineBackup  \\\n",
       "0                 1                0               0             2   \n",
       "1                 2                1               0             2   \n",
       "2                 2                1               0             0   \n",
       "3                 0                1               0             0   \n",
       "4                 0                0               0             0   \n",
       "...             ...              ...             ...           ...   \n",
       "1404              0                1               2             0   \n",
       "1405              1                0               2             0   \n",
       "1406              0                0               0             0   \n",
       "1407              2                0               0             2   \n",
       "1408              2                1               0             2   \n",
       "\n",
       "      DeviceProtection  TechSupport  StreamingTV  StreamingMovies  Contract  \\\n",
       "0                    0            0            0                2         0   \n",
       "1                    0            0            2                2         0   \n",
       "2                    2            2            2                2         1   \n",
       "3                    0            0            0                0         0   \n",
       "4                    0            0            0                0         0   \n",
       "...                ...          ...          ...              ...       ...   \n",
       "1404                 2            2            2                2         0   \n",
       "1405                 0            0            2                2         0   \n",
       "1406                 0            0            0                0         0   \n",
       "1407                 2            0            2                2         1   \n",
       "1408                 2            0            2                2         0   \n",
       "\n",
       "      PaperlessBilling  PaymentMethod  MonthlyCharges  TotalCharges  \n",
       "0                    0              3             131          1347  \n",
       "1                    1              2             696           761  \n",
       "2                    1              1             718           794  \n",
       "3                    1              3             366          1160  \n",
       "4                    1              0             143           722  \n",
       "...                ...            ...             ...           ...  \n",
       "1404                 1              2             735           501  \n",
       "1405                 1              0             208           421  \n",
       "1406                 1              2             159           720  \n",
       "1407                 0              1             439           524  \n",
       "1408                 1              2             720           740  \n",
       "\n",
       "[1409 rows x 19 columns]"
      ]
     },
     "execution_count": 71,
     "metadata": {},
     "output_type": "execute_result"
    }
   ],
   "source": [
    "X_columns = list(X_test_SC)\n",
    "X_test_SC_LE = X_test_SC.copy()\n",
    "\n",
    "for i in X_columns:\n",
    "    X_test_SC_LE[i] = le_SC.fit_transform(X_test_SC[i])\n",
    "X_test_SC_LE"
   ]
  },
  {
   "cell_type": "code",
   "execution_count": 72,
   "id": "34220bfa",
   "metadata": {},
   "outputs": [
    {
     "data": {
      "text/html": [
       "<div>\n",
       "<style scoped>\n",
       "    .dataframe tbody tr th:only-of-type {\n",
       "        vertical-align: middle;\n",
       "    }\n",
       "\n",
       "    .dataframe tbody tr th {\n",
       "        vertical-align: top;\n",
       "    }\n",
       "\n",
       "    .dataframe thead th {\n",
       "        text-align: right;\n",
       "    }\n",
       "</style>\n",
       "<table border=\"1\" class=\"dataframe\">\n",
       "  <thead>\n",
       "    <tr style=\"text-align: right;\">\n",
       "      <th></th>\n",
       "      <th>gender</th>\n",
       "      <th>SeniorCitizen</th>\n",
       "      <th>Partner</th>\n",
       "      <th>Dependents</th>\n",
       "      <th>tenure</th>\n",
       "      <th>PhoneService</th>\n",
       "      <th>MultipleLines</th>\n",
       "      <th>InternetService</th>\n",
       "      <th>OnlineSecurity</th>\n",
       "      <th>OnlineBackup</th>\n",
       "      <th>DeviceProtection</th>\n",
       "      <th>TechSupport</th>\n",
       "      <th>StreamingTV</th>\n",
       "      <th>StreamingMovies</th>\n",
       "      <th>Contract</th>\n",
       "      <th>PaperlessBilling</th>\n",
       "      <th>PaymentMethod</th>\n",
       "      <th>MonthlyCharges</th>\n",
       "      <th>TotalCharges</th>\n",
       "    </tr>\n",
       "  </thead>\n",
       "  <tbody>\n",
       "    <tr>\n",
       "      <th>0</th>\n",
       "      <td>0</td>\n",
       "      <td>1</td>\n",
       "      <td>0</td>\n",
       "      <td>0</td>\n",
       "      <td>1</td>\n",
       "      <td>0</td>\n",
       "      <td>1</td>\n",
       "      <td>0</td>\n",
       "      <td>0</td>\n",
       "      <td>0</td>\n",
       "      <td>0</td>\n",
       "      <td>0</td>\n",
       "      <td>0</td>\n",
       "      <td>0</td>\n",
       "      <td>0</td>\n",
       "      <td>1</td>\n",
       "      <td>2</td>\n",
       "      <td>93</td>\n",
       "      <td>1736</td>\n",
       "    </tr>\n",
       "    <tr>\n",
       "      <th>1</th>\n",
       "      <td>1</td>\n",
       "      <td>0</td>\n",
       "      <td>0</td>\n",
       "      <td>0</td>\n",
       "      <td>5</td>\n",
       "      <td>1</td>\n",
       "      <td>0</td>\n",
       "      <td>2</td>\n",
       "      <td>1</td>\n",
       "      <td>1</td>\n",
       "      <td>1</td>\n",
       "      <td>1</td>\n",
       "      <td>1</td>\n",
       "      <td>1</td>\n",
       "      <td>0</td>\n",
       "      <td>0</td>\n",
       "      <td>1</td>\n",
       "      <td>29</td>\n",
       "      <td>5213</td>\n",
       "    </tr>\n",
       "    <tr>\n",
       "      <th>2</th>\n",
       "      <td>0</td>\n",
       "      <td>1</td>\n",
       "      <td>1</td>\n",
       "      <td>0</td>\n",
       "      <td>60</td>\n",
       "      <td>1</td>\n",
       "      <td>2</td>\n",
       "      <td>1</td>\n",
       "      <td>2</td>\n",
       "      <td>2</td>\n",
       "      <td>2</td>\n",
       "      <td>2</td>\n",
       "      <td>2</td>\n",
       "      <td>2</td>\n",
       "      <td>2</td>\n",
       "      <td>1</td>\n",
       "      <td>0</td>\n",
       "      <td>1477</td>\n",
       "      <td>4416</td>\n",
       "    </tr>\n",
       "    <tr>\n",
       "      <th>3</th>\n",
       "      <td>0</td>\n",
       "      <td>0</td>\n",
       "      <td>0</td>\n",
       "      <td>0</td>\n",
       "      <td>5</td>\n",
       "      <td>1</td>\n",
       "      <td>0</td>\n",
       "      <td>2</td>\n",
       "      <td>1</td>\n",
       "      <td>1</td>\n",
       "      <td>1</td>\n",
       "      <td>1</td>\n",
       "      <td>1</td>\n",
       "      <td>1</td>\n",
       "      <td>0</td>\n",
       "      <td>1</td>\n",
       "      <td>3</td>\n",
       "      <td>38</td>\n",
       "      <td>67</td>\n",
       "    </tr>\n",
       "    <tr>\n",
       "      <th>4</th>\n",
       "      <td>1</td>\n",
       "      <td>0</td>\n",
       "      <td>1</td>\n",
       "      <td>1</td>\n",
       "      <td>45</td>\n",
       "      <td>1</td>\n",
       "      <td>2</td>\n",
       "      <td>1</td>\n",
       "      <td>0</td>\n",
       "      <td>2</td>\n",
       "      <td>2</td>\n",
       "      <td>0</td>\n",
       "      <td>0</td>\n",
       "      <td>2</td>\n",
       "      <td>1</td>\n",
       "      <td>1</td>\n",
       "      <td>1</td>\n",
       "      <td>1125</td>\n",
       "      <td>3002</td>\n",
       "    </tr>\n",
       "    <tr>\n",
       "      <th>...</th>\n",
       "      <td>...</td>\n",
       "      <td>...</td>\n",
       "      <td>...</td>\n",
       "      <td>...</td>\n",
       "      <td>...</td>\n",
       "      <td>...</td>\n",
       "      <td>...</td>\n",
       "      <td>...</td>\n",
       "      <td>...</td>\n",
       "      <td>...</td>\n",
       "      <td>...</td>\n",
       "      <td>...</td>\n",
       "      <td>...</td>\n",
       "      <td>...</td>\n",
       "      <td>...</td>\n",
       "      <td>...</td>\n",
       "      <td>...</td>\n",
       "      <td>...</td>\n",
       "      <td>...</td>\n",
       "    </tr>\n",
       "    <tr>\n",
       "      <th>5629</th>\n",
       "      <td>0</td>\n",
       "      <td>0</td>\n",
       "      <td>1</td>\n",
       "      <td>1</td>\n",
       "      <td>72</td>\n",
       "      <td>0</td>\n",
       "      <td>1</td>\n",
       "      <td>0</td>\n",
       "      <td>0</td>\n",
       "      <td>2</td>\n",
       "      <td>2</td>\n",
       "      <td>2</td>\n",
       "      <td>2</td>\n",
       "      <td>2</td>\n",
       "      <td>2</td>\n",
       "      <td>1</td>\n",
       "      <td>2</td>\n",
       "      <td>508</td>\n",
       "      <td>2939</td>\n",
       "    </tr>\n",
       "    <tr>\n",
       "      <th>5630</th>\n",
       "      <td>0</td>\n",
       "      <td>0</td>\n",
       "      <td>0</td>\n",
       "      <td>0</td>\n",
       "      <td>8</td>\n",
       "      <td>1</td>\n",
       "      <td>0</td>\n",
       "      <td>2</td>\n",
       "      <td>1</td>\n",
       "      <td>1</td>\n",
       "      <td>1</td>\n",
       "      <td>1</td>\n",
       "      <td>1</td>\n",
       "      <td>1</td>\n",
       "      <td>2</td>\n",
       "      <td>0</td>\n",
       "      <td>3</td>\n",
       "      <td>45</td>\n",
       "      <td>843</td>\n",
       "    </tr>\n",
       "    <tr>\n",
       "      <th>5631</th>\n",
       "      <td>0</td>\n",
       "      <td>0</td>\n",
       "      <td>1</td>\n",
       "      <td>1</td>\n",
       "      <td>46</td>\n",
       "      <td>1</td>\n",
       "      <td>0</td>\n",
       "      <td>2</td>\n",
       "      <td>1</td>\n",
       "      <td>1</td>\n",
       "      <td>1</td>\n",
       "      <td>1</td>\n",
       "      <td>1</td>\n",
       "      <td>1</td>\n",
       "      <td>2</td>\n",
       "      <td>1</td>\n",
       "      <td>3</td>\n",
       "      <td>27</td>\n",
       "      <td>5159</td>\n",
       "    </tr>\n",
       "    <tr>\n",
       "      <th>5632</th>\n",
       "      <td>0</td>\n",
       "      <td>0</td>\n",
       "      <td>0</td>\n",
       "      <td>0</td>\n",
       "      <td>37</td>\n",
       "      <td>1</td>\n",
       "      <td>0</td>\n",
       "      <td>0</td>\n",
       "      <td>0</td>\n",
       "      <td>0</td>\n",
       "      <td>0</td>\n",
       "      <td>0</td>\n",
       "      <td>2</td>\n",
       "      <td>2</td>\n",
       "      <td>0</td>\n",
       "      <td>1</td>\n",
       "      <td>2</td>\n",
       "      <td>579</td>\n",
       "      <td>1596</td>\n",
       "    </tr>\n",
       "    <tr>\n",
       "      <th>5633</th>\n",
       "      <td>1</td>\n",
       "      <td>0</td>\n",
       "      <td>1</td>\n",
       "      <td>0</td>\n",
       "      <td>17</td>\n",
       "      <td>1</td>\n",
       "      <td>2</td>\n",
       "      <td>1</td>\n",
       "      <td>0</td>\n",
       "      <td>2</td>\n",
       "      <td>0</td>\n",
       "      <td>0</td>\n",
       "      <td>0</td>\n",
       "      <td>0</td>\n",
       "      <td>0</td>\n",
       "      <td>1</td>\n",
       "      <td>0</td>\n",
       "      <td>855</td>\n",
       "      <td>479</td>\n",
       "    </tr>\n",
       "  </tbody>\n",
       "</table>\n",
       "<p>5634 rows × 19 columns</p>\n",
       "</div>"
      ],
      "text/plain": [
       "      gender  SeniorCitizen  Partner  Dependents  tenure  PhoneService  \\\n",
       "0          0              1        0           0       1             0   \n",
       "1          1              0        0           0       5             1   \n",
       "2          0              1        1           0      60             1   \n",
       "3          0              0        0           0       5             1   \n",
       "4          1              0        1           1      45             1   \n",
       "...      ...            ...      ...         ...     ...           ...   \n",
       "5629       0              0        1           1      72             0   \n",
       "5630       0              0        0           0       8             1   \n",
       "5631       0              0        1           1      46             1   \n",
       "5632       0              0        0           0      37             1   \n",
       "5633       1              0        1           0      17             1   \n",
       "\n",
       "      MultipleLines  InternetService  OnlineSecurity  OnlineBackup  \\\n",
       "0                 1                0               0             0   \n",
       "1                 0                2               1             1   \n",
       "2                 2                1               2             2   \n",
       "3                 0                2               1             1   \n",
       "4                 2                1               0             2   \n",
       "...             ...              ...             ...           ...   \n",
       "5629              1                0               0             2   \n",
       "5630              0                2               1             1   \n",
       "5631              0                2               1             1   \n",
       "5632              0                0               0             0   \n",
       "5633              2                1               0             2   \n",
       "\n",
       "      DeviceProtection  TechSupport  StreamingTV  StreamingMovies  Contract  \\\n",
       "0                    0            0            0                0         0   \n",
       "1                    1            1            1                1         0   \n",
       "2                    2            2            2                2         2   \n",
       "3                    1            1            1                1         0   \n",
       "4                    2            0            0                2         1   \n",
       "...                ...          ...          ...              ...       ...   \n",
       "5629                 2            2            2                2         2   \n",
       "5630                 1            1            1                1         2   \n",
       "5631                 1            1            1                1         2   \n",
       "5632                 0            0            2                2         0   \n",
       "5633                 0            0            0                0         0   \n",
       "\n",
       "      PaperlessBilling  PaymentMethod  MonthlyCharges  TotalCharges  \n",
       "0                    1              2              93          1736  \n",
       "1                    0              1              29          5213  \n",
       "2                    1              0            1477          4416  \n",
       "3                    1              3              38            67  \n",
       "4                    1              1            1125          3002  \n",
       "...                ...            ...             ...           ...  \n",
       "5629                 1              2             508          2939  \n",
       "5630                 0              3              45           843  \n",
       "5631                 1              3              27          5159  \n",
       "5632                 1              2             579          1596  \n",
       "5633                 1              0             855           479  \n",
       "\n",
       "[5634 rows x 19 columns]"
      ]
     },
     "execution_count": 72,
     "metadata": {},
     "output_type": "execute_result"
    }
   ],
   "source": [
    "X_columns = list(X_train_SC)\n",
    "X_train_SC_LE = X_train_SC.copy()\n",
    "\n",
    "for i in X_columns:\n",
    "    X_train_SC_LE[i] = le_SC.fit_transform(X_train_SC[i])\n",
    "X_train_SC_LE"
   ]
  },
  {
   "cell_type": "code",
   "execution_count": 73,
   "id": "4e997a41",
   "metadata": {},
   "outputs": [],
   "source": [
    "xgb_SC = xgb.XGBClassifier()"
   ]
  },
  {
   "cell_type": "code",
   "execution_count": 74,
   "id": "34c06ccd",
   "metadata": {
    "scrolled": true
   },
   "outputs": [
    {
     "name": "stderr",
     "output_type": "stream",
     "text": [
      "C:\\Users\\Axl_w\\anaconda3\\lib\\site-packages\\xgboost\\sklearn.py:1224: UserWarning: The use of label encoder in XGBClassifier is deprecated and will be removed in a future release. To remove this warning, do the following: 1) Pass option use_label_encoder=False when constructing XGBClassifier object; and 2) Encode your labels (y) as integers starting with 0, i.e. 0, 1, 2, ..., [num_class - 1].\n",
      "  warnings.warn(label_encoder_deprecation_msg, UserWarning)\n"
     ]
    },
    {
     "name": "stdout",
     "output_type": "stream",
     "text": [
      "[11:43:38] WARNING: ..\\src\\learner.cc:1115: Starting in XGBoost 1.3.0, the default evaluation metric used with the objective 'binary:logistic' was changed from 'error' to 'logloss'. Explicitly set eval_metric if you'd like to restore the old behavior.\n"
     ]
    },
    {
     "data": {
      "text/plain": [
       "XGBClassifier(base_score=0.5, booster='gbtree', colsample_bylevel=1,\n",
       "              colsample_bynode=1, colsample_bytree=1, enable_categorical=False,\n",
       "              gamma=0, gpu_id=-1, importance_type=None,\n",
       "              interaction_constraints='', learning_rate=0.300000012,\n",
       "              max_delta_step=0, max_depth=6, min_child_weight=1, missing=nan,\n",
       "              monotone_constraints='()', n_estimators=100, n_jobs=8,\n",
       "              num_parallel_tree=1, predictor='auto', random_state=0,\n",
       "              reg_alpha=0, reg_lambda=1, scale_pos_weight=1, subsample=1,\n",
       "              tree_method='exact', validate_parameters=1, verbosity=None)"
      ]
     },
     "execution_count": 74,
     "metadata": {},
     "output_type": "execute_result"
    }
   ],
   "source": [
    "xgb_SC.fit(X_train_SC_LE, y_train_SC_LE)"
   ]
  },
  {
   "cell_type": "code",
   "execution_count": 75,
   "id": "820f8800",
   "metadata": {},
   "outputs": [
    {
     "data": {
      "text/plain": [
       "0.7693399574166075"
      ]
     },
     "execution_count": 75,
     "metadata": {},
     "output_type": "execute_result"
    }
   ],
   "source": [
    "y_pred_LE = xgb_SC.predict(X_test_SC_LE)\n",
    "\n",
    "accuracy_score(y_test_SC_LE, y_pred_LE)"
   ]
  },
  {
   "cell_type": "markdown",
   "id": "b10f925f",
   "metadata": {},
   "source": [
    "## Onehot Encoder"
   ]
  },
  {
   "cell_type": "code",
   "execution_count": 76,
   "id": "70647c7a",
   "metadata": {},
   "outputs": [],
   "source": [
    "from sklearn.preprocessing import OneHotEncoder"
   ]
  },
  {
   "cell_type": "markdown",
   "id": "1bb076cc",
   "metadata": {},
   "source": [
    "## Preparing the OHE"
   ]
  },
  {
   "cell_type": "code",
   "execution_count": 77,
   "id": "c07ed01c",
   "metadata": {},
   "outputs": [],
   "source": [
    "sc_OHE = OneHotEncoder()"
   ]
  },
  {
   "cell_type": "code",
   "execution_count": 78,
   "id": "a2854abe",
   "metadata": {},
   "outputs": [],
   "source": [
    "df_test = pd.read_csv('../../Datasets/churn_test.csv')\n",
    "df_train = pd.read_csv('../../Datasets/churn_train.csv')"
   ]
  },
  {
   "cell_type": "code",
   "execution_count": 79,
   "id": "5978ffda",
   "metadata": {},
   "outputs": [
    {
     "data": {
      "text/plain": [
       "0       Yes\n",
       "1        No\n",
       "2        No\n",
       "3        No\n",
       "4        No\n",
       "       ... \n",
       "5629     No\n",
       "5630     No\n",
       "5631     No\n",
       "5632    Yes\n",
       "5633     No\n",
       "Name: Churn, Length: 5634, dtype: object"
      ]
     },
     "execution_count": 79,
     "metadata": {},
     "output_type": "execute_result"
    }
   ],
   "source": [
    "X_test_OHE = df_test.drop(columns = ['Churn'])\n",
    "X_train_OHE = df_train.drop(columns = ['Churn'])\n",
    "\n",
    "\n",
    "y_test_OHE = df_test['Churn']\n",
    "y_train_OHE = df_train['Churn']\n",
    "y_train_OHE"
   ]
  },
  {
   "cell_type": "code",
   "execution_count": 80,
   "id": "ec97f837",
   "metadata": {},
   "outputs": [],
   "source": [
    "le_OHE = LabelEncoder()"
   ]
  },
  {
   "cell_type": "markdown",
   "id": "68d72dce",
   "metadata": {},
   "source": [
    "## Label encoding target values"
   ]
  },
  {
   "cell_type": "code",
   "execution_count": 81,
   "id": "ffc76d75",
   "metadata": {},
   "outputs": [],
   "source": [
    "y_test_SC_OHE = le_OHE.fit_transform(y_test_OHE)\n",
    "y_train_SC_OHE = le_OHE.fit_transform(y_train_OHE)"
   ]
  },
  {
   "cell_type": "code",
   "execution_count": 82,
   "id": "a8823674",
   "metadata": {
    "scrolled": true
   },
   "outputs": [
    {
     "data": {
      "text/plain": [
       "customerID           object\n",
       "gender               object\n",
       "SeniorCitizen         int64\n",
       "Partner              object\n",
       "Dependents           object\n",
       "tenure                int64\n",
       "PhoneService         object\n",
       "MultipleLines        object\n",
       "InternetService      object\n",
       "OnlineSecurity       object\n",
       "OnlineBackup         object\n",
       "DeviceProtection     object\n",
       "TechSupport          object\n",
       "StreamingTV          object\n",
       "StreamingMovies      object\n",
       "Contract             object\n",
       "PaperlessBilling     object\n",
       "PaymentMethod        object\n",
       "MonthlyCharges      float64\n",
       "TotalCharges         object\n",
       "dtype: object"
      ]
     },
     "execution_count": 82,
     "metadata": {},
     "output_type": "execute_result"
    }
   ],
   "source": [
    "X_test_OHE.dtypes"
   ]
  },
  {
   "cell_type": "markdown",
   "id": "e269b83c",
   "metadata": {},
   "source": [
    "## Removing customerID"
   ]
  },
  {
   "cell_type": "code",
   "execution_count": 83,
   "id": "ba63a02a",
   "metadata": {},
   "outputs": [],
   "source": [
    "X_test_OHE = X_test_OHE.drop(columns = ['customerID'])"
   ]
  },
  {
   "cell_type": "code",
   "execution_count": 84,
   "id": "ed87abc4",
   "metadata": {},
   "outputs": [],
   "source": [
    "X_train_OHE = X_train_OHE.drop(columns = ['customerID'])"
   ]
  },
  {
   "cell_type": "markdown",
   "id": "dad17d6a",
   "metadata": {},
   "source": [
    "## Getting the features to be used in the OHE\n",
    "\n",
    "Totalcharges, monthly charges and tenure are all numerical data and not categorical and does not need to be encoded with OHE"
   ]
  },
  {
   "cell_type": "code",
   "execution_count": 85,
   "id": "04c6abcf",
   "metadata": {},
   "outputs": [],
   "source": [
    "X_train_OHE_features = X_train_OHE.columns\n",
    "\n",
    "features_list_OHE = X_train_OHE_features.drop([\"TotalCharges\",\"MonthlyCharges\",\"tenure\"])\n"
   ]
  },
  {
   "cell_type": "markdown",
   "id": "afb71335",
   "metadata": {},
   "source": [
    "## X_train_OHE_mod is the original dataset without the numerical values"
   ]
  },
  {
   "cell_type": "code",
   "execution_count": 86,
   "id": "8e31b6c3",
   "metadata": {},
   "outputs": [],
   "source": [
    "X_train_OHE_mod = X_train_OHE.drop(columns=[\"TotalCharges\",\"MonthlyCharges\",\"tenure\"])"
   ]
  },
  {
   "cell_type": "code",
   "execution_count": 87,
   "id": "953ad9da",
   "metadata": {},
   "outputs": [],
   "source": [
    "X_test_OHE_mod = X_test_OHE.drop(columns=[\"TotalCharges\",\"MonthlyCharges\",\"tenure\"])"
   ]
  },
  {
   "cell_type": "markdown",
   "id": "1e9dca24",
   "metadata": {},
   "source": [
    "## Creating the new dataframe with OHE.\n",
    "Feature_list_OHE are all the features that have categorical values and these are split into a column for each different output value"
   ]
  },
  {
   "cell_type": "code",
   "execution_count": 88,
   "id": "dc5458df",
   "metadata": {},
   "outputs": [
    {
     "data": {
      "text/html": [
       "<div>\n",
       "<style scoped>\n",
       "    .dataframe tbody tr th:only-of-type {\n",
       "        vertical-align: middle;\n",
       "    }\n",
       "\n",
       "    .dataframe tbody tr th {\n",
       "        vertical-align: top;\n",
       "    }\n",
       "\n",
       "    .dataframe thead th {\n",
       "        text-align: right;\n",
       "    }\n",
       "</style>\n",
       "<table border=\"1\" class=\"dataframe\">\n",
       "  <thead>\n",
       "    <tr style=\"text-align: right;\">\n",
       "      <th></th>\n",
       "      <th>x0_Female</th>\n",
       "      <th>x0_Male</th>\n",
       "      <th>x1_0</th>\n",
       "      <th>x1_1</th>\n",
       "      <th>x2_No</th>\n",
       "      <th>x2_Yes</th>\n",
       "      <th>x3_No</th>\n",
       "      <th>x3_Yes</th>\n",
       "      <th>x4_No</th>\n",
       "      <th>x4_Yes</th>\n",
       "      <th>...</th>\n",
       "      <th>x13_Two year</th>\n",
       "      <th>x14_No</th>\n",
       "      <th>x14_Yes</th>\n",
       "      <th>x15_Bank transfer (automatic)</th>\n",
       "      <th>x15_Credit card (automatic)</th>\n",
       "      <th>x15_Electronic check</th>\n",
       "      <th>x15_Mailed check</th>\n",
       "      <th>TotalCharges</th>\n",
       "      <th>MonthlyCharges</th>\n",
       "      <th>tenure</th>\n",
       "    </tr>\n",
       "  </thead>\n",
       "  <tbody>\n",
       "    <tr>\n",
       "      <th>0</th>\n",
       "      <td>1.0</td>\n",
       "      <td>0.0</td>\n",
       "      <td>0.0</td>\n",
       "      <td>1.0</td>\n",
       "      <td>1.0</td>\n",
       "      <td>0.0</td>\n",
       "      <td>1.0</td>\n",
       "      <td>0.0</td>\n",
       "      <td>1.0</td>\n",
       "      <td>0.0</td>\n",
       "      <td>...</td>\n",
       "      <td>0.0</td>\n",
       "      <td>0.0</td>\n",
       "      <td>1.0</td>\n",
       "      <td>0.0</td>\n",
       "      <td>0.0</td>\n",
       "      <td>1.0</td>\n",
       "      <td>0.0</td>\n",
       "      <td>25.2</td>\n",
       "      <td>25.20</td>\n",
       "      <td>1</td>\n",
       "    </tr>\n",
       "    <tr>\n",
       "      <th>1</th>\n",
       "      <td>0.0</td>\n",
       "      <td>1.0</td>\n",
       "      <td>1.0</td>\n",
       "      <td>0.0</td>\n",
       "      <td>1.0</td>\n",
       "      <td>0.0</td>\n",
       "      <td>1.0</td>\n",
       "      <td>0.0</td>\n",
       "      <td>0.0</td>\n",
       "      <td>1.0</td>\n",
       "      <td>...</td>\n",
       "      <td>0.0</td>\n",
       "      <td>1.0</td>\n",
       "      <td>0.0</td>\n",
       "      <td>0.0</td>\n",
       "      <td>1.0</td>\n",
       "      <td>0.0</td>\n",
       "      <td>0.0</td>\n",
       "      <td>95.55</td>\n",
       "      <td>20.05</td>\n",
       "      <td>5</td>\n",
       "    </tr>\n",
       "    <tr>\n",
       "      <th>2</th>\n",
       "      <td>1.0</td>\n",
       "      <td>0.0</td>\n",
       "      <td>0.0</td>\n",
       "      <td>1.0</td>\n",
       "      <td>0.0</td>\n",
       "      <td>1.0</td>\n",
       "      <td>1.0</td>\n",
       "      <td>0.0</td>\n",
       "      <td>0.0</td>\n",
       "      <td>1.0</td>\n",
       "      <td>...</td>\n",
       "      <td>1.0</td>\n",
       "      <td>0.0</td>\n",
       "      <td>1.0</td>\n",
       "      <td>1.0</td>\n",
       "      <td>0.0</td>\n",
       "      <td>0.0</td>\n",
       "      <td>0.0</td>\n",
       "      <td>6925.9</td>\n",
       "      <td>116.05</td>\n",
       "      <td>60</td>\n",
       "    </tr>\n",
       "    <tr>\n",
       "      <th>3</th>\n",
       "      <td>1.0</td>\n",
       "      <td>0.0</td>\n",
       "      <td>1.0</td>\n",
       "      <td>0.0</td>\n",
       "      <td>1.0</td>\n",
       "      <td>0.0</td>\n",
       "      <td>1.0</td>\n",
       "      <td>0.0</td>\n",
       "      <td>0.0</td>\n",
       "      <td>1.0</td>\n",
       "      <td>...</td>\n",
       "      <td>0.0</td>\n",
       "      <td>0.0</td>\n",
       "      <td>1.0</td>\n",
       "      <td>0.0</td>\n",
       "      <td>0.0</td>\n",
       "      <td>0.0</td>\n",
       "      <td>1.0</td>\n",
       "      <td>104.3</td>\n",
       "      <td>20.50</td>\n",
       "      <td>5</td>\n",
       "    </tr>\n",
       "    <tr>\n",
       "      <th>4</th>\n",
       "      <td>0.0</td>\n",
       "      <td>1.0</td>\n",
       "      <td>1.0</td>\n",
       "      <td>0.0</td>\n",
       "      <td>0.0</td>\n",
       "      <td>1.0</td>\n",
       "      <td>0.0</td>\n",
       "      <td>1.0</td>\n",
       "      <td>0.0</td>\n",
       "      <td>1.0</td>\n",
       "      <td>...</td>\n",
       "      <td>0.0</td>\n",
       "      <td>0.0</td>\n",
       "      <td>1.0</td>\n",
       "      <td>0.0</td>\n",
       "      <td>1.0</td>\n",
       "      <td>0.0</td>\n",
       "      <td>0.0</td>\n",
       "      <td>4368.85</td>\n",
       "      <td>95.00</td>\n",
       "      <td>45</td>\n",
       "    </tr>\n",
       "    <tr>\n",
       "      <th>...</th>\n",
       "      <td>...</td>\n",
       "      <td>...</td>\n",
       "      <td>...</td>\n",
       "      <td>...</td>\n",
       "      <td>...</td>\n",
       "      <td>...</td>\n",
       "      <td>...</td>\n",
       "      <td>...</td>\n",
       "      <td>...</td>\n",
       "      <td>...</td>\n",
       "      <td>...</td>\n",
       "      <td>...</td>\n",
       "      <td>...</td>\n",
       "      <td>...</td>\n",
       "      <td>...</td>\n",
       "      <td>...</td>\n",
       "      <td>...</td>\n",
       "      <td>...</td>\n",
       "      <td>...</td>\n",
       "      <td>...</td>\n",
       "      <td>...</td>\n",
       "    </tr>\n",
       "    <tr>\n",
       "      <th>5629</th>\n",
       "      <td>1.0</td>\n",
       "      <td>0.0</td>\n",
       "      <td>1.0</td>\n",
       "      <td>0.0</td>\n",
       "      <td>0.0</td>\n",
       "      <td>1.0</td>\n",
       "      <td>0.0</td>\n",
       "      <td>1.0</td>\n",
       "      <td>1.0</td>\n",
       "      <td>0.0</td>\n",
       "      <td>...</td>\n",
       "      <td>1.0</td>\n",
       "      <td>0.0</td>\n",
       "      <td>1.0</td>\n",
       "      <td>0.0</td>\n",
       "      <td>0.0</td>\n",
       "      <td>1.0</td>\n",
       "      <td>0.0</td>\n",
       "      <td>4264</td>\n",
       "      <td>60.00</td>\n",
       "      <td>72</td>\n",
       "    </tr>\n",
       "    <tr>\n",
       "      <th>5630</th>\n",
       "      <td>1.0</td>\n",
       "      <td>0.0</td>\n",
       "      <td>1.0</td>\n",
       "      <td>0.0</td>\n",
       "      <td>1.0</td>\n",
       "      <td>0.0</td>\n",
       "      <td>1.0</td>\n",
       "      <td>0.0</td>\n",
       "      <td>0.0</td>\n",
       "      <td>1.0</td>\n",
       "      <td>...</td>\n",
       "      <td>1.0</td>\n",
       "      <td>1.0</td>\n",
       "      <td>0.0</td>\n",
       "      <td>0.0</td>\n",
       "      <td>0.0</td>\n",
       "      <td>0.0</td>\n",
       "      <td>1.0</td>\n",
       "      <td>161.65</td>\n",
       "      <td>20.85</td>\n",
       "      <td>8</td>\n",
       "    </tr>\n",
       "    <tr>\n",
       "      <th>5631</th>\n",
       "      <td>1.0</td>\n",
       "      <td>0.0</td>\n",
       "      <td>1.0</td>\n",
       "      <td>0.0</td>\n",
       "      <td>0.0</td>\n",
       "      <td>1.0</td>\n",
       "      <td>0.0</td>\n",
       "      <td>1.0</td>\n",
       "      <td>0.0</td>\n",
       "      <td>1.0</td>\n",
       "      <td>...</td>\n",
       "      <td>1.0</td>\n",
       "      <td>0.0</td>\n",
       "      <td>1.0</td>\n",
       "      <td>0.0</td>\n",
       "      <td>0.0</td>\n",
       "      <td>0.0</td>\n",
       "      <td>1.0</td>\n",
       "      <td>927.1</td>\n",
       "      <td>19.95</td>\n",
       "      <td>46</td>\n",
       "    </tr>\n",
       "    <tr>\n",
       "      <th>5632</th>\n",
       "      <td>1.0</td>\n",
       "      <td>0.0</td>\n",
       "      <td>1.0</td>\n",
       "      <td>0.0</td>\n",
       "      <td>1.0</td>\n",
       "      <td>0.0</td>\n",
       "      <td>1.0</td>\n",
       "      <td>0.0</td>\n",
       "      <td>0.0</td>\n",
       "      <td>1.0</td>\n",
       "      <td>...</td>\n",
       "      <td>0.0</td>\n",
       "      <td>0.0</td>\n",
       "      <td>1.0</td>\n",
       "      <td>0.0</td>\n",
       "      <td>0.0</td>\n",
       "      <td>1.0</td>\n",
       "      <td>0.0</td>\n",
       "      <td>2345.2</td>\n",
       "      <td>64.75</td>\n",
       "      <td>37</td>\n",
       "    </tr>\n",
       "    <tr>\n",
       "      <th>5633</th>\n",
       "      <td>0.0</td>\n",
       "      <td>1.0</td>\n",
       "      <td>1.0</td>\n",
       "      <td>0.0</td>\n",
       "      <td>0.0</td>\n",
       "      <td>1.0</td>\n",
       "      <td>1.0</td>\n",
       "      <td>0.0</td>\n",
       "      <td>0.0</td>\n",
       "      <td>1.0</td>\n",
       "      <td>...</td>\n",
       "      <td>0.0</td>\n",
       "      <td>0.0</td>\n",
       "      <td>1.0</td>\n",
       "      <td>1.0</td>\n",
       "      <td>0.0</td>\n",
       "      <td>0.0</td>\n",
       "      <td>0.0</td>\n",
       "      <td>1336.9</td>\n",
       "      <td>80.50</td>\n",
       "      <td>17</td>\n",
       "    </tr>\n",
       "  </tbody>\n",
       "</table>\n",
       "<p>5634 rows × 46 columns</p>\n",
       "</div>"
      ],
      "text/plain": [
       "      x0_Female  x0_Male  x1_0  x1_1  x2_No  x2_Yes  x3_No  x3_Yes  x4_No  \\\n",
       "0           1.0      0.0   0.0   1.0    1.0     0.0    1.0     0.0    1.0   \n",
       "1           0.0      1.0   1.0   0.0    1.0     0.0    1.0     0.0    0.0   \n",
       "2           1.0      0.0   0.0   1.0    0.0     1.0    1.0     0.0    0.0   \n",
       "3           1.0      0.0   1.0   0.0    1.0     0.0    1.0     0.0    0.0   \n",
       "4           0.0      1.0   1.0   0.0    0.0     1.0    0.0     1.0    0.0   \n",
       "...         ...      ...   ...   ...    ...     ...    ...     ...    ...   \n",
       "5629        1.0      0.0   1.0   0.0    0.0     1.0    0.0     1.0    1.0   \n",
       "5630        1.0      0.0   1.0   0.0    1.0     0.0    1.0     0.0    0.0   \n",
       "5631        1.0      0.0   1.0   0.0    0.0     1.0    0.0     1.0    0.0   \n",
       "5632        1.0      0.0   1.0   0.0    1.0     0.0    1.0     0.0    0.0   \n",
       "5633        0.0      1.0   1.0   0.0    0.0     1.0    1.0     0.0    0.0   \n",
       "\n",
       "      x4_Yes  ...  x13_Two year  x14_No  x14_Yes  \\\n",
       "0        0.0  ...           0.0     0.0      1.0   \n",
       "1        1.0  ...           0.0     1.0      0.0   \n",
       "2        1.0  ...           1.0     0.0      1.0   \n",
       "3        1.0  ...           0.0     0.0      1.0   \n",
       "4        1.0  ...           0.0     0.0      1.0   \n",
       "...      ...  ...           ...     ...      ...   \n",
       "5629     0.0  ...           1.0     0.0      1.0   \n",
       "5630     1.0  ...           1.0     1.0      0.0   \n",
       "5631     1.0  ...           1.0     0.0      1.0   \n",
       "5632     1.0  ...           0.0     0.0      1.0   \n",
       "5633     1.0  ...           0.0     0.0      1.0   \n",
       "\n",
       "      x15_Bank transfer (automatic)  x15_Credit card (automatic)  \\\n",
       "0                               0.0                          0.0   \n",
       "1                               0.0                          1.0   \n",
       "2                               1.0                          0.0   \n",
       "3                               0.0                          0.0   \n",
       "4                               0.0                          1.0   \n",
       "...                             ...                          ...   \n",
       "5629                            0.0                          0.0   \n",
       "5630                            0.0                          0.0   \n",
       "5631                            0.0                          0.0   \n",
       "5632                            0.0                          0.0   \n",
       "5633                            1.0                          0.0   \n",
       "\n",
       "      x15_Electronic check  x15_Mailed check  TotalCharges  MonthlyCharges  \\\n",
       "0                      1.0               0.0          25.2           25.20   \n",
       "1                      0.0               0.0         95.55           20.05   \n",
       "2                      0.0               0.0        6925.9          116.05   \n",
       "3                      0.0               1.0         104.3           20.50   \n",
       "4                      0.0               0.0       4368.85           95.00   \n",
       "...                    ...               ...           ...             ...   \n",
       "5629                   1.0               0.0          4264           60.00   \n",
       "5630                   0.0               1.0        161.65           20.85   \n",
       "5631                   0.0               1.0         927.1           19.95   \n",
       "5632                   1.0               0.0        2345.2           64.75   \n",
       "5633                   0.0               0.0        1336.9           80.50   \n",
       "\n",
       "      tenure  \n",
       "0          1  \n",
       "1          5  \n",
       "2         60  \n",
       "3          5  \n",
       "4         45  \n",
       "...      ...  \n",
       "5629      72  \n",
       "5630       8  \n",
       "5631      46  \n",
       "5632      37  \n",
       "5633      17  \n",
       "\n",
       "[5634 rows x 46 columns]"
      ]
     },
     "execution_count": 88,
     "metadata": {},
     "output_type": "execute_result"
    }
   ],
   "source": [
    "train_OHE_df = pd.DataFrame(sc_OHE.fit_transform(X_train_OHE_mod).toarray())\n",
    "\n",
    "#Adding feature names to the columns\n",
    "train_OHE_df.columns = sc_OHE.get_feature_names()\n",
    "\n",
    "#Readding the previously dropped integer based columns\n",
    "train_OHE_df = train_OHE_df.join(X_train_OHE[\"TotalCharges\"])\n",
    "train_OHE_df = train_OHE_df.join(X_train_OHE[\"MonthlyCharges\"])\n",
    "train_OHE_df = train_OHE_df.join(X_train_OHE[\"tenure\"])\n",
    "train_OHE_df"
   ]
  },
  {
   "cell_type": "code",
   "execution_count": 108,
   "id": "9a7db908",
   "metadata": {
    "scrolled": true
   },
   "outputs": [
    {
     "data": {
      "text/html": [
       "<div>\n",
       "<style scoped>\n",
       "    .dataframe tbody tr th:only-of-type {\n",
       "        vertical-align: middle;\n",
       "    }\n",
       "\n",
       "    .dataframe tbody tr th {\n",
       "        vertical-align: top;\n",
       "    }\n",
       "\n",
       "    .dataframe thead th {\n",
       "        text-align: right;\n",
       "    }\n",
       "</style>\n",
       "<table border=\"1\" class=\"dataframe\">\n",
       "  <thead>\n",
       "    <tr style=\"text-align: right;\">\n",
       "      <th></th>\n",
       "      <th>x0_Female</th>\n",
       "      <th>x0_Male</th>\n",
       "      <th>x1_0</th>\n",
       "      <th>x1_1</th>\n",
       "      <th>x2_No</th>\n",
       "      <th>x2_Yes</th>\n",
       "      <th>x3_No</th>\n",
       "      <th>x3_Yes</th>\n",
       "      <th>x4_No</th>\n",
       "      <th>x4_Yes</th>\n",
       "      <th>...</th>\n",
       "      <th>x13_Two year</th>\n",
       "      <th>x14_No</th>\n",
       "      <th>x14_Yes</th>\n",
       "      <th>x15_Bank transfer (automatic)</th>\n",
       "      <th>x15_Credit card (automatic)</th>\n",
       "      <th>x15_Electronic check</th>\n",
       "      <th>x15_Mailed check</th>\n",
       "      <th>TotalCharges</th>\n",
       "      <th>MonthlyCharges</th>\n",
       "      <th>tenure</th>\n",
       "    </tr>\n",
       "  </thead>\n",
       "  <tbody>\n",
       "    <tr>\n",
       "      <th>0</th>\n",
       "      <td>1.0</td>\n",
       "      <td>0.0</td>\n",
       "      <td>1.0</td>\n",
       "      <td>0.0</td>\n",
       "      <td>0.0</td>\n",
       "      <td>1.0</td>\n",
       "      <td>0.0</td>\n",
       "      <td>1.0</td>\n",
       "      <td>1.0</td>\n",
       "      <td>0.0</td>\n",
       "      <td>...</td>\n",
       "      <td>0.0</td>\n",
       "      <td>1.0</td>\n",
       "      <td>0.0</td>\n",
       "      <td>0.0</td>\n",
       "      <td>0.0</td>\n",
       "      <td>0.0</td>\n",
       "      <td>1.0</td>\n",
       "      <td>92.5</td>\n",
       "      <td>40.30</td>\n",
       "      <td>3</td>\n",
       "    </tr>\n",
       "    <tr>\n",
       "      <th>1</th>\n",
       "      <td>0.0</td>\n",
       "      <td>1.0</td>\n",
       "      <td>1.0</td>\n",
       "      <td>0.0</td>\n",
       "      <td>1.0</td>\n",
       "      <td>0.0</td>\n",
       "      <td>1.0</td>\n",
       "      <td>0.0</td>\n",
       "      <td>0.0</td>\n",
       "      <td>1.0</td>\n",
       "      <td>...</td>\n",
       "      <td>0.0</td>\n",
       "      <td>0.0</td>\n",
       "      <td>1.0</td>\n",
       "      <td>0.0</td>\n",
       "      <td>0.0</td>\n",
       "      <td>1.0</td>\n",
       "      <td>0.0</td>\n",
       "      <td>4273.45</td>\n",
       "      <td>101.75</td>\n",
       "      <td>42</td>\n",
       "    </tr>\n",
       "    <tr>\n",
       "      <th>2</th>\n",
       "      <td>0.0</td>\n",
       "      <td>1.0</td>\n",
       "      <td>1.0</td>\n",
       "      <td>0.0</td>\n",
       "      <td>0.0</td>\n",
       "      <td>1.0</td>\n",
       "      <td>0.0</td>\n",
       "      <td>1.0</td>\n",
       "      <td>0.0</td>\n",
       "      <td>1.0</td>\n",
       "      <td>...</td>\n",
       "      <td>0.0</td>\n",
       "      <td>0.0</td>\n",
       "      <td>1.0</td>\n",
       "      <td>0.0</td>\n",
       "      <td>1.0</td>\n",
       "      <td>0.0</td>\n",
       "      <td>0.0</td>\n",
       "      <td>4451.85</td>\n",
       "      <td>104.30</td>\n",
       "      <td>43</td>\n",
       "    </tr>\n",
       "    <tr>\n",
       "      <th>3</th>\n",
       "      <td>1.0</td>\n",
       "      <td>0.0</td>\n",
       "      <td>0.0</td>\n",
       "      <td>1.0</td>\n",
       "      <td>1.0</td>\n",
       "      <td>0.0</td>\n",
       "      <td>1.0</td>\n",
       "      <td>0.0</td>\n",
       "      <td>0.0</td>\n",
       "      <td>1.0</td>\n",
       "      <td>...</td>\n",
       "      <td>0.0</td>\n",
       "      <td>0.0</td>\n",
       "      <td>1.0</td>\n",
       "      <td>0.0</td>\n",
       "      <td>0.0</td>\n",
       "      <td>0.0</td>\n",
       "      <td>1.0</td>\n",
       "      <td>70.6</td>\n",
       "      <td>70.60</td>\n",
       "      <td>1</td>\n",
       "    </tr>\n",
       "    <tr>\n",
       "      <th>4</th>\n",
       "      <td>1.0</td>\n",
       "      <td>0.0</td>\n",
       "      <td>1.0</td>\n",
       "      <td>0.0</td>\n",
       "      <td>1.0</td>\n",
       "      <td>0.0</td>\n",
       "      <td>1.0</td>\n",
       "      <td>0.0</td>\n",
       "      <td>0.0</td>\n",
       "      <td>1.0</td>\n",
       "      <td>...</td>\n",
       "      <td>0.0</td>\n",
       "      <td>0.0</td>\n",
       "      <td>1.0</td>\n",
       "      <td>1.0</td>\n",
       "      <td>0.0</td>\n",
       "      <td>0.0</td>\n",
       "      <td>0.0</td>\n",
       "      <td>403.35</td>\n",
       "      <td>44.20</td>\n",
       "      <td>9</td>\n",
       "    </tr>\n",
       "    <tr>\n",
       "      <th>...</th>\n",
       "      <td>...</td>\n",
       "      <td>...</td>\n",
       "      <td>...</td>\n",
       "      <td>...</td>\n",
       "      <td>...</td>\n",
       "      <td>...</td>\n",
       "      <td>...</td>\n",
       "      <td>...</td>\n",
       "      <td>...</td>\n",
       "      <td>...</td>\n",
       "      <td>...</td>\n",
       "      <td>...</td>\n",
       "      <td>...</td>\n",
       "      <td>...</td>\n",
       "      <td>...</td>\n",
       "      <td>...</td>\n",
       "      <td>...</td>\n",
       "      <td>...</td>\n",
       "      <td>...</td>\n",
       "      <td>...</td>\n",
       "      <td>...</td>\n",
       "    </tr>\n",
       "    <tr>\n",
       "      <th>1404</th>\n",
       "      <td>0.0</td>\n",
       "      <td>1.0</td>\n",
       "      <td>1.0</td>\n",
       "      <td>0.0</td>\n",
       "      <td>1.0</td>\n",
       "      <td>0.0</td>\n",
       "      <td>1.0</td>\n",
       "      <td>0.0</td>\n",
       "      <td>0.0</td>\n",
       "      <td>1.0</td>\n",
       "      <td>...</td>\n",
       "      <td>0.0</td>\n",
       "      <td>0.0</td>\n",
       "      <td>1.0</td>\n",
       "      <td>0.0</td>\n",
       "      <td>0.0</td>\n",
       "      <td>1.0</td>\n",
       "      <td>0.0</td>\n",
       "      <td>2686.05</td>\n",
       "      <td>105.50</td>\n",
       "      <td>25</td>\n",
       "    </tr>\n",
       "    <tr>\n",
       "      <th>1405</th>\n",
       "      <td>1.0</td>\n",
       "      <td>0.0</td>\n",
       "      <td>1.0</td>\n",
       "      <td>0.0</td>\n",
       "      <td>0.0</td>\n",
       "      <td>1.0</td>\n",
       "      <td>0.0</td>\n",
       "      <td>1.0</td>\n",
       "      <td>1.0</td>\n",
       "      <td>0.0</td>\n",
       "      <td>...</td>\n",
       "      <td>0.0</td>\n",
       "      <td>0.0</td>\n",
       "      <td>1.0</td>\n",
       "      <td>1.0</td>\n",
       "      <td>0.0</td>\n",
       "      <td>0.0</td>\n",
       "      <td>0.0</td>\n",
       "      <td>2333.85</td>\n",
       "      <td>50.90</td>\n",
       "      <td>45</td>\n",
       "    </tr>\n",
       "    <tr>\n",
       "      <th>1406</th>\n",
       "      <td>0.0</td>\n",
       "      <td>1.0</td>\n",
       "      <td>1.0</td>\n",
       "      <td>0.0</td>\n",
       "      <td>1.0</td>\n",
       "      <td>0.0</td>\n",
       "      <td>1.0</td>\n",
       "      <td>0.0</td>\n",
       "      <td>0.0</td>\n",
       "      <td>1.0</td>\n",
       "      <td>...</td>\n",
       "      <td>0.0</td>\n",
       "      <td>0.0</td>\n",
       "      <td>1.0</td>\n",
       "      <td>0.0</td>\n",
       "      <td>0.0</td>\n",
       "      <td>1.0</td>\n",
       "      <td>0.0</td>\n",
       "      <td>402.6</td>\n",
       "      <td>45.55</td>\n",
       "      <td>10</td>\n",
       "    </tr>\n",
       "    <tr>\n",
       "      <th>1407</th>\n",
       "      <td>0.0</td>\n",
       "      <td>1.0</td>\n",
       "      <td>1.0</td>\n",
       "      <td>0.0</td>\n",
       "      <td>0.0</td>\n",
       "      <td>1.0</td>\n",
       "      <td>0.0</td>\n",
       "      <td>1.0</td>\n",
       "      <td>0.0</td>\n",
       "      <td>1.0</td>\n",
       "      <td>...</td>\n",
       "      <td>0.0</td>\n",
       "      <td>1.0</td>\n",
       "      <td>0.0</td>\n",
       "      <td>0.0</td>\n",
       "      <td>1.0</td>\n",
       "      <td>0.0</td>\n",
       "      <td>0.0</td>\n",
       "      <td>2862.55</td>\n",
       "      <td>78.95</td>\n",
       "      <td>38</td>\n",
       "    </tr>\n",
       "    <tr>\n",
       "      <th>1408</th>\n",
       "      <td>1.0</td>\n",
       "      <td>0.0</td>\n",
       "      <td>0.0</td>\n",
       "      <td>1.0</td>\n",
       "      <td>1.0</td>\n",
       "      <td>0.0</td>\n",
       "      <td>1.0</td>\n",
       "      <td>0.0</td>\n",
       "      <td>0.0</td>\n",
       "      <td>1.0</td>\n",
       "      <td>...</td>\n",
       "      <td>0.0</td>\n",
       "      <td>0.0</td>\n",
       "      <td>1.0</td>\n",
       "      <td>0.0</td>\n",
       "      <td>0.0</td>\n",
       "      <td>1.0</td>\n",
       "      <td>0.0</td>\n",
       "      <td>4133.95</td>\n",
       "      <td>104.40</td>\n",
       "      <td>41</td>\n",
       "    </tr>\n",
       "  </tbody>\n",
       "</table>\n",
       "<p>1409 rows × 46 columns</p>\n",
       "</div>"
      ],
      "text/plain": [
       "      x0_Female  x0_Male  x1_0  x1_1  x2_No  x2_Yes  x3_No  x3_Yes  x4_No  \\\n",
       "0           1.0      0.0   1.0   0.0    0.0     1.0    0.0     1.0    1.0   \n",
       "1           0.0      1.0   1.0   0.0    1.0     0.0    1.0     0.0    0.0   \n",
       "2           0.0      1.0   1.0   0.0    0.0     1.0    0.0     1.0    0.0   \n",
       "3           1.0      0.0   0.0   1.0    1.0     0.0    1.0     0.0    0.0   \n",
       "4           1.0      0.0   1.0   0.0    1.0     0.0    1.0     0.0    0.0   \n",
       "...         ...      ...   ...   ...    ...     ...    ...     ...    ...   \n",
       "1404        0.0      1.0   1.0   0.0    1.0     0.0    1.0     0.0    0.0   \n",
       "1405        1.0      0.0   1.0   0.0    0.0     1.0    0.0     1.0    1.0   \n",
       "1406        0.0      1.0   1.0   0.0    1.0     0.0    1.0     0.0    0.0   \n",
       "1407        0.0      1.0   1.0   0.0    0.0     1.0    0.0     1.0    0.0   \n",
       "1408        1.0      0.0   0.0   1.0    1.0     0.0    1.0     0.0    0.0   \n",
       "\n",
       "      x4_Yes  ...  x13_Two year  x14_No  x14_Yes  \\\n",
       "0        0.0  ...           0.0     1.0      0.0   \n",
       "1        1.0  ...           0.0     0.0      1.0   \n",
       "2        1.0  ...           0.0     0.0      1.0   \n",
       "3        1.0  ...           0.0     0.0      1.0   \n",
       "4        1.0  ...           0.0     0.0      1.0   \n",
       "...      ...  ...           ...     ...      ...   \n",
       "1404     1.0  ...           0.0     0.0      1.0   \n",
       "1405     0.0  ...           0.0     0.0      1.0   \n",
       "1406     1.0  ...           0.0     0.0      1.0   \n",
       "1407     1.0  ...           0.0     1.0      0.0   \n",
       "1408     1.0  ...           0.0     0.0      1.0   \n",
       "\n",
       "      x15_Bank transfer (automatic)  x15_Credit card (automatic)  \\\n",
       "0                               0.0                          0.0   \n",
       "1                               0.0                          0.0   \n",
       "2                               0.0                          1.0   \n",
       "3                               0.0                          0.0   \n",
       "4                               1.0                          0.0   \n",
       "...                             ...                          ...   \n",
       "1404                            0.0                          0.0   \n",
       "1405                            1.0                          0.0   \n",
       "1406                            0.0                          0.0   \n",
       "1407                            0.0                          1.0   \n",
       "1408                            0.0                          0.0   \n",
       "\n",
       "      x15_Electronic check  x15_Mailed check  TotalCharges  MonthlyCharges  \\\n",
       "0                      0.0               1.0          92.5           40.30   \n",
       "1                      1.0               0.0       4273.45          101.75   \n",
       "2                      0.0               0.0       4451.85          104.30   \n",
       "3                      0.0               1.0          70.6           70.60   \n",
       "4                      0.0               0.0        403.35           44.20   \n",
       "...                    ...               ...           ...             ...   \n",
       "1404                   1.0               0.0       2686.05          105.50   \n",
       "1405                   0.0               0.0       2333.85           50.90   \n",
       "1406                   1.0               0.0         402.6           45.55   \n",
       "1407                   0.0               0.0       2862.55           78.95   \n",
       "1408                   1.0               0.0       4133.95          104.40   \n",
       "\n",
       "      tenure  \n",
       "0          3  \n",
       "1         42  \n",
       "2         43  \n",
       "3          1  \n",
       "4          9  \n",
       "...      ...  \n",
       "1404      25  \n",
       "1405      45  \n",
       "1406      10  \n",
       "1407      38  \n",
       "1408      41  \n",
       "\n",
       "[1409 rows x 46 columns]"
      ]
     },
     "execution_count": 108,
     "metadata": {},
     "output_type": "execute_result"
    }
   ],
   "source": [
    "test_OHE_df = pd.DataFrame(sc_OHE.fit_transform(X_test_OHE_mod).toarray())\n",
    "test_OHE_df.columns = sc_OHE.get_feature_names()\n",
    "\n",
    "test_OHE_df = test_OHE_df.join(X_test_OHE[\"TotalCharges\"])\n",
    "test_OHE_df = test_OHE_df.join(X_test_OHE[\"MonthlyCharges\"])\n",
    "test_OHE_df = test_OHE_df.join(X_test_OHE[\"tenure\"])"
   ]
  },
  {
   "cell_type": "code",
   "execution_count": 148,
   "id": "43494cfd",
   "metadata": {},
   "outputs": [],
   "source": [
    "xgb_SC_OHE = xgb.XGBClassifier(learning_rate=0.3, max_depth=30)"
   ]
  },
  {
   "cell_type": "code",
   "execution_count": 91,
   "id": "bed141f3",
   "metadata": {},
   "outputs": [],
   "source": [
    "missing_values_OHE = train_OHE_df[train_OHE_df['TotalCharges'] == train_OHE_df['TotalCharges'].min()].index"
   ]
  },
  {
   "cell_type": "code",
   "execution_count": 92,
   "id": "bf2fbdc9",
   "metadata": {},
   "outputs": [
    {
     "data": {
      "text/plain": [
       "Int64Index([1832, 2121, 2347, 2651, 2703, 3294, 3999, 5162], dtype='int64')"
      ]
     },
     "execution_count": 92,
     "metadata": {},
     "output_type": "execute_result"
    }
   ],
   "source": [
    "missing_values_OHE"
   ]
  },
  {
   "cell_type": "code",
   "execution_count": 93,
   "id": "0edb216d",
   "metadata": {},
   "outputs": [],
   "source": [
    "for i in missing_values_OHE:\n",
    "    train_OHE_df.loc[i,('TotalCharges')] = -1\n"
   ]
  },
  {
   "cell_type": "code",
   "execution_count": 110,
   "id": "cf73020f",
   "metadata": {},
   "outputs": [],
   "source": [
    "missing_values_OHE_test = test_OHE_df[test_OHE_df['TotalCharges'] == test_OHE_df['TotalCharges'].min()].index"
   ]
  },
  {
   "cell_type": "code",
   "execution_count": 111,
   "id": "a117cb06",
   "metadata": {},
   "outputs": [
    {
     "data": {
      "text/plain": [
       "Int64Index([765, 910, 1190], dtype='int64')"
      ]
     },
     "execution_count": 111,
     "metadata": {},
     "output_type": "execute_result"
    }
   ],
   "source": [
    "missing_values_OHE_test"
   ]
  },
  {
   "cell_type": "code",
   "execution_count": 112,
   "id": "40704f18",
   "metadata": {},
   "outputs": [],
   "source": [
    "for i in missing_values_OHE_test:\n",
    "    test_OHE_df.loc[i,('TotalCharges')] = -1"
   ]
  },
  {
   "cell_type": "code",
   "execution_count": 94,
   "id": "a43a0e5a",
   "metadata": {
    "scrolled": true
   },
   "outputs": [],
   "source": [
    "train_OHE_df['TotalCharges'] = train_OHE_df['TotalCharges'].astype('float64')"
   ]
  },
  {
   "cell_type": "code",
   "execution_count": 95,
   "id": "34e86abc",
   "metadata": {},
   "outputs": [
    {
     "data": {
      "text/plain": [
       "(5634, 46)"
      ]
     },
     "execution_count": 95,
     "metadata": {},
     "output_type": "execute_result"
    }
   ],
   "source": [
    "train_OHE_df.shape"
   ]
  },
  {
   "cell_type": "code",
   "execution_count": 145,
   "id": "9d4a2b83",
   "metadata": {},
   "outputs": [
    {
     "name": "stderr",
     "output_type": "stream",
     "text": [
      "C:\\Users\\Axl_w\\anaconda3\\lib\\site-packages\\xgboost\\sklearn.py:1224: UserWarning: The use of label encoder in XGBClassifier is deprecated and will be removed in a future release. To remove this warning, do the following: 1) Pass option use_label_encoder=False when constructing XGBClassifier object; and 2) Encode your labels (y) as integers starting with 0, i.e. 0, 1, 2, ..., [num_class - 1].\n",
      "  warnings.warn(label_encoder_deprecation_msg, UserWarning)\n"
     ]
    },
    {
     "name": "stdout",
     "output_type": "stream",
     "text": [
      "[12:25:08] WARNING: ..\\src\\learner.cc:1115: Starting in XGBoost 1.3.0, the default evaluation metric used with the objective 'binary:logistic' was changed from 'error' to 'logloss'. Explicitly set eval_metric if you'd like to restore the old behavior.\n"
     ]
    },
    {
     "data": {
      "text/plain": [
       "XGBClassifier(base_score=0.5, booster='gbtree', colsample_bylevel=1,\n",
       "              colsample_bynode=1, colsample_bytree=1, enable_categorical=False,\n",
       "              gamma=0, gpu_id=-1, importance_type=None,\n",
       "              interaction_constraints='', learning_rate=0.3, max_delta_step=0,\n",
       "              max_depth=200, min_child_weight=1, missing=nan,\n",
       "              monotone_constraints='()', n_estimators=100, n_jobs=8,\n",
       "              num_parallel_tree=1, predictor='auto', random_state=0,\n",
       "              reg_alpha=0, reg_lambda=1, scale_pos_weight=1, subsample=1,\n",
       "              tree_method='exact', validate_parameters=1, verbosity=None)"
      ]
     },
     "execution_count": 145,
     "metadata": {},
     "output_type": "execute_result"
    }
   ],
   "source": [
    "xgb_SC_OHE.fit(train_OHE_df, y_train_SC_OHE)"
   ]
  },
  {
   "cell_type": "code",
   "execution_count": 146,
   "id": "f991fbec",
   "metadata": {
    "scrolled": false
   },
   "outputs": [
    {
     "data": {
      "text/plain": [
       "0.7629524485450674"
      ]
     },
     "execution_count": 146,
     "metadata": {},
     "output_type": "execute_result"
    }
   ],
   "source": [
    "y_pred_OHE = xgb_SC_OHE.predict(test_OHE_df)\n",
    "\n",
    "accuracy_score(y_test_SC_OHE, y_pred_OHE)"
   ]
  },
  {
   "cell_type": "markdown",
   "id": "7747db71",
   "metadata": {},
   "source": [
    "## The feature_importances_ shows that there are many features in the boosted  trees that do not affect the performance of the algorithm"
   ]
  },
  {
   "cell_type": "code",
   "execution_count": 147,
   "id": "61191d16",
   "metadata": {
    "scrolled": true
   },
   "outputs": [
    {
     "data": {
      "text/plain": [
       "array([0.00516268, 0.        , 0.00822201, 0.        , 0.00658478,\n",
       "       0.        , 0.00636866, 0.        , 0.00687463, 0.        ,\n",
       "       0.00551477, 0.        , 0.00484058, 0.00528393, 0.48366752,\n",
       "       0.0070163 , 0.01617598, 0.        , 0.00283699, 0.00786995,\n",
       "       0.        , 0.00354758, 0.00654213, 0.        , 0.00298811,\n",
       "       0.01276568, 0.        , 0.00331088, 0.00713244, 0.        ,\n",
       "       0.00777053, 0.00570062, 0.        , 0.02362685, 0.28368664,\n",
       "       0.00969321, 0.01494194, 0.00579824, 0.        , 0.00675254,\n",
       "       0.0060888 , 0.00649185, 0.00503136, 0.00548229, 0.00563603,\n",
       "       0.01059346], dtype=float32)"
      ]
     },
     "execution_count": 147,
     "metadata": {},
     "output_type": "execute_result"
    }
   ],
   "source": [
    "xgb_SC_OHE.feature_importances_"
   ]
  },
  {
   "cell_type": "markdown",
   "id": "00941fce",
   "metadata": {},
   "source": [
    "## Converting the data by using OHE gives a slightly better performance than just label encoding.\n",
    "\n",
    "Increasing the number of levels in the trees (max_depth) to 30 reduces the accuracy of the model most likely because it becomes to well fitted to the training data. \n",
    "\n",
    "Reducing the learning rate increases the score to 0.79 at a learning rate of 0.1 from about 0.78 when the learning rate is set to 0.3"
   ]
  }
 ],
 "metadata": {
  "kernelspec": {
   "display_name": "Python 3 (ipykernel)",
   "language": "python",
   "name": "python3"
  },
  "language_info": {
   "codemirror_mode": {
    "name": "ipython",
    "version": 3
   },
   "file_extension": ".py",
   "mimetype": "text/x-python",
   "name": "python",
   "nbconvert_exporter": "python",
   "pygments_lexer": "ipython3",
   "version": "3.9.7"
  }
 },
 "nbformat": 4,
 "nbformat_minor": 5
}
