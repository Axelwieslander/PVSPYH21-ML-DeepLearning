{
 "cells": [
  {
   "cell_type": "markdown",
   "id": "9fd9b9f9",
   "metadata": {},
   "source": [
    "# RandomForest\n",
    "#### Axel Wieslander Jansson"
   ]
  },
  {
   "cell_type": "markdown",
   "id": "0d9656fe",
   "metadata": {},
   "source": [
    "* Train and evaluate the model\n",
    "* What are the most important attributes\n",
    "* Which classes are the most difficult for the model to classify correctly\n",
    "\n",
    "* Create your own random forest model\n",
    "* How does the model that you've created differ from the previous model\n",
    "* Does the new model have the same classification problems"
   ]
  },
  {
   "cell_type": "markdown",
   "id": "fdcd4076",
   "metadata": {},
   "source": [
    "Importing packages"
   ]
  },
  {
   "cell_type": "code",
   "execution_count": 1,
   "id": "907f2b8c",
   "metadata": {},
   "outputs": [],
   "source": [
    "import pandas as pd\n",
    "import numpy as np\n",
    "import matplotlib.pyplot as plt\n",
    "import seaborn as sns"
   ]
  },
  {
   "cell_type": "markdown",
   "id": "7eb7e1cf",
   "metadata": {},
   "source": [
    "Importera dataset to be analyzed"
   ]
  },
  {
   "cell_type": "code",
   "execution_count": 2,
   "id": "da90a2cc",
   "metadata": {},
   "outputs": [],
   "source": [
    "wine_df = pd.read_csv('../../Datasets/WineQT.csv')"
   ]
  },
  {
   "cell_type": "markdown",
   "id": "69b1ef47",
   "metadata": {},
   "source": [
    "Overview of dataset"
   ]
  },
  {
   "cell_type": "code",
   "execution_count": 3,
   "id": "4154289c",
   "metadata": {
    "scrolled": true
   },
   "outputs": [
    {
     "data": {
      "text/html": [
       "<div>\n",
       "<style scoped>\n",
       "    .dataframe tbody tr th:only-of-type {\n",
       "        vertical-align: middle;\n",
       "    }\n",
       "\n",
       "    .dataframe tbody tr th {\n",
       "        vertical-align: top;\n",
       "    }\n",
       "\n",
       "    .dataframe thead th {\n",
       "        text-align: right;\n",
       "    }\n",
       "</style>\n",
       "<table border=\"1\" class=\"dataframe\">\n",
       "  <thead>\n",
       "    <tr style=\"text-align: right;\">\n",
       "      <th></th>\n",
       "      <th>fixed acidity</th>\n",
       "      <th>volatile acidity</th>\n",
       "      <th>citric acid</th>\n",
       "      <th>residual sugar</th>\n",
       "      <th>chlorides</th>\n",
       "      <th>free sulfur dioxide</th>\n",
       "      <th>total sulfur dioxide</th>\n",
       "      <th>density</th>\n",
       "      <th>pH</th>\n",
       "      <th>sulphates</th>\n",
       "      <th>alcohol</th>\n",
       "      <th>quality</th>\n",
       "      <th>Id</th>\n",
       "    </tr>\n",
       "  </thead>\n",
       "  <tbody>\n",
       "    <tr>\n",
       "      <th>0</th>\n",
       "      <td>7.4</td>\n",
       "      <td>0.70</td>\n",
       "      <td>0.00</td>\n",
       "      <td>1.9</td>\n",
       "      <td>0.076</td>\n",
       "      <td>11.0</td>\n",
       "      <td>34.0</td>\n",
       "      <td>0.9978</td>\n",
       "      <td>3.51</td>\n",
       "      <td>0.56</td>\n",
       "      <td>9.4</td>\n",
       "      <td>5</td>\n",
       "      <td>0</td>\n",
       "    </tr>\n",
       "    <tr>\n",
       "      <th>1</th>\n",
       "      <td>7.8</td>\n",
       "      <td>0.88</td>\n",
       "      <td>0.00</td>\n",
       "      <td>2.6</td>\n",
       "      <td>0.098</td>\n",
       "      <td>25.0</td>\n",
       "      <td>67.0</td>\n",
       "      <td>0.9968</td>\n",
       "      <td>3.20</td>\n",
       "      <td>0.68</td>\n",
       "      <td>9.8</td>\n",
       "      <td>5</td>\n",
       "      <td>1</td>\n",
       "    </tr>\n",
       "    <tr>\n",
       "      <th>2</th>\n",
       "      <td>7.8</td>\n",
       "      <td>0.76</td>\n",
       "      <td>0.04</td>\n",
       "      <td>2.3</td>\n",
       "      <td>0.092</td>\n",
       "      <td>15.0</td>\n",
       "      <td>54.0</td>\n",
       "      <td>0.9970</td>\n",
       "      <td>3.26</td>\n",
       "      <td>0.65</td>\n",
       "      <td>9.8</td>\n",
       "      <td>5</td>\n",
       "      <td>2</td>\n",
       "    </tr>\n",
       "    <tr>\n",
       "      <th>3</th>\n",
       "      <td>11.2</td>\n",
       "      <td>0.28</td>\n",
       "      <td>0.56</td>\n",
       "      <td>1.9</td>\n",
       "      <td>0.075</td>\n",
       "      <td>17.0</td>\n",
       "      <td>60.0</td>\n",
       "      <td>0.9980</td>\n",
       "      <td>3.16</td>\n",
       "      <td>0.58</td>\n",
       "      <td>9.8</td>\n",
       "      <td>6</td>\n",
       "      <td>3</td>\n",
       "    </tr>\n",
       "    <tr>\n",
       "      <th>4</th>\n",
       "      <td>7.4</td>\n",
       "      <td>0.70</td>\n",
       "      <td>0.00</td>\n",
       "      <td>1.9</td>\n",
       "      <td>0.076</td>\n",
       "      <td>11.0</td>\n",
       "      <td>34.0</td>\n",
       "      <td>0.9978</td>\n",
       "      <td>3.51</td>\n",
       "      <td>0.56</td>\n",
       "      <td>9.4</td>\n",
       "      <td>5</td>\n",
       "      <td>4</td>\n",
       "    </tr>\n",
       "  </tbody>\n",
       "</table>\n",
       "</div>"
      ],
      "text/plain": [
       "   fixed acidity  volatile acidity  citric acid  residual sugar  chlorides  \\\n",
       "0            7.4              0.70         0.00             1.9      0.076   \n",
       "1            7.8              0.88         0.00             2.6      0.098   \n",
       "2            7.8              0.76         0.04             2.3      0.092   \n",
       "3           11.2              0.28         0.56             1.9      0.075   \n",
       "4            7.4              0.70         0.00             1.9      0.076   \n",
       "\n",
       "   free sulfur dioxide  total sulfur dioxide  density    pH  sulphates  \\\n",
       "0                 11.0                  34.0   0.9978  3.51       0.56   \n",
       "1                 25.0                  67.0   0.9968  3.20       0.68   \n",
       "2                 15.0                  54.0   0.9970  3.26       0.65   \n",
       "3                 17.0                  60.0   0.9980  3.16       0.58   \n",
       "4                 11.0                  34.0   0.9978  3.51       0.56   \n",
       "\n",
       "   alcohol  quality  Id  \n",
       "0      9.4        5   0  \n",
       "1      9.8        5   1  \n",
       "2      9.8        5   2  \n",
       "3      9.8        6   3  \n",
       "4      9.4        5   4  "
      ]
     },
     "execution_count": 3,
     "metadata": {},
     "output_type": "execute_result"
    }
   ],
   "source": [
    "wine_df.head()"
   ]
  },
  {
   "cell_type": "markdown",
   "id": "ae177332",
   "metadata": {},
   "source": [
    "Size of dataset"
   ]
  },
  {
   "cell_type": "code",
   "execution_count": 4,
   "id": "6e66c0e2",
   "metadata": {},
   "outputs": [
    {
     "data": {
      "text/plain": [
       "(1143, 13)"
      ]
     },
     "execution_count": 4,
     "metadata": {},
     "output_type": "execute_result"
    }
   ],
   "source": [
    "wine_df.shape"
   ]
  },
  {
   "cell_type": "markdown",
   "id": "63a5f9f1",
   "metadata": {},
   "source": [
    "Importing RandomForestclassifier + test_train split function. Splitting data into input(X) och output(y)"
   ]
  },
  {
   "cell_type": "code",
   "execution_count": 5,
   "id": "8ac5b53c",
   "metadata": {
    "scrolled": true
   },
   "outputs": [
    {
     "name": "stdout",
     "output_type": "stream",
     "text": [
      "X:\n",
      "   fixed acidity  volatile acidity  citric acid  residual sugar  chlorides  \\\n",
      "0            7.4              0.70         0.00             1.9      0.076   \n",
      "1            7.8              0.88         0.00             2.6      0.098   \n",
      "2            7.8              0.76         0.04             2.3      0.092   \n",
      "3           11.2              0.28         0.56             1.9      0.075   \n",
      "4            7.4              0.70         0.00             1.9      0.076   \n",
      "\n",
      "   free sulfur dioxide  total sulfur dioxide  density    pH  sulphates  \\\n",
      "0                 11.0                  34.0   0.9978  3.51       0.56   \n",
      "1                 25.0                  67.0   0.9968  3.20       0.68   \n",
      "2                 15.0                  54.0   0.9970  3.26       0.65   \n",
      "3                 17.0                  60.0   0.9980  3.16       0.58   \n",
      "4                 11.0                  34.0   0.9978  3.51       0.56   \n",
      "\n",
      "   alcohol  \n",
      "0      9.4  \n",
      "1      9.8  \n",
      "2      9.8  \n",
      "3      9.8  \n",
      "4      9.4  \n",
      "Output, y:\n",
      " 0    5\n",
      "1    5\n",
      "2    5\n",
      "3    6\n",
      "4    5\n",
      "Name: quality, dtype: int64\n"
     ]
    }
   ],
   "source": [
    "from sklearn.ensemble import RandomForestClassifier\n",
    "from sklearn.model_selection import train_test_split\n",
    "\n",
    "X = wine_df.drop(columns = ['Id', 'quality'])\n",
    "y = wine_df['quality']\n",
    "\n",
    "print(f\"X:\\n{X.head()}\\nOutput, y:\\n {y.head()}\")"
   ]
  },
  {
   "cell_type": "markdown",
   "id": "154811da",
   "metadata": {},
   "source": [
    "Creating test + training datasets"
   ]
  },
  {
   "cell_type": "code",
   "execution_count": 6,
   "id": "50a33bc6",
   "metadata": {},
   "outputs": [
    {
     "name": "stdout",
     "output_type": "stream",
     "text": [
      "Test size: (343, 11)\n",
      "Training size: (800, 11)\n"
     ]
    }
   ],
   "source": [
    "X_train, X_test, y_train, y_test = train_test_split(X, y, test_size = 0.3, random_state = 22)\n",
    "\n",
    "print(f\"Test size: {X_test.shape}\\nTraining size: {X_train.shape}\")"
   ]
  },
  {
   "cell_type": "code",
   "execution_count": 7,
   "id": "c0984a76",
   "metadata": {},
   "outputs": [
    {
     "name": "stdout",
     "output_type": "stream",
     "text": [
      "Wall time: 302 ms\n"
     ]
    },
    {
     "data": {
      "text/plain": [
       "RandomForestClassifier(random_state=22)"
      ]
     },
     "execution_count": 7,
     "metadata": {},
     "output_type": "execute_result"
    }
   ],
   "source": [
    "%%time\n",
    "clf = RandomForestClassifier(random_state = 22, n_estimators = 100)\n",
    "\n",
    "clf.fit(X_train, y_train)"
   ]
  },
  {
   "cell_type": "markdown",
   "id": "fb200f9a",
   "metadata": {},
   "source": [
    "### Testscore of model:"
   ]
  },
  {
   "cell_type": "code",
   "execution_count": 8,
   "id": "26999bed",
   "metadata": {},
   "outputs": [
    {
     "data": {
      "text/plain": [
       "0.6705539358600583"
      ]
     },
     "execution_count": 8,
     "metadata": {},
     "output_type": "execute_result"
    }
   ],
   "source": [
    "clf.score(X_test, y_test)"
   ]
  },
  {
   "cell_type": "code",
   "execution_count": 9,
   "id": "dffa1481",
   "metadata": {},
   "outputs": [
    {
     "data": {
      "text/plain": [
       "100"
      ]
     },
     "execution_count": 9,
     "metadata": {},
     "output_type": "execute_result"
    }
   ],
   "source": [
    "clf.n_estimators"
   ]
  },
  {
   "cell_type": "markdown",
   "id": "80188ae2",
   "metadata": {},
   "source": [
    "### Attribute weight modell:\n",
    "The five most important attributes are:\n",
    "1. Alchol\n",
    "2. total sulfur dioxide\n",
    "3. sulphates\n",
    "4. volatile acidity\n",
    "5. density\n"
   ]
  },
  {
   "cell_type": "code",
   "execution_count": 10,
   "id": "bf4b98d6",
   "metadata": {},
   "outputs": [
    {
     "name": "stdout",
     "output_type": "stream",
     "text": [
      "['residual sugar', 0.06541804685471951]\n",
      "['free sulfur dioxide', 0.06617348727521881]\n",
      "['fixed acidity', 0.07210142643686988]\n",
      "['citric acid', 0.07535048158722817]\n",
      "['chlorides', 0.08150922536076462]\n",
      "['pH', 0.08229588601623757]\n",
      "['density', 0.0890996033230491]\n",
      "['volatile acidity', 0.09787201288240209]\n",
      "['sulphates', 0.10832507038295443]\n",
      "['total sulfur dioxide', 0.1099287457414203]\n",
      "['alcohol', 0.1519260141391358]\n"
     ]
    }
   ],
   "source": [
    "from operator import itemgetter\n",
    "\n",
    "feature_values = clf.feature_importances_\n",
    "feature_names = list(X)\n",
    "feature_list = []\n",
    "for i in range(len(feature_names)):\n",
    "    temp = []\n",
    "    temp.append(feature_names[i])\n",
    "    temp.append(feature_values[i])\n",
    "    feature_list.append(temp)\n",
    "sorted_list = sorted(feature_list, key=itemgetter(1))\n",
    "for i in range(len(sorted_list)):\n",
    "    print(sorted_list[i])"
   ]
  },
  {
   "cell_type": "markdown",
   "id": "938435ed",
   "metadata": {},
   "source": [
    "### Evaluation of classes."
   ]
  },
  {
   "cell_type": "markdown",
   "id": "55a5a4d4",
   "metadata": {},
   "source": [
    "The model cannot accurately predict the values 3, 4 or 8. There are very few datapoints with these values as output which leads to less opportunities for the model to learn and predict these. Since RandomForest creates multiple decision trees based on sampled training data it is possible that some of the trees do not even see these values as actual outputs and cannot predict them, and since the RandomForestClassifier will predict the most common prediction of the decision trees in the forest, classifying these outliers correctly is unlikely. Some of the trees might not even see these outlying values as options!"
   ]
  },
  {
   "cell_type": "code",
   "execution_count": 11,
   "id": "21358e6b",
   "metadata": {},
   "outputs": [
    {
     "data": {
      "text/plain": [
       "<sklearn.metrics._plot.confusion_matrix.ConfusionMatrixDisplay at 0x20b510cd550>"
      ]
     },
     "execution_count": 11,
     "metadata": {},
     "output_type": "execute_result"
    },
    {
     "data": {
      "image/png": "[encoded data removed]",
      "text/plain": [
       "<Figure size 432x288 with 2 Axes>"
      ]
     },
     "metadata": {
      "needs_background": "light"
     },
     "output_type": "display_data"
    }
   ],
   "source": [
    "from sklearn.metrics import confusion_matrix, ConfusionMatrixDisplay\n",
    "\n",
    "y_pred = clf.predict(X_test)\n",
    "\n",
    "y_pred_cm = confusion_matrix(y_test,y_pred)\n",
    "y_pred_cm_display = ConfusionMatrixDisplay(y_pred_cm, display_labels=['3','4','5','6','7','8'])\n",
    "y_pred_cm_display.plot()\n"
   ]
  },
  {
   "cell_type": "markdown",
   "id": "0e40202c",
   "metadata": {},
   "source": [
    "# Creating a RandomForest classifier from decision trees\n"
   ]
  },
  {
   "cell_type": "code",
   "execution_count": 12,
   "id": "3f9bd154",
   "metadata": {
    "scrolled": true
   },
   "outputs": [
    {
     "name": "stdout",
     "output_type": "stream",
     "text": [
      "Amount of quality = 3 in test set: 3\n",
      "Amount of quality = 8 in test set: 6\n",
      "Amount of quality = 3 in training set: 3\n",
      "Amount of quality = 8 in training set: 10\n",
      "\n",
      "The accuracy of the model is: 0.6370106761565836\n",
      "Wall time: 838 ms\n"
     ]
    },
    {
     "data": {
      "image/png": "[encoded data removed]",
      "text/plain": [
       "<Figure size 432x288 with 2 Axes>"
      ]
     },
     "metadata": {
      "needs_background": "light"
     },
     "output_type": "display_data"
    }
   ],
   "source": [
    "%%time\n",
    "\n",
    "import matplotlib.pyplot as plt\n",
    "from sklearn.tree import DecisionTreeClassifier\n",
    "from sklearn.model_selection import train_test_split\n",
    "from sklearn.metrics import confusion_matrix, ConfusionMatrixDisplay\n",
    "import random\n",
    "import time \n",
    "\n",
    "\n",
    "n_trees = 100\n",
    "n_feature_drop = 4\n",
    "#Creating the classifier for the decision trees\n",
    "D_t_clf = DecisionTreeClassifier(random_state = 22)\n",
    "\n",
    "#Splitting into test and train data.\n",
    "np.random.seed(20)\n",
    "wine_df['is_train'] = np.random.uniform(0, 1, len(X)) <= 0.75\n",
    "train_data = wine_df[wine_df['is_train'] == True]\n",
    "test_data = wine_df[wine_df['is_train'] == False]\n",
    "train_data = train_data.drop(columns = ['is_train'])\n",
    "test_data = test_data.drop(columns = ['is_train'])\n",
    "\n",
    "X_test_data = test_data.drop(columns = ['Id', 'quality'])\n",
    "y_test_data = test_data['quality']\n",
    "\n",
    "\n",
    "#Checking in which split(test or train) the extremevalues end up\n",
    "\n",
    "print(f\"Amount of quality = 3 in test set: {y_test_data.value_counts()[3]}\")\n",
    "print(f\"Amount of quality = 8 in test set: {y_test_data.value_counts()[8]}\")\n",
    "\n",
    "print(f\"Amount of quality = 3 in training set: {train_data['quality'].value_counts()[3]}\")\n",
    "print(f\"Amount of quality = 8 in training set: {train_data['quality'].value_counts()[8]}\")\n",
    "#Creating the \"RandomForest\".\n",
    "def createRandomForest(n_trees:int, sample_frac:int, n_features_to_drop:int) -> list:\n",
    "    prediction_list = []\n",
    "    for i in range(n_trees):\n",
    "        \n",
    "        #Creating new testdata to be used in the decision trees based on the original testdata\n",
    "        #replace = True allows for duplicate entries to be added to the new testdata\n",
    "\n",
    "        df_split = train_data.sample(frac = sample_frac, replace = True)\n",
    "        X_dt = df_split.drop(columns = ['Id','quality'])\n",
    "        y_dt = df_split['quality']\n",
    "        \n",
    "        #Dropping a set number of features from the dataset.\n",
    "        #The random seed generates new random features each loop (can be the same in different order, but the dataset they affect on will differ)\n",
    "        random.seed(i)\n",
    "        params_to_remove = random.sample(list(X_dt), k = n_features_to_drop)\n",
    "        X_dt = X_dt.drop(columns = params_to_remove)\n",
    "        X_test_data_dt = X_test_data.drop(columns = params_to_remove)\n",
    "        \n",
    "        #Creating the model\n",
    "        D_t_clf.fit(X_dt,y_dt)\n",
    "        #Creating a list of all predictions for each Test value\n",
    "        predictions = D_t_clf.predict(X_test_data_dt)\n",
    "        prediction_list.append(predictions)\n",
    "\n",
    "    return prediction_list\n",
    "\n",
    "\n",
    "def getAccuracy(predictions:list, y_test:list):\n",
    "\n",
    "    correct_pred = ((predictions == y_test).sum())\n",
    "    accuracy = correct_pred/len(y_test)\n",
    "    return accuracy\n",
    "    \n",
    "#Finding the most common prediction    \n",
    "def mostCommonPredictionArray(predictions):\n",
    "    predicts = np.stack(predictions,axis = 0)\n",
    "    most_common_prediction = []\n",
    "    for i in range(len(predicts[0])):\n",
    "        occurences = []\n",
    "        for j in range(len(predicts)):\n",
    "            occurences.append(predicts[j][i])\n",
    "            \n",
    "        most_common_value = np.bincount(occurences).argmax()\n",
    "        most_common_prediction.append(most_common_value)\n",
    "         \n",
    "    return most_common_prediction\n",
    "\n",
    "def confusionMatrix(prediction,y_test):\n",
    "    create_cm = confusion_matrix(y_test,prediction)\n",
    "    y_pred_cm_display = ConfusionMatrixDisplay(create_cm, display_labels=['3','4','5','6','7','8'])\n",
    "    y_pred_cm_display.plot()\n",
    "    \n",
    "#Create RandomForest model\n",
    "predictions = createRandomForest(n_trees, 0.7, n_feature_drop)\n",
    "\n",
    "y_test_data = y_test_data.array\n",
    "prediction_new = mostCommonPredictionArray(predictions)\n",
    "\n",
    "accuracy = getAccuracy(prediction_new,y_test_data)\n",
    "print(f\"\\nThe accuracy of the model is: {accuracy}\")\n",
    "\n",
    "confusionMatrix(prediction_new,y_test_data)"
   ]
  },
  {
   "cell_type": "markdown",
   "id": "e01bbd16",
   "metadata": {},
   "source": [
    "# Moving all extreme values to the trainingdata\n",
    "\n",
    "\n",
    "Gives a better score since these are the most difficult to classify "
   ]
  },
  {
   "cell_type": "code",
   "execution_count": 33,
   "id": "441dc289",
   "metadata": {},
   "outputs": [
    {
     "name": "stdout",
     "output_type": "stream",
     "text": [
      "<bound method NDFrame.head of       fixed acidity  volatile acidity  citric acid  residual sugar  chlorides  \\\n",
      "0               7.4             0.700         0.00             1.9      0.076   \n",
      "1               7.8             0.880         0.00             2.6      0.098   \n",
      "2               7.8             0.760         0.04             2.3      0.092   \n",
      "3              11.2             0.280         0.56             1.9      0.075   \n",
      "4               7.4             0.700         0.00             1.9      0.076   \n",
      "...             ...               ...          ...             ...        ...   \n",
      "1138            6.3             0.510         0.13             2.3      0.076   \n",
      "1139            6.8             0.620         0.08             1.9      0.068   \n",
      "1140            6.2             0.600         0.08             2.0      0.090   \n",
      "1141            5.9             0.550         0.10             2.2      0.062   \n",
      "1142            5.9             0.645         0.12             2.0      0.075   \n",
      "\n",
      "      free sulfur dioxide  total sulfur dioxide  density    pH  sulphates  \\\n",
      "0                    11.0                  34.0  0.99780  3.51       0.56   \n",
      "1                    25.0                  67.0  0.99680  3.20       0.68   \n",
      "2                    15.0                  54.0  0.99700  3.26       0.65   \n",
      "3                    17.0                  60.0  0.99800  3.16       0.58   \n",
      "4                    11.0                  34.0  0.99780  3.51       0.56   \n",
      "...                   ...                   ...      ...   ...        ...   \n",
      "1138                 29.0                  40.0  0.99574  3.42       0.75   \n",
      "1139                 28.0                  38.0  0.99651  3.42       0.82   \n",
      "1140                 32.0                  44.0  0.99490  3.45       0.58   \n",
      "1141                 39.0                  51.0  0.99512  3.52       0.76   \n",
      "1142                 32.0                  44.0  0.99547  3.57       0.71   \n",
      "\n",
      "      alcohol  quality    Id  is_train  \n",
      "0         9.4        5     0      True  \n",
      "1         9.8        5     1     False  \n",
      "2         9.8        5     2     False  \n",
      "3         9.8        6     3     False  \n",
      "4         9.4        5     4      True  \n",
      "...       ...      ...   ...       ...  \n",
      "1138     11.0        6  1592     False  \n",
      "1139      9.5        6  1593      True  \n",
      "1140     10.5        5  1594      True  \n",
      "1141     11.2        6  1595      True  \n",
      "1142     10.2        5  1597      True  \n",
      "\n",
      "[1143 rows x 14 columns]>\n",
      "Amount of quality = 3 in training set: 6\n",
      "Amount of quality = 8 in training set: 16\n",
      "\n",
      "The accuracy of the model is: 0.6691176470588235\n",
      "Wall time: 874 ms\n"
     ]
    },
    {
     "data": {
      "image/png": "[encoded data removed]",
      "text/plain": [
       "<Figure size 432x288 with 2 Axes>"
      ]
     },
     "metadata": {
      "needs_background": "light"
     },
     "output_type": "display_data"
    }
   ],
   "source": [
    "%%time\n",
    "\n",
    "import matplotlib.pyplot as plt\n",
    "from sklearn.tree import DecisionTreeClassifier\n",
    "from sklearn.model_selection import train_test_split\n",
    "from sklearn.metrics import confusion_matrix, ConfusionMatrixDisplay\n",
    "import random\n",
    "import time \n",
    "\n",
    "\n",
    "n_trees = 100\n",
    "n_feature_drop = 4\n",
    "\n",
    "D_t_clf = DecisionTreeClassifier(random_state = 22)\n",
    "\n",
    "\n",
    "np.random.seed(20)\n",
    "wine_df['is_train'] = np.random.uniform(0, 1, len(X)) <= 0.75\n",
    "train_data = wine_df[(wine_df['is_train'] == True) | (wine_df['quality'] == 3) | (wine_df['quality'] == 8)]\n",
    "test_data = wine_df[(wine_df['is_train'] == False) & (wine_df['quality'] != 3) & (wine_df['quality'] != 8)]\n",
    "\n",
    "print(wine_df.head)\n",
    "train_data = train_data.drop(columns = ['is_train'])\n",
    "test_data = test_data.drop(columns = ['is_train'])\n",
    "\n",
    "X_test_data = test_data.drop(columns = ['Id', 'quality'])\n",
    "y_test_data = test_data['quality']\n",
    "\n",
    "\n",
    "\n",
    "print(f\"Amount of quality = 3 in training set: {train_data['quality'].value_counts()[3]}\")\n",
    "print(f\"Amount of quality = 8 in training set: {train_data['quality'].value_counts()[8]}\")\n",
    "\n",
    "def createRandomForest(n_trees:int, sample_frac:int, n_features_to_drop:int) -> list:\n",
    "    prediction_list = []\n",
    "    for i in range(n_trees):\n",
    "        \n",
    "\n",
    "        \n",
    "        df_split = train_data.sample(frac = sample_frac, replace = True)\n",
    "        X_dt = df_split.drop(columns = ['Id','quality'])\n",
    "        y_dt = df_split['quality']\n",
    "        \n",
    "\n",
    "        random.seed(i)\n",
    "        params_to_remove = random.sample(list(X_dt), k = n_features_to_drop)\n",
    "        X_dt = X_dt.drop(columns = params_to_remove)\n",
    "        X_test_data_dt = X_test_data.drop(columns = params_to_remove)\n",
    "        \n",
    "\n",
    "        D_t_clf.fit(X_dt,y_dt)\n",
    "\n",
    "        predictions = D_t_clf.predict(X_test_data_dt)\n",
    "        prediction_list.append(predictions)\n",
    "\n",
    "    return prediction_list\n",
    "\n",
    "\n",
    "def getAccuracy(predictions:list, y_test:list):\n",
    "\n",
    "    correct_pred = ((predictions == y_test).sum())\n",
    "    accuracy = correct_pred/len(y_test)\n",
    "    return accuracy\n",
    "    \n",
    "def mostCommonPredictionArray(predictions):\n",
    "    predicts = np.stack(predictions,axis = 0)\n",
    "    most_common_prediction = []\n",
    "    for i in range(len(predicts[0])):\n",
    "        occurences = []\n",
    "        for j in range(len(predicts)):\n",
    "            occurences.append(predicts[j][i])\n",
    "            \n",
    "        most_common_value = np.bincount(occurences).argmax()\n",
    "        most_common_prediction.append(most_common_value)\n",
    "         \n",
    "    return most_common_prediction\n",
    "\n",
    "def confusionMatrix(prediction,y_test):\n",
    "    create_cm = confusion_matrix(y_test,prediction)\n",
    "    y_pred_cm_display = ConfusionMatrixDisplay(create_cm, display_labels=['4','5','6','7'])\n",
    "    y_pred_cm_display.plot()\n",
    "    \n",
    "\n",
    "predictions = createRandomForest(n_trees, 0.7, n_feature_drop)\n",
    "\n",
    "\n",
    "y_test_data = y_test_data.array\n",
    "prediction_new = mostCommonPredictionArray(predictions)\n",
    "\n",
    "accuracy = getAccuracy(prediction_new,y_test_data)\n",
    "print(f\"\\nThe accuracy of the model is: {accuracy}\")\n",
    "\n",
    "confusionMatrix(prediction_new,y_test_data)"
   ]
  },
  {
   "cell_type": "markdown",
   "id": "3d20053c",
   "metadata": {},
   "source": [
    "# Finding the best  testscore:\n",
    "\n",
    "Demonstration of the impact of random seed.\n",
    "By looping through random seed 0-100 a test score of 0.7313915857605178, is found at random seed 99 when wine_df[train] = 0.75 and  n_features_drop = 7\n"
   ]
  },
  {
   "cell_type": "code",
   "execution_count": 86,
   "id": "dd2c5d2b",
   "metadata": {
    "scrolled": true
   },
   "outputs": [
    {
     "name": "stdout",
     "output_type": "stream",
     "text": [
      "(279, 11)\n",
      "(295, 11)\n",
      "(261, 11)\n",
      "(261, 11)\n",
      "(297, 11)\n",
      "(279, 11)\n",
      "(293, 11)\n",
      "(289, 11)\n",
      "(276, 11)\n",
      "(272, 11)\n",
      "(295, 11)\n",
      "(295, 11)\n",
      "(295, 11)\n",
      "(287, 11)\n",
      "(272, 11)\n",
      "(284, 11)\n",
      "(260, 11)\n",
      "(280, 11)\n",
      "(271, 11)\n",
      "(269, 11)\n",
      "(281, 11)\n",
      "(297, 11)\n",
      "(266, 11)\n",
      "(269, 11)\n",
      "(298, 11)\n",
      "(309, 11)\n",
      "(302, 11)\n",
      "(276, 11)\n",
      "(293, 11)\n",
      "(283, 11)\n",
      "(295, 11)\n",
      "(281, 11)\n",
      "(296, 11)\n",
      "(304, 11)\n",
      "\n",
      "The accuracy of the model is: 0.7171052631578947\n",
      "k: 33\n",
      "(280, 11)\n",
      "\n",
      "The accuracy of the model is: 0.7035714285714286\n",
      "k: 34\n",
      "(297, 11)\n",
      "(255, 11)\n",
      "(275, 11)\n",
      "(280, 11)\n",
      "(299, 11)\n",
      "(292, 11)\n",
      "(276, 11)\n",
      "(288, 11)\n",
      "(294, 11)\n",
      "(286, 11)\n",
      "(278, 11)\n",
      "\n",
      "The accuracy of the model is: 0.7122302158273381\n",
      "k: 45\n",
      "(288, 11)\n",
      "\n",
      "The accuracy of the model is: 0.7013888888888888\n",
      "k: 46\n",
      "(309, 11)\n",
      "(274, 11)\n",
      "(291, 11)\n",
      "(269, 11)\n",
      "(285, 11)\n",
      "(310, 11)\n",
      "(253, 11)\n",
      "(255, 11)\n",
      "(264, 11)\n",
      "\n",
      "The accuracy of the model is: 0.7234848484848485\n",
      "k: 55\n",
      "(291, 11)\n",
      "(270, 11)\n",
      "(267, 11)\n",
      "(273, 11)\n",
      "(252, 11)\n",
      "(279, 11)\n",
      "(276, 11)\n",
      "(289, 11)\n",
      "(255, 11)\n",
      "(257, 11)\n",
      "(264, 11)\n",
      "(284, 11)\n",
      "(299, 11)\n",
      "(268, 11)\n",
      "(307, 11)\n",
      "(293, 11)\n",
      "(287, 11)\n",
      "(276, 11)\n",
      "(288, 11)\n",
      "(300, 11)\n",
      "(279, 11)\n",
      "(260, 11)\n",
      "(270, 11)\n",
      "(272, 11)\n",
      "(323, 11)\n",
      "(244, 11)\n",
      "(275, 11)\n",
      "(288, 11)\n",
      "\n",
      "The accuracy of the model is: 0.7013888888888888\n",
      "k: 83\n",
      "(265, 11)\n",
      "(280, 11)\n",
      "(282, 11)\n",
      "(288, 11)\n",
      "(299, 11)\n",
      "(289, 11)\n",
      "\n",
      "The accuracy of the model is: 0.7024221453287197\n",
      "k: 89\n",
      "(276, 11)\n",
      "(294, 11)\n",
      "(293, 11)\n",
      "(271, 11)\n",
      "(276, 11)\n",
      "(263, 11)\n",
      "(318, 11)\n",
      "(293, 11)\n",
      "(276, 11)\n",
      "(309, 11)\n",
      "\n",
      "The accuracy of the model is: 0.7313915857605178\n",
      "k: 99\n"
     ]
    }
   ],
   "source": [
    "import matplotlib.pyplot as plt\n",
    "from sklearn.tree import DecisionTreeClassifier\n",
    "from sklearn.model_selection import train_test_split\n",
    "from sklearn.metrics import confusion_matrix, ConfusionMatrixDisplay\n",
    "import random\n",
    "import time \n",
    "\n",
    "\n",
    "n_trees = 1000\n",
    "n_feature_drop = 7\n",
    "\n",
    "\n",
    "D_t_clf = DecisionTreeClassifier(random_state = 22)\n",
    "\n",
    "\n",
    "for k in range(100):\n",
    "    np.random.seed(k)\n",
    "    wine_df['is_train'] = np.random.uniform(0, 1, len(X)) <= 0.75\n",
    "    train_data = wine_df[wine_df['is_train'] == True]\n",
    "    test_data = wine_df[wine_df['is_train'] == False]\n",
    "    train_data = train_data.drop(columns = ['is_train'])\n",
    "    test_data = test_data.drop(columns = ['is_train'])\n",
    "\n",
    "    X_test_data = test_data.drop(columns = ['Id', 'quality'])\n",
    "    y_test_data = test_data['quality']\n",
    "\n",
    "    print(X_test_data.shape)\n",
    "\n",
    "    def createRandomForest(n_trees:int, sample_frac:int, n_features_to_drop:int) -> list:\n",
    "        prediction_list = []\n",
    "        for i in range(n_trees):\n",
    "\n",
    "\n",
    "\n",
    "            df_split = train_data.sample(frac = sample_frac, replace = True)\n",
    "            X_dt = df_split.drop(columns = ['Id','quality'])\n",
    "            y_dt = df_split['quality']\n",
    "\n",
    "            random.seed(i)\n",
    "            params_to_remove = random.sample(list(X_dt), k = n_features_to_drop)\n",
    "\n",
    "\n",
    "            X_dt = X_dt.drop(columns = params_to_remove)\n",
    "            X_test_data_dt = X_test_data.drop(columns = params_to_remove)\n",
    "            \n",
    "\n",
    "            D_t_clf.fit(X_dt,y_dt)\n",
    "\n",
    "            predictions = D_t_clf.predict(X_test_data_dt)\n",
    "            prediction_list.append(predictions)\n",
    "\n",
    "        return prediction_list\n",
    "\n",
    "\n",
    "    def getAccuracy(predictions:list, y_test:list):\n",
    "        correct_pred = ((predictions == y_test).sum())\n",
    "        accuracy = correct_pred/len(y_test)\n",
    "        return accuracy\n",
    "\n",
    "    def mostCommonPredictionArray(predictions):\n",
    "        predicts = np.stack(predictions,axis = 0)\n",
    "        most_common_prediction = []\n",
    "        for i in range(len(predicts[0])):\n",
    "            occurences = []\n",
    "            for j in range(len(predicts)):\n",
    "                occurences.append(predicts[j][i])\n",
    "\n",
    "            most_common_value = np.bincount(occurences).argmax()\n",
    "            most_common_prediction.append(most_common_value)\n",
    "\n",
    "        return most_common_prediction\n",
    "\n",
    "    def confusionMatrix(prediction,y_test):\n",
    "        create_cm = confusion_matrix(y_test,prediction)\n",
    "        y_pred_cm_display = ConfusionMatrixDisplay(create_cm, display_labels=['3','4','5','6','7','8'])\n",
    "        y_pred_cm_display.plot()\n",
    "\n",
    "\n",
    "    predictions = createRandomForest(n_trees, 0.7, 4)\n",
    "\n",
    "    y_test_data = y_test_data.array\n",
    "    prediction_new = mostCommonPredictionArray(predictions)\n",
    "\n",
    "    accuracy = getAccuracy(prediction_new,y_test_data)\n",
    "    if accuracy > 0.7:\n",
    "        print(f\"\\nThe accuracy of the model is: {accuracy}\")\n",
    "        print(f\"k: {k}\")\n",
    "\n"
   ]
  },
  {
   "attachments": {
    "image.png": {
     "image/png": "[encoded data removed]"
    }
   },
   "cell_type": "markdown",
   "id": "26b3f15b",
   "metadata": {},
   "source": [
    "# Model using K-folds\n",
    "\n",
    "\n",
    "Creates a more realistic model. The data is in this case split into 5-parts where 1 of these is the testset and the remaining 4 are the training data. The model will go through this 5-part split and change the split that is set as the testdata and those that are set to trainingdata until all parts have been set to testdata, and the evaluation of the modelperformance are based on the score produced by these 5 parts.\n",
    "\n",
    "Imageexplanation:\n",
    "![image.png](attachment:image.png)"
   ]
  },
  {
   "cell_type": "code",
   "execution_count": 50,
   "id": "00e4980a",
   "metadata": {},
   "outputs": [
    {
     "name": "stdout",
     "output_type": "stream",
     "text": [
      "The accuracy after k-folds stuff:0.6690391459074733\n"
     ]
    },
    {
     "data": {
      "image/png": "[encoded data removed]",
      "text/plain": [
       "<Figure size 432x288 with 2 Axes>"
      ]
     },
     "metadata": {
      "needs_background": "light"
     },
     "output_type": "display_data"
    },
    {
     "data": {
      "text/plain": [
       "<Figure size 432x288 with 0 Axes>"
      ]
     },
     "metadata": {},
     "output_type": "display_data"
    }
   ],
   "source": [
    "import matplotlib.pyplot as plt\n",
    "from sklearn.tree import DecisionTreeClassifier\n",
    "from sklearn.model_selection import train_test_split, KFold\n",
    "from sklearn.metrics import confusion_matrix, ConfusionMatrixDisplay\n",
    "import random\n",
    "import time \n",
    "\n",
    "\n",
    "n_trees = 100\n",
    "n_feature_drop = 4\n",
    "\n",
    "D_t_clf = DecisionTreeClassifier(random_state = 22)\n",
    "\n",
    "\n",
    "np.random.seed(20)\n",
    "wine_df['is_train'] = np.random.uniform(0, 1, len(X)) <= 0.75\n",
    "train_data = wine_df[wine_df['is_train'] == True]\n",
    "test_data = wine_df[wine_df['is_train'] == False]\n",
    "train_data = train_data.drop(columns = ['is_train'])\n",
    "test_data = test_data.drop(columns = ['is_train'])\n",
    "\n",
    "X_test_data = test_data.drop(columns = ['Id', 'quality'])\n",
    "y_test_data = test_data['quality']\n",
    "\n",
    "kf = KFold(n_splits = 5)\n",
    "\n",
    "def createRandomForest(train_data, test_data ,n_trees:int, sample_frac:int, n_features_to_drop:int) -> list:\n",
    "    prediction_list = []\n",
    "    \n",
    "    for i in range(n_trees):\n",
    "        \n",
    "\n",
    "        \n",
    "        df_split = train_data.sample(frac = sample_frac, replace = True)\n",
    "        X_dt = df_split.drop(columns = ['Id','quality'])\n",
    "        y_dt = df_split['quality']\n",
    "\n",
    "        random.seed(i)\n",
    "        params_to_remove = random.sample(list(X_dt), k = n_features_to_drop)\n",
    "        \n",
    "        X_dt = X_dt.drop(columns = params_to_remove)\n",
    "        X_test_data_dt = X_test_data.drop(columns = params_to_remove)\n",
    "        \n",
    "\n",
    "        D_t_clf.fit(X_dt,y_dt)\n",
    "\n",
    "        predictions = D_t_clf.predict(X_test_data_dt)\n",
    "        prediction_list.append(predictions)\n",
    "    return prediction_list\n",
    "\n",
    "\n",
    "def getAccuracy(predictions:list, y_test:list):\n",
    "\n",
    "    correct_pred = ((predictions == y_test).sum())\n",
    "    accuracy = correct_pred/len(y_test)\n",
    "    return accuracy\n",
    "    \n",
    "def mostCommonPredictionArray(predictions):\n",
    "    predicts = np.stack(predictions,axis = 0)\n",
    "    most_common_prediction = []\n",
    "    for i in range(len(predicts[0])):\n",
    "        occurences = []\n",
    "        for j in range(len(predicts)):\n",
    "            occurences.append(predicts[j][i])\n",
    "            \n",
    "        most_common_value = np.bincount(occurences).argmax()\n",
    "        most_common_prediction.append(most_common_value)\n",
    "         \n",
    "    return most_common_prediction\n",
    "\n",
    "def confusionMatrix(prediction,y_test):\n",
    "    create_cm = confusion_matrix(y_test,prediction)\n",
    "    y_pred_cm_display = ConfusionMatrixDisplay(create_cm, display_labels=['3','4','5','6','7','8'])\n",
    "    y_pred_cm_display.plot()\n",
    "    plt.figure()\n",
    "    \n",
    "\n",
    "\n",
    "y_test_data = y_test_data.array\n",
    "\n",
    "k_folds_predictions = []\n",
    "\n",
    "for train_index, test_index in kf.split(train_data):\n",
    "    new_train_data = train_data.iloc[train_index]\n",
    "    new_test_data = train_data.iloc[test_index]\n",
    "    predictions = createRandomForest(new_train_data,new_test_data,n_trees, 0.7, n_feature_drop)\n",
    "    prediction_new = mostCommonPredictionArray(predictions)\n",
    "    k_folds_predictions.append(prediction_new)\n",
    "    \n",
    "k_folds_prediction =(np.mean(k_folds_predictions,axis = 0).round())\n",
    "k_folds_accuracy = getAccuracy(k_folds_prediction,y_test_data)\n",
    "\n",
    "print(f\"The accuracy after k-folds stuff:{k_folds_accuracy}\")\n",
    "\n",
    "confusionMatrix(k_folds_prediction,y_test_data)"
   ]
  }
 ],
 "metadata": {
  "kernelspec": {
   "display_name": "Python 3 (ipykernel)",
   "language": "python",
   "name": "python3"
  },
  "language_info": {
   "codemirror_mode": {
    "name": "ipython",
    "version": 3
   },
   "file_extension": ".py",
   "mimetype": "text/x-python",
   "name": "python",
   "nbconvert_exporter": "python",
   "pygments_lexer": "ipython3",
   "version": "3.9.7"
  }
 },
 "nbformat": 4,
 "nbformat_minor": 5
}
