{
 "cells": [
  {
   "cell_type": "markdown",
   "id": "76a0f169",
   "metadata": {},
   "source": [
    "* Create your own K-means algorithm\n",
    "* Analyze each dataset\n",
    "* Does the data need to be normalized?\n",
    "* Print the clusters using PCA"
   ]
  },
  {
   "cell_type": "markdown",
   "id": "7d68da10",
   "metadata": {},
   "source": [
    "\n",
    "At the bottom of the document there is some experimentation with the mall_customers dataset. A dataset using OneHotEconder instead of LabelEncoder is produced and studied and at the bottom of the document there is an elbow chart produced for the mall_customer dataset aswell.\n",
    "\n",
    "The data is normalized using MinMaxSclaer since the data is presented in different scales. If the data is not normalized it will lead to missrepresentation of the data, since attributes with larger valyes will have a greater effect on the resulting clusters than attributes with a smaller values."
   ]
  },
  {
   "cell_type": "markdown",
   "id": "56f8a72d",
   "metadata": {},
   "source": [
    "### Importing necessary packages"
   ]
  },
  {
   "cell_type": "code",
   "execution_count": 6,
   "id": "ec12cff4",
   "metadata": {},
   "outputs": [],
   "source": [
    "import pandas as pd\n",
    "import numpy as np\n",
    "import matplotlib.pyplot as plt\n",
    "from sklearn.preprocessing import MinMaxScaler"
   ]
  },
  {
   "cell_type": "markdown",
   "id": "c5e8c298",
   "metadata": {},
   "source": [
    "### Importing the datasets"
   ]
  },
  {
   "cell_type": "code",
   "execution_count": 2,
   "id": "3b07b56a",
   "metadata": {},
   "outputs": [],
   "source": [
    "iris_df = pd.read_csv('../../Datasets/iris.csv')\n",
    "mall_customers_df = pd.read_csv('../../Datasets/Mall_Customers.csv')\n",
    "small_iris_df = pd.read_csv('../../Datasets/small_iris.csv')\n"
   ]
  },
  {
   "cell_type": "markdown",
   "id": "54581bc2",
   "metadata": {},
   "source": [
    "# Small iris-dataset"
   ]
  },
  {
   "cell_type": "markdown",
   "id": "ec499912",
   "metadata": {},
   "source": [
    "#### Dataset overview"
   ]
  },
  {
   "cell_type": "code",
   "execution_count": 3,
   "id": "3a198a35",
   "metadata": {
    "scrolled": false
   },
   "outputs": [
    {
     "data": {
      "text/html": [
       "<div>\n",
       "<style scoped>\n",
       "    .dataframe tbody tr th:only-of-type {\n",
       "        vertical-align: middle;\n",
       "    }\n",
       "\n",
       "    .dataframe tbody tr th {\n",
       "        vertical-align: top;\n",
       "    }\n",
       "\n",
       "    .dataframe thead th {\n",
       "        text-align: right;\n",
       "    }\n",
       "</style>\n",
       "<table border=\"1\" class=\"dataframe\">\n",
       "  <thead>\n",
       "    <tr style=\"text-align: right;\">\n",
       "      <th></th>\n",
       "      <th>sepal length (cm)</th>\n",
       "      <th>petal length (cm)</th>\n",
       "    </tr>\n",
       "  </thead>\n",
       "  <tbody>\n",
       "    <tr>\n",
       "      <th>0</th>\n",
       "      <td>5.1</td>\n",
       "      <td>1.4</td>\n",
       "    </tr>\n",
       "    <tr>\n",
       "      <th>1</th>\n",
       "      <td>4.9</td>\n",
       "      <td>1.4</td>\n",
       "    </tr>\n",
       "    <tr>\n",
       "      <th>2</th>\n",
       "      <td>4.7</td>\n",
       "      <td>1.3</td>\n",
       "    </tr>\n",
       "    <tr>\n",
       "      <th>3</th>\n",
       "      <td>4.6</td>\n",
       "      <td>1.5</td>\n",
       "    </tr>\n",
       "    <tr>\n",
       "      <th>4</th>\n",
       "      <td>5.0</td>\n",
       "      <td>1.4</td>\n",
       "    </tr>\n",
       "  </tbody>\n",
       "</table>\n",
       "</div>"
      ],
      "text/plain": [
       "   sepal length (cm)  petal length (cm)\n",
       "0                5.1                1.4\n",
       "1                4.9                1.4\n",
       "2                4.7                1.3\n",
       "3                4.6                1.5\n",
       "4                5.0                1.4"
      ]
     },
     "execution_count": 3,
     "metadata": {},
     "output_type": "execute_result"
    }
   ],
   "source": [
    "small_iris_df.head()"
   ]
  },
  {
   "cell_type": "code",
   "execution_count": 4,
   "id": "3e6f5bc6",
   "metadata": {},
   "outputs": [
    {
     "data": {
      "text/plain": [
       "(150, 2)"
      ]
     },
     "execution_count": 4,
     "metadata": {},
     "output_type": "execute_result"
    }
   ],
   "source": [
    "small_iris_df.shape"
   ]
  },
  {
   "cell_type": "code",
   "execution_count": 5,
   "id": "75ba33b1",
   "metadata": {
    "scrolled": true
   },
   "outputs": [
    {
     "data": {
      "image/png": "[encoded data removed]",
      "text/plain": [
       "<Figure size 432x288 with 2 Axes>"
      ]
     },
     "metadata": {
      "needs_background": "light"
     },
     "output_type": "display_data"
    }
   ],
   "source": [
    "small_iris_df.hist();"
   ]
  },
  {
   "cell_type": "markdown",
   "id": "8a20be62",
   "metadata": {},
   "source": [
    "#### There are no empty values in any of the columns"
   ]
  },
  {
   "cell_type": "code",
   "execution_count": 6,
   "id": "a906558e",
   "metadata": {},
   "outputs": [
    {
     "data": {
      "text/plain": [
       "sepal length (cm)    0\n",
       "petal length (cm)    0\n",
       "dtype: int64"
      ]
     },
     "execution_count": 6,
     "metadata": {},
     "output_type": "execute_result"
    }
   ],
   "source": [
    "small_iris_df.isna().sum()"
   ]
  },
  {
   "cell_type": "markdown",
   "id": "0e083ca6",
   "metadata": {},
   "source": [
    "#### 27 duplicated entries can be found in the dataset. Only unique entries are kept"
   ]
  },
  {
   "cell_type": "code",
   "execution_count": 7,
   "id": "7bf71488",
   "metadata": {},
   "outputs": [
    {
     "name": "stdout",
     "output_type": "stream",
     "text": [
      "27\n",
      "Duplicates after removal: 0\n"
     ]
    }
   ],
   "source": [
    "dupl = small_iris_df.duplicated().sum()\n",
    "print(dupl)\n",
    "small_iris_cleaned_df = small_iris_df.drop_duplicates()\n",
    "print(f\"Duplicates after removal: {small_iris_cleaned_df.duplicated().sum()}\")"
   ]
  },
  {
   "cell_type": "markdown",
   "id": "3023137c",
   "metadata": {},
   "source": [
    "#### Max values of sepal and petal length"
   ]
  },
  {
   "cell_type": "code",
   "execution_count": 8,
   "id": "b7f17597",
   "metadata": {
    "scrolled": true
   },
   "outputs": [
    {
     "data": {
      "text/plain": [
       "sepal length (cm)    7.9\n",
       "petal length (cm)    6.9\n",
       "dtype: float64"
      ]
     },
     "execution_count": 8,
     "metadata": {},
     "output_type": "execute_result"
    }
   ],
   "source": [
    "small_iris_cleaned_df.max()"
   ]
  },
  {
   "cell_type": "markdown",
   "id": "4fd62199",
   "metadata": {},
   "source": [
    "#### Min values of sepal and petal length"
   ]
  },
  {
   "cell_type": "code",
   "execution_count": 9,
   "id": "7855aafd",
   "metadata": {},
   "outputs": [
    {
     "data": {
      "text/plain": [
       "sepal length (cm)    4.3\n",
       "petal length (cm)    1.0\n",
       "dtype: float64"
      ]
     },
     "execution_count": 9,
     "metadata": {},
     "output_type": "execute_result"
    }
   ],
   "source": [
    "small_iris_cleaned_df.min()"
   ]
  },
  {
   "cell_type": "markdown",
   "id": "815f3c16",
   "metadata": {},
   "source": [
    "## K-means algorithm for the small iris_dataset.\n",
    "\n",
    "Distance is calculated as \"Euclidean\"\n",
    "\n",
    "*The cell containing information about the duplicated entries has to be run for the algorithm to work since it makes changes to the small iris dataset\n",
    "\n",
    "Through testing setting the cluster amount to 3 is a good idea."
   ]
  },
  {
   "cell_type": "code",
   "execution_count": 10,
   "id": "11549105",
   "metadata": {
    "scrolled": false
   },
   "outputs": [
    {
     "name": "stderr",
     "output_type": "stream",
     "text": [
      "C:\\Users\\Axl_w\\anaconda3\\lib\\site-packages\\pandas\\core\\frame.py:3678: SettingWithCopyWarning: \n",
      "A value is trying to be set on a copy of a slice from a DataFrame.\n",
      "Try using .loc[row_indexer,col_indexer] = value instead\n",
      "\n",
      "See the caveats in the documentation: https://pandas.pydata.org/pandas-docs/stable/user_guide/indexing.html#returning-a-view-versus-a-copy\n",
      "  self[col] = igetitem(value, i)\n",
      "C:\\Users\\Axl_w\\AppData\\Local\\Temp/ipykernel_13928/2699869228.py:42: SettingWithCopyWarning: \n",
      "A value is trying to be set on a copy of a slice from a DataFrame.\n",
      "Try using .loc[row_indexer,col_indexer] = value instead\n",
      "\n",
      "See the caveats in the documentation: https://pandas.pydata.org/pandas-docs/stable/user_guide/indexing.html#returning-a-view-versus-a-copy\n",
      "  df['Center'] = cluster_belonging\n",
      "C:\\Users\\Axl_w\\AppData\\Local\\Temp/ipykernel_13928/2699869228.py:59: SettingWithCopyWarning: \n",
      "A value is trying to be set on a copy of a slice from a DataFrame.\n",
      "Try using .loc[row_indexer,col_indexer] = value instead\n",
      "\n",
      "See the caveats in the documentation: https://pandas.pydata.org/pandas-docs/stable/user_guide/indexing.html#returning-a-view-versus-a-copy\n",
      "  df['Center'] = cluster_belonging_iter\n"
     ]
    },
    {
     "name": "stdout",
     "output_type": "stream",
     "text": [
      "Convergence reached after 2 iterations!\n",
      "Inertia for 3 clusters: 2.4219630936048357\n"
     ]
    },
    {
     "data": {
      "image/png": "[encoded data removed]",
      "text/plain": [
       "<Figure size 432x288 with 1 Axes>"
      ]
     },
     "metadata": {
      "needs_background": "light"
     },
     "output_type": "display_data"
    }
   ],
   "source": [
    "from sklearn.preprocessing import MinMaxScaler\n",
    "\n",
    "\n",
    "#User settings:\n",
    "K_clusters = 3\n",
    "max_iter = 100\n",
    "tolerance = 0.0001\n",
    "\n",
    "data_size = small_iris_cleaned_df.shape[0]\n",
    "\n",
    "scaler = MinMaxScaler()\n",
    "\n",
    "headers = list(small_iris_cleaned_df)\n",
    "\n",
    "#Rescaling the data \n",
    "small_iris_cleaned_df[headers] = scaler.fit_transform(small_iris_cleaned_df[headers])\n",
    "\n",
    "#Tolerance test, a higher tolerance results in a faster runtime but gives a less accurate result\n",
    "def toleranceTest(new, current, tolerance):\n",
    "    diff = np.subtract(new,current)\n",
    "    for i in diff:\n",
    "        if i > tolerance:\n",
    "            return False\n",
    "    return True\n",
    "\n",
    "#The main bulk of the clustering algorithm\n",
    "def clusteringAlgorithm(df, max_iter,K_clusters):\n",
    "    #Getting the row amount\n",
    "    data_size = df.shape[0]\n",
    "    cluster_center = []\n",
    "    #Randomizing the initial clusters.\n",
    "    np.random.seed(0)\n",
    "    initial_cluster_centers_pos = np.random.choice(data_size,K_clusters,replace= False)\n",
    "    #Getting initial cluster center values\n",
    "    for k in initial_cluster_centers_pos:\n",
    "        cluster_center.append(df.iloc[k])\n",
    "    cluster_belonging = []\n",
    "    #Going through the rows of data and assigning each point to its nearest center.\n",
    "    for i in range(data_size):\n",
    "        datapoint_center = euclideanCenter(cluster_center, df.iloc[i])\n",
    "        cluster_belonging.append(datapoint_center)    \n",
    "    df['Center'] = cluster_belonging\n",
    "    #Looping through the data and moving the clustercenters each iteration\n",
    "    for iteration in range(max_iter):\n",
    "        cluster_belonging_iter = []\n",
    "        cluster_center_ids = range(K_clusters)\n",
    "        new_centers = []\n",
    "        \n",
    "        #Getting the new mean position of all values belongning to each cluster center\n",
    "        for j in cluster_center_ids:\n",
    "            mean_pos = df[df['Center']== j].mean()\n",
    "            new_centers.append(mean_pos)\n",
    "            \n",
    "        #Calculating which cluster center each datapoint belongs to based on the new mean\n",
    "        for i in range(data_size):\n",
    "            datapoint_center = euclideanCenter(new_centers, df.iloc[i])\n",
    "            cluster_belonging_iter.append(datapoint_center)\n",
    "        #Updating the new center belongings\n",
    "        df['Center'] = cluster_belonging_iter\n",
    "        compare_new = []\n",
    "        compare_prev = []\n",
    "        #comparing the new cluster center location to the old one\n",
    "        for h in range(len(new_centers)):\n",
    "            for u in range(len(new_centers[0])-1):\n",
    "                compare_new.append(new_centers[h][u])\n",
    "                compare_prev.append(cluster_center[h][u])\n",
    "        #If the difference between the new and the old positions are larger than the tolerance\n",
    "        #a new iteration is started, otherwise the loop is ended\n",
    "        test_tol = toleranceTest(compare_new,compare_prev, tolerance)\n",
    "        if test_tol == True:\n",
    "            print(f\"Convergence reached after {iteration} iterations!\")\n",
    "            return df\n",
    "        else:\n",
    "            cluster_center = new_centers\n",
    "            \n",
    "#Function for calculation of cluster center locations. Euclidean distance\n",
    "def euclideanCenter(cluster_centers, datapoint):\n",
    "    distances = []\n",
    "    if \"Center\" in datapoint:\n",
    "        datapoint = datapoint.drop(labels = [\"Center\"])\n",
    "    for i in cluster_centers:\n",
    "        distance = i.sub(datapoint).pow(2).sum()\n",
    "        distances.append(distance)\n",
    "    min_val = min(distances)\n",
    "    min_index = distances.index(min_val)\n",
    "    return min_index\n",
    "\n",
    "#Function for calculation of inertia (sum of distances)\n",
    "def inertiaCalc(df_all, center_pos, center):\n",
    "    inertia = center_pos.sub(df_all[df_all['Center'] == center]).pow(2).sum()\n",
    "    inertia = inertia.drop(\"Center\").sum()\n",
    "    return inertia\n",
    "    \n",
    "final_df = clusteringAlgorithm(small_iris_cleaned_df,max_iter,K_clusters)\n",
    "\n",
    "\n",
    "\n",
    "final_df_clusters = final_df['Center']\n",
    "\n",
    "cluster_center_ids = final_df_clusters.unique()\n",
    "\n",
    "final_center_pos=[]\n",
    "\n",
    "sumOfInertia = 0\n",
    "\n",
    "for j in cluster_center_ids:\n",
    "    mean_pos = final_df[final_df['Center']== j].mean()\n",
    "    final_center_pos.append(mean_pos)\n",
    "    inertia = inertiaCalc(final_df, mean_pos, j)\n",
    "    sumOfInertia = sumOfInertia + inertia\n",
    "\n",
    "print(f\"Inertia for {K_clusters} clusters: {sumOfInertia}\")\n",
    "    \n",
    "plt.scatter(final_df['sepal length (cm)'], final_df['petal length (cm)'], c = final_df.Center, cmap = \"Set3\")\n",
    "plt.xlabel(\"sepal length (cm)\")\n",
    "plt.ylabel(\"petal length (cm)\")\n",
    "plt.title(\"Small iris dataset\")\n",
    "\n",
    "X_means = []\n",
    "Y_means = []\n",
    "\n",
    "for i in range(K_clusters):\n",
    "    X_means.append(final_center_pos[i][0])\n",
    "    Y_means.append(final_center_pos[i][1])\n",
    "plt.scatter(X_means, Y_means, marker = '^')\n",
    "plt.show()"
   ]
  },
  {
   "cell_type": "markdown",
   "id": "cc2e0c6d",
   "metadata": {},
   "source": [
    "## Iris dataset"
   ]
  },
  {
   "cell_type": "markdown",
   "id": "4c2430ef",
   "metadata": {},
   "source": [
    "Dataset overview.\n",
    "\n",
    "All variables are to be used, since they differ in scale a rescaling of the variables is approriate.\n"
   ]
  },
  {
   "cell_type": "code",
   "execution_count": 11,
   "id": "f5ce1cea",
   "metadata": {
    "scrolled": true
   },
   "outputs": [
    {
     "data": {
      "text/html": [
       "<div>\n",
       "<style scoped>\n",
       "    .dataframe tbody tr th:only-of-type {\n",
       "        vertical-align: middle;\n",
       "    }\n",
       "\n",
       "    .dataframe tbody tr th {\n",
       "        vertical-align: top;\n",
       "    }\n",
       "\n",
       "    .dataframe thead th {\n",
       "        text-align: right;\n",
       "    }\n",
       "</style>\n",
       "<table border=\"1\" class=\"dataframe\">\n",
       "  <thead>\n",
       "    <tr style=\"text-align: right;\">\n",
       "      <th></th>\n",
       "      <th>sepal length (cm)</th>\n",
       "      <th>sepal width (cm)</th>\n",
       "      <th>petal length (cm)</th>\n",
       "      <th>petal width (cm)</th>\n",
       "    </tr>\n",
       "  </thead>\n",
       "  <tbody>\n",
       "    <tr>\n",
       "      <th>0</th>\n",
       "      <td>5.1</td>\n",
       "      <td>3.5</td>\n",
       "      <td>1.4</td>\n",
       "      <td>0.2</td>\n",
       "    </tr>\n",
       "    <tr>\n",
       "      <th>1</th>\n",
       "      <td>4.9</td>\n",
       "      <td>3.0</td>\n",
       "      <td>1.4</td>\n",
       "      <td>0.2</td>\n",
       "    </tr>\n",
       "    <tr>\n",
       "      <th>2</th>\n",
       "      <td>4.7</td>\n",
       "      <td>3.2</td>\n",
       "      <td>1.3</td>\n",
       "      <td>0.2</td>\n",
       "    </tr>\n",
       "    <tr>\n",
       "      <th>3</th>\n",
       "      <td>4.6</td>\n",
       "      <td>3.1</td>\n",
       "      <td>1.5</td>\n",
       "      <td>0.2</td>\n",
       "    </tr>\n",
       "    <tr>\n",
       "      <th>4</th>\n",
       "      <td>5.0</td>\n",
       "      <td>3.6</td>\n",
       "      <td>1.4</td>\n",
       "      <td>0.2</td>\n",
       "    </tr>\n",
       "  </tbody>\n",
       "</table>\n",
       "</div>"
      ],
      "text/plain": [
       "   sepal length (cm)  sepal width (cm)  petal length (cm)  petal width (cm)\n",
       "0                5.1               3.5                1.4               0.2\n",
       "1                4.9               3.0                1.4               0.2\n",
       "2                4.7               3.2                1.3               0.2\n",
       "3                4.6               3.1                1.5               0.2\n",
       "4                5.0               3.6                1.4               0.2"
      ]
     },
     "execution_count": 11,
     "metadata": {},
     "output_type": "execute_result"
    }
   ],
   "source": [
    "iris_df.head()"
   ]
  },
  {
   "cell_type": "markdown",
   "id": "697ef20e",
   "metadata": {},
   "source": [
    "#### Datasize"
   ]
  },
  {
   "cell_type": "code",
   "execution_count": 12,
   "id": "77cf7426",
   "metadata": {},
   "outputs": [
    {
     "data": {
      "text/plain": [
       "(150, 4)"
      ]
     },
     "execution_count": 12,
     "metadata": {},
     "output_type": "execute_result"
    }
   ],
   "source": [
    "iris_df.shape"
   ]
  },
  {
   "cell_type": "code",
   "execution_count": 13,
   "id": "25c613aa",
   "metadata": {
    "scrolled": true
   },
   "outputs": [
    {
     "data": {
      "image/png": "[encoded data removed]",
      "text/plain": [
       "<Figure size 432x288 with 4 Axes>"
      ]
     },
     "metadata": {
      "needs_background": "light"
     },
     "output_type": "display_data"
    }
   ],
   "source": [
    "iris_df.hist();"
   ]
  },
  {
   "cell_type": "markdown",
   "id": "c2fbf21c",
   "metadata": {},
   "source": [
    "#### There are no empty entries in the dataset"
   ]
  },
  {
   "cell_type": "code",
   "execution_count": 14,
   "id": "124e4f66",
   "metadata": {},
   "outputs": [
    {
     "data": {
      "text/plain": [
       "sepal length (cm)    0\n",
       "sepal width (cm)     0\n",
       "petal length (cm)    0\n",
       "petal width (cm)     0\n",
       "dtype: int64"
      ]
     },
     "execution_count": 14,
     "metadata": {},
     "output_type": "execute_result"
    }
   ],
   "source": [
    "iris_df.isna().sum()"
   ]
  },
  {
   "cell_type": "markdown",
   "id": "6fcef085",
   "metadata": {},
   "source": [
    "#### One duplicated values can be found in the dataset"
   ]
  },
  {
   "cell_type": "code",
   "execution_count": 19,
   "id": "96bb69b8",
   "metadata": {},
   "outputs": [
    {
     "name": "stdout",
     "output_type": "stream",
     "text": [
      "1\n"
     ]
    },
    {
     "data": {
      "text/plain": [
       "0"
      ]
     },
     "execution_count": 19,
     "metadata": {},
     "output_type": "execute_result"
    }
   ],
   "source": [
    "iris_df.duplicated().sum()\n",
    "print(iris_df.duplicated().sum())\n",
    "iris_df_cleaned_df = iris_df.drop_duplicates()\n",
    "iris_df_cleaned_df.duplicated().sum()"
   ]
  },
  {
   "cell_type": "markdown",
   "id": "db1cc98a",
   "metadata": {},
   "source": [
    "#### Iris dataset max values"
   ]
  },
  {
   "cell_type": "code",
   "execution_count": 16,
   "id": "1e2631a7",
   "metadata": {
    "scrolled": true
   },
   "outputs": [
    {
     "data": {
      "text/plain": [
       "sepal length (cm)    7.9\n",
       "sepal width (cm)     4.4\n",
       "petal length (cm)    6.9\n",
       "petal width (cm)     2.5\n",
       "dtype: float64"
      ]
     },
     "execution_count": 16,
     "metadata": {},
     "output_type": "execute_result"
    }
   ],
   "source": [
    "iris_df.max()"
   ]
  },
  {
   "cell_type": "markdown",
   "id": "0a86c79b",
   "metadata": {},
   "source": [
    "#### Iris dataset min values"
   ]
  },
  {
   "cell_type": "code",
   "execution_count": 17,
   "id": "9e2db9dc",
   "metadata": {},
   "outputs": [
    {
     "data": {
      "text/plain": [
       "sepal length (cm)    4.3\n",
       "sepal width (cm)     2.0\n",
       "petal length (cm)    1.0\n",
       "petal width (cm)     0.1\n",
       "dtype: float64"
      ]
     },
     "execution_count": 17,
     "metadata": {},
     "output_type": "execute_result"
    }
   ],
   "source": [
    "iris_df.min()"
   ]
  },
  {
   "cell_type": "markdown",
   "id": "f2a8ffc0",
   "metadata": {},
   "source": [
    "### K-means algorithm iris dataset"
   ]
  },
  {
   "cell_type": "code",
   "execution_count": 20,
   "id": "c32d16a1",
   "metadata": {
    "scrolled": false
   },
   "outputs": [
    {
     "name": "stderr",
     "output_type": "stream",
     "text": [
      "C:\\Users\\Axl_w\\anaconda3\\lib\\site-packages\\pandas\\core\\frame.py:3678: SettingWithCopyWarning: \n",
      "A value is trying to be set on a copy of a slice from a DataFrame.\n",
      "Try using .loc[row_indexer,col_indexer] = value instead\n",
      "\n",
      "See the caveats in the documentation: https://pandas.pydata.org/pandas-docs/stable/user_guide/indexing.html#returning-a-view-versus-a-copy\n",
      "  self[col] = igetitem(value, i)\n"
     ]
    },
    {
     "name": "stdout",
     "output_type": "stream",
     "text": [
      "Convergence reached after 6 iterations!\n",
      "Inertia for 4 clusters: 5.99291203738658\n"
     ]
    },
    {
     "data": {
      "image/png": "[encoded data removed]",
      "text/plain": [
       "<Figure size 432x288 with 1 Axes>"
      ]
     },
     "metadata": {
      "needs_background": "light"
     },
     "output_type": "display_data"
    }
   ],
   "source": [
    "from sklearn.preprocessing import MinMaxScaler\n",
    "from sklearn.decomposition import PCA\n",
    "K_clusters = 4\n",
    "\n",
    "max_iter = 100\n",
    "\n",
    "tolerance = 0.001\n",
    "\n",
    "distance = \"Euclidean\"\n",
    "\n",
    "data_size = iris_df_cleaned_df.shape[0]\n",
    "\n",
    "scaler = MinMaxScaler()\n",
    "\n",
    "headers = list(iris_df_cleaned_df)\n",
    "\n",
    "#Rescaling the data \n",
    "\n",
    "\n",
    "iris_df_cleaned_df[headers] = scaler.fit_transform(iris_df_cleaned_df[headers])\n",
    "\n",
    "df = iris_df_cleaned_df.copy()\n",
    "\n",
    "def toleranceTest(new, current, tolerance):\n",
    "    diff = np.subtract(new,current)\n",
    "    for i in diff:\n",
    "        if i > tolerance:\n",
    "            return False\n",
    "    return True\n",
    "\n",
    "\n",
    "def clusteringAlgorithm(df,max_iter):\n",
    "    data_size = df.shape[0]\n",
    "    cluster_center = []\n",
    "    #Randomizing the initial clusters.\n",
    "    np.random.seed(0)\n",
    "    initial_cluster_centers_pos = np.random.choice(data_size,K_clusters,replace= False)\n",
    "    #Getting initial cluster center positions\n",
    "    for k in initial_cluster_centers_pos:\n",
    "        cluster_center.append(df.iloc[k])\n",
    "    cluster_belonging = []\n",
    "    for i in range(data_size):\n",
    "        datapoint_center = euclideanCenter(cluster_center, df.iloc[i])\n",
    "        cluster_belonging.append(datapoint_center)    \n",
    "    df['Center'] = cluster_belonging\n",
    "    \n",
    "    for iteration in range(max_iter):\n",
    "        cluster_belonging = []\n",
    "        cluster_center_ids = df['Center'].unique()\n",
    "        new_centers = []\n",
    "        for j in cluster_center_ids:\n",
    "            mean_pos = df[df['Center']== j].mean()\n",
    "            new_centers.append(mean_pos)\n",
    "        for i in range(data_size):\n",
    "            datapoint_center = euclideanCenter(new_centers, df.iloc[i])\n",
    "            cluster_belonging.append(datapoint_center)\n",
    "        df['Center'] = cluster_belonging\n",
    "        compare_new = []\n",
    "        compare_prev = []\n",
    "        for h in range(len(new_centers)):\n",
    "            for u in range(len(new_centers[0])-1):\n",
    "                compare_new.append(new_centers[h][u])\n",
    "                compare_prev.append(cluster_center[h][u])\n",
    "        test_tol = toleranceTest(compare_new,compare_prev, tolerance)\n",
    "        if test_tol == True:\n",
    "            print(f\"Convergence reached after {iteration} iterations!\")\n",
    "            return df\n",
    "        else:\n",
    "            cluster_center = new_centers\n",
    "\n",
    "        \n",
    "def euclideanCenter(cluster_centers, datapoint):\n",
    "    distances = []\n",
    "    if \"Center\" in datapoint:\n",
    "        datapoint = datapoint.drop(labels = [\"Center\"])\n",
    "    for i in cluster_centers:\n",
    "        distance = i.sub(datapoint).pow(2).sum()\n",
    "        distances.append(distance)\n",
    "    min_val = min(distances)\n",
    "    min_index = distances.index(min_val)\n",
    "    return min_index\n",
    "\n",
    "def pca_transform(df_data):\n",
    "    pca = PCA(n_components = 2)\n",
    "    principial_components = pca.fit_transform(df_data)\n",
    "    principial_df = pd.DataFrame(data = principial_components,columns = ['pc 1', 'pc 2'])\n",
    "    return principial_df\n",
    "\n",
    "def inertiaCalc(df_all, center_pos, center):\n",
    "    inertia = center_pos.sub(df_all[df_all['Center'] == center]).pow(2).sum()\n",
    "    inertia = inertia.drop(\"Center\").sum()\n",
    "    return inertia\n",
    "\n",
    "\n",
    "final_df = clusteringAlgorithm(df,max_iter)\n",
    "\n",
    "final_df_clusters = final_df['Center']\n",
    "\n",
    "cluster_center_ids = final_df['Center'].unique()\n",
    "\n",
    "sumOfInertia = 0\n",
    "\n",
    "for j in cluster_center_ids:\n",
    "    mean_pos = final_df[final_df['Center']== j].mean()\n",
    "    final_center_pos.append(mean_pos)\n",
    "    inertia = inertiaCalc(final_df, mean_pos, j)\n",
    "    sumOfInertia = sumOfInertia + inertia\n",
    "\n",
    "print(f\"Inertia for {K_clusters} clusters: {sumOfInertia}\")\n",
    "\n",
    "\n",
    "final_df_conversion = final_df.drop(columns = ['Center'])\n",
    "\n",
    "test_pca = pca_transform(final_df_conversion)\n",
    "\n",
    "test_pca['Center'] = final_df_clusters\n",
    "\n",
    "cluster_center_ids_conv = test_pca['Center'].unique()\n",
    "\n",
    "final_mean_pos=[]\n",
    "\n",
    "for j in cluster_center_ids_conv:\n",
    "    mean_pos = test_pca[test_pca['Center']== j].mean()\n",
    "    final_mean_pos.append(mean_pos)\n",
    "\n",
    "plt.scatter(test_pca['pc 1'], test_pca['pc 2'], c = test_pca.Center, cmap = \"Set3\")\n",
    "plt.xlabel(\"Principial component 1\")\n",
    "plt.ylabel(\"Principial component 2\")\n",
    "plt.title(\"PCA conversion of iris dataset\")\n",
    "\n",
    "X_means = []\n",
    "Y_means = []\n",
    "\n",
    "for i in range(K_clusters):\n",
    "    X_means.append(final_mean_pos[i][0])\n",
    "    Y_means.append(final_mean_pos[i][1])\n",
    "plt.scatter(X_means, Y_means, marker = '^')\n",
    "plt.show()\n"
   ]
  },
  {
   "cell_type": "markdown",
   "id": "05cde884",
   "metadata": {},
   "source": [
    "Writing the K-means algorithm for the iris and Mall_customers dataset"
   ]
  },
  {
   "cell_type": "markdown",
   "id": "4a592306",
   "metadata": {},
   "source": [
    "## Mall_customers"
   ]
  },
  {
   "cell_type": "markdown",
   "id": "6c3a9e35",
   "metadata": {},
   "source": [
    "Dataset overview.\n",
    "\n",
    "The CustomerID columns can be removed as it is not an attribute that describes the data, it is just an arbitrary number given to the customers. \n",
    "\n",
    "The genders will be converted to 1s and 0s and the remaining attributes will be rescaled since they are not equal in range."
   ]
  },
  {
   "cell_type": "code",
   "execution_count": 21,
   "id": "958af2fa",
   "metadata": {
    "scrolled": false
   },
   "outputs": [
    {
     "data": {
      "text/html": [
       "<div>\n",
       "<style scoped>\n",
       "    .dataframe tbody tr th:only-of-type {\n",
       "        vertical-align: middle;\n",
       "    }\n",
       "\n",
       "    .dataframe tbody tr th {\n",
       "        vertical-align: top;\n",
       "    }\n",
       "\n",
       "    .dataframe thead th {\n",
       "        text-align: right;\n",
       "    }\n",
       "</style>\n",
       "<table border=\"1\" class=\"dataframe\">\n",
       "  <thead>\n",
       "    <tr style=\"text-align: right;\">\n",
       "      <th></th>\n",
       "      <th>CustomerID</th>\n",
       "      <th>Gender</th>\n",
       "      <th>Age</th>\n",
       "      <th>Annual Income (k$)</th>\n",
       "      <th>Spending Score (1-100)</th>\n",
       "    </tr>\n",
       "  </thead>\n",
       "  <tbody>\n",
       "    <tr>\n",
       "      <th>0</th>\n",
       "      <td>1</td>\n",
       "      <td>Male</td>\n",
       "      <td>19</td>\n",
       "      <td>15</td>\n",
       "      <td>39</td>\n",
       "    </tr>\n",
       "    <tr>\n",
       "      <th>1</th>\n",
       "      <td>2</td>\n",
       "      <td>Male</td>\n",
       "      <td>21</td>\n",
       "      <td>15</td>\n",
       "      <td>81</td>\n",
       "    </tr>\n",
       "    <tr>\n",
       "      <th>2</th>\n",
       "      <td>3</td>\n",
       "      <td>Female</td>\n",
       "      <td>20</td>\n",
       "      <td>16</td>\n",
       "      <td>6</td>\n",
       "    </tr>\n",
       "    <tr>\n",
       "      <th>3</th>\n",
       "      <td>4</td>\n",
       "      <td>Female</td>\n",
       "      <td>23</td>\n",
       "      <td>16</td>\n",
       "      <td>77</td>\n",
       "    </tr>\n",
       "    <tr>\n",
       "      <th>4</th>\n",
       "      <td>5</td>\n",
       "      <td>Female</td>\n",
       "      <td>31</td>\n",
       "      <td>17</td>\n",
       "      <td>40</td>\n",
       "    </tr>\n",
       "  </tbody>\n",
       "</table>\n",
       "</div>"
      ],
      "text/plain": [
       "   CustomerID  Gender  Age  Annual Income (k$)  Spending Score (1-100)\n",
       "0           1    Male   19                  15                      39\n",
       "1           2    Male   21                  15                      81\n",
       "2           3  Female   20                  16                       6\n",
       "3           4  Female   23                  16                      77\n",
       "4           5  Female   31                  17                      40"
      ]
     },
     "execution_count": 21,
     "metadata": {},
     "output_type": "execute_result"
    }
   ],
   "source": [
    "mall_customers_df.head()"
   ]
  },
  {
   "cell_type": "markdown",
   "id": "db5e1637",
   "metadata": {},
   "source": [
    "#### Dataset size"
   ]
  },
  {
   "cell_type": "code",
   "execution_count": 22,
   "id": "fcbc6d98",
   "metadata": {},
   "outputs": [
    {
     "data": {
      "text/plain": [
       "(200, 5)"
      ]
     },
     "execution_count": 22,
     "metadata": {},
     "output_type": "execute_result"
    }
   ],
   "source": [
    "mall_customers_df.shape"
   ]
  },
  {
   "cell_type": "markdown",
   "id": "c4140834",
   "metadata": {},
   "source": [
    "#### Data overview"
   ]
  },
  {
   "cell_type": "code",
   "execution_count": 23,
   "id": "e1cb53fb",
   "metadata": {
    "scrolled": true
   },
   "outputs": [
    {
     "data": {
      "image/png": "[encoded data removed]",
      "text/plain": [
       "<Figure size 432x288 with 4 Axes>"
      ]
     },
     "metadata": {
      "needs_background": "light"
     },
     "output_type": "display_data"
    }
   ],
   "source": [
    "mall_customers_df.hist();"
   ]
  },
  {
   "cell_type": "markdown",
   "id": "634ca02e",
   "metadata": {},
   "source": [
    "#### No missing entries are found in the data"
   ]
  },
  {
   "cell_type": "code",
   "execution_count": 24,
   "id": "c2f64d85",
   "metadata": {
    "scrolled": true
   },
   "outputs": [
    {
     "data": {
      "text/plain": [
       "CustomerID                0\n",
       "Gender                    0\n",
       "Age                       0\n",
       "Annual Income (k$)        0\n",
       "Spending Score (1-100)    0\n",
       "dtype: int64"
      ]
     },
     "execution_count": 24,
     "metadata": {},
     "output_type": "execute_result"
    }
   ],
   "source": [
    "mall_customers_df.isna().sum()"
   ]
  },
  {
   "cell_type": "markdown",
   "id": "bd673bc7",
   "metadata": {},
   "source": [
    "#### No duplicated values can be found\n",
    "Also droppping the customerIDs to check if there are any customers that have duplicate entries"
   ]
  },
  {
   "cell_type": "code",
   "execution_count": 25,
   "id": "4a4ffa6f",
   "metadata": {},
   "outputs": [
    {
     "data": {
      "text/plain": [
       "0"
      ]
     },
     "execution_count": 25,
     "metadata": {},
     "output_type": "execute_result"
    }
   ],
   "source": [
    "mall_customers_df.duplicated().sum()\n",
    "mall_customers_df_no_id = mall_customers_df.drop(columns = ['CustomerID'])\n",
    "mall_customers_df_no_id.duplicated().sum()"
   ]
  },
  {
   "cell_type": "markdown",
   "id": "448d94a8",
   "metadata": {},
   "source": [
    "#### Mall customers dataset max values"
   ]
  },
  {
   "cell_type": "code",
   "execution_count": 26,
   "id": "c0fc22e3",
   "metadata": {
    "scrolled": true
   },
   "outputs": [
    {
     "data": {
      "text/plain": [
       "CustomerID                 200\n",
       "Gender                    Male\n",
       "Age                         70\n",
       "Annual Income (k$)         137\n",
       "Spending Score (1-100)      99\n",
       "dtype: object"
      ]
     },
     "execution_count": 26,
     "metadata": {},
     "output_type": "execute_result"
    }
   ],
   "source": [
    "mall_customers_df.max()"
   ]
  },
  {
   "cell_type": "markdown",
   "id": "eb627905",
   "metadata": {},
   "source": [
    "#### Mall customers dataset min values"
   ]
  },
  {
   "cell_type": "code",
   "execution_count": 27,
   "id": "fdfbab3f",
   "metadata": {
    "scrolled": true
   },
   "outputs": [
    {
     "data": {
      "text/plain": [
       "CustomerID                     1\n",
       "Gender                    Female\n",
       "Age                           18\n",
       "Annual Income (k$)            15\n",
       "Spending Score (1-100)         1\n",
       "dtype: object"
      ]
     },
     "execution_count": 27,
     "metadata": {},
     "output_type": "execute_result"
    }
   ],
   "source": [
    "mall_customers_df.min()"
   ]
  },
  {
   "cell_type": "markdown",
   "id": "bfad950c",
   "metadata": {},
   "source": [
    "### Using LabelEncoder to change the \"Gender\" values to numerical values\n",
    "Changing the \"Gender\" attribute to 1s and 0s. 1 = Male, 0 = Female.\n",
    "\n",
    "Removing the \"CustomerID\" label since it is nothing more than an ID."
   ]
  },
  {
   "cell_type": "code",
   "execution_count": 28,
   "id": "d4bd876c",
   "metadata": {},
   "outputs": [
    {
     "data": {
      "text/html": [
       "<div>\n",
       "<style scoped>\n",
       "    .dataframe tbody tr th:only-of-type {\n",
       "        vertical-align: middle;\n",
       "    }\n",
       "\n",
       "    .dataframe tbody tr th {\n",
       "        vertical-align: top;\n",
       "    }\n",
       "\n",
       "    .dataframe thead th {\n",
       "        text-align: right;\n",
       "    }\n",
       "</style>\n",
       "<table border=\"1\" class=\"dataframe\">\n",
       "  <thead>\n",
       "    <tr style=\"text-align: right;\">\n",
       "      <th></th>\n",
       "      <th>Gender</th>\n",
       "      <th>Age</th>\n",
       "      <th>Annual Income (k$)</th>\n",
       "      <th>Spending Score (1-100)</th>\n",
       "    </tr>\n",
       "  </thead>\n",
       "  <tbody>\n",
       "    <tr>\n",
       "      <th>0</th>\n",
       "      <td>1</td>\n",
       "      <td>19</td>\n",
       "      <td>15</td>\n",
       "      <td>39</td>\n",
       "    </tr>\n",
       "    <tr>\n",
       "      <th>1</th>\n",
       "      <td>1</td>\n",
       "      <td>21</td>\n",
       "      <td>15</td>\n",
       "      <td>81</td>\n",
       "    </tr>\n",
       "    <tr>\n",
       "      <th>2</th>\n",
       "      <td>0</td>\n",
       "      <td>20</td>\n",
       "      <td>16</td>\n",
       "      <td>6</td>\n",
       "    </tr>\n",
       "    <tr>\n",
       "      <th>3</th>\n",
       "      <td>0</td>\n",
       "      <td>23</td>\n",
       "      <td>16</td>\n",
       "      <td>77</td>\n",
       "    </tr>\n",
       "    <tr>\n",
       "      <th>4</th>\n",
       "      <td>0</td>\n",
       "      <td>31</td>\n",
       "      <td>17</td>\n",
       "      <td>40</td>\n",
       "    </tr>\n",
       "    <tr>\n",
       "      <th>...</th>\n",
       "      <td>...</td>\n",
       "      <td>...</td>\n",
       "      <td>...</td>\n",
       "      <td>...</td>\n",
       "    </tr>\n",
       "    <tr>\n",
       "      <th>195</th>\n",
       "      <td>0</td>\n",
       "      <td>35</td>\n",
       "      <td>120</td>\n",
       "      <td>79</td>\n",
       "    </tr>\n",
       "    <tr>\n",
       "      <th>196</th>\n",
       "      <td>0</td>\n",
       "      <td>45</td>\n",
       "      <td>126</td>\n",
       "      <td>28</td>\n",
       "    </tr>\n",
       "    <tr>\n",
       "      <th>197</th>\n",
       "      <td>1</td>\n",
       "      <td>32</td>\n",
       "      <td>126</td>\n",
       "      <td>74</td>\n",
       "    </tr>\n",
       "    <tr>\n",
       "      <th>198</th>\n",
       "      <td>1</td>\n",
       "      <td>32</td>\n",
       "      <td>137</td>\n",
       "      <td>18</td>\n",
       "    </tr>\n",
       "    <tr>\n",
       "      <th>199</th>\n",
       "      <td>1</td>\n",
       "      <td>30</td>\n",
       "      <td>137</td>\n",
       "      <td>83</td>\n",
       "    </tr>\n",
       "  </tbody>\n",
       "</table>\n",
       "<p>200 rows × 4 columns</p>\n",
       "</div>"
      ],
      "text/plain": [
       "     Gender  Age  Annual Income (k$)  Spending Score (1-100)\n",
       "0         1   19                  15                      39\n",
       "1         1   21                  15                      81\n",
       "2         0   20                  16                       6\n",
       "3         0   23                  16                      77\n",
       "4         0   31                  17                      40\n",
       "..      ...  ...                 ...                     ...\n",
       "195       0   35                 120                      79\n",
       "196       0   45                 126                      28\n",
       "197       1   32                 126                      74\n",
       "198       1   32                 137                      18\n",
       "199       1   30                 137                      83\n",
       "\n",
       "[200 rows x 4 columns]"
      ]
     },
     "execution_count": 28,
     "metadata": {},
     "output_type": "execute_result"
    }
   ],
   "source": [
    "from sklearn.preprocessing import LabelEncoder\n",
    "le = LabelEncoder()\n",
    "mall_customers_df = pd.read_csv('../../Datasets/Mall_Customers.csv')\n",
    "\n",
    "mall_customers_df_mod = mall_customers_df.copy()\n",
    "encode_gender = le.fit_transform(mall_customers_df_mod['Gender'])\n",
    "mall_customers_df_mod['Gender'] = encode_gender\n",
    "\n",
    "mall_customers_df_mod = mall_customers_df_mod.drop(columns = [\"CustomerID\"])\n",
    "mall_customers_df_mod"
   ]
  },
  {
   "cell_type": "markdown",
   "id": "b0cbdaff",
   "metadata": {},
   "source": [
    "The cell above must be run before the KMeans algorithm for it to work since it restructures the \"mall_customers\" dataset"
   ]
  },
  {
   "cell_type": "code",
   "execution_count": 29,
   "id": "b4c2fe4c",
   "metadata": {
    "scrolled": true
   },
   "outputs": [
    {
     "name": "stdout",
     "output_type": "stream",
     "text": [
      "Convergence reached after 9 iterations!\n",
      "Inertia for 4 clusters: 22.46281616781907\n"
     ]
    },
    {
     "data": {
      "image/png": "[encoded data removed]",
      "text/plain": [
       "<Figure size 432x288 with 1 Axes>"
      ]
     },
     "metadata": {
      "needs_background": "light"
     },
     "output_type": "display_data"
    }
   ],
   "source": [
    "from sklearn.preprocessing import MinMaxScaler\n",
    "from sklearn.decomposition import PCA\n",
    "\n",
    "#User settings\n",
    "K_clusters = 4\n",
    "max_iter = 100\n",
    "tolerance = 0.01\n",
    "\n",
    "data_size = mall_customers_df_mod.shape[0]\n",
    "\n",
    "scaler = MinMaxScaler()\n",
    "headers = list(mall_customers_df_mod)\n",
    "#Rescaling the data \n",
    "mall_customers_df_mod[headers] = scaler.fit_transform(mall_customers_df_mod[headers])\n",
    "\n",
    "\n",
    "\n",
    "#Error tolerancetest\n",
    "def toleranceTest(new, current, tolerance):\n",
    "    diff = np.subtract(new,current)\n",
    "    for i in diff:\n",
    "        if i > tolerance:\n",
    "            return False\n",
    "    return True\n",
    "\n",
    "\n",
    "def clusteringAlgorithm(df, max_iter, tolerance):\n",
    "    data_size = df.shape[0]\n",
    "    cluster_center = []\n",
    "    #Randomizing the initial clusters.\n",
    "    np.random.seed(0)\n",
    "    initial_cluster_centers_pos = np.random.choice(data_size,K_clusters,replace= False)\n",
    "    #Getting the the positions of the initial clusters.\n",
    "    for k in initial_cluster_centers_pos:\n",
    "        cluster_center.append(df.iloc[k])\n",
    "    cluster_belonging = []\n",
    "    for i in range(data_size):\n",
    "        datapoint_center = euclideanCenter(cluster_center, df.iloc[i])\n",
    "        cluster_belonging.append(datapoint_center)    \n",
    "    df['Center'] = cluster_belonging\n",
    "    \n",
    "    for iteration in range(max_iter):\n",
    "        cluster_belonging = []\n",
    "        cluster_center_ids = df['Center'].unique()\n",
    "        new_centers = []\n",
    "        for j in cluster_center_ids:\n",
    "            mean_pos = df[df['Center']== j].mean()\n",
    "            new_centers.append(mean_pos)\n",
    "        for i in range(data_size):\n",
    "            datapoint_center = euclideanCenter(new_centers, df.iloc[i])\n",
    "            cluster_belonging.append(datapoint_center)\n",
    "        df['Center'] = cluster_belonging\n",
    "        compare_new = []\n",
    "        compare_prev = []\n",
    "        for h in range(len(new_centers)):\n",
    "            for u in range(len(new_centers[0])-1):\n",
    "                compare_new.append(new_centers[h][u])\n",
    "                compare_prev.append(cluster_center[h][u])\n",
    "        test_tol = toleranceTest(compare_new,compare_prev, tolerance)\n",
    "        if test_tol == True:\n",
    "            print(f\"Convergence reached after {iteration} iterations!\")\n",
    "            return df\n",
    "        else:\n",
    "            cluster_center = new_centers\n",
    "        \n",
    "def euclideanCenter(cluster_centers, datapoint):\n",
    "    distances = []\n",
    "    if \"Center\" in datapoint:\n",
    "        datapoint = datapoint.drop(labels = [\"Center\"])\n",
    "    for i in cluster_centers:\n",
    "        distance = i.sub(datapoint).pow(2).sum()\n",
    "        distances.append(distance)\n",
    "    min_val = min(distances)\n",
    "    min_index = distances.index(min_val)\n",
    "    return min_index\n",
    "\n",
    "def pca_transform(df_data):\n",
    "    pca = PCA(n_components = 2)\n",
    "    principial_components = pca.fit_transform(df_data)\n",
    "    principial_df = pd.DataFrame(data = principial_components,columns = ['pc 1', 'pc 2'])\n",
    "    return principial_df\n",
    "\n",
    "def inertiaCalc(df_all, center_pos, center):\n",
    "    inertia = center_pos.sub(df_all[df_all['Center'] == center]).pow(2).sum()\n",
    "    inertia = inertia.drop(\"Center\").sum()\n",
    "    return inertia\n",
    "\n",
    "final_df = clusteringAlgorithm(mall_customers_df_mod, max_iter, tolerance)\n",
    "\n",
    "final_df_clusters = final_df['Center']\n",
    "\n",
    "final_df_conversion = final_df.drop(columns = ['Center'])\n",
    "\n",
    "cluster_center_ids = final_df['Center'].unique()\n",
    "\n",
    "sumOfInertia = 0\n",
    "\n",
    "for j in cluster_center_ids:\n",
    "    mean_pos = final_df[final_df['Center']== j].mean()\n",
    "    final_center_pos.append(mean_pos)\n",
    "    inertia = inertiaCalc(final_df, mean_pos, j)\n",
    "    sumOfInertia = sumOfInertia + inertia\n",
    "\n",
    "print(f\"Inertia for {K_clusters} clusters: {sumOfInertia}\")\n",
    "\n",
    "test_pca = pca_transform(final_df_conversion)\n",
    "\n",
    "test_pca['Center'] = final_df_clusters\n",
    "\n",
    "cluster_center_ids_conv = test_pca['Center'].unique()\n",
    "\n",
    "final_mean_pos=[]\n",
    "\n",
    "for j in cluster_center_ids_conv:\n",
    "    mean_pos = test_pca[test_pca['Center']== j].mean()\n",
    "    final_mean_pos.append(mean_pos)\n",
    "\n",
    "plt.scatter(test_pca['pc 1'], test_pca['pc 2'], c = test_pca.Center, cmap = \"Set3\")\n",
    "plt.xlabel(\"Principial component 1\")\n",
    "plt.ylabel(\"Principial component 2\")\n",
    "plt.title(\"PCA conversion of mall customer dataset\")\n",
    "\n",
    "X_means = []\n",
    "Y_means = []\n",
    "\n",
    "for i in range(K_clusters):\n",
    "    X_means.append(final_mean_pos[i][0])\n",
    "    Y_means.append(final_mean_pos[i][1])\n",
    "plt.scatter(X_means, Y_means, marker = '^')\n",
    "plt.show()"
   ]
  },
  {
   "cell_type": "markdown",
   "id": "ae37cde1",
   "metadata": {},
   "source": [
    "Going through the clusters produced shows that all the Gender = 1 values are located in cluster 1 and 3. "
   ]
  },
  {
   "cell_type": "code",
   "execution_count": 30,
   "id": "9def2dbc",
   "metadata": {
    "scrolled": false
   },
   "outputs": [
    {
     "name": "stdout",
     "output_type": "stream",
     "text": [
      "Gender = 1\n",
      "     Gender       Age  Annual Income (k$)  Spending Score (1-100)  Center\n",
      "0       1.0  0.019231            0.000000                0.387755       0\n",
      "1       1.0  0.057692            0.000000                0.816327       0\n",
      "8       1.0  0.884615            0.032787                0.020408       3\n",
      "10      1.0  0.942308            0.032787                0.132653       3\n",
      "14      1.0  0.365385            0.040984                0.122449       3\n",
      "..      ...       ...                 ...                     ...     ...\n",
      "187     1.0  0.192308            0.704918                0.683673       0\n",
      "192     1.0  0.288462            0.803279                0.071429       3\n",
      "197     1.0  0.269231            0.909836                0.744898       0\n",
      "198     1.0  0.269231            1.000000                0.173469       3\n",
      "199     1.0  0.230769            1.000000                0.836735       0\n",
      "\n",
      "[88 rows x 5 columns]\n",
      "Gender = 1, center 0\n",
      "     Gender       Age  Annual Income (k$)  Spending Score (1-100)  Center\n",
      "0       1.0  0.019231            0.000000                0.387755       0\n",
      "1       1.0  0.057692            0.000000                0.816327       0\n",
      "15      1.0  0.076923            0.040984                0.795918       0\n",
      "17      1.0  0.038462            0.049180                0.663265       0\n",
      "21      1.0  0.134615            0.073770                0.734694       0\n",
      "23      1.0  0.250000            0.081967                0.734694       0\n",
      "25      1.0  0.211538            0.106557                0.826531       0\n",
      "27      1.0  0.326923            0.106557                0.612245       0\n",
      "33      1.0  0.000000            0.147541                0.928571       0\n",
      "41      1.0  0.115385            0.188525                0.928571       0\n",
      "51      1.0  0.288462            0.221311                0.602041       0\n",
      "61      1.0  0.019231            0.254098                0.551020       0\n",
      "65      1.0  0.000000            0.270492                0.591837       0\n",
      "68      1.0  0.019231            0.270492                0.591837       0\n",
      "75      1.0  0.153846            0.319672                0.540816       0\n",
      "81      1.0  0.384615            0.319672                0.551020       0\n",
      "91      1.0  0.000000            0.360656                0.408163       0\n",
      "95      1.0  0.115385            0.368852                0.520408       0\n",
      "99      1.0  0.038462            0.377049                0.489796       0\n",
      "103     1.0  0.153846            0.385246                0.551020       0\n",
      "113     1.0  0.019231            0.401639                0.459184       0\n",
      "120     1.0  0.173077            0.426230                0.561224       0\n",
      "123     1.0  0.403846            0.442623                0.918367       0\n",
      "127     1.0  0.423077            0.459016                0.959184       0\n",
      "129     1.0  0.384615            0.459016                0.755102       0\n",
      "131     1.0  0.403846            0.459016                0.755102       0\n",
      "134     1.0  0.038462            0.475410                0.040816       0\n",
      "137     1.0  0.269231            0.475410                0.734694       0\n",
      "138     1.0  0.019231            0.483607                0.091837       0\n",
      "141     1.0  0.269231            0.491803                0.938776       0\n",
      "144     1.0  0.134615            0.508197                0.112245       0\n",
      "145     1.0  0.192308            0.508197                0.979592       0\n",
      "149     1.0  0.307692            0.516393                0.908163       0\n",
      "151     1.0  0.403846            0.516393                0.887755       0\n",
      "162     1.0  0.019231            0.540984                0.040816       0\n",
      "169     1.0  0.269231            0.590164                0.632653       0\n",
      "171     1.0  0.192308            0.590164                0.755102       0\n",
      "173     1.0  0.346154            0.590164                0.928571       0\n",
      "177     1.0  0.173077            0.598361                0.693878       0\n",
      "179     1.0  0.326923            0.639344                0.908163       0\n",
      "185     1.0  0.230769            0.688525                0.979592       0\n",
      "187     1.0  0.192308            0.704918                0.683673       0\n",
      "197     1.0  0.269231            0.909836                0.744898       0\n",
      "199     1.0  0.230769            1.000000                0.836735       0\n",
      "Gender = 1, center 1\n",
      "Empty DataFrame\n",
      "Columns: [Gender, Age, Annual Income (k$), Spending Score (1-100), Center]\n",
      "Index: []\n",
      "       Gender = 1, center 2\n",
      "Empty DataFrame\n",
      "Columns: [Gender, Age, Annual Income (k$), Spending Score (1-100), Center]\n",
      "Index: []\n",
      "Gender = 1, center 3     Gender       Age  Annual Income (k$)  Spending Score (1-100)  Center\n",
      "8       1.0  0.884615            0.032787                0.020408       3\n",
      "10      1.0  0.942308            0.032787                0.132653       3\n",
      "14      1.0  0.365385            0.040984                0.122449       3\n",
      "18      1.0  0.653846            0.065574                0.285714       3\n",
      "20      1.0  0.326923            0.073770                0.346939       3\n",
      "30      1.0  0.807692            0.122951                0.030612       3\n",
      "32      1.0  0.673077            0.147541                0.030612       3\n",
      "42      1.0  0.576923            0.196721                0.357143       3\n",
      "53      1.0  0.788462            0.229508                0.602041       3\n",
      "55      1.0  0.557692            0.229508                0.408163       3\n",
      "57      1.0  0.980769            0.237705                0.459184       3\n",
      "59      1.0  0.673077            0.254098                0.459184       3\n",
      "60      1.0  1.000000            0.254098                0.561224       3\n",
      "64      1.0  0.865385            0.270492                0.510204       3\n",
      "70      1.0  1.000000            0.278689                0.551020       3\n",
      "74      1.0  0.788462            0.319672                0.469388       3\n",
      "77      1.0  0.423077            0.319672                0.479592       3\n",
      "80      1.0  0.750000            0.319672                0.510204       3\n",
      "82      1.0  0.942308            0.319672                0.408163       3\n",
      "85      1.0  0.576923            0.319672                0.459184       3\n",
      "92      1.0  0.576923            0.368852                0.489796       3\n",
      "98      1.0  0.576923            0.377049                0.418367       3\n",
      "102     1.0  0.942308            0.385246                0.591837       3\n",
      "104     1.0  0.596154            0.385246                0.561224       3\n",
      "107     1.0  0.692308            0.393443                0.459184       3\n",
      "108     1.0  0.961538            0.393443                0.428571       3\n",
      "109     1.0  0.923077            0.393443                0.479592       3\n",
      "110     1.0  0.903846            0.393443                0.520408       3\n",
      "126     1.0  0.480769            0.459016                0.346939       3\n",
      "128     1.0  0.788462            0.459016                0.102041       3\n",
      "130     1.0  0.557692            0.459016                0.081633       3\n",
      "146     1.0  0.576923            0.508197                0.357143       3\n",
      "150     1.0  0.480769            0.516393                0.163265       3\n",
      "156     1.0  0.365385            0.516393                0.000000       3\n",
      "158     1.0  0.307692            0.516393                0.000000       3\n",
      "164     1.0  0.615385            0.573770                0.255102       3\n",
      "166     1.0  0.461538            0.581967                0.193878       3\n",
      "170     1.0  0.423077            0.590164                0.122449       3\n",
      "172     1.0  0.346154            0.590164                0.091837       3\n",
      "176     1.0  0.769231            0.598361                0.142857       3\n",
      "178     1.0  0.788462            0.639344                0.132653       3\n",
      "182     1.0  0.538462            0.680328                0.142857       3\n",
      "192     1.0  0.288462            0.803279                0.071429       3\n",
      "198     1.0  0.269231            1.000000                0.173469       3\n",
      "Length of 88\n"
     ]
    }
   ],
   "source": [
    "# Going through the data and investigating how the data is split, in the case of 4 cluster-centers, The male and female values are split\n",
    "# and can be seen as the \"strips\" of data in the plot.\n",
    "\n",
    "g1 = final_df[final_df[\"Gender\"] == 1]\n",
    "\n",
    "g1_c0 = final_df[(final_df[\"Gender\"] == 1) & (final_df[\"Center\"]==0)]\n",
    "\n",
    "g1_c1 = final_df[(final_df[\"Gender\"] == 1) & (final_df[\"Center\"]==1)]\n",
    "\n",
    "g1_c2 = final_df[(final_df[\"Gender\"] == 1) & (final_df[\"Center\"]==2)]\n",
    "\n",
    "g1_c3 = final_df[(final_df[\"Gender\"] == 1) & (final_df[\"Center\"]==3)]\n",
    "print(f\"Gender = 1\\n{g1}\\nGender = 1, center 0\\n{g1_c0}\\nGender = 1, center 1\\n{g1_c1}\\n \\\n",
    "      Gender = 1, center 2\\n{g1_c2}\\nGender = 1, center 3{g1_c3}\")\n",
    "\n",
    "g1_c1_len = len(final_df[(final_df[\"Gender\"] == 1) & (final_df[\"Center\"]==3)])\n",
    "g1_c3_len = len(final_df[(final_df[\"Gender\"] == 1) & (final_df[\"Center\"]==0)])\n",
    "\n",
    "#Summarizing the amount of entries in center 3 and 0\n",
    "total_c0_c3 = g1_c1_len+g1_c3_len\n",
    "print(f\"Length of {total_c0_c3}\")"
   ]
  },
  {
   "cell_type": "markdown",
   "id": "899795e7",
   "metadata": {},
   "source": [
    "# ONEHOTENCODER TEST"
   ]
  },
  {
   "cell_type": "code",
   "execution_count": 31,
   "id": "2bf00762",
   "metadata": {},
   "outputs": [
    {
     "name": "stdout",
     "output_type": "stream",
     "text": [
      "     CustomerID  Gender  Age  Annual Income (k$)  Spending Score (1-100)\n",
      "0             1    Male   19                  15                      39\n",
      "1             2    Male   21                  15                      81\n",
      "2             3  Female   20                  16                       6\n",
      "3             4  Female   23                  16                      77\n",
      "4             5  Female   31                  17                      40\n",
      "..          ...     ...  ...                 ...                     ...\n",
      "195         196  Female   35                 120                      79\n",
      "196         197  Female   45                 126                      28\n",
      "197         198    Male   32                 126                      74\n",
      "198         199    Male   32                 137                      18\n",
      "199         200    Male   30                 137                      83\n",
      "\n",
      "[200 rows x 5 columns]\n"
     ]
    }
   ],
   "source": [
    "from sklearn.preprocessing import LabelEncoder,OneHotEncoder\n",
    "le = LabelEncoder()\n",
    "mall_customers_df = pd.read_csv('../../Datasets/Mall_Customers.csv')\n",
    "\n",
    "mall_customers_df_mod_OHE = mall_customers_df.copy()\n",
    "\n",
    "\n",
    "print(mall_customers_df_mod_OHE)\n",
    "mall_customers_df_test = pd.get_dummies(mall_customers_df_mod_OHE.Gender, prefix = \"Gender\")\n",
    "\n",
    "\n",
    "mall_customers_df_mod_OHE=mall_customers_df_mod_OHE.drop(columns=[\"Gender\", \"CustomerID\"])\n",
    "mall_customers_df_mod_OHE =pd.concat([mall_customers_df_mod_OHE,mall_customers_df_test], axis=1)"
   ]
  },
  {
   "cell_type": "markdown",
   "id": "813044ec",
   "metadata": {},
   "source": [
    "#### Result label encoder (4 clusters)\n",
    "Convergence reached after 9 iterations!\n",
    "Inertia for 4 clusters: 22.46281616781907\n",
    "\n",
    "#### Result onehotencoder (4clusters)\n",
    "Convergence reached after 7 iterations!\n",
    "Inertia for 4 clusters: 22.462816167819078\n",
    "\n",
    "The results are very similar inertia wise and the plots looks very similar. The onehotencoder data converges in less iterations."
   ]
  },
  {
   "cell_type": "code",
   "execution_count": 33,
   "id": "71d38b7e",
   "metadata": {
    "scrolled": false
   },
   "outputs": [
    {
     "name": "stdout",
     "output_type": "stream",
     "text": [
      "Convergence reached after 7 iterations!\n",
      "Inertia for 4 clusters: 22.462816167819078\n"
     ]
    },
    {
     "data": {
      "image/png": "[encoded data removed]",
      "text/plain": [
       "<Figure size 432x288 with 1 Axes>"
      ]
     },
     "metadata": {
      "needs_background": "light"
     },
     "output_type": "display_data"
    }
   ],
   "source": [
    "from sklearn.preprocessing import MinMaxScaler\n",
    "from sklearn.decomposition import PCA\n",
    "\n",
    "#User settings\n",
    "K_clusters = 4\n",
    "max_iter = 100\n",
    "tolerance = 0.01\n",
    "\n",
    "data_size = mall_customers_df_mod_OHE.shape[0]\n",
    "\n",
    "scaler = MinMaxScaler()\n",
    "headers = list(mall_customers_df_mod_OHE)\n",
    "#Rescaling the data \n",
    "mall_customers_df_mod_OHE[headers] = scaler.fit_transform(mall_customers_df_mod_OHE[headers])\n",
    "\n",
    "\n",
    "#Error tolerancetest\n",
    "def toleranceTest(new, current, tolerance):\n",
    "    diff = np.subtract(new,current)\n",
    "    for i in diff:\n",
    "        if i > tolerance:\n",
    "            return False\n",
    "    return True\n",
    "\n",
    "\n",
    "def clusteringAlgorithm(df, max_iter, tolerance):\n",
    "    data_size = df.shape[0]\n",
    "    cluster_center = []\n",
    "    #Randomizing the initial clusters.\n",
    "    np.random.seed(0)\n",
    "    initial_cluster_centers_pos = np.random.choice(data_size,K_clusters,replace= False)\n",
    "    #Getting the the positions of the initial clusters.\n",
    "    for k in initial_cluster_centers_pos:\n",
    "        cluster_center.append(df.iloc[k])\n",
    "    cluster_belonging = []\n",
    "    for i in range(data_size):\n",
    "        datapoint_center = euclideanCenter(cluster_center, df.iloc[i])\n",
    "        cluster_belonging.append(datapoint_center)    \n",
    "    df['Center'] = cluster_belonging\n",
    "    \n",
    "    for iteration in range(max_iter):\n",
    "        cluster_belonging = []\n",
    "        cluster_center_ids = df['Center'].unique()\n",
    "        new_centers = []\n",
    "        for j in cluster_center_ids:\n",
    "            mean_pos = df[df['Center']== j].mean()\n",
    "            new_centers.append(mean_pos)\n",
    "        for i in range(data_size):\n",
    "            datapoint_center = euclideanCenter(new_centers, df.iloc[i])\n",
    "            cluster_belonging.append(datapoint_center)\n",
    "        df['Center'] = cluster_belonging\n",
    "        compare_new = []\n",
    "        compare_prev = []\n",
    "        for h in range(len(new_centers)):\n",
    "            for u in range(len(new_centers[0])-1):\n",
    "                compare_new.append(new_centers[h][u])\n",
    "                compare_prev.append(cluster_center[h][u])\n",
    "        test_tol = toleranceTest(compare_new,compare_prev, tolerance)\n",
    "        #if (compare_new == compare_prev):\n",
    "        if test_tol == True:\n",
    "            print(f\"Convergence reached after {iteration} iterations!\")\n",
    "            return df\n",
    "        else:\n",
    "            cluster_center = new_centers\n",
    "        \n",
    "def euclideanCenter(cluster_centers, datapoint):\n",
    "    distances = []\n",
    "    if \"Center\" in datapoint:\n",
    "        datapoint = datapoint.drop(labels = [\"Center\"])\n",
    "    for i in cluster_centers:\n",
    "        distance = i.sub(datapoint).pow(2).sum()\n",
    "        distances.append(distance)\n",
    "    min_val = min(distances)\n",
    "    min_index = distances.index(min_val)\n",
    "    return min_index\n",
    "\n",
    "def pca_transform(df_data):\n",
    "    pca = PCA(n_components = 2)\n",
    "    principial_components = pca.fit_transform(df_data)\n",
    "    principial_df = pd.DataFrame(data = principial_components,columns = ['pc 1', 'pc 2'])\n",
    "    return principial_df\n",
    "\n",
    "def inertiaCalc(df_all, center_pos, center):\n",
    "    inertia = center_pos.sub(df_all[df_all['Center'] == center]).pow(2).sum()\n",
    "    inertia = inertia.drop(\"Center\").sum()\n",
    "    return inertia\n",
    "\n",
    "final_df = clusteringAlgorithm(mall_customers_df_mod_OHE, max_iter, tolerance)\n",
    "\n",
    "final_df_clusters = final_df['Center']\n",
    "\n",
    "cluster_center_ids = final_df['Center'].unique()\n",
    "\n",
    "sumOfInertia = 0\n",
    "\n",
    "for j in cluster_center_ids:\n",
    "    mean_pos = final_df[final_df['Center']== j].mean()\n",
    "    final_center_pos.append(mean_pos)\n",
    "    inertia = inertiaCalc(final_df, mean_pos, j)\n",
    "    sumOfInertia = sumOfInertia + inertia\n",
    "\n",
    "print(f\"Inertia for {K_clusters} clusters: {sumOfInertia}\")\n",
    "\n",
    "final_df_conversion = final_df.drop(columns = ['Center'])\n",
    "\n",
    "\n",
    "test_pca = pca_transform(final_df_conversion)\n",
    "\n",
    "test_pca['Center'] = final_df_clusters\n",
    "\n",
    "cluster_center_ids_conv = test_pca['Center'].unique()\n",
    "\n",
    "final_mean_pos=[]\n",
    "\n",
    "for j in cluster_center_ids_conv:\n",
    "    mean_pos = test_pca[test_pca['Center']== j].mean()\n",
    "    final_mean_pos.append(mean_pos)\n",
    "\n",
    "plt.scatter(test_pca['pc 1'], test_pca['pc 2'], c = test_pca.Center, cmap = \"Set3\")\n",
    "plt.xlabel(\"Principial component 1\")\n",
    "plt.ylabel(\"Principial component 2\")\n",
    "plt.title(\"PCA conversion of mall customer dataset\")\n",
    "\n",
    "X_means = []\n",
    "Y_means = []\n",
    "\n",
    "for i in range(K_clusters):\n",
    "    X_means.append(final_mean_pos[i][0])\n",
    "    Y_means.append(final_mean_pos[i][1])\n",
    "plt.scatter(X_means, Y_means, marker = '^')\n",
    "plt.show()"
   ]
  },
  {
   "cell_type": "markdown",
   "id": "04577e88",
   "metadata": {},
   "source": [
    "## A very basic way of checking k-elbow for mall_customers..."
   ]
  },
  {
   "cell_type": "code",
   "execution_count": 34,
   "id": "a762ae8d",
   "metadata": {
    "scrolled": false
   },
   "outputs": [
    {
     "name": "stdout",
     "output_type": "stream",
     "text": [
      "[18]\n",
      "Convergence reached after 1 iterations!\n",
      "Inertia for 8 clusters: 86.68148216035945\n"
     ]
    },
    {
     "data": {
      "image/png": "[encoded data removed]",
      "text/plain": [
       "<Figure size 432x288 with 1 Axes>"
      ]
     },
     "metadata": {
      "needs_background": "light"
     },
     "output_type": "display_data"
    },
    {
     "name": "stdout",
     "output_type": "stream",
     "text": [
      "[ 18 170]\n",
      "Convergence reached after 4 iterations!\n",
      "Inertia for 8 clusters: 37.27227241211877\n"
     ]
    },
    {
     "data": {
      "image/png": "[encoded data removed]",
      "text/plain": [
       "<Figure size 432x288 with 1 Axes>"
      ]
     },
     "metadata": {
      "needs_background": "light"
     },
     "output_type": "display_data"
    },
    {
     "name": "stdout",
     "output_type": "stream",
     "text": [
      "[ 18 170 107]\n",
      "Convergence reached after 6 iterations!\n",
      "Inertia for 8 clusters: 30.11037481210346\n"
     ]
    },
    {
     "data": {
      "image/png": "[encoded data removed]",
      "text/plain": [
       "<Figure size 432x288 with 1 Axes>"
      ]
     },
     "metadata": {
      "needs_background": "light"
     },
     "output_type": "display_data"
    },
    {
     "name": "stdout",
     "output_type": "stream",
     "text": [
      "[ 18 170 107  98]\n",
      "Convergence reached after 9 iterations!\n",
      "Inertia for 8 clusters: 22.462816167819078\n"
     ]
    },
    {
     "data": {
      "image/png": "[encoded data removed]",
      "text/plain": [
       "<Figure size 432x288 with 1 Axes>"
      ]
     },
     "metadata": {
      "needs_background": "light"
     },
     "output_type": "display_data"
    },
    {
     "name": "stdout",
     "output_type": "stream",
     "text": [
      "[ 18 170 107  98 177]\n",
      "Convergence reached after 7 iterations!\n",
      "Inertia for 8 clusters: 19.084318198750175\n"
     ]
    },
    {
     "data": {
      "image/png": "[encoded data removed]",
      "text/plain": [
       "<Figure size 432x288 with 1 Axes>"
      ]
     },
     "metadata": {
      "needs_background": "light"
     },
     "output_type": "display_data"
    },
    {
     "name": "stdout",
     "output_type": "stream",
     "text": [
      "[ 18 170 107  98 177 182]\n",
      "Convergence reached after 8 iterations!\n",
      "Inertia for 8 clusters: 17.009616020757356\n"
     ]
    },
    {
     "data": {
      "image/png": "[encoded data removed]",
      "text/plain": [
       "<Figure size 432x288 with 1 Axes>"
      ]
     },
     "metadata": {
      "needs_background": "light"
     },
     "output_type": "display_data"
    },
    {
     "name": "stdout",
     "output_type": "stream",
     "text": [
      "[ 18 170 107  98 177 182   5]\n",
      "Convergence reached after 6 iterations!\n",
      "Inertia for 8 clusters: 17.43134529287789\n"
     ]
    },
    {
     "data": {
      "image/png": "[encoded data removed]",
      "text/plain": [
       "<Figure size 432x288 with 1 Axes>"
      ]
     },
     "metadata": {
      "needs_background": "light"
     },
     "output_type": "display_data"
    },
    {
     "data": {
      "image/png": "[encoded data removed]",
      "text/plain": [
       "<Figure size 432x288 with 1 Axes>"
      ]
     },
     "metadata": {
      "needs_background": "light"
     },
     "output_type": "display_data"
    }
   ],
   "source": [
    "from sklearn.preprocessing import MinMaxScaler\n",
    "from sklearn.decomposition import PCA\n",
    "\n",
    "#User settings\n",
    "K_clusters = 8\n",
    "max_iter = 100\n",
    "tolerance = 0.01\n",
    "\n",
    "data_size = mall_customers_df_mod.shape[0]\n",
    "\n",
    "scaler = MinMaxScaler()\n",
    "headers = list(mall_customers_df_mod)\n",
    "#Rescaling the data \n",
    "mall_customers_df_mod[headers] = scaler.fit_transform(mall_customers_df_mod[headers])\n",
    "\n",
    "inertias = []\n",
    "\n",
    "#Error tolerancetest\n",
    "def toleranceTest(new, current, tolerance):\n",
    "    diff = np.subtract(new,current)\n",
    "    for i in diff:\n",
    "        if i > tolerance:\n",
    "            return False\n",
    "    return True\n",
    "\n",
    "\n",
    "def clusteringAlgorithm(df, max_iter, tolerance, K_clusters):\n",
    "    data_size = df.shape[0]\n",
    "    cluster_center = []\n",
    "    #Randomizing the initial clusters.\n",
    "    np.random.seed(0)\n",
    "    initial_cluster_centers_pos = np.random.choice(data_size,K_clusters,replace= False)\n",
    "    #Getting the the positions of the initial clusters.\n",
    "    for k in initial_cluster_centers_pos:\n",
    "        cluster_center.append(df.iloc[k])\n",
    "\n",
    "    cluster_belonging = []\n",
    "    for i in range(data_size):\n",
    "        datapoint_center = euclideanCenter(cluster_center, df.iloc[i])\n",
    "        cluster_belonging.append(datapoint_center)    \n",
    "    df['Center'] = cluster_belonging\n",
    "    \n",
    "    for iteration in range(max_iter):\n",
    "        cluster_belonging = []\n",
    "        cluster_center_ids = df['Center'].unique()\n",
    "        new_centers = []\n",
    "        for j in cluster_center_ids:\n",
    "            mean_pos = df[df['Center']== j].mean()\n",
    "            new_centers.append(mean_pos)\n",
    "        for i in range(data_size):\n",
    "            datapoint_center = euclideanCenter(new_centers, df.iloc[i])\n",
    "            cluster_belonging.append(datapoint_center)\n",
    "        df['Center'] = cluster_belonging\n",
    "        compare_new = []\n",
    "        compare_prev = []\n",
    "        for h in range(len(new_centers)):\n",
    "            for u in range(len(new_centers[0])-1):\n",
    "                compare_new.append(new_centers[h][u])\n",
    "                compare_prev.append(cluster_center[h][u])\n",
    "        test_tol = toleranceTest(compare_new,compare_prev, tolerance)\n",
    "        if test_tol == True:\n",
    "            print(f\"Convergence reached after {iteration} iterations!\")\n",
    "            return df\n",
    "        else:\n",
    "            cluster_center = new_centers\n",
    "        \n",
    "def euclideanCenter(cluster_centers, datapoint):\n",
    "    distances = []\n",
    "    if \"Center\" in datapoint:\n",
    "        datapoint = datapoint.drop(labels = [\"Center\"])\n",
    "    for i in cluster_centers:\n",
    "        distance = i.sub(datapoint).pow(2).sum()\n",
    "        distances.append(distance)\n",
    "    min_val = min(distances)\n",
    "    min_index = distances.index(min_val)\n",
    "    return min_index\n",
    "\n",
    "def pca_transform(df_data):\n",
    "    pca = PCA(n_components = 2)\n",
    "    principial_components = pca.fit_transform(df_data)\n",
    "    principial_df = pd.DataFrame(data = principial_components,columns = ['pc 1', 'pc 2'])\n",
    "    return principial_df\n",
    "\n",
    "def inertiaCalc(df_all, center_pos, center):\n",
    "    inertia = center_pos.sub(df_all[df_all['Center'] == center]).pow(2).sum()\n",
    "    inertia = inertia.drop(\"Center\").sum()\n",
    "    return inertia\n",
    "\n",
    "for p in range(1,K_clusters):\n",
    "\n",
    "    final_df = clusteringAlgorithm(mall_customers_df_mod, max_iter, tolerance,p)\n",
    "\n",
    "    final_df_clusters = final_df['Center']\n",
    "\n",
    "    final_df_conversion = final_df.drop(columns = ['Center'])\n",
    "\n",
    "    cluster_center_ids = final_df['Center'].unique()\n",
    "\n",
    "    sumOfInertia = 0\n",
    "\n",
    "    for j in cluster_center_ids:\n",
    "        mean_pos = final_df[final_df['Center']== j].mean()\n",
    "        final_center_pos.append(mean_pos)\n",
    "        inertia = inertiaCalc(final_df, mean_pos, j)\n",
    "        sumOfInertia = sumOfInertia + inertia\n",
    "\n",
    "    print(f\"Inertia for {K_clusters} clusters: {sumOfInertia}\")\n",
    "    inertias.append(sumOfInertia)\n",
    "    test_pca = pca_transform(final_df_conversion)\n",
    "\n",
    "    test_pca['Center'] = final_df_clusters\n",
    "\n",
    "    cluster_center_ids_conv = test_pca['Center'].unique()\n",
    "\n",
    "    final_mean_pos=[]\n",
    "\n",
    "    for j in cluster_center_ids_conv:\n",
    "        mean_pos = test_pca[test_pca['Center']== j].mean()\n",
    "        final_mean_pos.append(mean_pos)\n",
    "\n",
    "    plt.scatter(test_pca['pc 1'], test_pca['pc 2'], c = test_pca.Center, cmap = \"Set3\")\n",
    "    plt.xlabel(\"Principial component 1\")\n",
    "    plt.ylabel(\"Principial component 2\")\n",
    "    plt.title(\"PCA conversion of mall customer dataset\")\n",
    "\n",
    "    X_means = []\n",
    "    Y_means = []\n",
    "\n",
    "    for i in range(p):\n",
    "        X_means.append(final_mean_pos[i][0])\n",
    "        Y_means.append(final_mean_pos[i][1])\n",
    "    plt.scatter(X_means, Y_means, marker = '^')\n",
    "    plt.show()\n",
    "    \n",
    "\n",
    "k_val = [*range(1,K_clusters)]\n",
    "plt.plot(k_val, inertias, '-x')\n",
    "plt.title(\"Elbow plot\")\n",
    "plt.xlabel(\"K-clusters\")\n",
    "plt.ylabel(\"Inertia\")\n",
    "plt.show()"
   ]
  }
 ],
 "metadata": {
  "kernelspec": {
   "display_name": "Python 3 (ipykernel)",
   "language": "python",
   "name": "python3"
  },
  "language_info": {
   "codemirror_mode": {
    "name": "ipython",
    "version": 3
   },
   "file_extension": ".py",
   "mimetype": "text/x-python",
   "name": "python",
   "nbconvert_exporter": "python",
   "pygments_lexer": "ipython3",
   "version": "3.9.7"
  }
 },
 "nbformat": 4,
 "nbformat_minor": 5
}
