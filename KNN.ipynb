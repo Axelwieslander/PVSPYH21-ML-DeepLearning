{
 "cells": [
  {
   "cell_type": "markdown",
   "id": "5e26b7da",
   "metadata": {},
   "source": [
    "# K-Nearest Neighbour\n"
   ]
  },
  {
   "cell_type": "markdown",
   "id": "bec3fc62",
   "metadata": {},
   "source": [
    "* Analyze the data\n",
    "* Print at least one of each different number from the MNIST dataset\n",
    "* Create and analyze a confusion matrix \n",
    "* Create your own  KNN algorithm"
   ]
  },
  {
   "cell_type": "markdown",
   "id": "30e9486c",
   "metadata": {},
   "source": [
    "Importing the datasets"
   ]
  },
  {
   "cell_type": "code",
   "execution_count": 1,
   "id": "acd28543",
   "metadata": {},
   "outputs": [],
   "source": [
    "import pandas as pd\n",
    "import numpy as np\n",
    "import matplotlib.pyplot as plt\n",
    "import seaborn as sns\n",
    "from sklearn.preprocessing import MinMaxScaler\n",
    "\n",
    "test1 = pd.read_csv(\"../../Datasets/test_sample.csv\")\n",
    "train1 = pd.read_csv(\"../../Datasets/train_sample.csv\")\n",
    "\n",
    "test2 = pd.read_csv(\"../../Datasets/test_sample_2.csv\")\n",
    "train2 = pd.read_csv(\"../../Datasets/train_sample_2.csv\")"
   ]
  },
  {
   "cell_type": "markdown",
   "id": "9acbfdd8",
   "metadata": {},
   "source": [
    "## Dataset 1 overview"
   ]
  },
  {
   "cell_type": "code",
   "execution_count": 2,
   "id": "3a46dcf3",
   "metadata": {
    "scrolled": true
   },
   "outputs": [
    {
     "data": {
      "text/html": [
       "<div>\n",
       "<style scoped>\n",
       "    .dataframe tbody tr th:only-of-type {\n",
       "        vertical-align: middle;\n",
       "    }\n",
       "\n",
       "    .dataframe tbody tr th {\n",
       "        vertical-align: top;\n",
       "    }\n",
       "\n",
       "    .dataframe thead th {\n",
       "        text-align: right;\n",
       "    }\n",
       "</style>\n",
       "<table border=\"1\" class=\"dataframe\">\n",
       "  <thead>\n",
       "    <tr style=\"text-align: right;\">\n",
       "      <th></th>\n",
       "      <th>label</th>\n",
       "      <th>pixel0</th>\n",
       "      <th>pixel1</th>\n",
       "      <th>pixel2</th>\n",
       "      <th>pixel3</th>\n",
       "      <th>pixel4</th>\n",
       "      <th>pixel5</th>\n",
       "      <th>pixel6</th>\n",
       "      <th>pixel7</th>\n",
       "      <th>pixel8</th>\n",
       "      <th>...</th>\n",
       "      <th>pixel774</th>\n",
       "      <th>pixel775</th>\n",
       "      <th>pixel776</th>\n",
       "      <th>pixel777</th>\n",
       "      <th>pixel778</th>\n",
       "      <th>pixel779</th>\n",
       "      <th>pixel780</th>\n",
       "      <th>pixel781</th>\n",
       "      <th>pixel782</th>\n",
       "      <th>pixel783</th>\n",
       "    </tr>\n",
       "  </thead>\n",
       "  <tbody>\n",
       "    <tr>\n",
       "      <th>0</th>\n",
       "      <td>0</td>\n",
       "      <td>0</td>\n",
       "      <td>0</td>\n",
       "      <td>0</td>\n",
       "      <td>0</td>\n",
       "      <td>0</td>\n",
       "      <td>0</td>\n",
       "      <td>0</td>\n",
       "      <td>0</td>\n",
       "      <td>0</td>\n",
       "      <td>...</td>\n",
       "      <td>0</td>\n",
       "      <td>0</td>\n",
       "      <td>0</td>\n",
       "      <td>0</td>\n",
       "      <td>0</td>\n",
       "      <td>0</td>\n",
       "      <td>0</td>\n",
       "      <td>0</td>\n",
       "      <td>0</td>\n",
       "      <td>0</td>\n",
       "    </tr>\n",
       "    <tr>\n",
       "      <th>1</th>\n",
       "      <td>0</td>\n",
       "      <td>0</td>\n",
       "      <td>0</td>\n",
       "      <td>0</td>\n",
       "      <td>0</td>\n",
       "      <td>0</td>\n",
       "      <td>0</td>\n",
       "      <td>0</td>\n",
       "      <td>0</td>\n",
       "      <td>0</td>\n",
       "      <td>...</td>\n",
       "      <td>0</td>\n",
       "      <td>0</td>\n",
       "      <td>0</td>\n",
       "      <td>0</td>\n",
       "      <td>0</td>\n",
       "      <td>0</td>\n",
       "      <td>0</td>\n",
       "      <td>0</td>\n",
       "      <td>0</td>\n",
       "      <td>0</td>\n",
       "    </tr>\n",
       "    <tr>\n",
       "      <th>2</th>\n",
       "      <td>0</td>\n",
       "      <td>0</td>\n",
       "      <td>0</td>\n",
       "      <td>0</td>\n",
       "      <td>0</td>\n",
       "      <td>0</td>\n",
       "      <td>0</td>\n",
       "      <td>0</td>\n",
       "      <td>0</td>\n",
       "      <td>0</td>\n",
       "      <td>...</td>\n",
       "      <td>0</td>\n",
       "      <td>0</td>\n",
       "      <td>0</td>\n",
       "      <td>0</td>\n",
       "      <td>0</td>\n",
       "      <td>0</td>\n",
       "      <td>0</td>\n",
       "      <td>0</td>\n",
       "      <td>0</td>\n",
       "      <td>0</td>\n",
       "    </tr>\n",
       "    <tr>\n",
       "      <th>3</th>\n",
       "      <td>0</td>\n",
       "      <td>0</td>\n",
       "      <td>0</td>\n",
       "      <td>0</td>\n",
       "      <td>0</td>\n",
       "      <td>0</td>\n",
       "      <td>0</td>\n",
       "      <td>0</td>\n",
       "      <td>0</td>\n",
       "      <td>0</td>\n",
       "      <td>...</td>\n",
       "      <td>0</td>\n",
       "      <td>0</td>\n",
       "      <td>0</td>\n",
       "      <td>0</td>\n",
       "      <td>0</td>\n",
       "      <td>0</td>\n",
       "      <td>0</td>\n",
       "      <td>0</td>\n",
       "      <td>0</td>\n",
       "      <td>0</td>\n",
       "    </tr>\n",
       "    <tr>\n",
       "      <th>4</th>\n",
       "      <td>0</td>\n",
       "      <td>0</td>\n",
       "      <td>0</td>\n",
       "      <td>0</td>\n",
       "      <td>0</td>\n",
       "      <td>0</td>\n",
       "      <td>0</td>\n",
       "      <td>0</td>\n",
       "      <td>0</td>\n",
       "      <td>0</td>\n",
       "      <td>...</td>\n",
       "      <td>0</td>\n",
       "      <td>0</td>\n",
       "      <td>0</td>\n",
       "      <td>0</td>\n",
       "      <td>0</td>\n",
       "      <td>0</td>\n",
       "      <td>0</td>\n",
       "      <td>0</td>\n",
       "      <td>0</td>\n",
       "      <td>0</td>\n",
       "    </tr>\n",
       "  </tbody>\n",
       "</table>\n",
       "<p>5 rows × 785 columns</p>\n",
       "</div>"
      ],
      "text/plain": [
       "   label  pixel0  pixel1  pixel2  pixel3  pixel4  pixel5  pixel6  pixel7  \\\n",
       "0      0       0       0       0       0       0       0       0       0   \n",
       "1      0       0       0       0       0       0       0       0       0   \n",
       "2      0       0       0       0       0       0       0       0       0   \n",
       "3      0       0       0       0       0       0       0       0       0   \n",
       "4      0       0       0       0       0       0       0       0       0   \n",
       "\n",
       "   pixel8  ...  pixel774  pixel775  pixel776  pixel777  pixel778  pixel779  \\\n",
       "0       0  ...         0         0         0         0         0         0   \n",
       "1       0  ...         0         0         0         0         0         0   \n",
       "2       0  ...         0         0         0         0         0         0   \n",
       "3       0  ...         0         0         0         0         0         0   \n",
       "4       0  ...         0         0         0         0         0         0   \n",
       "\n",
       "   pixel780  pixel781  pixel782  pixel783  \n",
       "0         0         0         0         0  \n",
       "1         0         0         0         0  \n",
       "2         0         0         0         0  \n",
       "3         0         0         0         0  \n",
       "4         0         0         0         0  \n",
       "\n",
       "[5 rows x 785 columns]"
      ]
     },
     "execution_count": 2,
     "metadata": {},
     "output_type": "execute_result"
    }
   ],
   "source": [
    "test1.head()"
   ]
  },
  {
   "cell_type": "markdown",
   "id": "d8554f57",
   "metadata": {},
   "source": [
    "Shape and test/train split of dataset 1"
   ]
  },
  {
   "cell_type": "code",
   "execution_count": 3,
   "id": "36d6e41e",
   "metadata": {
    "scrolled": false
   },
   "outputs": [
    {
     "name": "stdout",
     "output_type": "stream",
     "text": [
      "(1000, 785)\n",
      "(5000, 785)\n",
      "Test split: 0.16666666666666666\n"
     ]
    }
   ],
   "source": [
    "print(test1.shape)\n",
    "print(train1.shape)\n",
    "\n",
    "print(f\"Test split: {len(test1)/(len(test1)+len(train1))}\")"
   ]
  },
  {
   "cell_type": "markdown",
   "id": "3480f0d5",
   "metadata": {},
   "source": [
    "Checking whether data is missing:"
   ]
  },
  {
   "cell_type": "code",
   "execution_count": 4,
   "id": "4447edad",
   "metadata": {},
   "outputs": [
    {
     "name": "stdout",
     "output_type": "stream",
     "text": [
      "False\n",
      "False\n"
     ]
    }
   ],
   "source": [
    "print(test1.isnull().values.any())\n",
    "print(train1.isnull().values.any())"
   ]
  },
  {
   "cell_type": "markdown",
   "id": "b049ac71",
   "metadata": {},
   "source": [
    "Checking if there are any duplicated rows"
   ]
  },
  {
   "cell_type": "code",
   "execution_count": 4,
   "id": "4d374316",
   "metadata": {},
   "outputs": [
    {
     "name": "stdout",
     "output_type": "stream",
     "text": [
      "0\n",
      "0\n"
     ]
    }
   ],
   "source": [
    "print(test1.duplicated().sum())\n",
    "print(train1.duplicated().sum())"
   ]
  },
  {
   "cell_type": "markdown",
   "id": "96cd0a80",
   "metadata": {},
   "source": [
    "Comparison of the attributes:\n",
    "\n",
    "The columns in the dataset are the same."
   ]
  },
  {
   "cell_type": "code",
   "execution_count": 3,
   "id": "0268a831",
   "metadata": {},
   "outputs": [
    {
     "name": "stdout",
     "output_type": "stream",
     "text": [
      "[]\n"
     ]
    }
   ],
   "source": [
    "test1_pixels = test1.columns\n",
    "\n",
    "train1_pixels = train1.columns\n",
    "\n",
    "missing_pixels1 = [test1_pixels for test1_pixels in test1_pixels if test1_pixels not in train1_pixels]\n",
    "print(missing_pixels1)"
   ]
  },
  {
   "cell_type": "markdown",
   "id": "a7c534b7",
   "metadata": {},
   "source": [
    "## Dataset 2 overview\n"
   ]
  },
  {
   "cell_type": "markdown",
   "id": "eb3b8d0e",
   "metadata": {},
   "source": [
    "Shape of the datasets.\n",
    "\n",
    "The test dataset contains 3 more rows than the training dataset."
   ]
  },
  {
   "cell_type": "code",
   "execution_count": 7,
   "id": "8ce04878",
   "metadata": {
    "scrolled": true
   },
   "outputs": [
    {
     "data": {
      "text/html": [
       "<div>\n",
       "<style scoped>\n",
       "    .dataframe tbody tr th:only-of-type {\n",
       "        vertical-align: middle;\n",
       "    }\n",
       "\n",
       "    .dataframe tbody tr th {\n",
       "        vertical-align: top;\n",
       "    }\n",
       "\n",
       "    .dataframe thead th {\n",
       "        text-align: right;\n",
       "    }\n",
       "</style>\n",
       "<table border=\"1\" class=\"dataframe\">\n",
       "  <thead>\n",
       "    <tr style=\"text-align: right;\">\n",
       "      <th></th>\n",
       "      <th>label</th>\n",
       "      <th>pixel0</th>\n",
       "      <th>pixel1</th>\n",
       "      <th>pixel2</th>\n",
       "      <th>pixel3</th>\n",
       "      <th>pixel4</th>\n",
       "      <th>pixel5</th>\n",
       "      <th>pixel6</th>\n",
       "      <th>pixel7</th>\n",
       "      <th>pixel8</th>\n",
       "      <th>...</th>\n",
       "      <th>pixel774</th>\n",
       "      <th>pixel775</th>\n",
       "      <th>pixel776</th>\n",
       "      <th>pixel777</th>\n",
       "      <th>pixel778</th>\n",
       "      <th>pixel779</th>\n",
       "      <th>pixel780</th>\n",
       "      <th>pixel781</th>\n",
       "      <th>pixel782</th>\n",
       "      <th>pixel783</th>\n",
       "    </tr>\n",
       "  </thead>\n",
       "  <tbody>\n",
       "    <tr>\n",
       "      <th>0</th>\n",
       "      <td>0</td>\n",
       "      <td>0</td>\n",
       "      <td>0</td>\n",
       "      <td>0</td>\n",
       "      <td>0</td>\n",
       "      <td>0</td>\n",
       "      <td>0</td>\n",
       "      <td>0</td>\n",
       "      <td>0</td>\n",
       "      <td>0</td>\n",
       "      <td>...</td>\n",
       "      <td>0</td>\n",
       "      <td>0</td>\n",
       "      <td>0</td>\n",
       "      <td>0</td>\n",
       "      <td>0</td>\n",
       "      <td>0</td>\n",
       "      <td>0</td>\n",
       "      <td>0</td>\n",
       "      <td>0</td>\n",
       "      <td>0</td>\n",
       "    </tr>\n",
       "    <tr>\n",
       "      <th>1</th>\n",
       "      <td>0</td>\n",
       "      <td>0</td>\n",
       "      <td>0</td>\n",
       "      <td>0</td>\n",
       "      <td>0</td>\n",
       "      <td>0</td>\n",
       "      <td>0</td>\n",
       "      <td>0</td>\n",
       "      <td>0</td>\n",
       "      <td>0</td>\n",
       "      <td>...</td>\n",
       "      <td>0</td>\n",
       "      <td>0</td>\n",
       "      <td>0</td>\n",
       "      <td>0</td>\n",
       "      <td>0</td>\n",
       "      <td>0</td>\n",
       "      <td>0</td>\n",
       "      <td>0</td>\n",
       "      <td>0</td>\n",
       "      <td>0</td>\n",
       "    </tr>\n",
       "    <tr>\n",
       "      <th>2</th>\n",
       "      <td>0</td>\n",
       "      <td>0</td>\n",
       "      <td>0</td>\n",
       "      <td>0</td>\n",
       "      <td>0</td>\n",
       "      <td>0</td>\n",
       "      <td>0</td>\n",
       "      <td>0</td>\n",
       "      <td>0</td>\n",
       "      <td>0</td>\n",
       "      <td>...</td>\n",
       "      <td>0</td>\n",
       "      <td>0</td>\n",
       "      <td>0</td>\n",
       "      <td>0</td>\n",
       "      <td>0</td>\n",
       "      <td>0</td>\n",
       "      <td>0</td>\n",
       "      <td>0</td>\n",
       "      <td>0</td>\n",
       "      <td>0</td>\n",
       "    </tr>\n",
       "    <tr>\n",
       "      <th>3</th>\n",
       "      <td>0</td>\n",
       "      <td>0</td>\n",
       "      <td>0</td>\n",
       "      <td>0</td>\n",
       "      <td>0</td>\n",
       "      <td>0</td>\n",
       "      <td>0</td>\n",
       "      <td>0</td>\n",
       "      <td>0</td>\n",
       "      <td>0</td>\n",
       "      <td>...</td>\n",
       "      <td>0</td>\n",
       "      <td>0</td>\n",
       "      <td>0</td>\n",
       "      <td>0</td>\n",
       "      <td>0</td>\n",
       "      <td>0</td>\n",
       "      <td>0</td>\n",
       "      <td>0</td>\n",
       "      <td>0</td>\n",
       "      <td>0</td>\n",
       "    </tr>\n",
       "    <tr>\n",
       "      <th>4</th>\n",
       "      <td>0</td>\n",
       "      <td>0</td>\n",
       "      <td>0</td>\n",
       "      <td>0</td>\n",
       "      <td>0</td>\n",
       "      <td>0</td>\n",
       "      <td>0</td>\n",
       "      <td>0</td>\n",
       "      <td>0</td>\n",
       "      <td>0</td>\n",
       "      <td>...</td>\n",
       "      <td>0</td>\n",
       "      <td>0</td>\n",
       "      <td>0</td>\n",
       "      <td>0</td>\n",
       "      <td>0</td>\n",
       "      <td>0</td>\n",
       "      <td>0</td>\n",
       "      <td>0</td>\n",
       "      <td>0</td>\n",
       "      <td>0</td>\n",
       "    </tr>\n",
       "  </tbody>\n",
       "</table>\n",
       "<p>5 rows × 785 columns</p>\n",
       "</div>"
      ],
      "text/plain": [
       "   label  pixel0  pixel1  pixel2  pixel3  pixel4  pixel5  pixel6  pixel7  \\\n",
       "0      0       0       0       0       0       0       0       0       0   \n",
       "1      0       0       0       0       0       0       0       0       0   \n",
       "2      0       0       0       0       0       0       0       0       0   \n",
       "3      0       0       0       0       0       0       0       0       0   \n",
       "4      0       0       0       0       0       0       0       0       0   \n",
       "\n",
       "   pixel8  ...  pixel774  pixel775  pixel776  pixel777  pixel778  pixel779  \\\n",
       "0       0  ...         0         0         0         0         0         0   \n",
       "1       0  ...         0         0         0         0         0         0   \n",
       "2       0  ...         0         0         0         0         0         0   \n",
       "3       0  ...         0         0         0         0         0         0   \n",
       "4       0  ...         0         0         0         0         0         0   \n",
       "\n",
       "   pixel780  pixel781  pixel782  pixel783  \n",
       "0         0         0         0         0  \n",
       "1         0         0         0         0  \n",
       "2         0         0         0         0  \n",
       "3         0         0         0         0  \n",
       "4         0         0         0         0  \n",
       "\n",
       "[5 rows x 785 columns]"
      ]
     },
     "execution_count": 7,
     "metadata": {},
     "output_type": "execute_result"
    }
   ],
   "source": [
    "test2.head()"
   ]
  },
  {
   "cell_type": "code",
   "execution_count": 4,
   "id": "96db3bfb",
   "metadata": {},
   "outputs": [
    {
     "name": "stdout",
     "output_type": "stream",
     "text": [
      "(1000, 785)\n",
      "(5000, 782)\n",
      "Test split: 0.16666666666666666\n"
     ]
    }
   ],
   "source": [
    "print(test2.shape)\n",
    "print(train2.shape)\n",
    "\n",
    "print(f\"Test split: {len(test1)/(len(test1)+len(train1))}\")"
   ]
  },
  {
   "cell_type": "markdown",
   "id": "2a2997be",
   "metadata": {},
   "source": [
    "The training set is missing 3pixels: ['pixel781', 'pixel782', 'pixel783']"
   ]
  },
  {
   "cell_type": "code",
   "execution_count": 9,
   "id": "ce78f746",
   "metadata": {},
   "outputs": [
    {
     "name": "stdout",
     "output_type": "stream",
     "text": [
      "pixels not found in trainingset: ['pixel781', 'pixel782', 'pixel783']\n"
     ]
    }
   ],
   "source": [
    "test2_pixels = test2.columns\n",
    "\n",
    "train2_pixels = train2.columns\n",
    "\n",
    "missing_pixels2 = [test2_pixels for test2_pixels in test2_pixels if test2_pixels not in train2_pixels]\n",
    "print(f\"pixels not found in trainingset: {missing_pixels2}\")"
   ]
  },
  {
   "cell_type": "markdown",
   "id": "2ec3cda1",
   "metadata": {},
   "source": [
    "The datasets do not contain any duplicates"
   ]
  },
  {
   "cell_type": "code",
   "execution_count": 10,
   "id": "e135267f",
   "metadata": {
    "scrolled": true
   },
   "outputs": [
    {
     "name": "stdout",
     "output_type": "stream",
     "text": [
      "0\n",
      "0\n"
     ]
    }
   ],
   "source": [
    "print(test2.duplicated().sum())\n",
    "print(train2.duplicated().sum())"
   ]
  },
  {
   "cell_type": "markdown",
   "id": "15df8803",
   "metadata": {},
   "source": [
    "The datasets do not have any missing data"
   ]
  },
  {
   "cell_type": "code",
   "execution_count": 11,
   "id": "149bf608",
   "metadata": {
    "scrolled": false
   },
   "outputs": [
    {
     "name": "stdout",
     "output_type": "stream",
     "text": [
      "False\n",
      "False\n"
     ]
    }
   ],
   "source": [
    "print(test2.isnull().values.any())\n",
    "print(train2.isnull().values.any())"
   ]
  },
  {
   "cell_type": "markdown",
   "id": "938da820",
   "metadata": {},
   "source": [
    "## Conclusion:\n",
    "\n",
    "Since the 2nd dataset is missing 3 pixels in the training data, therefore i will work with the first dataset.\n",
    "\n",
    "The dataset contains images of numbers with the size of 28x28 pixels\n",
    "\n",
    "The column \"Label\" contains the numbers that are depicted by the pixels and varies from 0-9, therefore there are 10 classes.\n",
    "\n",
    "There are 100 testing datasamples for each number and 500 training datasamples totaling in at 1000 samples in the testdataset and 5000 samples in the trainingdataset"
   ]
  },
  {
   "cell_type": "markdown",
   "id": "5a9e23e6",
   "metadata": {},
   "source": [
    "#### Finding the possible numbers that are depicted in the images"
   ]
  },
  {
   "cell_type": "code",
   "execution_count": 21,
   "id": "3e621ced",
   "metadata": {},
   "outputs": [
    {
     "name": "stdout",
     "output_type": "stream",
     "text": [
      "[0 1 2 3 4 5 6 7 8 9]\n",
      "[0 1 2 3 4 5 6 7 8 9]\n"
     ]
    }
   ],
   "source": [
    "print(test1['label'].unique())\n",
    "print(train1['label'].unique())\n"
   ]
  },
  {
   "cell_type": "markdown",
   "id": "874ff7fe",
   "metadata": {},
   "source": [
    "#### Histogram of the \"number\" distribution in the testdataset"
   ]
  },
  {
   "cell_type": "code",
   "execution_count": 5,
   "id": "fdcf5b5a",
   "metadata": {
    "scrolled": true
   },
   "outputs": [
    {
     "name": "stdout",
     "output_type": "stream",
     "text": [
      "The amount of rows with the label 0 is 100 in the testset\n",
      "\n",
      "The amount of rows with the label 1 is 100 in the testset\n",
      "\n",
      "The amount of rows with the label 2 is 100 in the testset\n",
      "\n",
      "The amount of rows with the label 3 is 100 in the testset\n",
      "\n",
      "The amount of rows with the label 4 is 100 in the testset\n",
      "\n",
      "The amount of rows with the label 5 is 100 in the testset\n",
      "\n",
      "The amount of rows with the label 6 is 100 in the testset\n",
      "\n",
      "The amount of rows with the label 7 is 100 in the testset\n",
      "\n",
      "The amount of rows with the label 8 is 100 in the testset\n",
      "\n",
      "The amount of rows with the label 9 is 100 in the testset\n",
      "\n"
     ]
    },
    {
     "data": {
      "image/png": "[encoded data removed]",
      "text/plain": [
       "<Figure size 432x288 with 1 Axes>"
      ]
     },
     "metadata": {
      "needs_background": "light"
     },
     "output_type": "display_data"
    }
   ],
   "source": [
    "for i in test1['label'].unique():\n",
    "    row_amount = len(test1[test1['label'] == i])\n",
    "    print(f\"The amount of rows with the label {i} is {row_amount} in the testset\\n\")\n",
    "\n",
    "\n",
    "plt.hist(test1['label'], edgecolor = 'k')\n",
    "ax = plt.gca()\n",
    "x_range = list(range(test1['label'].unique().max()+1))\n",
    "ax.set_xticks(x_range)\n",
    "ax.set_xticklabels(x_range)\n",
    "plt.show()\n"
   ]
  },
  {
   "cell_type": "markdown",
   "id": "cd846682",
   "metadata": {},
   "source": [
    "#### Histogram of the \"number\" distribution in the trainingdataset"
   ]
  },
  {
   "cell_type": "code",
   "execution_count": 6,
   "id": "8b6fde13",
   "metadata": {},
   "outputs": [
    {
     "name": "stdout",
     "output_type": "stream",
     "text": [
      "The amount of rows with the label 0 is 500 in the trainingset\n",
      "\n",
      "The amount of rows with the label 1 is 500 in the trainingset\n",
      "\n",
      "The amount of rows with the label 2 is 500 in the trainingset\n",
      "\n",
      "The amount of rows with the label 3 is 500 in the trainingset\n",
      "\n",
      "The amount of rows with the label 4 is 500 in the trainingset\n",
      "\n",
      "The amount of rows with the label 5 is 500 in the trainingset\n",
      "\n",
      "The amount of rows with the label 6 is 500 in the trainingset\n",
      "\n",
      "The amount of rows with the label 7 is 500 in the trainingset\n",
      "\n",
      "The amount of rows with the label 8 is 500 in the trainingset\n",
      "\n",
      "The amount of rows with the label 9 is 500 in the trainingset\n",
      "\n"
     ]
    },
    {
     "data": {
      "image/png": "[encoded data removed]",
      "text/plain": [
       "<Figure size 432x288 with 1 Axes>"
      ]
     },
     "metadata": {
      "needs_background": "light"
     },
     "output_type": "display_data"
    }
   ],
   "source": [
    "for i in train1['label'].unique():\n",
    "    row_amount = len(train1[train1['label'] == i])\n",
    "    print(f\"The amount of rows with the label {i} is {row_amount} in the trainingset\\n\")\n",
    "plt.hist(train1['label'], edgecolor = 'k')\n",
    "ax = plt.gca()\n",
    "\n",
    "\n",
    "x_range = list(range(test1['label'].unique().max()+1))\n",
    "ax.set_xticks(x_range)\n",
    "ax.set_xticklabels(x_range)\n",
    "plt.show()"
   ]
  },
  {
   "cell_type": "markdown",
   "id": "e71acebd",
   "metadata": {},
   "source": [
    "# Printing images, one of each number.\n",
    "\n",
    "The images are taken from the training data, specifically the first occurence of each number"
   ]
  },
  {
   "cell_type": "code",
   "execution_count": 7,
   "id": "d0e57d9c",
   "metadata": {
    "scrolled": false
   },
   "outputs": [
    {
     "data": {
      "image/png": "[encoded data removed]",
      "text/plain": [
       "<Figure size 432x288 with 1 Axes>"
      ]
     },
     "metadata": {
      "needs_background": "light"
     },
     "output_type": "display_data"
    },
    {
     "data": {
      "image/png": "[encoded data removed]",
      "text/plain": [
       "<Figure size 432x288 with 1 Axes>"
      ]
     },
     "metadata": {
      "needs_background": "light"
     },
     "output_type": "display_data"
    },
    {
     "data": {
      "image/png": "[encoded data removed]",
      "text/plain": [
       "<Figure size 432x288 with 1 Axes>"
      ]
     },
     "metadata": {
      "needs_background": "light"
     },
     "output_type": "display_data"
    },
    {
     "data": {
      "image/png": "[encoded data removed]",
      "text/plain": [
       "<Figure size 432x288 with 1 Axes>"
      ]
     },
     "metadata": {
      "needs_background": "light"
     },
     "output_type": "display_data"
    },
    {
     "data": {
      "image/png": "[encoded data removed]",
      "text/plain": [
       "<Figure size 432x288 with 1 Axes>"
      ]
     },
     "metadata": {
      "needs_background": "light"
     },
     "output_type": "display_data"
    },
    {
     "data": {
      "image/png": "[encoded data removed]",
      "text/plain": [
       "<Figure size 432x288 with 1 Axes>"
      ]
     },
     "metadata": {
      "needs_background": "light"
     },
     "output_type": "display_data"
    },
    {
     "data": {
      "image/png": "[encoded data removed]",
      "text/plain": [
       "<Figure size 432x288 with 1 Axes>"
      ]
     },
     "metadata": {
      "needs_background": "light"
     },
     "output_type": "display_data"
    },
    {
     "data": {
      "image/png": "[encoded data removed]",
      "text/plain": [
       "<Figure size 432x288 with 1 Axes>"
      ]
     },
     "metadata": {
      "needs_background": "light"
     },
     "output_type": "display_data"
    },
    {
     "data": {
      "image/png": "[encoded data removed]",
      "text/plain": [
       "<Figure size 432x288 with 1 Axes>"
      ]
     },
     "metadata": {
      "needs_background": "light"
     },
     "output_type": "display_data"
    },
    {
     "data": {
      "image/png": "[encoded data removed]",
      "text/plain": [
       "<Figure size 432x288 with 1 Axes>"
      ]
     },
     "metadata": {
      "needs_background": "light"
     },
     "output_type": "display_data"
    },
    {
     "data": {
      "text/plain": [
       "<Figure size 432x288 with 0 Axes>"
      ]
     },
     "metadata": {},
     "output_type": "display_data"
    }
   ],
   "source": [
    "numbers_to_print = train1['label'].unique()\n",
    "\n",
    "images = []\n",
    "\n",
    "#Creating a list containing the pixels for each image\n",
    "for i in numbers_to_print:\n",
    "    \n",
    "    #Finding the first label in the dataframe that matches one of the unique labels and extracting rows with that label\n",
    "    image_to_print = train1[train1['label'] == i]\n",
    "    \n",
    "    #removing the label, leaving only pixel values in the dataframe rows that has been extracted\n",
    "    image_to_print = image_to_print.drop(columns = ['label'])\n",
    "    \n",
    "    #Extracting the first of these rows\n",
    "    image_to_print = image_to_print.iloc[0]\n",
    "    \n",
    "    #Formatting of array to a printable version\n",
    "    image_to_print_array = image_to_print.to_numpy()\n",
    "    image_to_print_array = image_to_print_array.reshape(28,28)\n",
    "    images.append(image_to_print_array)\n",
    "    \n",
    "#Going through the list of pixels of the images and printing these\n",
    "for i in range(len(images)):\n",
    "    img = plt.imshow(images[i],cmap =\"gray\")\n",
    "    plt.figure()\n"
   ]
  },
  {
   "cell_type": "markdown",
   "id": "96bb3d6a",
   "metadata": {},
   "source": [
    "# Training a KNN\n",
    "\n",
    "Using the default settings for the KNN classifier, we have 5 neighbors for each point. This results in a testscore of 0.945"
   ]
  },
  {
   "cell_type": "code",
   "execution_count": 8,
   "id": "34d7fdd6",
   "metadata": {
    "scrolled": false
   },
   "outputs": [
    {
     "name": "stdout",
     "output_type": "stream",
     "text": [
      "Testscore: 0.945\n"
     ]
    },
    {
     "data": {
      "image/png": "[encoded data removed]",
      "text/plain": [
       "<Figure size 432x288 with 2 Axes>"
      ]
     },
     "metadata": {
      "needs_background": "light"
     },
     "output_type": "display_data"
    },
    {
     "name": "stdout",
     "output_type": "stream",
     "text": [
      "Images that have been wrongly classified can be seen below.\n",
      "    location  predicted_value  actual_value\n",
      "0         63                6             0\n",
      "1         83                6             0\n",
      "2         97                6             0\n",
      "3        224                7             2\n",
      "4        246                1             2\n",
      "5        256                9             2\n",
      "6        286                1             2\n",
      "7        294                1             2\n",
      "8        318                5             3\n",
      "9        323                9             3\n",
      "10       350                0             3\n",
      "11       352                8             3\n",
      "12       358                7             3\n",
      "13       369                2             3\n",
      "14       371                5             3\n",
      "15       383                5             3\n",
      "16       406                1             4\n",
      "17       410                9             4\n",
      "18       423                7             4\n",
      "19       432                9             4\n",
      "20       439                9             4\n",
      "21       445                9             4\n",
      "22       450                1             4\n",
      "23       532                3             5\n",
      "24       549                6             5\n",
      "25       560                3             5\n",
      "26       583                1             5\n",
      "27       587                1             5\n",
      "28       594                6             5\n",
      "29       614                5             6\n",
      "30       633                5             6\n",
      "31       687                5             6\n",
      "32       730                1             7\n",
      "33       734                9             7\n",
      "34       736                1             7\n",
      "35       756                1             7\n",
      "36       759                1             7\n",
      "37       778                9             7\n",
      "38       827                2             8\n",
      "39       830                3             8\n",
      "40       831                3             8\n",
      "41       858                5             8\n",
      "42       867                5             8\n",
      "43       872                7             8\n",
      "44       877                5             8\n",
      "45       880                3             8\n",
      "46       882                5             8\n",
      "47       890                5             8\n",
      "48       893                1             8\n",
      "49       903                7             9\n",
      "50       940                7             9\n",
      "51       949                4             9\n",
      "52       950                4             9\n",
      "53       952                7             9\n",
      "54       959                7             9\n",
      "Wall time: 1.84 s\n"
     ]
    }
   ],
   "source": [
    "%%time\n",
    "from sklearn.neighbors import KNeighborsClassifier\n",
    "from sklearn.metrics import confusion_matrix, ConfusionMatrixDisplay\n",
    "\n",
    "#Creating the classifier\n",
    "knn_clf = KNeighborsClassifier()\n",
    "\n",
    "#preparing datasets\n",
    "X_train = train1.drop(columns = ['label'])\n",
    "y_train = train1['label']\n",
    "\n",
    "X_test = test1.drop(columns = ['label'])\n",
    "y_test = test1['label']\n",
    "\n",
    "#Creating the model\n",
    "knn_clf.fit(X_train,y_train)\n",
    "\n",
    "#Presentation of results\n",
    "print(f\"Testscore: {knn_clf.score(X_test,y_test)}\")\n",
    "\n",
    "y_pred = knn_clf.predict(X_test)\n",
    "knn_cm = confusion_matrix(y_test,y_pred)\n",
    "\n",
    "labels = train1['label'].unique()\n",
    "\n",
    "cm_disp = ConfusionMatrixDisplay(confusion_matrix = knn_cm, display_labels = labels)\n",
    "cm_disp.plot()\n",
    "plt.show()\n",
    "\n",
    "#Comparison of actual values to predicted value\n",
    "y_predicted_values = knn_clf.predict(X_test)\n",
    "\n",
    "actual_value = y_test\n",
    "predicted_value = y_predicted_values\n",
    "\n",
    "headers = ['predicted values', 'actual values']\n",
    "\n",
    "#Creating a dataframe for comparison of predicted values vs actual values\n",
    "prediction_frame = pd.DataFrame([predicted_value,actual_value])\n",
    "prediction_frame = prediction_frame.transpose()\n",
    "\n",
    "prediction_frame.columns = headers\n",
    "\n",
    "actual_value = []\n",
    "predicted_value = []\n",
    "location = []\n",
    "\n",
    "print(\"Images that have been wrongly classified can be seen below.\")\n",
    "#Making the comparison between actual values and predicted values\n",
    "for i in range(1000):\n",
    "    if (prediction_frame['predicted values'][i] != prediction_frame['actual values'][i]):\n",
    "        location.append(i)\n",
    "        actual_value.append(prediction_frame['actual values'].iloc[i])\n",
    "        predicted_value.append(prediction_frame['predicted values'].iloc[i])\n",
    "headers_new = ['location','predicted_value','actual_value']\n",
    "\n",
    "prediction_frame_summary = pd.DataFrame([location,predicted_value,actual_value])\n",
    "prediction_frame_summary = prediction_frame_summary.transpose()\n",
    "\n",
    "prediction_frame_summary.columns = headers_new\n",
    "print(prediction_frame_summary)"
   ]
  },
  {
   "cell_type": "markdown",
   "id": "b6ad024f",
   "metadata": {},
   "source": [
    "## Trying different combinations with GridSearchCV.\n",
    "\n",
    "This process is very very time consuming.\n",
    "\n",
    "'kd_tree' with only 5 values in the neighbor_list and just 1 leaf size takes: 2minutes 15seconds\n",
    "'ball_tree' with only 5 values in the neighbor_list and just 1 leaf size takes: 1minutes 38seconds\n",
    "'brute' with only  5 values in the neighbor_list takes: 5min 49seconds (leaf size is not applicable to this algorithm)\n",
    "\n",
    "The best result was produced with the settings:\n",
    "\n"
   ]
  },
  {
   "cell_type": "code",
   "execution_count": 28,
   "id": "43dd6ca5",
   "metadata": {},
   "outputs": [
    {
     "name": "stdout",
     "output_type": "stream",
     "text": [
      "Wall time: 19min 36s\n"
     ]
    },
    {
     "data": {
      "text/html": [
       "<div>\n",
       "<style scoped>\n",
       "    .dataframe tbody tr th:only-of-type {\n",
       "        vertical-align: middle;\n",
       "    }\n",
       "\n",
       "    .dataframe tbody tr th {\n",
       "        vertical-align: top;\n",
       "    }\n",
       "\n",
       "    .dataframe thead th {\n",
       "        text-align: right;\n",
       "    }\n",
       "</style>\n",
       "<table border=\"1\" class=\"dataframe\">\n",
       "  <thead>\n",
       "    <tr style=\"text-align: right;\">\n",
       "      <th></th>\n",
       "      <th>mean_fit_time</th>\n",
       "      <th>std_fit_time</th>\n",
       "      <th>mean_score_time</th>\n",
       "      <th>std_score_time</th>\n",
       "      <th>param_algorithm</th>\n",
       "      <th>param_leaf_size</th>\n",
       "      <th>param_n_neighbors</th>\n",
       "      <th>param_p</th>\n",
       "      <th>params</th>\n",
       "      <th>split0_test_score</th>\n",
       "      <th>split1_test_score</th>\n",
       "      <th>split2_test_score</th>\n",
       "      <th>mean_test_score</th>\n",
       "      <th>std_test_score</th>\n",
       "      <th>rank_test_score</th>\n",
       "    </tr>\n",
       "  </thead>\n",
       "  <tbody>\n",
       "    <tr>\n",
       "      <th>4</th>\n",
       "      <td>0.022326</td>\n",
       "      <td>0.002630</td>\n",
       "      <td>23.234517</td>\n",
       "      <td>1.154683</td>\n",
       "      <td>brute</td>\n",
       "      <td>10</td>\n",
       "      <td>32</td>\n",
       "      <td>1</td>\n",
       "      <td>{'algorithm': 'brute', 'leaf_size': 10, 'n_nei...</td>\n",
       "      <td>0.862028</td>\n",
       "      <td>0.856029</td>\n",
       "      <td>0.87395</td>\n",
       "      <td>0.864002</td>\n",
       "      <td>0.007448</td>\n",
       "      <td>25</td>\n",
       "    </tr>\n",
       "    <tr>\n",
       "      <th>9</th>\n",
       "      <td>0.017334</td>\n",
       "      <td>0.000470</td>\n",
       "      <td>23.145350</td>\n",
       "      <td>0.637819</td>\n",
       "      <td>brute</td>\n",
       "      <td>15</td>\n",
       "      <td>32</td>\n",
       "      <td>1</td>\n",
       "      <td>{'algorithm': 'brute', 'leaf_size': 15, 'n_nei...</td>\n",
       "      <td>0.862028</td>\n",
       "      <td>0.856029</td>\n",
       "      <td>0.87395</td>\n",
       "      <td>0.864002</td>\n",
       "      <td>0.007448</td>\n",
       "      <td>25</td>\n",
       "    </tr>\n",
       "    <tr>\n",
       "      <th>14</th>\n",
       "      <td>0.784353</td>\n",
       "      <td>0.010349</td>\n",
       "      <td>9.647927</td>\n",
       "      <td>0.024433</td>\n",
       "      <td>kd_tree</td>\n",
       "      <td>10</td>\n",
       "      <td>32</td>\n",
       "      <td>1</td>\n",
       "      <td>{'algorithm': 'kd_tree', 'leaf_size': 10, 'n_n...</td>\n",
       "      <td>0.862028</td>\n",
       "      <td>0.856029</td>\n",
       "      <td>0.87395</td>\n",
       "      <td>0.864002</td>\n",
       "      <td>0.007448</td>\n",
       "      <td>25</td>\n",
       "    </tr>\n",
       "    <tr>\n",
       "      <th>19</th>\n",
       "      <td>0.705650</td>\n",
       "      <td>0.013985</td>\n",
       "      <td>7.614333</td>\n",
       "      <td>0.073467</td>\n",
       "      <td>kd_tree</td>\n",
       "      <td>15</td>\n",
       "      <td>32</td>\n",
       "      <td>1</td>\n",
       "      <td>{'algorithm': 'kd_tree', 'leaf_size': 15, 'n_n...</td>\n",
       "      <td>0.862028</td>\n",
       "      <td>0.856029</td>\n",
       "      <td>0.87395</td>\n",
       "      <td>0.864002</td>\n",
       "      <td>0.007448</td>\n",
       "      <td>25</td>\n",
       "    </tr>\n",
       "    <tr>\n",
       "      <th>24</th>\n",
       "      <td>0.485996</td>\n",
       "      <td>0.009904</td>\n",
       "      <td>6.742064</td>\n",
       "      <td>0.137632</td>\n",
       "      <td>ball_tree</td>\n",
       "      <td>10</td>\n",
       "      <td>32</td>\n",
       "      <td>1</td>\n",
       "      <td>{'algorithm': 'ball_tree', 'leaf_size': 10, 'n...</td>\n",
       "      <td>0.862028</td>\n",
       "      <td>0.856029</td>\n",
       "      <td>0.87395</td>\n",
       "      <td>0.864002</td>\n",
       "      <td>0.007448</td>\n",
       "      <td>25</td>\n",
       "    </tr>\n",
       "    <tr>\n",
       "      <th>29</th>\n",
       "      <td>0.436001</td>\n",
       "      <td>0.002914</td>\n",
       "      <td>6.211888</td>\n",
       "      <td>0.037886</td>\n",
       "      <td>ball_tree</td>\n",
       "      <td>15</td>\n",
       "      <td>32</td>\n",
       "      <td>1</td>\n",
       "      <td>{'algorithm': 'ball_tree', 'leaf_size': 15, 'n...</td>\n",
       "      <td>0.862028</td>\n",
       "      <td>0.856029</td>\n",
       "      <td>0.87395</td>\n",
       "      <td>0.864002</td>\n",
       "      <td>0.007448</td>\n",
       "      <td>25</td>\n",
       "    </tr>\n",
       "    <tr>\n",
       "      <th>3</th>\n",
       "      <td>0.020306</td>\n",
       "      <td>0.001682</td>\n",
       "      <td>23.342027</td>\n",
       "      <td>0.190793</td>\n",
       "      <td>brute</td>\n",
       "      <td>10</td>\n",
       "      <td>15</td>\n",
       "      <td>1</td>\n",
       "      <td>{'algorithm': 'brute', 'leaf_size': 10, 'n_nei...</td>\n",
       "      <td>0.893821</td>\n",
       "      <td>0.886023</td>\n",
       "      <td>0.89916</td>\n",
       "      <td>0.893001</td>\n",
       "      <td>0.005394</td>\n",
       "      <td>19</td>\n",
       "    </tr>\n",
       "    <tr>\n",
       "      <th>8</th>\n",
       "      <td>0.018013</td>\n",
       "      <td>0.001430</td>\n",
       "      <td>23.090369</td>\n",
       "      <td>0.537987</td>\n",
       "      <td>brute</td>\n",
       "      <td>15</td>\n",
       "      <td>15</td>\n",
       "      <td>1</td>\n",
       "      <td>{'algorithm': 'brute', 'leaf_size': 15, 'n_nei...</td>\n",
       "      <td>0.893821</td>\n",
       "      <td>0.886023</td>\n",
       "      <td>0.89916</td>\n",
       "      <td>0.893001</td>\n",
       "      <td>0.005394</td>\n",
       "      <td>19</td>\n",
       "    </tr>\n",
       "    <tr>\n",
       "      <th>13</th>\n",
       "      <td>0.799001</td>\n",
       "      <td>0.013636</td>\n",
       "      <td>9.592439</td>\n",
       "      <td>0.030764</td>\n",
       "      <td>kd_tree</td>\n",
       "      <td>10</td>\n",
       "      <td>15</td>\n",
       "      <td>1</td>\n",
       "      <td>{'algorithm': 'kd_tree', 'leaf_size': 10, 'n_n...</td>\n",
       "      <td>0.893821</td>\n",
       "      <td>0.886023</td>\n",
       "      <td>0.89916</td>\n",
       "      <td>0.893001</td>\n",
       "      <td>0.005394</td>\n",
       "      <td>19</td>\n",
       "    </tr>\n",
       "    <tr>\n",
       "      <th>18</th>\n",
       "      <td>0.706544</td>\n",
       "      <td>0.011305</td>\n",
       "      <td>7.625465</td>\n",
       "      <td>0.034052</td>\n",
       "      <td>kd_tree</td>\n",
       "      <td>15</td>\n",
       "      <td>15</td>\n",
       "      <td>1</td>\n",
       "      <td>{'algorithm': 'kd_tree', 'leaf_size': 15, 'n_n...</td>\n",
       "      <td>0.893821</td>\n",
       "      <td>0.886023</td>\n",
       "      <td>0.89916</td>\n",
       "      <td>0.893001</td>\n",
       "      <td>0.005394</td>\n",
       "      <td>19</td>\n",
       "    </tr>\n",
       "  </tbody>\n",
       "</table>\n",
       "</div>"
      ],
      "text/plain": [
       "    mean_fit_time  std_fit_time  mean_score_time  std_score_time  \\\n",
       "4        0.022326      0.002630        23.234517        1.154683   \n",
       "9        0.017334      0.000470        23.145350        0.637819   \n",
       "14       0.784353      0.010349         9.647927        0.024433   \n",
       "19       0.705650      0.013985         7.614333        0.073467   \n",
       "24       0.485996      0.009904         6.742064        0.137632   \n",
       "29       0.436001      0.002914         6.211888        0.037886   \n",
       "3        0.020306      0.001682        23.342027        0.190793   \n",
       "8        0.018013      0.001430        23.090369        0.537987   \n",
       "13       0.799001      0.013636         9.592439        0.030764   \n",
       "18       0.706544      0.011305         7.625465        0.034052   \n",
       "\n",
       "   param_algorithm param_leaf_size param_n_neighbors param_p  \\\n",
       "4            brute              10                32       1   \n",
       "9            brute              15                32       1   \n",
       "14         kd_tree              10                32       1   \n",
       "19         kd_tree              15                32       1   \n",
       "24       ball_tree              10                32       1   \n",
       "29       ball_tree              15                32       1   \n",
       "3            brute              10                15       1   \n",
       "8            brute              15                15       1   \n",
       "13         kd_tree              10                15       1   \n",
       "18         kd_tree              15                15       1   \n",
       "\n",
       "                                               params  split0_test_score  \\\n",
       "4   {'algorithm': 'brute', 'leaf_size': 10, 'n_nei...           0.862028   \n",
       "9   {'algorithm': 'brute', 'leaf_size': 15, 'n_nei...           0.862028   \n",
       "14  {'algorithm': 'kd_tree', 'leaf_size': 10, 'n_n...           0.862028   \n",
       "19  {'algorithm': 'kd_tree', 'leaf_size': 15, 'n_n...           0.862028   \n",
       "24  {'algorithm': 'ball_tree', 'leaf_size': 10, 'n...           0.862028   \n",
       "29  {'algorithm': 'ball_tree', 'leaf_size': 15, 'n...           0.862028   \n",
       "3   {'algorithm': 'brute', 'leaf_size': 10, 'n_nei...           0.893821   \n",
       "8   {'algorithm': 'brute', 'leaf_size': 15, 'n_nei...           0.893821   \n",
       "13  {'algorithm': 'kd_tree', 'leaf_size': 10, 'n_n...           0.893821   \n",
       "18  {'algorithm': 'kd_tree', 'leaf_size': 15, 'n_n...           0.893821   \n",
       "\n",
       "    split1_test_score  split2_test_score  mean_test_score  std_test_score  \\\n",
       "4            0.856029            0.87395         0.864002        0.007448   \n",
       "9            0.856029            0.87395         0.864002        0.007448   \n",
       "14           0.856029            0.87395         0.864002        0.007448   \n",
       "19           0.856029            0.87395         0.864002        0.007448   \n",
       "24           0.856029            0.87395         0.864002        0.007448   \n",
       "29           0.856029            0.87395         0.864002        0.007448   \n",
       "3            0.886023            0.89916         0.893001        0.005394   \n",
       "8            0.886023            0.89916         0.893001        0.005394   \n",
       "13           0.886023            0.89916         0.893001        0.005394   \n",
       "18           0.886023            0.89916         0.893001        0.005394   \n",
       "\n",
       "    rank_test_score  \n",
       "4                25  \n",
       "9                25  \n",
       "14               25  \n",
       "19               25  \n",
       "24               25  \n",
       "29               25  \n",
       "3                19  \n",
       "8                19  \n",
       "13               19  \n",
       "18               19  "
      ]
     },
     "execution_count": 28,
     "metadata": {},
     "output_type": "execute_result"
    }
   ],
   "source": [
    "%%time\n",
    "\n",
    "\n",
    "from sklearn.model_selection import GridSearchCV\n",
    "\n",
    "#The square root of the number of test datapoints is commonly used as a starting number of neighbors if the default value is not used.\n",
    "n_start = int(np.sqrt(test1.shape[0]).round())\n",
    "\n",
    "knn_clf_grid = KNeighborsClassifier()\n",
    "\n",
    "#Parameters to be tested\n",
    "n_neighbor_list = [3,5,10,15, n_start]\n",
    "algorithm_list = ['brute','kd_tree','ball_tree']\n",
    "leaf_size_list = [5,10,15,20]\n",
    "p_list = [1,2] # 1 = Manhattan, 2 = Euclidean\n",
    "params = {\n",
    "    'n_neighbors': n_neighbor_list,\n",
    "    'algorithm': algorithm_list,\n",
    "    'leaf_size': leaf_size_list,\n",
    "    'p': [1]\n",
    "}\n",
    "\n",
    "#Reducing the numbers of cross-validations to speed up the process...\n",
    "best_params = GridSearchCV(estimator = knn_clf_grid, param_grid = params, cv = 3)\n",
    "\n",
    "\n",
    "\n",
    "best_params.fit(X_train, y_train)\n",
    "\n",
    "\n",
    "\n",
    "knn_result_frame = pd.DataFrame(best_params.cv_results_)\n",
    "\n",
    "knn_result_frame.head()\n",
    "\n",
    "knn_result_frame.nsmallest(5,\"rank_test_score\")"
   ]
  },
  {
   "cell_type": "markdown",
   "id": "a56b438e",
   "metadata": {},
   "source": [
    "## Function to get the \"K\" closest neighbors to a prediction."
   ]
  },
  {
   "cell_type": "code",
   "execution_count": 27,
   "id": "9da49210",
   "metadata": {
    "scrolled": true
   },
   "outputs": [
    {
     "name": "stdout",
     "output_type": "stream",
     "text": [
      "The predicted number is: [5]\n",
      "An image of the predicted sample is shown here:\n"
     ]
    },
    {
     "data": {
      "image/png": "[encoded data removed]",
      "text/plain": [
       "<Figure size 432x288 with 1 Axes>"
      ]
     },
     "metadata": {
      "needs_background": "light"
     },
     "output_type": "display_data"
    },
    {
     "name": "stdout",
     "output_type": "stream",
     "text": [
      "Neighbor 1, image number 2781:\n"
     ]
    },
    {
     "data": {
      "image/png": "[encoded data removed]",
      "text/plain": [
       "<Figure size 432x288 with 1 Axes>"
      ]
     },
     "metadata": {
      "needs_background": "light"
     },
     "output_type": "display_data"
    },
    {
     "data": {
      "text/plain": [
       "<Figure size 432x288 with 0 Axes>"
      ]
     },
     "metadata": {},
     "output_type": "display_data"
    },
    {
     "name": "stdout",
     "output_type": "stream",
     "text": [
      "Neighbor 2, image number 2783:\n"
     ]
    },
    {
     "data": {
      "image/png": "[encoded data removed]",
      "text/plain": [
       "<Figure size 432x288 with 1 Axes>"
      ]
     },
     "metadata": {
      "needs_background": "light"
     },
     "output_type": "display_data"
    },
    {
     "data": {
      "text/plain": [
       "<Figure size 432x288 with 0 Axes>"
      ]
     },
     "metadata": {},
     "output_type": "display_data"
    },
    {
     "name": "stdout",
     "output_type": "stream",
     "text": [
      "Neighbor 3, image number 2867:\n"
     ]
    },
    {
     "data": {
      "image/png": "[encoded data removed]",
      "text/plain": [
       "<Figure size 432x288 with 1 Axes>"
      ]
     },
     "metadata": {
      "needs_background": "light"
     },
     "output_type": "display_data"
    },
    {
     "data": {
      "text/plain": [
       "<Figure size 432x288 with 0 Axes>"
      ]
     },
     "metadata": {},
     "output_type": "display_data"
    },
    {
     "name": "stdout",
     "output_type": "stream",
     "text": [
      "Neighbor 4, image number 2786:\n"
     ]
    },
    {
     "data": {
      "image/png": "[encoded data removed]",
      "text/plain": [
       "<Figure size 432x288 with 1 Axes>"
      ]
     },
     "metadata": {
      "needs_background": "light"
     },
     "output_type": "display_data"
    },
    {
     "data": {
      "text/plain": [
       "<Figure size 432x288 with 0 Axes>"
      ]
     },
     "metadata": {},
     "output_type": "display_data"
    },
    {
     "name": "stdout",
     "output_type": "stream",
     "text": [
      "Neighbor 5, image number 2636:\n"
     ]
    },
    {
     "data": {
      "image/png": "[encoded data removed]",
      "text/plain": [
       "<Figure size 432x288 with 1 Axes>"
      ]
     },
     "metadata": {
      "needs_background": "light"
     },
     "output_type": "display_data"
    },
    {
     "data": {
      "text/plain": [
       "<Figure size 432x288 with 0 Axes>"
      ]
     },
     "metadata": {},
     "output_type": "display_data"
    }
   ],
   "source": [
    "from sklearn.neighbors import KNeighborsClassifier\n",
    "\n",
    "#Set amount of neighbors to look for.\n",
    "Number_of_neighbors = 5\n",
    "#Create KNN-classifier\n",
    "knn_clf = KNeighborsClassifier(n_neighbors = Number_of_neighbors)\n",
    "\n",
    "#Create KNN-model from training data.\n",
    "knn_clf.fit(X_train,y_train)\n",
    "\n",
    "#Choose the location of the sample to test in the testdataset (0-999)\n",
    "test_loc = 505\n",
    "\n",
    "#The sample which will be of shape (784,) and has to be reshaped.\n",
    "sample_info = X_test.iloc[test_loc]\n",
    "\n",
    "#Reshaping sample to 1 row of 784 columns. reshape(row,column). reshape(1,-1) means that 1 row will be created and -1 means that \n",
    "# X columns to fit all data will be created. In this case (1*X) = 784, X = 784 meaning 784 columns will be created.\n",
    "sample_info = sample_info.array.reshape(1,-1)\n",
    "\n",
    "\n",
    "#Predicting the value of the chosen sample\n",
    "prediction_n = knn_clf.predict(sample_info)\n",
    "\n",
    "print(f\"The predicted number is: {prediction_n}\\nAn image of the predicted sample is shown here:\")\n",
    "\n",
    "#Reshape the 1x784 to a 28x28 array containing pixel-values\n",
    "img_of_prediction = sample_info.reshape(28,28)\n",
    "#Draw the image based on the pixel in the array\n",
    "img = plt.imshow(img_of_prediction,cmap =\"gray\")\n",
    "plt.show()\n",
    "\n",
    "#Function to find the samples nearest neighbor and return the location of these in the training dataset\n",
    "def findNeighbors(location:int) -> list:\n",
    "    neighbors = knn_clf.kneighbors(location, return_distance = False)\n",
    "    return neighbors[0]\n",
    "\n",
    "#Function to print the neighbors found in the \"findNeighbors function\"\n",
    "def imgOfNeighbors(neighborsList:list) -> None:\n",
    "    j=1\n",
    "    for i in neighborsList:\n",
    "        #get image info, this can be reshaped instantly since we are only using the array to produce the image\n",
    "        img_info = X_train.iloc[i]\n",
    "        img_info = img_info.array.reshape(28,28)\n",
    "        img_show = plt.imshow(img_info,cmap =\"gray\")\n",
    "        print(f\"Neighbor {j}, image number {i}:\")\n",
    "        plt.figure()\n",
    "        plt.show()\n",
    "        j=j+1\n",
    "        \n",
    "neighbor_list = findNeighbors(sample_info)\n",
    "\n",
    "imgOfNeighbors(neighbor_list)"
   ]
  },
  {
   "cell_type": "markdown",
   "id": "3981a7cd",
   "metadata": {},
   "source": [
    "# VG-Del."
   ]
  },
  {
   "cell_type": "markdown",
   "id": "df62a3a1",
   "metadata": {},
   "source": [
    "Creating the KNN:\n",
    "\n",
    "The testscore is a bit worse than the testscore in the first part of the assignment(0.942 vs 0.945). This KNN also takes longer to run, even when the KNN is set to 'brute' in the previous parts of this notebook(30sec vs ~1sec). \n",
    "\n",
    "Two different calculations of the distances between the point to be predicted and its neighbors are available, \"Euclidean\" and \"Manhattan\". \"Euclidean\" results in a more accurate prediction.\n",
    "\n",
    "The most difficult values to predict are 3s and 8s. which are both often wrongly classified as 5's, this is true for both the sklearn KNN and the selfmade KNN. \n",
    "\n",
    "Both of the KNN can perfectly predict images of the number \"1\" and perform very similarly overall. Below are images of the confusion matrices for the selfmade and the sklearn KNN-classifier. \n",
    "\n",
    "The prediction for 8's is where the most difference in predictions can be seen. The selfmade KNN almost always predicts 8's as 5's when it predicts wrong whereas SKLearn has a more even split between 3s and 5s.\n",
    "\n",
    "The reason for specifically 8s and 3s being wrongly classified is most likely due to their shape. These numbers have a \"center part\" and rounded outer parts and since the numbers on the images are sometimes angled (as can be seen in the printing of number 6 and 8) "
   ]
  },
  {
   "attachments": {
    "image-2.png": {
     "image/png": "[encoded data removed]"
    },
    "image.png": {
     "image/png": "[encoded data removed]"
    }
   },
   "cell_type": "markdown",
   "id": "2ad02e1b",
   "metadata": {},
   "source": [
    "Selfmade:\n",
    "![image.png](attachment:image.png)\n",
    "\n",
    "SKLearn:\n",
    "\n",
    "![image-2.png](attachment:image-2.png)"
   ]
  },
  {
   "cell_type": "markdown",
   "id": "34584fbb",
   "metadata": {},
   "source": [
    "### Selfmade KNN to predict label of given images.\n",
    "\n",
    "The majority of the runtime is due to the subtraction, squaring and sum of the distances. \n",
    "\n",
    "The time complexity for the KNN is:\n",
    "\n",
    "O(N) for the finding neighbors function. Inside this function there are sum,sub and pow which are related to the column count, K. This results in a time complexity of O(K * N) = O(K) \n",
    "\n",
    "\n",
    "O(N^2) for getting predictions (decided by the amount of neighbors and will therefore be small compared to the total amount of loops in the neighbors function)\n",
    "\n",
    "Which should result in the overall complexity of O(N^2), however for small neighbor settings the time to process the O(K* N) function will be the most time consuming one."
   ]
  },
  {
   "cell_type": "code",
   "execution_count": 14,
   "id": "65dccdfa",
   "metadata": {
    "scrolled": false
   },
   "outputs": [
    {
     "name": "stdout",
     "output_type": "stream",
     "text": [
      "1.0\n",
      "findNeighbor time : 63.75 seconds\n",
      "getPrediction time : 0.07 seconds\n",
      "correct: 941\n",
      "values: 1000\n",
      "Score: 0.941\n"
     ]
    },
    {
     "data": {
      "image/png": "[encoded data removed]",
      "text/plain": [
       "<Figure size 432x288 with 2 Axes>"
      ]
     },
     "metadata": {
      "needs_background": "light"
     },
     "output_type": "display_data"
    },
    {
     "name": "stdout",
     "output_type": "stream",
     "text": [
      "Images that have been wrongly classified: \n",
      "    location  predicted_value  actual_value\n",
      "0         63                6             0\n",
      "1         83                6             0\n",
      "2         97                6             0\n",
      "3        224                7             2\n",
      "4        246                1             2\n",
      "5        256                9             2\n",
      "6        286                1             2\n",
      "7        294                1             2\n",
      "8        318                5             3\n",
      "9        323                9             3\n",
      "10       350                0             3\n",
      "11       352                8             3\n",
      "12       354                8             3\n",
      "13       358                7             3\n",
      "14       359                5             3\n",
      "15       369                2             3\n",
      "16       371                5             3\n",
      "17       383                5             3\n",
      "18       386                5             3\n",
      "19       394                9             3\n",
      "20       406                1             4\n",
      "21       410                9             4\n",
      "22       423                7             4\n",
      "23       432                9             4\n",
      "24       439                9             4\n",
      "25       445                9             4\n",
      "26       449                9             4\n",
      "27       450                1             4\n",
      "28       528                0             5\n",
      "29       532                3             5\n",
      "30       549                6             5\n",
      "31       559                8             5\n",
      "32       560                3             5\n",
      "33       583                1             5\n",
      "34       587                1             5\n",
      "35       594                6             5\n",
      "36       614                5             6\n",
      "37       633                5             6\n",
      "38       687                5             6\n",
      "39       730                1             7\n",
      "40       734                9             7\n",
      "41       756                1             7\n",
      "42       759                1             7\n",
      "43       778                9             7\n",
      "44       802                9             8\n",
      "45       827                2             8\n",
      "46       830                5             8\n",
      "47       831                3             8\n",
      "48       858                5             8\n",
      "49       867                5             8\n",
      "50       872                7             8\n",
      "51       877                5             8\n",
      "52       880                5             8\n",
      "53       882                5             8\n",
      "54       890                5             8\n",
      "55       893                1             8\n",
      "56       940                7             9\n",
      "57       952                7             9\n",
      "58       959                7             9\n",
      "Wall time: 1min 4s\n"
     ]
    }
   ],
   "source": [
    "%%time\n",
    "from sklearn.metrics import confusion_matrix, ConfusionMatrixDisplay\n",
    "## Vill summera euklidiska avståndet för varje punkt som finns i arrayen av datapun\n",
    "import pandas as pd\n",
    "import numpy as np\n",
    "import matplotlib.pyplot as plt\n",
    "import time\n",
    "from collections import Counter\n",
    "\n",
    "test1 = pd.read_csv(\"../../Datasets/test_sample.csv\")\n",
    "train1 = pd.read_csv(\"../../Datasets/train_sample.csv\")\n",
    "\n",
    "X_train = train1.drop(columns = ['label'])\n",
    "y_train = train1['label']\n",
    "\n",
    "X_test = test1.drop(columns = ['label'])\n",
    "y_test = test1['label']\n",
    "\n",
    "\n",
    "scaler = MinMaxScaler()\n",
    "X_train = scaler.fit_transform(X_train)\n",
    "X_test = scaler.fit_transform(X_test)\n",
    "#Select input variables:\n",
    "n_neighbors = 5\n",
    "\n",
    "X_test = pd.DataFrame(X_test)\n",
    "\n",
    "X_train=pd.DataFrame(X_train)\n",
    "#Viable options: \"Manhatten\" and \"Euclidean\"\n",
    "distance_type = \"Euclidean\"\n",
    "\n",
    "#KNN-funktion\n",
    "\n",
    "def KNN_Predictor(X_test, X_train, n_neighbors, y_train, algorithm:str) -> list:\n",
    "    \n",
    "    \n",
    "    #Returns a X_test X N_neighbor shape. Eg 1000x3 for 1000 test values and 3 neighbors.\n",
    "    if algorithm == 'Manhattan':\n",
    "        start = time.time()\n",
    "        closest_neighbor_index = findNeighborsManhattan(X_test,X_train,n_neighbors)\n",
    "        print(f\"findNeighbor time : {(time.time()-start):.2f} seconds\")\n",
    "    elif algorithm == 'Euclidean':\n",
    "        start = time.time()\n",
    "        closest_neighbor_index = findNeighborsEuclidean(X_test,X_train,n_neighbors)\n",
    "        print(f\"findNeighbor time : {(time.time()-start):.2f} seconds\")\n",
    "    start = time.time()\n",
    "    predictions = getPredictions(closest_neighbor_index,y_train)\n",
    "    print(f\"getPrediction time : {(time.time()-start):.2f} seconds\")\n",
    "    return predictions\n",
    "\n",
    "\n",
    "def getMostCommon(list_of_predictions):\n",
    "    pred_values = Counter(list_of_predictions)\n",
    "    most_occuring = pred_values.most_common(1)\n",
    "\n",
    "    return most_occuring[0][0]\n",
    "\n",
    "def findNeighborsManhattan(X_test_data, X_train, n_neighbor:int) -> list:\n",
    "    shortest_dist_index = []\n",
    "    for i in range(X_test_data.shape[0]):\n",
    "\n",
    "        X_train_data_sub = X_train.sub(X_test_data.iloc[i], axis ='columns')\n",
    "        X_train_data_sub_pow = X_train_data_sub.abs()\n",
    "        X_test_data_sum = X_train_data_sub_pow.sum(axis = 'columns')\n",
    "\n",
    "\n",
    "        closest_neighbor_df = X_test_data_sum.nsmallest(n_neighbor)\n",
    "\n",
    "        closest_neighbor = list(closest_neighbor_df.index.values)\n",
    "        shortest_dist_index.append(closest_neighbor)\n",
    "\n",
    "    return shortest_dist_index\n",
    "\n",
    "#Note: Changing the distance calc to squared euclidean has very little impact on performance and no impact on the predicted value\n",
    "def findNeighborsEuclidean(X_test_data, X_train, n_neighbor:int) -> list:\n",
    "    shortest_dist_index = []\n",
    "    for i in range(X_test_data.shape[0]):\n",
    "        \n",
    "        X_train_data_sub = X_train.sub(X_test_data.iloc[i], axis ='columns')\n",
    "        X_train_data_sub_pow = X_train_data_sub.pow(2)\n",
    "        X_test_data_sum = X_train_data_sub_pow.sum(axis = 'columns')\n",
    "        X_test_data_sum=np.sqrt(X_test_data_sum)\n",
    "        \n",
    "        closest_neighbor_df = X_test_data_sum.nsmallest(n_neighbor)\n",
    "        closest_neighbor = list(closest_neighbor_df.index.values)\n",
    "        shortest_dist_index.append(closest_neighbor)\n",
    "        \n",
    "    return shortest_dist_index\n",
    "\n",
    "\n",
    "#Fetching the labels from the index-values produced in the findNeighbor function\n",
    "def getPredictions(closest_neighbor_index, y_train) -> list:\n",
    "    all_pred = []\n",
    "    for i in range(len(closest_neighbor_index)):\n",
    "        predictions = []\n",
    "        for k in closest_neighbor_index[i]:\n",
    "            predictions.append(y_train.iloc[k])\n",
    "            prediction = getMostCommon(predictions)\n",
    "        all_pred.append(prediction)\n",
    "    return all_pred\n",
    "\n",
    "#List of predictions for all test_data\n",
    "prediction_list = KNN_Predictor(X_test, X_train, n_neighbors, y_train, distance_type)\n",
    "\n",
    "#Converting prediction array to dataframe\n",
    "pred_df = pd.DataFrame(prediction_list, columns = ['prediction'])\n",
    "\n",
    "y_pred = pred_df.to_numpy()\n",
    "#Converting the real test values to dataframe\n",
    "y_test_df = y_test.to_frame()\n",
    "\n",
    "#Creating a dataframe for comparison between prediction and real values\n",
    "summary_df = pd.concat([y_test_df,pred_df], axis = 1, join = \"inner\")\n",
    "\n",
    "\n",
    "summary_df['Duplicated'] = np.where(summary_df['label'] == summary_df['prediction'], 1,0)\n",
    "\n",
    "amountofcorrect = summary_df['Duplicated'].sum()\n",
    "\n",
    "total_values_to_predict = summary_df.shape[0]\n",
    "print(f\"correct: {amountofcorrect}\")\n",
    "print(f\"values: {total_values_to_predict}\")\n",
    "print(f\"Score: {amountofcorrect/total_values_to_predict}\")\n",
    "\n",
    "knn_cm = confusion_matrix(y_test,y_pred)\n",
    "\n",
    "labels = train1['label'].unique()\n",
    "\n",
    "cm_disp = ConfusionMatrixDisplay(confusion_matrix = knn_cm, display_labels = labels)\n",
    "cm_disp.plot()\n",
    "plt.show()\n",
    "\n",
    "\n",
    "print(\"Images that have been wrongly classified: \")\n",
    "actual_value = []\n",
    "predicted_value = []\n",
    "location = []\n",
    "for i in range(1000):\n",
    "    if (summary_df['label'][i] != summary_df['prediction'][i]):\n",
    "        location.append(i)\n",
    "        actual_value.append(summary_df['label'].iloc[i])\n",
    "        predicted_value.append(summary_df['prediction'].iloc[i])\n",
    "headers = ['location','predicted_value','actual_value']\n",
    "\n",
    "prediction_frame = pd.DataFrame([location,predicted_value,actual_value])\n",
    "prediction_frame = prediction_frame.transpose()\n",
    "\n",
    "prediction_frame.columns = headers\n",
    "print(prediction_frame)\n"
   ]
  },
  {
   "cell_type": "markdown",
   "id": "3c514d08",
   "metadata": {},
   "source": [
    "## Checking the images of incorrectly classified images."
   ]
  },
  {
   "cell_type": "markdown",
   "id": "ad20525c",
   "metadata": {},
   "source": [
    "Requires the previous cell to be run first.\n",
    "\n",
    "Image_to_check can be set to the location value above to se the actual value of the image coming from the testdataset."
   ]
  },
  {
   "cell_type": "code",
   "execution_count": 99,
   "id": "c1271db3",
   "metadata": {},
   "outputs": [
    {
     "name": "stdout",
     "output_type": "stream",
     "text": [
      "Predicted value : 5\n"
     ]
    },
    {
     "data": {
      "image/png": "[encoded data removed]",
      "text/plain": [
       "<Figure size 432x288 with 1 Axes>"
      ]
     },
     "metadata": {
      "needs_background": "light"
     },
     "output_type": "display_data"
    },
    {
     "data": {
      "text/plain": [
       "<Figure size 432x288 with 0 Axes>"
      ]
     },
     "metadata": {},
     "output_type": "display_data"
    }
   ],
   "source": [
    "Image_to_check = 867\n",
    "\n",
    "predicted_val = (summary_df['prediction'].iloc[Image_to_check])\n",
    "img_info = X_test.iloc[Image_to_check]\n",
    "img_info = img_info.array.reshape(28,28)\n",
    "img_show = plt.imshow(img_info,cmap =\"gray\")\n",
    "print(f\"Predicted value : {predicted_val}\")\n",
    "plt.figure()\n",
    "plt.show()"
   ]
  }
 ],
 "metadata": {
  "kernelspec": {
   "display_name": "Python 3 (ipykernel)",
   "language": "python",
   "name": "python3"
  },
  "language_info": {
   "codemirror_mode": {
    "name": "ipython",
    "version": 3
   },
   "file_extension": ".py",
   "mimetype": "text/x-python",
   "name": "python",
   "nbconvert_exporter": "python",
   "pygments_lexer": "ipython3",
   "version": "3.9.7"
  }
 },
 "nbformat": 4,
 "nbformat_minor": 5
}
