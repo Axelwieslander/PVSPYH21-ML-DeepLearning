{
 "cells": [
  {
   "attachments": {},
   "cell_type": "markdown",
   "id": "188a02ae",
   "metadata": {},
   "source": [
    "## Imports & functions"
   ]
  },
  {
   "cell_type": "code",
   "execution_count": 1,
   "id": "be7536b7",
   "metadata": {},
   "outputs": [],
   "source": [
    "import pandas as pd\n",
    "from sklearn.metrics import confusion_matrix, accuracy_score\n",
    "from sklearn.model_selection import train_test_split\n",
    "import numpy as np\n",
    "import matplotlib.pyplot as plt\n",
    "import missingno as Missingno\n",
    "\n",
    "from nltk import SnowballStemmer\n",
    "from nltk.corpus import *\n",
    "from nltk.tokenize import word_tokenize, RegexpTokenizer\n",
    "from nltk import *\n",
    "from nltk.stem import WordNetLemmatizer\n",
    "import nltk as nltk\n",
    "import re\n",
    "import unidecode\n",
    "import langid\n",
    "\n",
    "from sklearn.model_selection import train_test_split\n",
    "from sklearn.metrics import confusion_matrix, ConfusionMatrixDisplay, accuracy_score,recall_score\n",
    "from sklearn.feature_extraction.text import TfidfVectorizer\n",
    "from sklearn.neighbors import KNeighborsClassifier\n",
    "from sklearn.naive_bayes import GaussianNB\n",
    "from sklearn.naive_bayes import MultinomialNB\n",
    "from sklearn.naive_bayes import ComplementNB\n",
    "from sklearn.ensemble import RandomForestClassifier\n",
    "from sklearn.tree import DecisionTreeClassifier\n",
    "from sklearn.svm import LinearSVC\n",
    "import xgboost as xgb\n",
    "import lightgbm as lgbm\n",
    "from datetime import datetime\n",
    "\n",
    "from sklearn.preprocessing import OneHotEncoder\n",
    "from sklearn.preprocessing import LabelEncoder\n",
    "\n",
    "from scipy import sparse\n",
    "import joblib\n",
    "import shap\n",
    "\n",
    "import matplotlib.pyplot as plt \n",
    "from imblearn.under_sampling import RandomUnderSampler"
   ]
  },
  {
   "cell_type": "code",
   "execution_count": 2,
   "id": "74e4a258",
   "metadata": {},
   "outputs": [],
   "source": [
    "#Ändra till True om modellprestanda och omvandlade indata ska sparas som excel/csv filer för snabbare omkörning av notebook\n",
    "save_data = False\n",
    "\n",
    "#Ändra till True om det redan finns omvandlade filer förberedda\n",
    "read_data = True\n",
    "\n",
    "#Save path för modeller\n",
    "save_path_model= \"C:\\JupyterNotebook\\Applicerad_AI\\Final_data\\Testresults\"\n"
   ]
  },
  {
   "cell_type": "code",
   "execution_count": 3,
   "id": "24951092",
   "metadata": {},
   "outputs": [],
   "source": [
    "#Läs in data\n",
    "path = \"C:\\JupyterNotebook\\Applicerad_AI\"\n",
    "df = pd.read_csv(f'{path}/fake_jobs_dataset_v2.csv')"
   ]
  },
  {
   "cell_type": "code",
   "execution_count": 4,
   "id": "c6f7e3ca",
   "metadata": {},
   "outputs": [],
   "source": [
    "lemmatizer = WordNetLemmatizer()"
   ]
  },
  {
   "cell_type": "markdown",
   "id": "e2d5c812",
   "metadata": {},
   "source": [
    "### Functions"
   ]
  },
  {
   "cell_type": "code",
   "execution_count": 5,
   "id": "f00bef89",
   "metadata": {},
   "outputs": [],
   "source": [
    "def to_lower(x):\n",
    "    if isinstance(x,str) is True:\n",
    "        xl = x.lower()\n",
    "        return xl\n",
    "    else:\n",
    "        return x"
   ]
  },
  {
   "cell_type": "code",
   "execution_count": 6,
   "id": "82fb6e48",
   "metadata": {},
   "outputs": [],
   "source": [
    "#Function for removal of stopwords\n",
    "tokenizer = RegexpTokenizer(r'\\w+')\n",
    "\n",
    "def is_not_stopword(company_description):\n",
    "    company_description = tokenizer.tokenize(company_description)\n",
    "    non_stopwords_list = [word for word in company_description if word not in stopwords.words(\"english\")]\n",
    "    non_stopword_string = \" \".join(non_stopwords_list)\n",
    "    return non_stopword_string"
   ]
  },
  {
   "cell_type": "code",
   "execution_count": 7,
   "id": "73a25574",
   "metadata": {},
   "outputs": [],
   "source": [
    "#Function for lemmatization\n",
    "def lem(x):\n",
    "    tokens = tokenizer.tokenize(x)\n",
    "    full_string = [lemmatizer.lemmatize(word) for word in tokens]\n",
    "    full_string_x = \" \".join(full_string)\n",
    "    return full_string_x"
   ]
  },
  {
   "cell_type": "code",
   "execution_count": 8,
   "id": "c1b77b85",
   "metadata": {},
   "outputs": [],
   "source": [
    "#Function to get pos_tags\n",
    "\n",
    "full_pos_list = []\n",
    "\n",
    "def get_pos_tags(words):\n",
    "    if words != \"\":\n",
    "        word_pos_tuple_list = pos_tag(word_tokenize(words))\n",
    "        word,pos = zip(*word_pos_tuple_list)\n",
    "        [full_pos_list.append(new_pos_tag) for new_pos_tag in pos if new_pos_tag not in full_pos_list]\n",
    "        return pos\n",
    "    else:\n",
    "        return None"
   ]
  },
  {
   "attachments": {},
   "cell_type": "markdown",
   "id": "7d9973ee",
   "metadata": {},
   "source": [
    "#### For model"
   ]
  },
  {
   "cell_type": "code",
   "execution_count": 9,
   "id": "f1eab279",
   "metadata": {},
   "outputs": [],
   "source": [
    "# List of algorithms to test\n",
    "\n",
    "classifier_list = [LinearSVC(),ComplementNB(), KNeighborsClassifier(), xgb.XGBClassifier(), RandomForestClassifier(),DecisionTreeClassifier(), lgbm.LGBMClassifier()]\n",
    "clasifier_names = [\"Linear SVM\",\"Naive Bayes\", \"KNN\",\"XGBoostClassifier\",\"Random forest classifier\",\"Decision tree classifier\",\"Light GBM\"]\n"
   ]
  },
  {
   "cell_type": "code",
   "execution_count": 11,
   "id": "87a6c87a",
   "metadata": {},
   "outputs": [],
   "source": [
    "#Fuction for modelbenchmarking, also alows saving of an excelfile with comparisons of the different algorithms for presentation purposes\n",
    "\n",
    "def model_benchmarking(Algorithm_list,Name_of_Algorithms,Train_data,Train_outcome,Test_data,Test_outcome,save_data,full_frame,savepath_model = save_path_model,test_name=\"\"):\n",
    "    model_dict = {}\n",
    "    \n",
    "    d_frame = pd.DataFrame(data={\"Accuracy\":[], \"Recall\":[]})\n",
    "    for i in range(len(Algorithm_list)):\n",
    "        print(f\"Training and testing the performance of {Name_of_Algorithms[i]}\")\n",
    "        clf = Algorithm_list[i]\n",
    "        clf.fit(Train_data,Train_outcome)\n",
    "        predictions = clf.predict(Test_data)\n",
    "        cm = confusion_matrix(Test_outcome,predictions)\n",
    "        acc = accuracy_score(Test_outcome,predictions)\n",
    "        rec = recall_score(Test_outcome,predictions,average=\"macro\")\n",
    "        acc = round(acc,5)\n",
    "        rec= round(rec,5)\n",
    "        print(f\"The Accuracy of the model is: {acc} and recall score: {rec}\")\n",
    "        display_cm = ConfusionMatrixDisplay(confusion_matrix=cm)\n",
    "        display_cm.plot()\n",
    "        plt.show()\n",
    "        model_dict[Name_of_Algorithms[i]] = [clf,acc,rec]\n",
    "        framed = pd.DataFrame(data={\"Accuracy\":[acc],\"Recall\":[rec]}, index=[test_name + Name_of_Algorithms[i]])\n",
    "        d_frame = pd.concat([d_frame,framed])\n",
    "    if save_data == True:\n",
    "        date_ = datetime.now().strftime(\"%Y-%m-%d\")\n",
    "        file_name = date_ + \" \" + test_name +\".xlsx\"\n",
    "        savepath_model = savepath_model + \"\\\\\" + file_name\n",
    "        d_frame.to_excel(savepath_model)\n",
    "    full_frame = pd.concat([full_frame,d_frame])\n",
    "    return model_dict,full_frame"
   ]
  },
  {
   "attachments": {},
   "cell_type": "markdown",
   "id": "dfd3a163",
   "metadata": {},
   "source": [
    "## Lemmatization and data preparation"
   ]
  },
  {
   "cell_type": "code",
   "execution_count": null,
   "id": "647ffd47",
   "metadata": {},
   "outputs": [],
   "source": [
    "Missingno.bar(df)"
   ]
  },
  {
   "cell_type": "code",
   "execution_count": 12,
   "id": "0ff382d3",
   "metadata": {},
   "outputs": [],
   "source": [
    "#Applying functions to remove stop words, links, unicode text and lemmatization of text\n",
    "\n",
    "\n",
    "columns_to_prepare = [\"company_profile\",\"description\",\"requirements\",\"benefits\",\"title\"]\n",
    "if read_data == False:\n",
    "    for col in columns_to_prepare:\n",
    "        df[\"clean_\"+col] = df[col]\n",
    "        df[\"clean_\"+col].fillna(\" \",inplace=True)\n",
    "        df[\"clean_\"+col] = df[\"clean_\"+col].apply(lambda company_text: ' '.join(re.sub(\"(w+://S+)\", \" \",company_text).split()))\n",
    "        df[\"clean_\"+col] = df[\"clean_\"+col].apply(lambda words: to_lower(words))\n",
    "        df[\"clean_\"+col] = df[\"clean_\"+col].apply(lambda word: unidecode.unidecode(word))\n",
    "        df[\"clean_\"+col] = df[\"clean_\"+col].apply(lambda word: re.sub('\\d+','',word))\n",
    "        df[\"clean_\"+col] = df[\"clean_\"+col].apply(lambda string: is_not_stopword(string))\n",
    "        df[\"clean_\"+col] = df[\"clean_\"+col].apply(lambda x: lem(x))\n",
    "        df_lang = df.copy()\n",
    "        df_lang[\"lang\"] = df_lang[\"clean_description\"].apply(lambda x: langid.classify(x)[0])\n",
    "    df_lang_en = df_lang[df_lang[\"lang\"] == \"en\"]\n",
    "    df_lang_en = df_lang_en.reset_index(drop=True)\n",
    "    df_lemma = df_lang_en.drop(columns=[\"job_id\",\"company_profile\",\"description\",\"requirements\",\"benefits\",\"title\",\"lang\"])\n",
    "    df_lemma.fillna(\"\",inplace=True)\n",
    "    save_path = \"C:\\JupyterNotebook\\Applicerad_AI\\Final_data/fake_jobs_dataset_v2_EN_lemma.csv\"\n",
    "    if save_data == True:\n",
    "        df_lemma.to_csv(save_path,index=False)"
   ]
  },
  {
   "attachments": {},
   "cell_type": "markdown",
   "id": "38cf4239",
   "metadata": {},
   "source": [
    "## Modeltesting - Textbased model. No encoding"
   ]
  },
  {
   "cell_type": "code",
   "execution_count": 13,
   "id": "8095a3a5",
   "metadata": {},
   "outputs": [],
   "source": [
    "path_text = \"C:\\JupyterNotebook\\Applicerad_AI\\Final_data/fake_jobs_dataset_v2_EN_lemma.csv\""
   ]
  },
  {
   "cell_type": "code",
   "execution_count": 14,
   "id": "e3b4eb93",
   "metadata": {},
   "outputs": [],
   "source": [
    "if read_data == True:\n",
    "    df_text = pd.read_csv(f'{path_text}')\n",
    "else:\n",
    "    df_text = df_lemma.copy()"
   ]
  },
  {
   "cell_type": "code",
   "execution_count": 15,
   "id": "6b7ae9a7",
   "metadata": {},
   "outputs": [],
   "source": [
    "for col in df_text.columns:\n",
    "    df_text[col] = df_text[col].apply(lambda x: to_lower(x))"
   ]
  },
  {
   "cell_type": "code",
   "execution_count": 16,
   "id": "2ec2e0e8",
   "metadata": {},
   "outputs": [],
   "source": [
    "df_prep = df_text.copy()"
   ]
  },
  {
   "cell_type": "code",
   "execution_count": 19,
   "id": "2b1732fe",
   "metadata": {},
   "outputs": [],
   "source": [
    "#Manually converting some columns to categorical values\n",
    "\n",
    "df_prep[\"employment_type\"].replace(\"other\",\"\", inplace=True)\n",
    "df_prep[\"has_company_logo\"].replace(1,\"company logo\",inplace=True)\n",
    "df_prep[\"has_company_logo\"].replace(0,\"\",inplace=True)\n",
    "df_prep[\"telecommuting\"].replace(1,\"remote work\",inplace=True)\n",
    "df_prep[\"telecommuting\"].replace(0,\"\",inplace=True)\n",
    "df_prep[\"has_questions\"].replace(0,\"\",inplace=True)\n",
    "df_prep[\"has_questions\"].replace(1,\"question\",inplace=True)\n",
    "df_prep.fillna(\"\",inplace=True)"
   ]
  },
  {
   "cell_type": "code",
   "execution_count": 20,
   "id": "a8b7484e",
   "metadata": {},
   "outputs": [],
   "source": [
    "columns_to_skip = [\"fraudulent\",\"clean_company_profile\",\"clean_description\",\"clean_requirements\",\"salary_range\",\"department\"]\n",
    "for col in df_prep.columns:\n",
    "    if col not in columns_to_skip:\n",
    "        df_prep[col]=df_prep[col].apply(lambda x: re.sub(\",\",\"\",x))\n",
    "        df_prep[col]=df_prep[col].apply(lambda x: is_not_stopword(x))\n",
    "        df_prep[col]=df_prep[col].apply(lambda x: to_lower(x))"
   ]
  },
  {
   "cell_type": "code",
   "execution_count": 17,
   "id": "4273d766",
   "metadata": {},
   "outputs": [],
   "source": [
    "save_path = \"C:\\JupyterNotebook\\Applicerad_AI\\Final_data/fake_jobs_dataset_v2_EN_text_based.csv\"\n",
    "\n",
    "if save_data == True:\n",
    "    df_prep.to_csv(save_path,index=False)"
   ]
  },
  {
   "attachments": {},
   "cell_type": "markdown",
   "id": "232e33d9",
   "metadata": {},
   "source": [
    "## Modeltesting - Textbased. Trying to figure out which columns are to be used in the final model"
   ]
  },
  {
   "cell_type": "markdown",
   "id": "25d9d70f",
   "metadata": {},
   "source": [
    "#### PATH - Importing data"
   ]
  },
  {
   "cell_type": "code",
   "execution_count": 21,
   "id": "5f21944b",
   "metadata": {},
   "outputs": [],
   "source": [
    "### Importing dataset\n",
    "path = \"C:\\JupyterNotebook\\Applicerad_AI\\Final_data/fake_jobs_dataset_v2_EN_text_based.csv\"\n",
    "\n",
    "if read_data == True:\n",
    "    df_non_mod = pd.read_csv(path)\n",
    "else:\n",
    "    df_non_mod = df_prep.copy()"
   ]
  },
  {
   "attachments": {},
   "cell_type": "markdown",
   "id": "ae2f4ea7",
   "metadata": {},
   "source": [
    "### 1.1 All information combined into one column"
   ]
  },
  {
   "cell_type": "code",
   "execution_count": 22,
   "id": "bf40afe1",
   "metadata": {},
   "outputs": [],
   "source": [
    "df_full_text = df_non_mod.copy()"
   ]
  },
  {
   "cell_type": "code",
   "execution_count": 23,
   "id": "0641e0d0",
   "metadata": {},
   "outputs": [],
   "source": [
    "df_full_text.fillna(\"\",inplace= True)\n",
    "\n",
    "df_full_text[\"full_text\"] =  df_full_text[\"clean_title\"] + \" \" + df_full_text[\"location\"] + \" \" + df_full_text[\"clean_benefits\"] + \" \" + df_full_text[\"industry\"] \\\n",
    "    + \" \" + df_full_text[\"employment_type\"]+ \" \" + df_full_text[\"clean_company_profile\"] + \" \" + df_full_text[\"required_experience\"]+ \" \" \\\n",
    "        + df_full_text[\"clean_description\"]+ \" \" + df_full_text[\"clean_requirements\"]+ df_full_text[\"has_questions\"] + df_full_text[\"function\"] + df_full_text[\"required_education\"] \\\n",
    "            + df_full_text[\"telecommuting\"] + df_full_text[\"department\"]\n",
    "\n",
    "\n",
    "df_full_text = df_full_text.drop(columns=[\"clean_title\",\"location\",\"clean_benefits\",\"has_company_logo\",\"employment_type\",\"industry\",\"clean_company_profile\",\"required_experience\",\"clean_description\",\"clean_requirements\",\"required_education\",\"telecommuting\",\"function\",\"has_questions\",\"salary_range\",\"department\"])"
   ]
  },
  {
   "cell_type": "code",
   "execution_count": 24,
   "id": "b97a6555",
   "metadata": {},
   "outputs": [],
   "source": [
    "df_full_text = df_full_text.drop_duplicates(subset=[\"full_text\"])"
   ]
  },
  {
   "cell_type": "code",
   "execution_count": 25,
   "id": "c993065a",
   "metadata": {},
   "outputs": [],
   "source": [
    "X_only_text = df_full_text[\"full_text\"]\n",
    "\n",
    "y = df_full_text[\"fraudulent\"]"
   ]
  },
  {
   "cell_type": "code",
   "execution_count": 26,
   "id": "d279e706",
   "metadata": {},
   "outputs": [],
   "source": [
    "X_only_text.fillna(\" \",inplace=True)\n",
    "\n",
    "X_train,X_test,y_train, y_test = train_test_split(X_only_text,y, train_size = 0.7, random_state=0)"
   ]
  },
  {
   "cell_type": "code",
   "execution_count": 27,
   "id": "472a2329",
   "metadata": {},
   "outputs": [],
   "source": [
    "#Vectorization of the combined data\n",
    "tfidf_vectorizer  = TfidfVectorizer(min_df=2)\n",
    "X_train_tfidf = tfidf_vectorizer.fit_transform(X_train)\n",
    "X_test_tfidf = tfidf_vectorizer.transform(X_test)"
   ]
  },
  {
   "cell_type": "code",
   "execution_count": null,
   "id": "5d3811cb",
   "metadata": {},
   "outputs": [],
   "source": [
    "full_frame = pd.DataFrame(columns=[\"Accuracy\",\"Recall\"])\n",
    "\n",
    "models_produced = model_benchmarking(classifier_list,clasifier_names,X_train_tfidf,y_train,X_test_tfidf,y_test,save_data, full_frame,test_name=\"1.1 All textinfo - text based\")"
   ]
  },
  {
   "cell_type": "code",
   "execution_count": null,
   "id": "54420668",
   "metadata": {},
   "outputs": [],
   "source": [
    "full_frame = models_produced[1]"
   ]
  },
  {
   "attachments": {},
   "cell_type": "markdown",
   "id": "6e4de6c3",
   "metadata": {},
   "source": [
    "### 1.2 [DESCRIPTION] All information except company profile"
   ]
  },
  {
   "cell_type": "code",
   "execution_count": 28,
   "id": "8d645016",
   "metadata": {},
   "outputs": [],
   "source": [
    "df_description = df_non_mod.drop(columns=[\"clean_company_profile\"])\n",
    "df_description.fillna(\"\",inplace= True)\n",
    "\n",
    "df_description[\"full_text\"] =  df_description[\"clean_title\"] + \" \" + df_description[\"location\"] + \" \" + df_description[\"clean_benefits\"] + \" \" + df_description[\"industry\"] \\\n",
    "    + \" \" + df_description[\"employment_type\"]+  \" \" + df_description[\"required_experience\"]+ \" \" \\\n",
    "        + df_description[\"clean_description\"]+ \" \" + df_description[\"clean_requirements\"]+ df_description[\"has_questions\"] + df_description[\"function\"] + df_description[\"required_education\"] \\\n",
    "            + df_description[\"telecommuting\"] + df_description[\"department\"]\n",
    "\n",
    "#remove the combined columns\n",
    "df_description = df_description.drop(columns=[\"clean_title\",\"location\",\"clean_benefits\",\"has_company_logo\",\"employment_type\",\"industry\",\"required_experience\",\"clean_description\",\"clean_requirements\",\"required_education\",\"telecommuting\",\"function\",\"has_questions\",\"department\",\"salary_range\"])"
   ]
  },
  {
   "cell_type": "code",
   "execution_count": 29,
   "id": "af75ba63",
   "metadata": {},
   "outputs": [],
   "source": [
    "df_description = df_description.drop_duplicates(subset=[\"full_text\"])"
   ]
  },
  {
   "cell_type": "code",
   "execution_count": 30,
   "id": "096db90e",
   "metadata": {},
   "outputs": [],
   "source": [
    "X_only_text = df_description[\"full_text\"]\n",
    "y = df_description[\"fraudulent\"]\n",
    "\n",
    "X_only_text.fillna(\" \",inplace=True)\n",
    "\n",
    "X_train,X_test,y_train, y_test = train_test_split(X_only_text,y, train_size = 0.7, random_state=0)\n",
    "tfidf_vectorizer  = TfidfVectorizer(min_df=2)\n",
    "\n",
    "X_train_tfidf = tfidf_vectorizer.fit_transform(X_train)\n",
    "X_test_tfidf = tfidf_vectorizer.transform(X_test)"
   ]
  },
  {
   "cell_type": "code",
   "execution_count": null,
   "id": "2d3a283c",
   "metadata": {},
   "outputs": [],
   "source": [
    "models_produced = model_benchmarking(classifier_list,clasifier_names,X_train_tfidf,y_train,X_test_tfidf,y_test,save_data, full_frame,test_name=\"1.2 All textinfo except company profile\")\n",
    "full_frame = models_produced[1]"
   ]
  },
  {
   "attachments": {},
   "cell_type": "markdown",
   "id": "e9d075d6",
   "metadata": {},
   "source": [
    "### 1.3 [COMPANY PROFILE] All information except description "
   ]
  },
  {
   "cell_type": "code",
   "execution_count": null,
   "id": "8273f7e2",
   "metadata": {},
   "outputs": [],
   "source": [
    "df_company_profile = df_non_mod.copy()"
   ]
  },
  {
   "cell_type": "code",
   "execution_count": null,
   "id": "2dffbe52",
   "metadata": {},
   "outputs": [],
   "source": [
    "df_company_profile = df_company_profile.drop(columns=[\"clean_description\"])\n",
    "df_company_profile.fillna(\"\",inplace= True)\n",
    "\n",
    "df_company_profile[\"full_text\"] =  df_company_profile[\"clean_title\"] + \" \" + df_company_profile[\"location\"] + \" \" + df_company_profile[\"clean_benefits\"] + \" \" + df_company_profile[\"industry\"] \\\n",
    "    + \" \" + df_company_profile[\"employment_type\"]+  \" \" + df_company_profile[\"required_experience\"]+ \" \" \\\n",
    "        + df_company_profile[\"clean_company_profile\"]+ \" \" + df_company_profile[\"clean_requirements\"]+ df_company_profile[\"has_questions\"] + df_company_profile[\"function\"] + df_company_profile[\"required_education\"] \\\n",
    "            + df_company_profile[\"telecommuting\"]+ df_company_profile[\"department\"]\n",
    "\n",
    "#remove the combined columns\n",
    "df_company_profile = df_company_profile.drop(columns=[\"clean_title\",\"location\",\"clean_benefits\",\"has_company_logo\",\"employment_type\",\"industry\",\"required_experience\",\"clean_company_profile\",\"clean_requirements\",\"required_education\",\"telecommuting\",\"function\",\"has_questions\",\"department\",\"salary_range\"])"
   ]
  },
  {
   "cell_type": "code",
   "execution_count": null,
   "id": "5d0fea87",
   "metadata": {},
   "outputs": [],
   "source": [
    "df_company_profile = df_company_profile.drop_duplicates(subset=[\"full_text\"])"
   ]
  },
  {
   "cell_type": "code",
   "execution_count": null,
   "id": "7ed0ede6",
   "metadata": {},
   "outputs": [],
   "source": [
    "X_only_text = df_company_profile[\"full_text\"]\n",
    "y = df_company_profile[\"fraudulent\"]\n",
    "\n",
    "X_only_text.fillna(\" \",inplace=True)\n",
    "\n",
    "X_train,X_test,y_train, y_test = train_test_split(X_only_text,y, train_size = 0.7, random_state=0)\n",
    "tfidf_vectorizer  = TfidfVectorizer(min_df=2)\n",
    "\n",
    "X_train_tfidf = tfidf_vectorizer.fit_transform(X_train)\n",
    "X_test_tfidf = tfidf_vectorizer.transform(X_test)"
   ]
  },
  {
   "cell_type": "code",
   "execution_count": null,
   "id": "4b5cb674",
   "metadata": {},
   "outputs": [],
   "source": [
    "models_produced = model_benchmarking(classifier_list,clasifier_names,X_train_tfidf,y_train,X_test_tfidf,y_test,save_data, full_frame,test_name=\"1.3 All textinfo except description\")\n",
    "full_frame = models_produced[1]"
   ]
  },
  {
   "attachments": {},
   "cell_type": "markdown",
   "id": "2bd97fc5",
   "metadata": {},
   "source": [
    "### 1.4 [COMPANY PROFILE > Description] Company profile is used if available, otherwise company description"
   ]
  },
  {
   "cell_type": "code",
   "execution_count": null,
   "id": "7a21be54",
   "metadata": {},
   "outputs": [],
   "source": [
    "df_company_profile_description = df_non_mod.copy()\n"
   ]
  },
  {
   "cell_type": "code",
   "execution_count": null,
   "id": "b64edcd0",
   "metadata": {},
   "outputs": [],
   "source": [
    "null_pos_list = np.where(df_company_profile_description['clean_company_profile'].isnull() == True)[0]"
   ]
  },
  {
   "cell_type": "code",
   "execution_count": null,
   "id": "7b031d5f",
   "metadata": {},
   "outputs": [],
   "source": [
    "for null_loc in null_pos_list:\n",
    "    df_company_profile_description[\"clean_company_profile\"].loc[null_loc] = df_company_profile_description[\"clean_description\"].loc[null_loc]"
   ]
  },
  {
   "cell_type": "code",
   "execution_count": null,
   "id": "0e461796",
   "metadata": {},
   "outputs": [],
   "source": [
    "\n",
    "df_company_profile_description.fillna(\"\",inplace= True)\n",
    "\n",
    "df_company_profile_description[\"full_text\"] =  df_company_profile_description[\"clean_title\"] + \" \" + df_company_profile_description[\"location\"] + \" \" + df_company_profile_description[\"clean_benefits\"] + \" \" + df_company_profile_description[\"industry\"] \\\n",
    "    + \" \" + df_company_profile_description[\"employment_type\"]+  \" \" + df_company_profile_description[\"required_experience\"]+ \" \" \\\n",
    "        + df_company_profile_description[\"clean_company_profile\"]+ \" \" + df_company_profile_description[\"clean_requirements\"]+ df_company_profile_description[\"has_questions\"] + df_company_profile_description[\"function\"] + df_company_profile_description[\"required_education\"] \\\n",
    "            + df_company_profile_description[\"telecommuting\"] +df_company_profile_description[\"department\"]\n",
    "\n",
    "df_company_profile_description = df_company_profile_description.drop(columns=[\"clean_title\",\"location\",\"clean_benefits\",\"has_company_logo\",\"employment_type\",\"industry\",\"required_experience\",\"clean_company_profile\",\"clean_requirements\",\"required_education\",\"telecommuting\",\"function\",\"has_questions\",\"clean_description\",\"department\",\"salary_range\"])"
   ]
  },
  {
   "cell_type": "code",
   "execution_count": null,
   "id": "9b0b38da",
   "metadata": {},
   "outputs": [],
   "source": [
    "df_company_profile_description = df_company_profile_description.drop_duplicates(subset=[\"full_text\"])"
   ]
  },
  {
   "cell_type": "code",
   "execution_count": null,
   "id": "708d3460",
   "metadata": {},
   "outputs": [],
   "source": [
    "X_only_text = df_company_profile_description[\"full_text\"]\n",
    "y = df_company_profile_description[\"fraudulent\"]\n",
    "\n",
    "X_only_text.fillna(\" \",inplace=True)\n",
    "\n",
    "X_train,X_test,y_train, y_test = train_test_split(X_only_text,y, train_size = 0.7, random_state=0)\n",
    "tfidf_vectorizer  = TfidfVectorizer(min_df=2)\n",
    "\n",
    "X_train_tfidf = tfidf_vectorizer.fit_transform(X_train)\n",
    "X_test_tfidf = tfidf_vectorizer.transform(X_test)"
   ]
  },
  {
   "cell_type": "code",
   "execution_count": null,
   "id": "7a5b2c3c",
   "metadata": {},
   "outputs": [],
   "source": [
    "models_produced = model_benchmarking(classifier_list,clasifier_names,X_train_tfidf,y_train,X_test_tfidf,y_test,save_data, full_frame,test_name=\"1.4 All text info description används om company profile inte finns\")\n",
    "full_frame = models_produced[1]"
   ]
  },
  {
   "attachments": {},
   "cell_type": "markdown",
   "id": "b42f74b8",
   "metadata": {},
   "source": [
    "### 1.5 [COMPANY PROFILE] Only company profile"
   ]
  },
  {
   "cell_type": "code",
   "execution_count": null,
   "id": "124b8bb8",
   "metadata": {},
   "outputs": [],
   "source": [
    "df_company_profile_only = df_non_mod.copy()"
   ]
  },
  {
   "cell_type": "code",
   "execution_count": null,
   "id": "6088443a",
   "metadata": {},
   "outputs": [],
   "source": [
    "df_company_profile_only = df_company_profile_only.drop_duplicates(subset=[\"clean_company_profile\"])"
   ]
  },
  {
   "cell_type": "code",
   "execution_count": null,
   "id": "1ae5bab3",
   "metadata": {},
   "outputs": [],
   "source": [
    "X_only_company_profile = df_company_profile_only[\"clean_company_profile\"]\n",
    "y_company_profile = df_company_profile_only[\"fraudulent\"]"
   ]
  },
  {
   "cell_type": "code",
   "execution_count": null,
   "id": "eb23c182",
   "metadata": {},
   "outputs": [],
   "source": [
    "X_only_company_profile.fillna(\" \",inplace=True)\n",
    "\n",
    "X_only_company_profile.drop_duplicates(inplace=True)\n",
    "\n",
    "X_train,X_test,y_train, y_test = train_test_split(X_only_company_profile,y_company_profile, train_size = 0.7, random_state=0)"
   ]
  },
  {
   "cell_type": "code",
   "execution_count": null,
   "id": "a8f668e7",
   "metadata": {},
   "outputs": [],
   "source": [
    "tfidf_vectorizer  = TfidfVectorizer(min_df=2)\n",
    "X_train_tfidf = tfidf_vectorizer.fit_transform(X_train)\n",
    "X_test_tfidf = tfidf_vectorizer.transform(X_test)"
   ]
  },
  {
   "cell_type": "code",
   "execution_count": null,
   "id": "ffe587a0",
   "metadata": {},
   "outputs": [],
   "source": [
    "models_produced = model_benchmarking(classifier_list,clasifier_names,X_train_tfidf,y_train,X_test_tfidf,y_test,save_data, full_frame,test_name=\"1.5 Endast company profile\")\n",
    "full_frame = models_produced[1]"
   ]
  },
  {
   "attachments": {},
   "cell_type": "markdown",
   "id": "19d954e1",
   "metadata": {},
   "source": [
    "### 1.6 [COMPANY PROFILE] only company profile - Ads without company profile are removed"
   ]
  },
  {
   "cell_type": "code",
   "execution_count": null,
   "id": "36c71b95",
   "metadata": {},
   "outputs": [],
   "source": [
    "df_company_profile_only = df_non_mod.copy()"
   ]
  },
  {
   "cell_type": "code",
   "execution_count": null,
   "id": "a40ab01b",
   "metadata": {},
   "outputs": [],
   "source": [
    "df_company_profile_reduced = df_company_profile_only.dropna(subset=[\"clean_company_profile\"])"
   ]
  },
  {
   "cell_type": "code",
   "execution_count": null,
   "id": "a47f8529",
   "metadata": {},
   "outputs": [],
   "source": [
    "df_company_profile_reduced = df_company_profile_reduced.drop_duplicates(subset=[\"clean_company_profile\"])"
   ]
  },
  {
   "cell_type": "code",
   "execution_count": null,
   "id": "8fb40443",
   "metadata": {},
   "outputs": [],
   "source": [
    "X_only_company_profile = df_company_profile_reduced[\"clean_company_profile\"]\n",
    "y_company_profile = df_company_profile_reduced[\"fraudulent\"]\n",
    "\n",
    "X_train,X_test,y_train, y_test = train_test_split(X_only_company_profile,y_company_profile, train_size = 0.7, random_state=0)"
   ]
  },
  {
   "cell_type": "code",
   "execution_count": null,
   "id": "2b90a27b",
   "metadata": {},
   "outputs": [],
   "source": [
    "tfidf_vectorizer  = TfidfVectorizer(min_df=2)\n",
    "X_train_tfidf = tfidf_vectorizer.fit_transform(X_train)\n",
    "X_test_tfidf = tfidf_vectorizer.transform(X_test)"
   ]
  },
  {
   "cell_type": "code",
   "execution_count": null,
   "id": "6e0a8de3",
   "metadata": {},
   "outputs": [],
   "source": [
    "models_produced = model_benchmarking(classifier_list,clasifier_names,X_train_tfidf,y_train,X_test_tfidf,y_test,save_data, full_frame,test_name=\"1.6 Bara company profile NaN tas bort\")\n",
    "full_frame = models_produced[1]"
   ]
  },
  {
   "attachments": {},
   "cell_type": "markdown",
   "id": "42a73c4b",
   "metadata": {},
   "source": [
    "### 1.7 [COMPANY PROFILE] All text information - Ads without company profile are removed"
   ]
  },
  {
   "cell_type": "code",
   "execution_count": null,
   "id": "798c2736",
   "metadata": {},
   "outputs": [],
   "source": [
    "df_company_profile_only = df_non_mod.copy()"
   ]
  },
  {
   "cell_type": "code",
   "execution_count": null,
   "id": "a4c3f40e",
   "metadata": {},
   "outputs": [],
   "source": [
    "df_company_profile_reduced = df_company_profile_only.dropna(subset=[\"clean_company_profile\"])"
   ]
  },
  {
   "cell_type": "code",
   "execution_count": null,
   "id": "a076e260",
   "metadata": {},
   "outputs": [],
   "source": [
    "df_company_profile_reduced.fillna(\"\",inplace= True)\n",
    "\n",
    "df_company_profile_reduced[\"full_text\"] =  df_company_profile_reduced[\"clean_title\"] + \" \" + df_company_profile_reduced[\"location\"] + \" \" + df_company_profile_reduced[\"clean_benefits\"] + \" \" + df_company_profile_reduced[\"industry\"] \\\n",
    "    + \" \" + df_company_profile_reduced[\"employment_type\"]+ \" \" + df_company_profile_reduced[\"clean_company_profile\"] + \" \" + df_company_profile_reduced[\"required_experience\"]+ \" \" \\\n",
    "        + df_company_profile_reduced[\"clean_description\"]+ \" \" + df_company_profile_reduced[\"clean_requirements\"]+ df_company_profile_reduced[\"has_questions\"] + df_company_profile_reduced[\"function\"] + df_company_profile_reduced[\"required_education\"] \\\n",
    "            + df_company_profile_reduced[\"telecommuting\"]\n",
    "\n",
    "#remove the combined columns\n",
    "df_company_profile_reduced = df_company_profile_reduced.drop(columns=[\"clean_title\",\"location\",\"clean_benefits\",\"has_company_logo\",\"employment_type\",\"industry\",\"clean_company_profile\",\"required_experience\",\"clean_description\",\"clean_requirements\",\"required_education\",\"telecommuting\",\"function\",\"has_questions\"])"
   ]
  },
  {
   "cell_type": "code",
   "execution_count": null,
   "id": "d6d269ed",
   "metadata": {},
   "outputs": [],
   "source": [
    "df_company_profile_reduced.drop_duplicates(inplace=True)"
   ]
  },
  {
   "cell_type": "code",
   "execution_count": null,
   "id": "dd44dad8",
   "metadata": {},
   "outputs": [],
   "source": [
    "X_only_company_profile = df_company_profile_reduced[\"full_text\"]\n",
    "y_company_profile = df_company_profile_reduced[\"fraudulent\"]\n",
    "\n",
    "X_train,X_test,y_train, y_test = train_test_split(X_only_company_profile,y_company_profile, train_size = 0.7, random_state=0)"
   ]
  },
  {
   "cell_type": "code",
   "execution_count": null,
   "id": "fa785356",
   "metadata": {},
   "outputs": [],
   "source": [
    "tfidf_vectorizer  = TfidfVectorizer(min_df=2)\n",
    "X_train_tfidf = tfidf_vectorizer.fit_transform(X_train)\n",
    "X_test_tfidf = tfidf_vectorizer.transform(X_test)"
   ]
  },
  {
   "cell_type": "code",
   "execution_count": null,
   "id": "6df022e2",
   "metadata": {},
   "outputs": [],
   "source": [
    "models_produced = model_benchmarking(classifier_list,clasifier_names,X_train_tfidf,y_train,X_test_tfidf,y_test,save_data, full_frame,test_name=\"1.7 All text information, endast för ads där company profile finns\")\n",
    "full_frame = models_produced[1]"
   ]
  },
  {
   "attachments": {},
   "cell_type": "markdown",
   "id": "384c161b",
   "metadata": {},
   "source": [
    "### 1.8 [DESCRIPTION] Description only"
   ]
  },
  {
   "cell_type": "code",
   "execution_count": null,
   "id": "ba99462b",
   "metadata": {},
   "outputs": [],
   "source": [
    "df_company_profile_only = df_non_mod.copy()"
   ]
  },
  {
   "cell_type": "code",
   "execution_count": null,
   "id": "c470872c",
   "metadata": {},
   "outputs": [],
   "source": [
    "df_company_profile_only = df_company_profile_only.drop_duplicates(subset=[\"clean_description\"])"
   ]
  },
  {
   "cell_type": "code",
   "execution_count": null,
   "id": "38816454",
   "metadata": {},
   "outputs": [],
   "source": [
    "X_only_company_profile = df_company_profile_only[\"clean_description\"]\n",
    "y_company_profile = df_company_profile_only[\"fraudulent\"]\n",
    "\n",
    "X_only_company_profile.fillna(\" \",inplace=True)\n",
    "\n",
    "X_train,X_test,y_train, y_test = train_test_split(X_only_company_profile,y_company_profile, train_size = 0.7, random_state=0)"
   ]
  },
  {
   "cell_type": "code",
   "execution_count": null,
   "id": "8ac2364b",
   "metadata": {},
   "outputs": [],
   "source": [
    "tfidf_vectorizer  = TfidfVectorizer(min_df=2)\n",
    "X_train_tfidf = tfidf_vectorizer.fit_transform(X_train)\n",
    "X_test_tfidf = tfidf_vectorizer.transform(X_test)"
   ]
  },
  {
   "cell_type": "code",
   "execution_count": null,
   "id": "6f835af4",
   "metadata": {},
   "outputs": [],
   "source": [
    "models_produced = model_benchmarking(classifier_list,clasifier_names,X_train_tfidf,y_train,X_test_tfidf,y_test,save_data, full_frame,test_name=\"1.8 Endast description\")\n",
    "full_frame = models_produced[1]"
   ]
  },
  {
   "attachments": {},
   "cell_type": "markdown",
   "id": "c9c9cfe5",
   "metadata": {},
   "source": [
    "### Pos_Tag for algorithm predictions"
   ]
  },
  {
   "cell_type": "code",
   "execution_count": null,
   "id": "8e9cd371",
   "metadata": {},
   "outputs": [],
   "source": [
    "from nltk import pos_tag, word_tokenize\n",
    "nltk.download('punkt')\n",
    "nltk.download('maxent_treebank_pos_tagger')\n",
    "nltk.download(\"averaged_perceptron_tagger\")"
   ]
  },
  {
   "cell_type": "code",
   "execution_count": null,
   "id": "da3c48a2",
   "metadata": {},
   "outputs": [],
   "source": [
    "df_pos_tag = df_non_mod.copy()"
   ]
  },
  {
   "cell_type": "code",
   "execution_count": null,
   "id": "5f19a007",
   "metadata": {},
   "outputs": [],
   "source": [
    "df_pos_tag[\"clean_company_profile\"].fillna(\"\",inplace= True)\n",
    "\n",
    "df_pos_tag[\"tags\"] = df_pos_tag[\"clean_company_profile\"].apply(lambda x: get_pos_tags(x))\n",
    "\n",
    "df_pos_tag_frame = pd.DataFrame(columns = full_pos_list)\n",
    "df_pos_tag_frame[\"tags\"] = df_pos_tag[\"tags\"]\n",
    "df_pos_tag_frame[\"fraudulent\"] = df_pos_tag[\"fraudulent\"]"
   ]
  },
  {
   "cell_type": "code",
   "execution_count": null,
   "id": "76ff91e5",
   "metadata": {},
   "outputs": [],
   "source": [
    "tags_to_count = list(df_pos_tag_frame.columns)\n",
    "tags_to_count.remove(\"fraudulent\")\n",
    "tags_to_count.remove(\"tags\")"
   ]
  },
  {
   "cell_type": "code",
   "execution_count": null,
   "id": "0557d462",
   "metadata": {},
   "outputs": [],
   "source": [
    "#Adding the tag count to each column for each word string\n",
    "\n",
    "for i in range(len(df_pos_tag_frame)):\n",
    "    for col in tags_to_count:\n",
    "        sum_of_tags = 0\n",
    "        if df_pos_tag_frame[\"tags\"].iloc[i] != None:\n",
    "            for val in df_pos_tag_frame[\"tags\"].iloc[i]:\n",
    "                if val == col:\n",
    "                    sum_of_tags=sum_of_tags+1\n",
    "            df_pos_tag_frame[col].iloc[i] = sum_of_tags\n",
    "        else:\n",
    "            df_pos_tag_frame[col].iloc[i] = 0\n"
   ]
  },
  {
   "cell_type": "code",
   "execution_count": null,
   "id": "dcf07aba",
   "metadata": {},
   "outputs": [],
   "source": [
    "X_pos = df_pos_tag_frame.drop(columns=[\"tags\",\"fraudulent\"])\n",
    "for col in list(X_pos.columns):\n",
    "    X_pos[col] = X_pos[col].astype(int)\n",
    "\n",
    "y_pos = df_pos_tag_frame[\"fraudulent\"]"
   ]
  },
  {
   "cell_type": "code",
   "execution_count": null,
   "id": "c41932c6",
   "metadata": {},
   "outputs": [],
   "source": [
    "X_train_pos, X_test_pos, y_train_pos, y_test_pos = train_test_split(X_pos,y_pos, train_size = 0.7, random_state=0)"
   ]
  },
  {
   "cell_type": "code",
   "execution_count": null,
   "id": "e5673b0f",
   "metadata": {},
   "outputs": [],
   "source": [
    "models_produced = model_benchmarking(classifier_list,clasifier_names,X_train_tfidf,y_train,X_test_tfidf,y_test,save_data, full_frame,test_name=\"Word tag\")\n",
    "full_frame = models_produced[1]"
   ]
  },
  {
   "attachments": {},
   "cell_type": "markdown",
   "id": "21ace097",
   "metadata": {},
   "source": [
    "## Modeltesting - Undersampling"
   ]
  },
  {
   "attachments": {},
   "cell_type": "markdown",
   "id": "b05c77cf",
   "metadata": {},
   "source": [
    "### Import"
   ]
  },
  {
   "cell_type": "code",
   "execution_count": 31,
   "id": "db62c526",
   "metadata": {},
   "outputs": [],
   "source": [
    "path = \"C:\\JupyterNotebook\\Applicerad_AI\\Final_data/fake_jobs_dataset_v2_EN_text_based.csv\"\n",
    "\n",
    "if read_data == True:\n",
    "    df_full = pd.read_csv(path)\n",
    "else:\n",
    "    df_full = df_prep.copy()"
   ]
  },
  {
   "attachments": {},
   "cell_type": "markdown",
   "id": "fb5d8aa1",
   "metadata": {},
   "source": [
    "### 1.10 [UNDERSAMPLING] All text info"
   ]
  },
  {
   "cell_type": "code",
   "execution_count": 32,
   "id": "0e1d3c58",
   "metadata": {},
   "outputs": [],
   "source": [
    "X_full = df_full.copy()"
   ]
  },
  {
   "cell_type": "code",
   "execution_count": null,
   "id": "8356c26b",
   "metadata": {},
   "outputs": [],
   "source": [
    "X_full.fillna(\"\",inplace= True)\n",
    "\n",
    "X_full[\"full_text\"] =  X_full[\"clean_title\"] + \" \" + X_full[\"location\"] + \" \" + X_full[\"clean_benefits\"] + \" \" + X_full[\"industry\"] \\\n",
    "    + \" \" + X_full[\"employment_type\"]+ \" \" + X_full[\"clean_company_profile\"] + \" \" + X_full[\"required_experience\"]+ \" \" \\\n",
    "        + X_full[\"clean_description\"]+ \" \" + X_full[\"clean_requirements\"]+ X_full[\"has_questions\"] + X_full[\"function\"] + X_full[\"required_education\"] \\\n",
    "            + X_full[\"telecommuting\"] + X_full[\"department\"]\n",
    "\n",
    "#remove the combined columns\n",
    "X_full = X_full.drop(columns=[\"clean_title\",\"location\",\"clean_benefits\",\"has_company_logo\",\"employment_type\",\"industry\",\"clean_company_profile\",\"required_experience\",\"clean_description\",\"clean_requirements\",\"required_education\",\"telecommuting\",\"function\",\"has_questions\",\"salary_range\",\"department\"])"
   ]
  },
  {
   "cell_type": "code",
   "execution_count": null,
   "id": "560fb36d",
   "metadata": {},
   "outputs": [],
   "source": [
    "X_full.drop_duplicates(inplace=True)"
   ]
  },
  {
   "cell_type": "code",
   "execution_count": null,
   "id": "ce846528",
   "metadata": {},
   "outputs": [],
   "source": [
    "X_full_all = X_full.drop(columns=[\"fraudulent\"])\n",
    "y_full = X_full[\"fraudulent\"]\n",
    "\n",
    "X_full_all.fillna(\" \",inplace=True)\n",
    "\n",
    "X_train,X_test,y_train, y_test = train_test_split(X_full_all,y_full, train_size = 0.8, random_state=0)\n",
    "\n",
    "rus = RandomUnderSampler(random_state=0)\n",
    "\n",
    "X_train_rus, y_train_rus = rus.fit_resample(X_train,y_train)"
   ]
  },
  {
   "cell_type": "code",
   "execution_count": null,
   "id": "1fa8ca94",
   "metadata": {},
   "outputs": [],
   "source": [
    "tfidf_vectorizer  = TfidfVectorizer(min_df=2)"
   ]
  },
  {
   "cell_type": "code",
   "execution_count": null,
   "id": "b35084d9",
   "metadata": {},
   "outputs": [],
   "source": [
    "X_train_tfidf = tfidf_vectorizer.fit_transform(X_train_rus[\"full_text\"])\n",
    "X_test_tfidf = tfidf_vectorizer.transform(X_test[\"full_text\"])"
   ]
  },
  {
   "cell_type": "code",
   "execution_count": null,
   "id": "d7c95025",
   "metadata": {},
   "outputs": [],
   "source": [
    "models_produced = model_benchmarking(classifier_list,clasifier_names,X_train_tfidf,y_train_rus,X_test_tfidf,y_test,save_data, full_frame,test_name=\"1.10 Undersampled - All text info i en kolumn\")\n",
    "full_frame = models_produced[1]"
   ]
  },
  {
   "attachments": {},
   "cell_type": "markdown",
   "id": "e0c07dad",
   "metadata": {},
   "source": [
    "### 1.11 [UNDERSAMPLING - DESCRIPTION] Only description"
   ]
  },
  {
   "cell_type": "code",
   "execution_count": null,
   "id": "2c745c2b",
   "metadata": {},
   "outputs": [],
   "source": [
    "df_reduced_description = df_full.copy()"
   ]
  },
  {
   "cell_type": "code",
   "execution_count": null,
   "id": "0ce94dae",
   "metadata": {},
   "outputs": [],
   "source": [
    "df_reduced_description.drop_duplicates(subset=[\"clean_description\"],inplace=True)"
   ]
  },
  {
   "cell_type": "code",
   "execution_count": null,
   "id": "489fccb7",
   "metadata": {},
   "outputs": [],
   "source": [
    "X_only_description = df_reduced_description[[\"clean_description\"]]\n",
    "y_description = df_reduced_description[\"fraudulent\"]\n",
    "\n",
    "X_only_description.fillna(\" \",inplace=True)\n",
    "\n",
    "X_train,X_test,y_train, y_test = train_test_split(X_only_description,y_description, train_size = 0.8, random_state=0)"
   ]
  },
  {
   "cell_type": "code",
   "execution_count": null,
   "id": "632ca573",
   "metadata": {},
   "outputs": [],
   "source": [
    "X_train_rus, y_train_rus = rus.fit_resample(X_train,y_train)"
   ]
  },
  {
   "cell_type": "code",
   "execution_count": null,
   "id": "c2868c6f",
   "metadata": {},
   "outputs": [],
   "source": [
    "tfidf_vectorizer  = TfidfVectorizer(min_df=2)\n",
    "X_train_tfidf = tfidf_vectorizer.fit_transform(X_train_rus[\"clean_description\"])\n",
    "X_test_tfidf = tfidf_vectorizer.transform(X_test[\"clean_description\"])"
   ]
  },
  {
   "cell_type": "code",
   "execution_count": null,
   "id": "fc058e17",
   "metadata": {},
   "outputs": [],
   "source": [
    "models_produced = model_benchmarking(classifier_list,clasifier_names,X_train_tfidf,y_train_rus,X_test_tfidf,y_test,save_data, full_frame,test_name=\"1.11 Undersampled - Endast description\")\n",
    "full_frame = models_produced[1]"
   ]
  },
  {
   "attachments": {},
   "cell_type": "markdown",
   "id": "9582a9dc",
   "metadata": {},
   "source": [
    "### 1.12 [UNDERSAMPLING - COMPANY PROFILE] Only company profile"
   ]
  },
  {
   "cell_type": "code",
   "execution_count": null,
   "id": "f4206c96",
   "metadata": {},
   "outputs": [],
   "source": [
    "df_reduced_company_profile = df_full.copy()"
   ]
  },
  {
   "cell_type": "code",
   "execution_count": null,
   "id": "c0090228",
   "metadata": {},
   "outputs": [],
   "source": [
    "df_reduced_company_profile.drop_duplicates(subset=[\"clean_company_profile\"],inplace=True)"
   ]
  },
  {
   "cell_type": "code",
   "execution_count": null,
   "id": "49114f96",
   "metadata": {},
   "outputs": [],
   "source": [
    "X_only_company_profile = df_reduced_company_profile[[\"clean_company_profile\"]]\n",
    "y_company_profile = df_reduced_company_profile[\"fraudulent\"]\n",
    "\n",
    "X_only_company_profile.fillna(\" \",inplace=True)\n",
    "\n",
    "X_train,X_test,y_train, y_test = train_test_split(X_only_company_profile,y_company_profile, train_size = 0.8, random_state=0)"
   ]
  },
  {
   "cell_type": "code",
   "execution_count": null,
   "id": "1e3cb641",
   "metadata": {},
   "outputs": [],
   "source": [
    "X_train_rus, y_train_rus = rus.fit_resample(X_train,y_train)"
   ]
  },
  {
   "cell_type": "code",
   "execution_count": null,
   "id": "75a2d6b4",
   "metadata": {},
   "outputs": [],
   "source": [
    "tfidf_vectorizer  = TfidfVectorizer(min_df=2)\n",
    "X_train_tfidf = tfidf_vectorizer.fit_transform(X_train_rus[\"clean_company_profile\"])\n",
    "X_test_tfidf = tfidf_vectorizer.transform(X_test[\"clean_company_profile\"])"
   ]
  },
  {
   "cell_type": "code",
   "execution_count": null,
   "id": "79d36245",
   "metadata": {},
   "outputs": [],
   "source": [
    "models_produced = model_benchmarking(classifier_list,clasifier_names,X_train_tfidf,y_train_rus,X_test_tfidf,y_test,save_data, full_frame,test_name=\"1.12 Undersampled - Endast company profile\")\n",
    "full_frame = models_produced[1]"
   ]
  },
  {
   "attachments": {},
   "cell_type": "markdown",
   "id": "9740fd5b",
   "metadata": {},
   "source": [
    "### 1.13 [UNDERSAMPLING - COMPANY PROFILE] Company profile + all info except description"
   ]
  },
  {
   "cell_type": "code",
   "execution_count": null,
   "id": "1556bd3e",
   "metadata": {},
   "outputs": [],
   "source": [
    "df_reduced_company_profile_all_info = df_full.copy()"
   ]
  },
  {
   "cell_type": "code",
   "execution_count": null,
   "id": "1a8490f4",
   "metadata": {},
   "outputs": [],
   "source": [
    "df_reduced_company_profile_all_info = df_reduced_company_profile_all_info.drop(columns=[\"clean_description\"])\n",
    "df_reduced_company_profile_all_info.fillna(\"\",inplace= True)\n",
    "\n",
    "df_reduced_company_profile_all_info[\"full_text\"] =  df_reduced_company_profile_all_info[\"clean_title\"] + \" \" + df_reduced_company_profile_all_info[\"location\"] + \" \" + df_reduced_company_profile_all_info[\"clean_benefits\"] + \" \" + df_reduced_company_profile_all_info[\"industry\"] \\\n",
    "    + \" \" + df_reduced_company_profile_all_info[\"employment_type\"]+  \" \" + df_reduced_company_profile_all_info[\"required_experience\"]+ \" \" \\\n",
    "        + df_reduced_company_profile_all_info[\"clean_company_profile\"]+ \" \" + df_reduced_company_profile_all_info[\"clean_requirements\"]+ df_reduced_company_profile_all_info[\"has_questions\"] + df_reduced_company_profile_all_info[\"function\"] + df_reduced_company_profile_all_info[\"required_education\"] \\\n",
    "            + df_reduced_company_profile_all_info[\"telecommuting\"] +df_reduced_company_profile_all_info[\"department\"]\n",
    "\n",
    "#remove the combined columns\n",
    "df_reduced_company_profile_all_info = df_reduced_company_profile_all_info.drop(columns=[\"clean_title\",\"location\",\"clean_benefits\",\"has_company_logo\",\"employment_type\",\"industry\",\"required_experience\",\"clean_company_profile\",\"clean_requirements\",\"required_education\",\"telecommuting\",\"function\",\"has_questions\",\"department\"])"
   ]
  },
  {
   "cell_type": "code",
   "execution_count": null,
   "id": "26a50507",
   "metadata": {},
   "outputs": [],
   "source": [
    "df_reduced_company_profile_all_info.drop_duplicates(inplace=True)"
   ]
  },
  {
   "cell_type": "code",
   "execution_count": null,
   "id": "553263ff",
   "metadata": {},
   "outputs": [],
   "source": [
    "X_full_no_description = df_reduced_company_profile_all_info[[\"full_text\"]]\n",
    "y_full_no_description = df_reduced_company_profile_all_info[\"fraudulent\"]\n",
    "\n",
    "X_full_no_description.fillna(\" \",inplace=True)\n",
    "\n",
    "X_full_no_description.drop_duplicates()\n",
    "\n",
    "X_train,X_test,y_train, y_test = train_test_split(X_full_no_description,y_full_no_description, train_size = 0.8, random_state=0)"
   ]
  },
  {
   "cell_type": "code",
   "execution_count": null,
   "id": "274fcb05",
   "metadata": {},
   "outputs": [],
   "source": [
    "X_train_rus, y_train_rus = rus.fit_resample(X_train,y_train)"
   ]
  },
  {
   "cell_type": "code",
   "execution_count": null,
   "id": "a6e5d29d",
   "metadata": {},
   "outputs": [],
   "source": [
    "tfidf_vectorizer  = TfidfVectorizer(min_df=2)\n",
    "X_train_tfidf = tfidf_vectorizer.fit_transform(X_train_rus[\"full_text\"])\n",
    "X_test_tfidf = tfidf_vectorizer.transform(X_test[\"full_text\"])"
   ]
  },
  {
   "cell_type": "code",
   "execution_count": null,
   "id": "1eacab8e",
   "metadata": {},
   "outputs": [],
   "source": [
    "models_produced = model_benchmarking(classifier_list,clasifier_names,X_train_tfidf,y_train_rus,X_test_tfidf,y_test,save_data, full_frame,test_name=\"1.13 Undersampled - all info except förutom description\")\n",
    "full_frame = models_produced[1]"
   ]
  },
  {
   "attachments": {},
   "cell_type": "markdown",
   "id": "695065a9",
   "metadata": {},
   "source": [
    "## Datapreparation - Full dataset + encoding"
   ]
  },
  {
   "attachments": {},
   "cell_type": "markdown",
   "id": "1e67bb4f",
   "metadata": {},
   "source": [
    "### Functions\n"
   ]
  },
  {
   "cell_type": "code",
   "execution_count": null,
   "id": "72bfb2e3",
   "metadata": {},
   "outputs": [],
   "source": [
    "#Funktion för att skapa kolumn namn\n",
    "def emp_type_fun(x,prefix):\n",
    "    if x == \"\":\n",
    "        return prefix + \" NaN\"\n",
    "    elif isinstance(x,str):\n",
    "        return prefix + \" \"+ x\n",
    "    else:\n",
    "        return prefix + \" NaN\""
   ]
  },
  {
   "attachments": {},
   "cell_type": "markdown",
   "id": "b9143e45",
   "metadata": {},
   "source": [
    "### Encoding of full dataset"
   ]
  },
  {
   "cell_type": "code",
   "execution_count": null,
   "id": "d748c204",
   "metadata": {},
   "outputs": [],
   "source": [
    "read_path = \"C:\\JupyterNotebook\\Applicerad_AI\\Final_data/fake_jobs_dataset_v2_EN_lemma.csv\"\n",
    "\n",
    "if read_data == True:\n",
    "    df_enc = pd.read_csv(read_path)\n",
    "else:\n",
    "    df_enc = df_lemma.copy()"
   ]
  },
  {
   "cell_type": "code",
   "execution_count": null,
   "id": "28956efc",
   "metadata": {},
   "outputs": [],
   "source": [
    "for col in df_enc.columns:\n",
    "    unique_values = len(df_enc[col].unique())\n",
    "    print(f\"{col} innehåller {unique_values} unika värden\")\n",
    "df_enc.dtypes"
   ]
  },
  {
   "cell_type": "code",
   "execution_count": null,
   "id": "3ab19363",
   "metadata": {},
   "outputs": [],
   "source": [
    "df_enc_mod = df_enc.copy()"
   ]
  },
  {
   "attachments": {},
   "cell_type": "markdown",
   "id": "b3d92a77",
   "metadata": {},
   "source": [
    "#### Location"
   ]
  },
  {
   "attachments": {},
   "cell_type": "markdown",
   "id": "dc54a098",
   "metadata": {},
   "source": [
    "##### Functions for location"
   ]
  },
  {
   "cell_type": "code",
   "execution_count": null,
   "id": "9c8d3c96",
   "metadata": {},
   "outputs": [],
   "source": [
    "def split_location(x,df,col):\n",
    "    if isinstance(x,str) is True:\n",
    "        split_string =  x.split(\",\",3)\n",
    "        split_string_stripped = [x.strip() for x in split_string]\n",
    "        if len(split_string_stripped) <=3:\n",
    "            return split_string_stripped\n",
    "        else:\n",
    "            return split_string_stripped[:-1]\n",
    "    else:\n",
    "        iloc_pos = x.index[0]\n",
    "        new_val = df[col].iloc[iloc_pos].split(\",\",3)[:-1]\n",
    "        split_string_stripped = [x.strip() for x in new_val]\n",
    "        return split_string_stripped"
   ]
  },
  {
   "cell_type": "code",
   "execution_count": null,
   "id": "2e4f2818",
   "metadata": {},
   "outputs": [],
   "source": [
    "def get_location_info(data,pos):\n",
    "    if data == ['']:\n",
    "        return \"\"\n",
    "    else:\n",
    "        if (pos >= 1 and len(data) == 1):\n",
    "            return \"\"\n",
    "        else:\n",
    "            return data[pos]"
   ]
  },
  {
   "attachments": {},
   "cell_type": "markdown",
   "id": "d9c55216",
   "metadata": {},
   "source": [
    "##### Data"
   ]
  },
  {
   "cell_type": "code",
   "execution_count": null,
   "id": "667e220b",
   "metadata": {},
   "outputs": [],
   "source": [
    "df_enc_mod[\"location\"].fillna(\"\",inplace=True)\n",
    "df_enc_mod[\"location_max_split\"] = df_enc_mod[\"location\"].apply(lambda x: x.count(\",\"))"
   ]
  },
  {
   "cell_type": "code",
   "execution_count": null,
   "id": "e0c712de",
   "metadata": {},
   "outputs": [],
   "source": [
    "df_enc_mod[\"location\"] = df_enc_mod[\"location\"].apply(lambda x: split_location(x,df_enc_mod,\"location\"))\n",
    "df_enc_mod[\"location list length\"] = df_enc_mod[\"location\"].apply(lambda x: len(x))"
   ]
  },
  {
   "cell_type": "code",
   "execution_count": null,
   "id": "e0368583",
   "metadata": {},
   "outputs": [],
   "source": [
    "new_columns = [\"Country\",\"State\",\"City\"]\n",
    "\n",
    "for i in range(len(new_columns)): \n",
    "    df_enc_mod[new_columns[i]] = df_enc_mod[\"location\"].apply(lambda x: get_location_info(x,i))\n",
    "\n",
    "df_enc_final = df_enc_mod.drop(columns=[\"location\",\"location_max_split\",\"location list length\"])"
   ]
  },
  {
   "attachments": {},
   "cell_type": "markdown",
   "id": "b4de5d4d",
   "metadata": {},
   "source": [
    "#### Employment type"
   ]
  },
  {
   "cell_type": "code",
   "execution_count": null,
   "id": "43d6284a",
   "metadata": {},
   "outputs": [],
   "source": [
    "df_enc_emp_type = df_enc_final.copy()"
   ]
  },
  {
   "cell_type": "code",
   "execution_count": null,
   "id": "a76bb46d",
   "metadata": {},
   "outputs": [],
   "source": [
    "emp_types = pd.unique(df_enc_emp_type[\"employment_type\"])\n",
    "OH_enconder = OneHotEncoder()\n",
    "label_enconder = LabelEncoder()\n"
   ]
  },
  {
   "cell_type": "code",
   "execution_count": null,
   "id": "bcb03817",
   "metadata": {},
   "outputs": [],
   "source": [
    "OH_enconder.fit(df_enc_emp_type[[\"employment_type\"]])\n",
    "oh_category_list = OH_enconder.categories_\n",
    "oh_category_list_prefix = [emp_type_fun(word,\"employment_type\") for word in oh_category_list[0]]\n",
    "\n",
    "OH_df_employment_type = pd.DataFrame(OH_enconder.fit_transform(df_enc_emp_type[[\"employment_type\"]]).toarray(),columns=oh_category_list_prefix)\n",
    "\n",
    "df_enc_final = pd.concat([df_enc_final,OH_df_employment_type],axis=1)\n",
    "\n",
    "df_enc_final = df_enc_final.drop(columns=[\"employment_type\"])"
   ]
  },
  {
   "attachments": {},
   "cell_type": "markdown",
   "id": "322df348",
   "metadata": {},
   "source": [
    "### Required experience"
   ]
  },
  {
   "cell_type": "code",
   "execution_count": null,
   "id": "6ef4375e",
   "metadata": {},
   "outputs": [],
   "source": [
    "df_req_experience = df_enc_final.copy()"
   ]
  },
  {
   "cell_type": "code",
   "execution_count": null,
   "id": "367ca433",
   "metadata": {},
   "outputs": [],
   "source": [
    "OH_enconder.fit(df_req_experience[[\"required_experience\"]]);\n",
    "oh_category_list = OH_enconder.categories_\n",
    "\n",
    "oh_category_list_prefix = [emp_type_fun(word,\"required_experience\") for word in oh_category_list[0]]\n",
    "\n",
    "OH_df_required_experience = pd.DataFrame(OH_enconder.fit_transform(df_req_experience[[\"required_experience\"]]).toarray(),columns=oh_category_list_prefix)\n",
    "\n",
    "df_enc_final = pd.concat([df_enc_final,OH_df_required_experience],axis=1)\n",
    "\n",
    "df_enc_final = df_enc_final.drop(columns=[\"required_experience\"])"
   ]
  },
  {
   "attachments": {},
   "cell_type": "markdown",
   "id": "4d86c96d",
   "metadata": {},
   "source": [
    "### Required education "
   ]
  },
  {
   "cell_type": "code",
   "execution_count": null,
   "id": "05506969",
   "metadata": {},
   "outputs": [],
   "source": [
    "df_required_education = df_enc_final.copy()"
   ]
  },
  {
   "cell_type": "code",
   "execution_count": null,
   "id": "eaad6c98",
   "metadata": {},
   "outputs": [],
   "source": [
    "OH_enconder.fit(df_required_education[[\"required_education\"]])\n",
    "\n",
    "oh_category_list = OH_enconder.categories_\n",
    "\n",
    "oh_category_list_prefix = [emp_type_fun(word,\"required_education\") for word in oh_category_list[0]]\n",
    "\n",
    "oh_df_req_education = pd.DataFrame(OH_enconder.fit_transform(df_required_education[[\"required_education\"]]).toarray(), columns=oh_category_list_prefix)\n",
    "\n",
    "df_enc_final = pd.concat([df_enc_final,oh_df_req_education],axis=1)\n",
    "\n",
    "df_enc_final = df_enc_final.drop(columns=[\"required_education\"])"
   ]
  },
  {
   "attachments": {},
   "cell_type": "markdown",
   "id": "d70ebd0c",
   "metadata": {},
   "source": [
    "### Function"
   ]
  },
  {
   "cell_type": "code",
   "execution_count": null,
   "id": "1fc2f204",
   "metadata": {},
   "outputs": [],
   "source": [
    "df_function = df_enc_final.copy()"
   ]
  },
  {
   "cell_type": "code",
   "execution_count": null,
   "id": "f8d98a8a",
   "metadata": {},
   "outputs": [],
   "source": [
    "OH_enconder.fit(df_function[[\"function\"]])\n",
    "\n",
    "oh_category_list = OH_enconder.categories_\n",
    "\n",
    "oh_category_list_prefix = [emp_type_fun(word,\"function\") for word in oh_category_list[0]]\n",
    "\n",
    "oh_df_function = pd.DataFrame(OH_enconder.fit_transform(df_function[[\"function\"]]).toarray(), columns=oh_category_list_prefix)\n",
    "\n",
    "df_enc_final = pd.concat([df_enc_final,oh_df_function],axis=1)\n",
    "\n",
    "df_enc_final=df_enc_final.drop(columns=[\"function\"])"
   ]
  },
  {
   "attachments": {},
   "cell_type": "markdown",
   "id": "56088890",
   "metadata": {},
   "source": [
    "### Industry "
   ]
  },
  {
   "cell_type": "code",
   "execution_count": null,
   "id": "e7694fc6",
   "metadata": {},
   "outputs": [],
   "source": [
    "df_industry = df_enc_final.copy()"
   ]
  },
  {
   "cell_type": "code",
   "execution_count": null,
   "id": "7f9c3d81",
   "metadata": {},
   "outputs": [],
   "source": [
    "OH_enconder.fit(df_industry[[\"industry\"]])\n",
    "\n",
    "OH_enconder.categories_[0]\n",
    "oh_category_list = OH_enconder.categories_[0]\n",
    "\n",
    "oh_category_list_prefix = [emp_type_fun(word,\"industry\") for word in oh_category_list]\n",
    "\n",
    "oh_df_industry = pd.DataFrame(OH_enconder.fit_transform(df_industry[[\"industry\"]]).toarray(),columns=oh_category_list_prefix)\n",
    "\n",
    "df_enc_final = pd.concat([df_enc_final,oh_df_industry],axis=1)\n",
    "\n",
    "df_enc_final = df_enc_final.drop(columns=[\"industry\"])"
   ]
  },
  {
   "cell_type": "code",
   "execution_count": null,
   "id": "8bc2b057",
   "metadata": {},
   "outputs": [],
   "source": [
    "df_enc_final"
   ]
  },
  {
   "attachments": {},
   "cell_type": "markdown",
   "id": "f2497d0c",
   "metadata": {},
   "source": [
    "### Department"
   ]
  },
  {
   "cell_type": "code",
   "execution_count": null,
   "id": "48f4ea22",
   "metadata": {},
   "outputs": [],
   "source": [
    "df_department = df_enc_final.copy()\n",
    "\n",
    "unique_departments = df_department[\"department\"].fillna(\"\")\n",
    "\n",
    "df_department_cleaned = df_department.copy()\n",
    "\n",
    "df_department_cleaned[\"department\"].fillna(\" \",inplace=True)"
   ]
  },
  {
   "cell_type": "code",
   "execution_count": null,
   "id": "12d48243",
   "metadata": {},
   "outputs": [],
   "source": [
    "#Remove eventual links\n",
    "df_department_cleaned[\"department\"] = df_department_cleaned[\"department\"].apply(lambda x: ' '.join(re.sub(\"(w+://S+)\", \" \",x).split()))\n",
    "\n",
    "#Set all words to lower case\n",
    "df_department_cleaned[\"department\"] = df_department_cleaned[\"department\"].apply(lambda words: words.lower())\n",
    "\n",
    "#Remove unicode text e.g \\0ax\n",
    "df_department_cleaned[\"department\"] = df_department_cleaned[\"department\"].apply(lambda word: unidecode.unidecode(word))\n",
    "\n",
    "#Remove numbers\n",
    "df_department_cleaned[\"department\"] = df_department_cleaned[\"department\"].apply(lambda word: re.sub('\\d+','',word))\n",
    "\n",
    "#Remove stop words\n",
    "df_department_cleaned[\"department\"] = df_department_cleaned[\"department\"].apply(lambda string: is_not_stopword(string))\n",
    "\n",
    "#Lemmatization\n",
    "df_department_cleaned[\"department\"] = df_department_cleaned[\"department\"].apply(lambda x: lem(x))"
   ]
  },
  {
   "cell_type": "code",
   "execution_count": null,
   "id": "1c459340",
   "metadata": {},
   "outputs": [],
   "source": [
    "def check_num(x):\n",
    "    if isinstance(x,int):\n",
    "        print(\"digit\")\n",
    "    elif x.isdigit():\n",
    "        print(\"digit\")\n",
    "    else:\n",
    "        return x"
   ]
  },
  {
   "cell_type": "code",
   "execution_count": null,
   "id": "06352aec",
   "metadata": {},
   "outputs": [],
   "source": [
    "check_if_only_digit = df_department_cleaned[\"department\"].apply(lambda x: check_num(x))\n",
    "\n",
    "OH_enconder.fit(df_department_cleaned[[\"department\"]])\n",
    "\n",
    "OH_enconder.categories_[0]\n",
    "oh_category_list = OH_enconder.categories_[0]\n",
    "\n",
    "oh_category_list_prefix = [emp_type_fun(word,\"department\") for word in oh_category_list]\n",
    "\n",
    "oh_df_department = pd.DataFrame(OH_enconder.fit_transform(df_department_cleaned[[\"department\"]]).toarray(),columns=oh_category_list_prefix)\n",
    "\n",
    "df_enc_final = pd.concat([df_enc_final,oh_df_department],axis=1)\n",
    "df_enc_final = df_enc_final.drop(columns=[\"department\"])\n"
   ]
  },
  {
   "attachments": {},
   "cell_type": "markdown",
   "id": "a5dfb14f",
   "metadata": {},
   "source": [
    "### Location - Country, State, City"
   ]
  },
  {
   "attachments": {},
   "cell_type": "markdown",
   "id": "5d4e2448",
   "metadata": {},
   "source": [
    "#### Country"
   ]
  },
  {
   "cell_type": "code",
   "execution_count": null,
   "id": "2336528d",
   "metadata": {},
   "outputs": [],
   "source": [
    "df_country = df_enc_final.copy()\n",
    "OH_enconder.fit(df_country[[\"Country\"]])\n",
    "oh_category_list = OH_enconder.categories_\n",
    "oh_category_list_prefix = [emp_type_fun(word,\"Country\") for word in oh_category_list[0]]\n",
    "\n",
    "oh_df_country = pd.DataFrame(OH_enconder.fit_transform(df_country[[\"Country\"]]).toarray(), columns=oh_category_list_prefix)\n",
    "\n",
    "df_enc_final = pd.concat([df_enc_final,oh_df_country],axis=1)\n",
    "\n",
    "df_enc_final = df_enc_final.drop(columns=[\"Country\"])"
   ]
  },
  {
   "attachments": {},
   "cell_type": "markdown",
   "id": "ceb2d775",
   "metadata": {},
   "source": [
    "#### State"
   ]
  },
  {
   "cell_type": "code",
   "execution_count": null,
   "id": "446abc24",
   "metadata": {},
   "outputs": [],
   "source": [
    "df_state = df_enc_final.copy()\n",
    "OH_enconder.fit(df_state[[\"State\"]])\n",
    "oh_category_list = OH_enconder.categories_\n",
    "oh_category_list_prefix = [emp_type_fun(word,\"State\") for word in oh_category_list[0]]\n",
    "\n",
    "oh_df_state = pd.DataFrame(OH_enconder.fit_transform(df_state[[\"State\"]]).toarray(), columns=oh_category_list_prefix)\n",
    "\n",
    "df_enc_final = pd.concat([df_enc_final,oh_df_state],axis=1)\n",
    "df_enc_final = df_enc_final.drop(columns=[\"State\"])"
   ]
  },
  {
   "attachments": {},
   "cell_type": "markdown",
   "id": "b9a67110",
   "metadata": {},
   "source": [
    "#### City"
   ]
  },
  {
   "cell_type": "code",
   "execution_count": null,
   "id": "644f24c1",
   "metadata": {},
   "outputs": [],
   "source": [
    "df_city = df_enc_final.copy()\n",
    "OH_enconder.fit(df_city[[\"City\"]])\n",
    "oh_category_list = OH_enconder.categories_\n",
    "oh_category_list_prefix = [emp_type_fun(word,\"City\") for word in oh_category_list[0]]\n",
    "\n",
    "oh_df_city = pd.DataFrame(OH_enconder.fit_transform(df_city[[\"City\"]]).toarray(), columns=oh_category_list_prefix)\n",
    "\n",
    "df_enc_final = pd.concat([df_enc_final,oh_df_city],axis=1)\n",
    "df_enc_final = df_enc_final.drop(columns=[\"City\"])"
   ]
  },
  {
   "attachments": {},
   "cell_type": "markdown",
   "id": "e6b44b05",
   "metadata": {},
   "source": [
    "### Salary_range"
   ]
  },
  {
   "cell_type": "code",
   "execution_count": null,
   "id": "13dec39f",
   "metadata": {},
   "outputs": [],
   "source": [
    "def get_avg(x):\n",
    "    if x != -1:\n",
    "        min_max_values = x.split(\"-\")\n",
    "        if len(min_max_values) == 1:\n",
    "            return int(min_max_values[0])\n",
    "        else:   \n",
    "            if min_max_values[0].isdigit() and min_max_values[1].isdigit():\n",
    "                average_salary = (int(min_max_values[0])+int(min_max_values[1]))/2\n",
    "                return average_salary\n",
    "            else:\n",
    "                return -1\n",
    "    else:\n",
    "        return x"
   ]
  },
  {
   "cell_type": "code",
   "execution_count": null,
   "id": "61f25546",
   "metadata": {},
   "outputs": [],
   "source": [
    "def set_income_label(average_income,low_threshold,high_threshold):\n",
    "    if average_income < low_threshold:\n",
    "        return \"low salary\"\n",
    "    elif high_threshold > average_income > low_threshold:\n",
    "        return \"medium salary\"\n",
    "    elif average_income > high_threshold:\n",
    "        return \"high salary\"\n",
    "    else:\n",
    "        return \"\""
   ]
  },
  {
   "cell_type": "code",
   "execution_count": null,
   "id": "a3d15967",
   "metadata": {},
   "outputs": [],
   "source": [
    "df_salary = df_enc_final.copy()\n",
    "\n",
    "salary_copy = df_salary[[\"salary_range\"]].copy()\n",
    "\n",
    "salary_copy.fillna(-1,inplace=True)\n",
    "\n",
    "salary_copy.replace(\"\",-1, inplace=True)\n",
    "\n",
    "df_salary[\"average\"] = salary_copy[\"salary_range\"].apply(lambda x: get_avg(x))\n",
    "\n",
    "salary_threshold_df = df_salary.drop(df_salary[df_salary[\"average\"]<0].index)\n",
    "\n",
    "salary_thresholds = np.percentile(salary_threshold_df[\"average\"],[20,80])"
   ]
  },
  {
   "cell_type": "code",
   "execution_count": null,
   "id": "9dbc13c3",
   "metadata": {},
   "outputs": [],
   "source": [
    "df_salary[\"average\"]  = df_salary[\"average\"] .apply(lambda x: set_income_label(x,salary_thresholds[0],salary_thresholds[1]))\n",
    "\n",
    "\n",
    "OH_enconder.fit(df_salary[[\"average\"]])\n",
    "\n",
    "oh_category_list = OH_enconder.categories_\n",
    "oh_category_list_prefix = [emp_type_fun(word,\"Income\") for word in oh_category_list[0]]\n",
    "\n",
    "oh_df_salary = pd.DataFrame(OH_enconder.fit_transform(df_salary[[\"average\"]]).toarray(), columns=oh_category_list_prefix)\n",
    "\n",
    "df_enc_final = pd.concat([df_enc_final,oh_df_salary],axis=1)\n",
    "df_enc_final = df_enc_final.drop(columns=[\"salary_range\"])\n"
   ]
  },
  {
   "attachments": {},
   "cell_type": "markdown",
   "id": "d1d1c077",
   "metadata": {},
   "source": [
    "### Saving"
   ]
  },
  {
   "cell_type": "code",
   "execution_count": null,
   "id": "8b68a8a9",
   "metadata": {},
   "outputs": [],
   "source": [
    "save_path_encoding = \"C:\\JupyterNotebook\\Applicerad_AI\\Final_data/fake_jobs_dataset_v2_encoded.csv\"\n",
    "\n",
    "if save_data == True:\n",
    "    df_enc_final.to_csv(save_path_encoding,index=False)"
   ]
  },
  {
   "attachments": {},
   "cell_type": "markdown",
   "id": "a6df53a4",
   "metadata": {},
   "source": [
    "## Modeltesting - encoded data"
   ]
  },
  {
   "attachments": {},
   "cell_type": "markdown",
   "id": "57d81011",
   "metadata": {},
   "source": [
    "### Import + overview"
   ]
  },
  {
   "cell_type": "code",
   "execution_count": null,
   "id": "2c412d3f",
   "metadata": {},
   "outputs": [],
   "source": [
    "enc_df_path = \"C:\\JupyterNotebook\\Applicerad_AI\\Final_data/fake_jobs_dataset_v2_encoded.csv\"\n",
    "\n",
    "if read_data == True:\n",
    "    enc_df = pd.read_csv(enc_df_path)\n",
    "else:\n",
    "    enc_df = df_enc_final.copy()"
   ]
  },
  {
   "attachments": {},
   "cell_type": "markdown",
   "id": "092b31c6",
   "metadata": {},
   "source": [
    "### 2.1 Only company profile"
   ]
  },
  {
   "cell_type": "code",
   "execution_count": null,
   "id": "2dc5cbe1",
   "metadata": {},
   "outputs": [],
   "source": [
    "model_df = enc_df.copy()"
   ]
  },
  {
   "cell_type": "code",
   "execution_count": null,
   "id": "244e0daf",
   "metadata": {},
   "outputs": [],
   "source": [
    "model_df = model_df.drop(columns=[\"clean_description\",\"clean_requirements\",\"clean_benefits\",\"clean_title\"])"
   ]
  },
  {
   "cell_type": "code",
   "execution_count": null,
   "id": "c0b4a4b3",
   "metadata": {},
   "outputs": [],
   "source": [
    "model_df.drop_duplicates(inplace=True)"
   ]
  },
  {
   "cell_type": "code",
   "execution_count": null,
   "id": "924b11f0",
   "metadata": {},
   "outputs": [],
   "source": [
    "X = model_df.drop(columns=[\"fraudulent\"])\n",
    "y = model_df[\"fraudulent\"]\n",
    "\n",
    "X.fillna(\" \",inplace=True)\n",
    "\n",
    "X_train,X_test,y_train, y_test = train_test_split(X,y, train_size = 0.8, random_state=0)"
   ]
  },
  {
   "cell_type": "code",
   "execution_count": null,
   "id": "f0139992",
   "metadata": {},
   "outputs": [],
   "source": [
    "tfidf_vectorizer  = TfidfVectorizer(min_df=2)\n",
    "\n",
    "X_train_tfidf = tfidf_vectorizer.fit_transform(X_train[\"clean_company_profile\"])\n",
    "X_test_tfidf = tfidf_vectorizer.transform(X_test[\"clean_company_profile\"])"
   ]
  },
  {
   "cell_type": "code",
   "execution_count": null,
   "id": "5af06949",
   "metadata": {},
   "outputs": [],
   "source": [
    "X_train = X_train.drop(columns=[\"clean_company_profile\"])\n",
    "X_test = X_test.drop(columns=[\"clean_company_profile\"])"
   ]
  },
  {
   "cell_type": "code",
   "execution_count": null,
   "id": "f77fa695",
   "metadata": {},
   "outputs": [],
   "source": [
    "X_train_tfidf = sparse.hstack((X_train_tfidf,X_train))\n",
    "X_test_tfidf = sparse.hstack((X_test_tfidf,X_test))"
   ]
  },
  {
   "cell_type": "code",
   "execution_count": null,
   "id": "87eab357",
   "metadata": {},
   "outputs": [],
   "source": [
    "models_produced = model_benchmarking(classifier_list,clasifier_names,X_train_tfidf,y_train,X_test_tfidf,y_test,save_data, full_frame,test_name=\"2.1 Encoded dataset - Bara clean company profile\")\n",
    "full_frame = models_produced[1]"
   ]
  },
  {
   "attachments": {},
   "cell_type": "markdown",
   "id": "f65bea52",
   "metadata": {},
   "source": [
    "### 2.2 Only Description"
   ]
  },
  {
   "cell_type": "code",
   "execution_count": null,
   "id": "5a931f47",
   "metadata": {},
   "outputs": [],
   "source": [
    "model_df = enc_df.copy()"
   ]
  },
  {
   "cell_type": "code",
   "execution_count": null,
   "id": "4fb2264f",
   "metadata": {},
   "outputs": [],
   "source": [
    "model_df = model_df.drop(columns=[\"clean_requirements\",\"clean_company_profile\",\"clean_benefits\",\"clean_title\"])"
   ]
  },
  {
   "cell_type": "code",
   "execution_count": null,
   "id": "47f30c9c",
   "metadata": {},
   "outputs": [],
   "source": [
    "model_df.drop_duplicates(inplace=True)"
   ]
  },
  {
   "cell_type": "code",
   "execution_count": null,
   "id": "2801cbe1",
   "metadata": {},
   "outputs": [],
   "source": [
    "X = model_df.drop(columns=[\"fraudulent\"])\n",
    "y = model_df[\"fraudulent\"]\n",
    "\n",
    "X.fillna(\" \",inplace=True)\n",
    "\n",
    "X_train,X_test,y_train, y_test = train_test_split(X,y, train_size = 0.7, random_state=0)"
   ]
  },
  {
   "cell_type": "code",
   "execution_count": null,
   "id": "43558db4",
   "metadata": {},
   "outputs": [],
   "source": [
    "tfidf_vectorizer  = TfidfVectorizer(min_df=2)\n",
    "\n",
    "X_train_tfidf = tfidf_vectorizer.fit_transform(X_train[\"clean_description\"])\n",
    "X_test_tfidf = tfidf_vectorizer.transform(X_test[\"clean_description\"])"
   ]
  },
  {
   "cell_type": "code",
   "execution_count": null,
   "id": "91924297",
   "metadata": {},
   "outputs": [],
   "source": [
    "X_train = X_train.drop(columns=[\"clean_description\"])\n",
    "X_test = X_test.drop(columns=[\"clean_description\"])"
   ]
  },
  {
   "cell_type": "code",
   "execution_count": null,
   "id": "1ea57552",
   "metadata": {},
   "outputs": [],
   "source": [
    "X_train_tfidf = sparse.hstack((X_train_tfidf,X_train))\n",
    "X_test_tfidf = sparse.hstack((X_test_tfidf,X_test))"
   ]
  },
  {
   "cell_type": "code",
   "execution_count": null,
   "id": "62aab447",
   "metadata": {},
   "outputs": [],
   "source": [
    "models_produced = model_benchmarking(classifier_list,clasifier_names,X_train_tfidf,y_train,X_test_tfidf,y_test,save_data, full_frame,test_name=\"2.2 Encoded dataset - Endast Description\")\n",
    "full_frame = models_produced[1]"
   ]
  },
  {
   "attachments": {},
   "cell_type": "markdown",
   "id": "f3f2a03d",
   "metadata": {},
   "source": [
    "### 2.3 Combining text data into one column"
   ]
  },
  {
   "cell_type": "code",
   "execution_count": null,
   "id": "4ca2d1a1",
   "metadata": {},
   "outputs": [],
   "source": [
    "model_df = enc_df.copy()"
   ]
  },
  {
   "cell_type": "code",
   "execution_count": null,
   "id": "e7f44d8b",
   "metadata": {},
   "outputs": [],
   "source": [
    "to_add = [\"clean_description\",\"clean_requirements\",\"clean_company_profile\",\"clean_benefits\",\"clean_title\"]\n",
    "\n",
    "model_df[\"full_text\"] = \"\"\n",
    "\n",
    "for col in to_add:\n",
    "    model_df[\"full_text\"] = model_df[\"full_text\"] + model_df[col].fillna(\"\")"
   ]
  },
  {
   "cell_type": "code",
   "execution_count": null,
   "id": "0bdbcb59",
   "metadata": {},
   "outputs": [],
   "source": [
    "model_df.drop_duplicates(inplace=True)"
   ]
  },
  {
   "cell_type": "code",
   "execution_count": null,
   "id": "ba72470d",
   "metadata": {},
   "outputs": [],
   "source": [
    "X = model_df.drop(columns=[\"clean_title\",\"clean_benefits\",\"fraudulent\",\"clean_requirements\",\"clean_company_profile\",\"clean_description\"])\n",
    "y = model_df[\"fraudulent\"]\n",
    "\n",
    "X.fillna(\" \",inplace=True)\n",
    "\n",
    "X_train,X_test,y_train, y_test = train_test_split(X,y, train_size = 0.7, random_state=0)"
   ]
  },
  {
   "cell_type": "code",
   "execution_count": null,
   "id": "7f402d07",
   "metadata": {},
   "outputs": [],
   "source": [
    "tfidf_vectorizer  = TfidfVectorizer(min_df=2)\n",
    "\n",
    "X_train_tfidf = tfidf_vectorizer.fit_transform(X_train[\"full_text\"])\n",
    "X_test_tfidf = tfidf_vectorizer.transform(X_test[\"full_text\"])"
   ]
  },
  {
   "cell_type": "code",
   "execution_count": null,
   "id": "77e21223",
   "metadata": {},
   "outputs": [],
   "source": [
    "X_train = X_train.drop(columns=[\"full_text\"])\n",
    "X_test = X_test.drop(columns=[\"full_text\"])"
   ]
  },
  {
   "cell_type": "code",
   "execution_count": null,
   "id": "2151c5a5",
   "metadata": {},
   "outputs": [],
   "source": [
    "X_train_tfidf = sparse.hstack((X_train_tfidf,X_train))\n",
    "X_test_tfidf = sparse.hstack((X_test_tfidf,X_test))"
   ]
  },
  {
   "cell_type": "code",
   "execution_count": null,
   "id": "fa2def46",
   "metadata": {},
   "outputs": [],
   "source": [
    "models_produced = model_benchmarking(classifier_list,clasifier_names,X_train_tfidf,y_train,X_test_tfidf,y_test,save_data, full_frame,test_name=\"2.3 Encoded dataset - All text info i en kolumn\")\n",
    "full_frame = models_produced[1]"
   ]
  },
  {
   "attachments": {},
   "cell_type": "markdown",
   "id": "4f855517",
   "metadata": {},
   "source": [
    "### 2.4 All textdata vectorized separately"
   ]
  },
  {
   "cell_type": "code",
   "execution_count": null,
   "id": "ffca2348",
   "metadata": {},
   "outputs": [],
   "source": [
    "model_df = enc_df.copy()"
   ]
  },
  {
   "cell_type": "code",
   "execution_count": null,
   "id": "29f306b9",
   "metadata": {},
   "outputs": [],
   "source": [
    "model_df.drop_duplicates(inplace=True)"
   ]
  },
  {
   "cell_type": "code",
   "execution_count": null,
   "id": "565386de",
   "metadata": {},
   "outputs": [],
   "source": [
    "X = model_df.drop(columns=[\"fraudulent\"])\n",
    "y = model_df[\"fraudulent\"]\n",
    "\n",
    "X.fillna(\" \",inplace=True)\n",
    "\n",
    "X_train,X_test,y_train, y_test = train_test_split(X,y, train_size = 0.7, random_state=0)"
   ]
  },
  {
   "cell_type": "code",
   "execution_count": null,
   "id": "2cb58556",
   "metadata": {},
   "outputs": [],
   "source": [
    "tfidf_vectorizer  = TfidfVectorizer(min_df=2)\n",
    "\n",
    "X_train_tfidf_company = tfidf_vectorizer.fit_transform(X_train[\"clean_company_profile\"])\n",
    "X_test_tfidf_company = tfidf_vectorizer.transform(X_test[\"clean_company_profile\"])\n",
    "\n",
    "X_train_tfidf_description = tfidf_vectorizer.fit_transform(X_train[\"clean_description\"])\n",
    "X_test_tfidf_description = tfidf_vectorizer.transform(X_test[\"clean_description\"])\n",
    "\n",
    "X_train_tfidf_req = tfidf_vectorizer.fit_transform(X_train[\"clean_requirements\"])\n",
    "X_test_tfidf_req = tfidf_vectorizer.transform(X_test[\"clean_requirements\"])\n",
    "\n",
    "X_train_tfidf_benefits = tfidf_vectorizer.fit_transform(X_train[\"clean_benefits\"])\n",
    "X_test_tfidf_benefits = tfidf_vectorizer.transform(X_test[\"clean_benefits\"])\n",
    "\n",
    "X_train_tfidf_title = tfidf_vectorizer.fit_transform(X_train[\"clean_title\"])\n",
    "X_test_tfidf_title = tfidf_vectorizer.transform(X_test[\"clean_title\"])\n",
    "\n"
   ]
  },
  {
   "cell_type": "code",
   "execution_count": null,
   "id": "6e52f88c",
   "metadata": {},
   "outputs": [],
   "source": [
    "X_train = X_train.drop(columns=[\"clean_company_profile\",\"clean_benefits\",\"clean_title\",\"clean_description\",\"clean_requirements\"])\n",
    "X_test = X_test.drop(columns=[\"clean_company_profile\",\"clean_benefits\",\"clean_title\",\"clean_description\",\"clean_requirements\"])"
   ]
  },
  {
   "cell_type": "code",
   "execution_count": null,
   "id": "b150539f",
   "metadata": {},
   "outputs": [],
   "source": [
    "X_train_tfidf = sparse.hstack((X_train_tfidf_company,X_train_tfidf_description,X_train_tfidf_req,X_train_tfidf_benefits,X_train_tfidf_title,X_train))\n",
    "X_test_tfidf = sparse.hstack((X_test_tfidf_company,X_test_tfidf_description,X_test_tfidf_req,X_test_tfidf_benefits,X_test_tfidf_title,X_test))"
   ]
  },
  {
   "cell_type": "code",
   "execution_count": null,
   "id": "7a9c5cbf",
   "metadata": {},
   "outputs": [],
   "source": [
    "models_produced = model_benchmarking(classifier_list,clasifier_names,X_train_tfidf,y_train,X_test_tfidf,y_test,save_data, full_frame,test_name=\"2.4 Full dataset - All text data vektoriserat separat\")\n",
    "full_frame = models_produced[1]"
   ]
  },
  {
   "attachments": {},
   "cell_type": "markdown",
   "id": "ae58062a",
   "metadata": {},
   "source": [
    "### 2.5 All text data except title"
   ]
  },
  {
   "cell_type": "code",
   "execution_count": null,
   "id": "ad59c685",
   "metadata": {},
   "outputs": [],
   "source": [
    "model_df = enc_df.copy()"
   ]
  },
  {
   "cell_type": "code",
   "execution_count": null,
   "id": "9226e616",
   "metadata": {},
   "outputs": [],
   "source": [
    "model_df.drop_duplicates(inplace=True)"
   ]
  },
  {
   "cell_type": "code",
   "execution_count": null,
   "id": "4f033c84",
   "metadata": {},
   "outputs": [],
   "source": [
    "X = model_df.drop(columns=[\"fraudulent\",\"clean_title\"])\n",
    "y = model_df[\"fraudulent\"]\n",
    "\n",
    "X.fillna(\" \",inplace=True)\n",
    "\n",
    "X_train,X_test,y_train, y_test = train_test_split(X,y, train_size = 0.7, random_state=0)"
   ]
  },
  {
   "cell_type": "code",
   "execution_count": null,
   "id": "721f275b",
   "metadata": {},
   "outputs": [],
   "source": [
    "tfidf_vectorizer  = TfidfVectorizer(min_df=2)\n",
    "\n",
    "X_train_tfidf_company = tfidf_vectorizer.fit_transform(X_train[\"clean_company_profile\"])\n",
    "X_test_tfidf_company = tfidf_vectorizer.transform(X_test[\"clean_company_profile\"])\n",
    "\n",
    "X_train_tfidf_description = tfidf_vectorizer.fit_transform(X_train[\"clean_description\"])\n",
    "X_test_tfidf_description = tfidf_vectorizer.transform(X_test[\"clean_description\"])\n",
    "\n",
    "X_train_tfidf_req = tfidf_vectorizer.fit_transform(X_train[\"clean_requirements\"])\n",
    "X_test_tfidf_req = tfidf_vectorizer.transform(X_test[\"clean_requirements\"])\n",
    "\n",
    "X_train_tfidf_benefits = tfidf_vectorizer.fit_transform(X_train[\"clean_benefits\"])\n",
    "X_test_tfidf_benefits = tfidf_vectorizer.transform(X_test[\"clean_benefits\"])"
   ]
  },
  {
   "cell_type": "code",
   "execution_count": null,
   "id": "8000b36e",
   "metadata": {},
   "outputs": [],
   "source": [
    "X_train = X_train.drop(columns=[\"clean_company_profile\",\"clean_benefits\",\"clean_description\",\"clean_requirements\"])\n",
    "X_test = X_test.drop(columns=[\"clean_company_profile\",\"clean_benefits\",\"clean_description\",\"clean_requirements\"])"
   ]
  },
  {
   "cell_type": "code",
   "execution_count": null,
   "id": "29c78183",
   "metadata": {},
   "outputs": [],
   "source": [
    "X_train_tfidf = sparse.hstack((X_train_tfidf_company,X_train_tfidf_description,X_train_tfidf_req,X_train_tfidf_benefits,X_train))\n",
    "X_test_tfidf = sparse.hstack((X_test_tfidf_company,X_test_tfidf_description,X_test_tfidf_req,X_test_tfidf_benefits,X_test))"
   ]
  },
  {
   "cell_type": "code",
   "execution_count": null,
   "id": "0e4c4103",
   "metadata": {},
   "outputs": [],
   "source": [
    "models_produced = model_benchmarking(classifier_list,clasifier_names,X_train_tfidf,y_train,X_test_tfidf,y_test,save_data, full_frame,test_name=\"2.5 Full dataset - All text data förutom title separat vektoriserat\")\n",
    "full_frame = models_produced[1]"
   ]
  },
  {
   "attachments": {},
   "cell_type": "markdown",
   "id": "54dd3709",
   "metadata": {},
   "source": [
    "### Undersampling. "
   ]
  },
  {
   "cell_type": "code",
   "execution_count": null,
   "id": "c15ec8e6",
   "metadata": {},
   "outputs": [],
   "source": [
    "model_df = enc_df.copy()"
   ]
  },
  {
   "cell_type": "code",
   "execution_count": null,
   "id": "6bb483a3",
   "metadata": {},
   "outputs": [],
   "source": [
    "model_df.drop_duplicates(inplace=True)"
   ]
  },
  {
   "cell_type": "code",
   "execution_count": null,
   "id": "cd0cfc2d",
   "metadata": {},
   "outputs": [],
   "source": [
    "X_full = model_df.drop(columns=[\"fraudulent\"])\n",
    "y_full = model_df[\"fraudulent\"]\n",
    "\n",
    "X_full.fillna(\" \",inplace=True)\n",
    "\n",
    "X_train,X_test,y_train, y_test = train_test_split(X_full,y_full, train_size = 0.8, random_state=0)\n",
    "\n",
    "X_train_rus, y_train_rus = rus.fit_resample(X_train,y_train)"
   ]
  },
  {
   "attachments": {},
   "cell_type": "markdown",
   "id": "d32539d4",
   "metadata": {},
   "source": [
    "### 3.1 Undersampling company profile"
   ]
  },
  {
   "cell_type": "code",
   "execution_count": null,
   "id": "bbaf9a59",
   "metadata": {},
   "outputs": [],
   "source": [
    "X_train_rus_company = X_train_rus.drop(columns=[\"clean_requirements\",\"clean_description\",\"clean_benefits\",\"clean_title\"])\n",
    "\n",
    "X_test_company = X_test.copy()"
   ]
  },
  {
   "cell_type": "code",
   "execution_count": null,
   "id": "f9ab355e",
   "metadata": {},
   "outputs": [],
   "source": [
    "tfidf_vectorizer  = TfidfVectorizer(min_df=2)\n",
    "\n",
    "X_train_tfidf = tfidf_vectorizer.fit_transform(X_train_rus[\"clean_company_profile\"])\n",
    "X_test_tfidf = tfidf_vectorizer.transform(X_test_company[\"clean_company_profile\"])"
   ]
  },
  {
   "cell_type": "code",
   "execution_count": null,
   "id": "89cea898",
   "metadata": {},
   "outputs": [],
   "source": [
    "X_train_rus_company = X_train_rus_company.drop(columns=[\"clean_company_profile\"])\n",
    "X_test_company = X_test_company.drop(columns=[\"clean_company_profile\",\"clean_requirements\",\"clean_description\",\"clean_benefits\",\"clean_title\"])"
   ]
  },
  {
   "cell_type": "code",
   "execution_count": null,
   "id": "82a1727b",
   "metadata": {},
   "outputs": [],
   "source": [
    "X_train_tfidf = sparse.hstack((X_train_tfidf,X_train_rus_company))\n",
    "X_test_tfidf = sparse.hstack((X_test_tfidf,X_test_company))"
   ]
  },
  {
   "cell_type": "code",
   "execution_count": null,
   "id": "23d71a67",
   "metadata": {},
   "outputs": [],
   "source": [
    "models_produced = model_benchmarking(classifier_list,clasifier_names,X_train_tfidf,y_train_rus,X_test_tfidf,y_test,save_data, full_frame,test_name=\"3.1 Undersampled Encoded dataset - Company profile + encodade kolumner\")\n",
    "full_frame = models_produced[1]"
   ]
  },
  {
   "attachments": {},
   "cell_type": "markdown",
   "id": "5b172c9d",
   "metadata": {},
   "source": [
    "### 3.2 Undersampling Description"
   ]
  },
  {
   "cell_type": "code",
   "execution_count": null,
   "id": "498d4173",
   "metadata": {},
   "outputs": [],
   "source": [
    "X_train_rus_description = X_train_rus.drop(columns=[\"clean_requirements\",\"clean_company_profile\",\"clean_benefits\",\"clean_title\"])\n",
    "\n",
    "X_test_description = X_test.copy()"
   ]
  },
  {
   "cell_type": "code",
   "execution_count": null,
   "id": "8f7f5814",
   "metadata": {},
   "outputs": [],
   "source": [
    "tfidf_vectorizer  = TfidfVectorizer(min_df=2)\n",
    "\n",
    "X_train_tfidf = tfidf_vectorizer.fit_transform(X_train_rus_description[\"clean_description\"])\n",
    "X_test_tfidf = tfidf_vectorizer.transform(X_test_description[\"clean_description\"])"
   ]
  },
  {
   "cell_type": "code",
   "execution_count": null,
   "id": "f8519785",
   "metadata": {},
   "outputs": [],
   "source": [
    "X_train_rus_description = X_train_rus_description.drop(columns=[\"clean_description\"])\n",
    "X_test_description = X_test_description.drop(columns=[\"clean_company_profile\",\"clean_requirements\",\"clean_description\",\"clean_benefits\",\"clean_title\"])"
   ]
  },
  {
   "cell_type": "code",
   "execution_count": null,
   "id": "d363b30f",
   "metadata": {},
   "outputs": [],
   "source": [
    "X_train_tfidf = sparse.hstack((X_train_tfidf,X_train_rus_description))\n",
    "X_test_tfidf = sparse.hstack((X_test_tfidf,X_test_description))"
   ]
  },
  {
   "cell_type": "code",
   "execution_count": null,
   "id": "59cfd4e2",
   "metadata": {},
   "outputs": [],
   "source": [
    "models_produced = model_benchmarking(classifier_list,clasifier_names,X_train_tfidf,y_train_rus,X_test_tfidf,y_test,save_data, full_frame,test_name=\"3.2 Undersampled Encoded dataset - Description + encodade kolumner\")\n",
    "full_frame = models_produced[1]"
   ]
  },
  {
   "attachments": {},
   "cell_type": "markdown",
   "id": "3a243831",
   "metadata": {},
   "source": [
    "### 3.3 All information vectorized separately "
   ]
  },
  {
   "cell_type": "code",
   "execution_count": null,
   "id": "a9be68e7",
   "metadata": {},
   "outputs": [],
   "source": [
    "X_train_rus_all = X_train_rus.copy()\n",
    "\n",
    "X_test_all = X_test.copy()"
   ]
  },
  {
   "cell_type": "code",
   "execution_count": null,
   "id": "58de7e5f",
   "metadata": {},
   "outputs": [],
   "source": [
    "tfidf_vectorizer  = TfidfVectorizer(min_df=2)\n",
    "\n",
    "X_train_tfidf_company = tfidf_vectorizer.fit_transform(X_train_rus_all[\"clean_company_profile\"])\n",
    "X_test_tfidf_company = tfidf_vectorizer.transform(X_test_all[\"clean_company_profile\"])\n",
    "\n",
    "X_train_tfidf_description = tfidf_vectorizer.fit_transform(X_train_rus_all[\"clean_description\"])\n",
    "X_test_tfidf_description = tfidf_vectorizer.transform(X_test_all[\"clean_description\"])\n",
    "\n",
    "X_train_tfidf_req = tfidf_vectorizer.fit_transform(X_train_rus_all[\"clean_requirements\"])\n",
    "X_test_tfidf_req = tfidf_vectorizer.transform(X_test_all[\"clean_requirements\"])\n",
    "\n",
    "X_train_tfidf_benefits = tfidf_vectorizer.fit_transform(X_train_rus_all[\"clean_benefits\"])\n",
    "X_test_tfidf_benefits = tfidf_vectorizer.transform(X_test_all[\"clean_benefits\"])\n",
    "\n",
    "X_train_tfidf_title = tfidf_vectorizer.fit_transform(X_train_rus_all[\"clean_title\"])\n",
    "X_test_tfidf_title = tfidf_vectorizer.transform(X_test_all[\"clean_title\"])"
   ]
  },
  {
   "cell_type": "code",
   "execution_count": null,
   "id": "3322288d",
   "metadata": {},
   "outputs": [],
   "source": [
    "X_train_rus_all = X_train_rus_all.drop(columns=[\"clean_company_profile\",\"clean_benefits\",\"clean_title\",\"clean_description\",\"clean_requirements\"])\n",
    "X_test_all = X_test_all.drop(columns=[\"clean_company_profile\",\"clean_benefits\",\"clean_title\",\"clean_description\",\"clean_requirements\"])"
   ]
  },
  {
   "cell_type": "code",
   "execution_count": null,
   "id": "4e0ea862",
   "metadata": {},
   "outputs": [],
   "source": [
    "X_train_tfidf = sparse.hstack((X_train_tfidf_company,X_train_tfidf_description,X_train_tfidf_req,X_train_tfidf_benefits,X_train_tfidf_title,X_train_rus_all))\n",
    "X_test_tfidf = sparse.hstack((X_test_tfidf_company,X_test_tfidf_description,X_test_tfidf_req,X_test_tfidf_benefits,X_test_tfidf_title,X_test_all))"
   ]
  },
  {
   "cell_type": "code",
   "execution_count": null,
   "id": "c8c55379",
   "metadata": {},
   "outputs": [],
   "source": [
    "models_produced = model_benchmarking(classifier_list,clasifier_names,X_train_tfidf,y_train_rus,X_test_tfidf,y_test,save_data, full_frame,test_name=\"3.3 Full dataset - All text data separat vektorisering\")\n",
    "full_frame = models_produced[1]"
   ]
  },
  {
   "attachments": {},
   "cell_type": "markdown",
   "id": "2f4e70e0",
   "metadata": {},
   "source": [
    "### 3.4 All info except title"
   ]
  },
  {
   "cell_type": "code",
   "execution_count": null,
   "id": "db4f804c",
   "metadata": {},
   "outputs": [],
   "source": [
    "X_train_rus_no_title = X_train_rus.drop(columns=[\"clean_title\"])\n",
    "\n",
    "X_test_no_title = X_test.copy()"
   ]
  },
  {
   "cell_type": "code",
   "execution_count": null,
   "id": "69f1338f",
   "metadata": {},
   "outputs": [],
   "source": [
    "tfidf_vectorizer  = TfidfVectorizer(min_df=2)\n",
    "\n",
    "X_train_tfidf_company = tfidf_vectorizer.fit_transform(X_train_rus_no_title[\"clean_company_profile\"])\n",
    "X_test_tfidf_company = tfidf_vectorizer.transform(X_test_no_title[\"clean_company_profile\"])\n",
    "\n",
    "X_train_tfidf_description = tfidf_vectorizer.fit_transform(X_train_rus_no_title[\"clean_description\"])\n",
    "X_test_tfidf_description = tfidf_vectorizer.transform(X_test_no_title[\"clean_description\"])\n",
    "\n",
    "X_train_tfidf_req = tfidf_vectorizer.fit_transform(X_train_rus_no_title[\"clean_requirements\"])\n",
    "X_test_tfidf_req = tfidf_vectorizer.transform(X_test_no_title[\"clean_requirements\"])\n",
    "\n",
    "X_train_tfidf_benefits = tfidf_vectorizer.fit_transform(X_train_rus_no_title[\"clean_benefits\"])\n",
    "X_test_tfidf_benefits = tfidf_vectorizer.transform(X_test_no_title[\"clean_benefits\"])"
   ]
  },
  {
   "cell_type": "code",
   "execution_count": null,
   "id": "7b253ba9",
   "metadata": {},
   "outputs": [],
   "source": [
    "X_train_rus_no_title = X_train_rus_no_title.drop(columns=[\"clean_company_profile\",\"clean_benefits\",\"clean_description\",\"clean_requirements\"])\n",
    "X_test_no_title = X_test_no_title.drop(columns=[\"clean_company_profile\",\"clean_benefits\",\"clean_title\",\"clean_description\",\"clean_requirements\"])"
   ]
  },
  {
   "cell_type": "code",
   "execution_count": null,
   "id": "76928669",
   "metadata": {},
   "outputs": [],
   "source": [
    "X_train_tfidf = sparse.hstack((X_train_tfidf_company,X_train_tfidf_description,X_train_tfidf_req,X_train_tfidf_benefits,X_train_rus_no_title))\n",
    "X_test_tfidf = sparse.hstack((X_test_tfidf_company,X_test_tfidf_description,X_test_tfidf_req,X_test_tfidf_benefits,X_test_no_title))"
   ]
  },
  {
   "cell_type": "code",
   "execution_count": null,
   "id": "aad32da0",
   "metadata": {},
   "outputs": [],
   "source": [
    "models_produced = model_benchmarking(classifier_list,clasifier_names,X_train_tfidf,y_train_rus,X_test_tfidf,y_test,save_data, full_frame,test_name=\"3.4 Full dataset - All text förutom title\")\n",
    "full_frame = models_produced[1]"
   ]
  },
  {
   "attachments": {},
   "cell_type": "markdown",
   "id": "942511b6",
   "metadata": {},
   "source": [
    "### Final result"
   ]
  },
  {
   "cell_type": "code",
   "execution_count": null,
   "id": "f77def67",
   "metadata": {},
   "outputs": [],
   "source": [
    "full_frame.sort_values(by=[\"Recall\"],ascending=False)"
   ]
  },
  {
   "attachments": {},
   "cell_type": "markdown",
   "id": "038ef946",
   "metadata": {},
   "source": [
    "### Best model"
   ]
  },
  {
   "cell_type": "code",
   "execution_count": null,
   "id": "535524a6",
   "metadata": {},
   "outputs": [],
   "source": [
    "model_df = enc_df.copy()\n",
    "model_df.drop_duplicates(inplace=True)\n",
    "\n",
    "X_full = model_df.drop(columns=[\"fraudulent\"])\n",
    "y_full = model_df[\"fraudulent\"]\n",
    "\n",
    "X_full.fillna(\" \",inplace=True)\n",
    "\n",
    "X_train,X_test,y_train, y_test = train_test_split(X_full,y_full, train_size = 0.8, random_state=0)\n",
    "\n",
    "X_train_rus, y_train_rus = rus.fit_resample(X_train,y_train)\n",
    "\n",
    "X_train_rus_all = X_train_rus.copy()\n",
    "\n",
    "X_test_all = X_test.copy()\n",
    "\n",
    "tfidf_vectorizer  = TfidfVectorizer(min_df=2)\n",
    "\n",
    "X_train_tfidf_company = tfidf_vectorizer.fit_transform(X_train_rus_all[\"clean_company_profile\"])\n",
    "X_test_tfidf_company = tfidf_vectorizer.transform(X_test_all[\"clean_company_profile\"])\n",
    "\n",
    "X_train_tfidf_description = tfidf_vectorizer.fit_transform(X_train_rus_all[\"clean_description\"])\n",
    "X_test_tfidf_description = tfidf_vectorizer.transform(X_test_all[\"clean_description\"])\n",
    "\n",
    "X_train_tfidf_req = tfidf_vectorizer.fit_transform(X_train_rus_all[\"clean_requirements\"])\n",
    "X_test_tfidf_req = tfidf_vectorizer.transform(X_test_all[\"clean_requirements\"])\n",
    "\n",
    "X_train_tfidf_benefits = tfidf_vectorizer.fit_transform(X_train_rus_all[\"clean_benefits\"])\n",
    "X_test_tfidf_benefits = tfidf_vectorizer.transform(X_test_all[\"clean_benefits\"])\n",
    "\n",
    "X_train_tfidf_title = tfidf_vectorizer.fit_transform(X_train_rus_all[\"clean_title\"])\n",
    "X_test_tfidf_title = tfidf_vectorizer.transform(X_test_all[\"clean_title\"])\n",
    "\n",
    "X_train_rus_all = X_train_rus_all.drop(columns=[\"clean_company_profile\",\"clean_benefits\",\"clean_title\",\"clean_description\",\"clean_requirements\"])\n",
    "X_test_all = X_test_all.drop(columns=[\"clean_company_profile\",\"clean_benefits\",\"clean_title\",\"clean_description\",\"clean_requirements\"])\n",
    "\n",
    "\n",
    "X_train_tfidf = sparse.hstack((X_train_tfidf_company,X_train_tfidf_description,X_train_tfidf_req,X_train_tfidf_benefits,X_train_tfidf_title,X_train_rus_all))\n",
    "X_test_tfidf = sparse.hstack((X_test_tfidf_company,X_test_tfidf_description,X_test_tfidf_req,X_test_tfidf_benefits,X_test_tfidf_title,X_test_all))"
   ]
  },
  {
   "cell_type": "code",
   "execution_count": null,
   "id": "c9a8385e",
   "metadata": {},
   "outputs": [],
   "source": [
    "clf = LinearSVC()\n",
    "clf.fit(X_train_tfidf,y_train_rus)\n",
    "predictions = clf.predict(X_test_tfidf)\n",
    "cm = confusion_matrix(y_test,predictions)\n",
    "acc = accuracy_score(y_test,predictions)\n",
    "rec = recall_score(y_test,predictions,average=\"macro\")\n",
    "acc = round(acc,5)\n",
    "rec= round(rec,5)\n",
    "print(f\"The Accuracy of the model is: {acc} and recall score: {rec}\")\n",
    "display_cm = ConfusionMatrixDisplay(confusion_matrix=cm)\n",
    "display_cm.plot()"
   ]
  },
  {
   "attachments": {},
   "cell_type": "markdown",
   "id": "c1adfb53",
   "metadata": {},
   "source": [
    "### Hyperparameter tuning"
   ]
  },
  {
   "cell_type": "code",
   "execution_count": null,
   "id": "3e7bc28d",
   "metadata": {},
   "outputs": [],
   "source": [
    "from sklearn.model_selection import GridSearchCV"
   ]
  },
  {
   "cell_type": "code",
   "execution_count": null,
   "id": "954f02bf",
   "metadata": {},
   "outputs": [],
   "source": [
    "parameters = {\"loss\" :(\"hinge\",\"squared_hinge\"),\"C\":[1,5,10,20],\"max_iter\":[1000,10000]}\n",
    "grid_clf = GridSearchCV(clf,parameters, scoring=\"recall\")\n",
    "grid_clf.fit(X_train_tfidf,y_train_rus)\n",
    "grid_clf.best_estimator_"
   ]
  },
  {
   "cell_type": "code",
   "execution_count": null,
   "id": "05797236",
   "metadata": {},
   "outputs": [],
   "source": [
    "clf = LinearSVC(loss =\"hinge\")\n",
    "clf.fit(X_train_tfidf,y_train_rus)\n",
    "predictions = clf.predict(X_test_tfidf)\n",
    "cm = confusion_matrix(y_test,predictions)\n",
    "acc = accuracy_score(y_test,predictions)\n",
    "rec = recall_score(y_test,predictions,average=\"macro\")\n",
    "acc = round(acc,5)\n",
    "rec= round(rec,5)\n",
    "print(f\"The Accuracy of the model is: {acc} and recall score: {rec}\")\n",
    "display_cm = ConfusionMatrixDisplay(confusion_matrix=cm)\n",
    "display_cm.plot()"
   ]
  },
  {
   "attachments": {},
   "cell_type": "markdown",
   "id": "017004a1",
   "metadata": {},
   "source": [
    "### Which datapoints are wronglt classified?"
   ]
  },
  {
   "cell_type": "code",
   "execution_count": null,
   "id": "010b567a",
   "metadata": {},
   "outputs": [],
   "source": [
    "model_df = enc_df.copy()\n",
    "model_df.drop_duplicates(inplace=True)\n",
    "\n",
    "X_full = model_df.drop(columns=[\"fraudulent\"])\n",
    "y_full = model_df[\"fraudulent\"]\n",
    "\n",
    "X_full.fillna(\" \",inplace=True)\n",
    "\n",
    "X_train,X_test,y_train, y_test = train_test_split(X_full,y_full, train_size = 0.8, random_state=0)\n",
    "\n",
    "X_train_rus, y_train_rus = rus.fit_resample(X_train,y_train)\n",
    "\n",
    "X_train_rus_all = X_train_rus.copy()\n",
    "\n",
    "X_test_all = X_test.copy()\n",
    "\n",
    "tfidf_vectorizer  = TfidfVectorizer(min_df=2)\n",
    "\n",
    "X_train_tfidf_company = tfidf_vectorizer.fit_transform(X_train_rus_all[\"clean_company_profile\"])\n",
    "X_test_tfidf_company = tfidf_vectorizer.transform(X_test_all[\"clean_company_profile\"])\n",
    "\n",
    "X_train_tfidf_description = tfidf_vectorizer.fit_transform(X_train_rus_all[\"clean_description\"])\n",
    "X_test_tfidf_description = tfidf_vectorizer.transform(X_test_all[\"clean_description\"])\n",
    "\n",
    "X_train_tfidf_req = tfidf_vectorizer.fit_transform(X_train_rus_all[\"clean_requirements\"])\n",
    "X_test_tfidf_req = tfidf_vectorizer.transform(X_test_all[\"clean_requirements\"])\n",
    "\n",
    "X_train_tfidf_benefits = tfidf_vectorizer.fit_transform(X_train_rus_all[\"clean_benefits\"])\n",
    "X_test_tfidf_benefits = tfidf_vectorizer.transform(X_test_all[\"clean_benefits\"])\n",
    "\n",
    "X_train_tfidf_title = tfidf_vectorizer.fit_transform(X_train_rus_all[\"clean_title\"])\n",
    "X_test_tfidf_title = tfidf_vectorizer.transform(X_test_all[\"clean_title\"])\n",
    "\n",
    "X_train_rus_all = X_train_rus_all.drop(columns=[\"clean_company_profile\",\"clean_benefits\",\"clean_title\",\"clean_description\",\"clean_requirements\"])\n",
    "X_test_all = X_test_all.drop(columns=[\"clean_company_profile\",\"clean_benefits\",\"clean_title\",\"clean_description\",\"clean_requirements\"])\n",
    "\n",
    "\n",
    "X_train_tfidf = sparse.hstack((X_train_tfidf_company,X_train_tfidf_description,X_train_tfidf_req,X_train_tfidf_benefits,X_train_tfidf_title,X_train_rus_all))\n",
    "X_test_tfidf = sparse.hstack((X_test_tfidf_company,X_test_tfidf_description,X_test_tfidf_req,X_test_tfidf_benefits,X_test_tfidf_title,X_test_all))"
   ]
  },
  {
   "cell_type": "code",
   "execution_count": null,
   "id": "839b0c6e",
   "metadata": {},
   "outputs": [],
   "source": [
    "y_train_rus.value_counts()"
   ]
  },
  {
   "cell_type": "code",
   "execution_count": null,
   "id": "ea58b1dd",
   "metadata": {},
   "outputs": [],
   "source": [
    "clf = LinearSVC()\n",
    "clf.fit(X_train_tfidf,y_train_rus)\n",
    "predictions = clf.predict(X_test_tfidf)"
   ]
  },
  {
   "attachments": {},
   "cell_type": "markdown",
   "id": "06c5380d",
   "metadata": {},
   "source": [
    "#### Overview of correctly classified datapoints"
   ]
  },
  {
   "cell_type": "code",
   "execution_count": null,
   "id": "82dbae08",
   "metadata": {},
   "outputs": [],
   "source": [
    "import seaborn as sns\n",
    "import matplotlib.pyplot as plt"
   ]
  },
  {
   "cell_type": "code",
   "execution_count": null,
   "id": "4d7186d0",
   "metadata": {},
   "outputs": [],
   "source": [
    "index_of_correct_classification = []\n",
    "\n",
    "for index,pred,true_value in zip(list(y_test.index),predictions,y_test):\n",
    "    if pred == true_value:\n",
    "        index_of_correct_classification.append(index)"
   ]
  },
  {
   "cell_type": "code",
   "execution_count": null,
   "id": "5796602f",
   "metadata": {},
   "outputs": [],
   "source": [
    "frame = df_non_mod.loc[index_of_correct_classification]"
   ]
  },
  {
   "cell_type": "code",
   "execution_count": null,
   "id": "9f899c41",
   "metadata": {},
   "outputs": [],
   "source": [
    "full_missing_frame = pd.DataFrame(data={\"Missing %\":[]})\n",
    "\n",
    "for col in frame.columns:\n",
    "    col_missing = frame[col].isna().sum()\n",
    "    missing_percent = round(col_missing/len(frame)*100,4)\n",
    "    d = {\"Missing %\":pd.Series([missing_percent], index=[col])}\n",
    "    new_frame = pd.DataFrame(data=d)\n",
    "    full_missing_frame = pd.concat([full_missing_frame,new_frame])"
   ]
  },
  {
   "cell_type": "code",
   "execution_count": null,
   "id": "f1353906",
   "metadata": {},
   "outputs": [],
   "source": [
    "overview_df = full_missing_frame.copy()\n",
    "overview_df.reset_index(inplace=True)\n",
    "\n",
    "col = [\"red\" if (x > 60) else \"blue\" for x in overview_df[\"Missing %\"]]"
   ]
  },
  {
   "cell_type": "code",
   "execution_count": null,
   "id": "429af988",
   "metadata": {},
   "outputs": [],
   "source": [
    "plt.figure(figsize=(18,14))\n",
    "ax = sns.barplot(data=overview_df,x=\"index\", y=\"Missing %\",color=\"blue\")\n",
    "plt.title(\"Missing data for correctly classified ads\",fontsize=20)\n",
    "for item in ax.get_xticklabels():\n",
    "    item.set_rotation(75)\n",
    "    item.set_fontsize(20)\n",
    "ax.set_xlabel(\"\",fontsize = 0)\n",
    "ax.set_ylabel(\"Missing %\", fontsize=20)\n",
    "ax.bar_label(ax.containers[0]);"
   ]
  },
  {
   "attachments": {},
   "cell_type": "markdown",
   "id": "0ae540c9",
   "metadata": {},
   "source": [
    "#### Overview of incorrectly classified datapoints"
   ]
  },
  {
   "cell_type": "code",
   "execution_count": null,
   "id": "6a46a29e",
   "metadata": {},
   "outputs": [],
   "source": [
    "index_of_wrong_classification = []\n",
    "\n",
    "for index,pred,true_value in zip(list(y_test.index),predictions,y_test):\n",
    "    if pred != true_value:\n",
    "        index_of_wrong_classification.append(index)"
   ]
  },
  {
   "cell_type": "code",
   "execution_count": null,
   "id": "4299f61c",
   "metadata": {},
   "outputs": [],
   "source": [
    "frame = df_non_mod.loc[index_of_wrong_classification]"
   ]
  },
  {
   "cell_type": "code",
   "execution_count": null,
   "id": "ece851b2",
   "metadata": {},
   "outputs": [],
   "source": [
    "full_missing_frame = pd.DataFrame(data={\"Missing %\":[]})\n",
    "\n",
    "for col in frame.columns:\n",
    "    col_missing = frame[col].isna().sum()\n",
    "    missing_percent = round(col_missing/len(frame)*100,4)\n",
    "    d = {\"Missing %\":pd.Series([missing_percent], index=[col])}\n",
    "    new_frame = pd.DataFrame(data=d)\n",
    "    full_missing_frame = pd.concat([full_missing_frame,new_frame])"
   ]
  },
  {
   "cell_type": "code",
   "execution_count": null,
   "id": "bbfbfa50",
   "metadata": {},
   "outputs": [],
   "source": [
    "overview_df = full_missing_frame.copy()\n",
    "overview_df.reset_index(inplace=True)\n",
    "\n",
    "col = [\"red\" if (x[0]==\"clean_company_profile\" or x[0]==\"has_company_logo\" or x[0]==\"has_questions\") else \"blue\" for x in overview_df.values]"
   ]
  },
  {
   "cell_type": "code",
   "execution_count": null,
   "id": "1cefed5a",
   "metadata": {},
   "outputs": [],
   "source": [
    "col = [print(x[0]) for x in overview_df.values]"
   ]
  },
  {
   "cell_type": "code",
   "execution_count": null,
   "id": "5892cb69",
   "metadata": {},
   "outputs": [],
   "source": [
    "plt.figure(figsize=(18,14))\n",
    "ax = sns.barplot(data=overview_df,x=\"index\", y=\"Missing %\",palette=col)\n",
    "plt.title(\"Missing data for incorrectly classified ads\",fontsize=20)\n",
    "for item in ax.get_xticklabels():\n",
    "    item.set_rotation(75)\n",
    "    item.set_fontsize(20)\n",
    "ax.set_xlabel(\"\",fontsize = 0)\n",
    "ax.set_ylabel(\"Missing %\", fontsize=20)\n",
    "ax.bar_label(ax.containers[0]);"
   ]
  }
 ],
 "metadata": {
  "kernelspec": {
   "display_name": "Python 3.9.7 64-bit",
   "language": "python",
   "name": "python3"
  },
  "language_info": {
   "codemirror_mode": {
    "name": "ipython",
    "version": 3
   },
   "file_extension": ".py",
   "mimetype": "text/x-python",
   "name": "python",
   "nbconvert_exporter": "python",
   "pygments_lexer": "ipython3",
   "version": "3.9.7"
  },
  "vscode": {
   "interpreter": {
    "hash": "a6d2af99f20446fcaf4a5e135d87a090286c3dff3c2ab3b7398cfd3fb65ebb27"
   }
  }
 },
 "nbformat": 4,
 "nbformat_minor": 5
}
